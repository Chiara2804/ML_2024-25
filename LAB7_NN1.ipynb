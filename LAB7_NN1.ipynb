{
 "cells": [
  {
   "cell_type": "markdown",
   "id": "e20a250e",
   "metadata": {},
   "source": [
    "**ML COURSE 2024-2025**\n",
    "# LAB7  NEURAL NETWORKS 1\n",
    "In this lab you will see how to construct, train and evaluate a NN model using Keras. We will use MNIST as dataset. "
   ]
  },
  {
   "cell_type": "markdown",
   "id": "e4931b0e",
   "metadata": {},
   "source": [
    "## Deep Learning Frameworks"
   ]
  },
  {
   "cell_type": "markdown",
   "id": "3131a5ee",
   "metadata": {},
   "source": [
    "| **Framework**  | **Description**                                         | **Strengths**                                          | **Use Case**                          |\n",
    "|----------------|---------------------------------------------------------|--------------------------------------------------------|---------------------------------------|\n",
    "| <img src=\"https://keras.io/img/logo.png\" width=\"200\" />      | High-level API for building neural networks, runs on TensorFlow | Easy to use, simple model building                      | Quick prototyping and beginners       |\n",
    "|<img src=\"https://www.gstatic.com/devrel-devsite/prod/v8d1d0686aef3ca9671e026a6ce14af5c61b805aabef7c385b0e34494acbfc654/tensorflow/images/lockup.svg\" width=\"200\" />| Powerful, flexible platform for machine learning       | Scalable, strong production support, wide ecosystem     | Production, large-scale applications  |\n",
    "| <img src=\"https://images.icon-icons.com/2699/PNG/512/pytorch_logo_icon_169823.png\" width=\"200\" />     | Dynamic computation graph, more intuitive              | Debug-friendly, popular in research, dynamic graphs     | Research, experimentation, and flexibility |\n"
   ]
  },
  {
   "cell_type": "code",
   "execution_count": null,
   "id": "09c089d9-efbc-4f61-9aa2-553b615ba242",
   "metadata": {},
   "outputs": [],
   "source": [
    "!pip install matplotlib"
   ]
  },
  {
   "cell_type": "code",
   "execution_count": 1,
   "id": "762b6353",
   "metadata": {},
   "outputs": [
    {
     "name": "stderr",
     "output_type": "stream",
     "text": [
      "2025-06-03 14:42:57.843044: I tensorflow/core/util/port.cc:153] oneDNN custom operations are on. You may see slightly different numerical results due to floating-point round-off errors from different computation orders. To turn them off, set the environment variable `TF_ENABLE_ONEDNN_OPTS=0`.\n",
      "2025-06-03 14:42:57.844898: I external/local_xla/xla/tsl/cuda/cudart_stub.cc:32] Could not find cuda drivers on your machine, GPU will not be used.\n",
      "2025-06-03 14:42:57.852193: I external/local_xla/xla/tsl/cuda/cudart_stub.cc:32] Could not find cuda drivers on your machine, GPU will not be used.\n",
      "2025-06-03 14:42:57.870488: E external/local_xla/xla/stream_executor/cuda/cuda_fft.cc:467] Unable to register cuFFT factory: Attempting to register factory for plugin cuFFT when one has already been registered\n",
      "WARNING: All log messages before absl::InitializeLog() is called are written to STDERR\n",
      "E0000 00:00:1748961777.898482    5778 cuda_dnn.cc:8579] Unable to register cuDNN factory: Attempting to register factory for plugin cuDNN when one has already been registered\n",
      "E0000 00:00:1748961777.906141    5778 cuda_blas.cc:1407] Unable to register cuBLAS factory: Attempting to register factory for plugin cuBLAS when one has already been registered\n",
      "W0000 00:00:1748961777.926012    5778 computation_placer.cc:177] computation placer already registered. Please check linkage and avoid linking the same target more than once.\n",
      "W0000 00:00:1748961777.926034    5778 computation_placer.cc:177] computation placer already registered. Please check linkage and avoid linking the same target more than once.\n",
      "W0000 00:00:1748961777.926036    5778 computation_placer.cc:177] computation placer already registered. Please check linkage and avoid linking the same target more than once.\n",
      "W0000 00:00:1748961777.926037    5778 computation_placer.cc:177] computation placer already registered. Please check linkage and avoid linking the same target more than once.\n",
      "2025-06-03 14:42:57.932203: I tensorflow/core/platform/cpu_feature_guard.cc:210] This TensorFlow binary is optimized to use available CPU instructions in performance-critical operations.\n",
      "To enable the following instructions: AVX2 AVX_VNNI FMA, in other operations, rebuild TensorFlow with the appropriate compiler flags.\n"
     ]
    }
   ],
   "source": [
    "import os\n",
    "import numpy as np\n",
    "import matplotlib.pyplot as plt\n",
    "from collections import Counter\n",
    "\n",
    "# new library for deep learning!\n",
    "import tensorflow as tf"
   ]
  },
  {
   "cell_type": "markdown",
   "id": "6a4c0251",
   "metadata": {},
   "source": [
    "## MNIST dataset"
   ]
  },
  {
   "cell_type": "markdown",
   "id": "63f43bb2",
   "metadata": {},
   "source": [
    "The **MNIST (Modified National Institute of Standards and Technology)** dataset is a classic benchmark dataset in the field of machine learning and computer vision. It consists of **70,000 grayscale images** of handwritten digits from **0 to 9**, each sized **28 x28 pixels**.\n",
    "\n",
    "## Dataset Details\n",
    "\n",
    "- **Training set**: 60,000 images  \n",
    "- **Test set**: 10,000 images  \n",
    "- **Image format**: 28x28 grayscale  \n",
    "- **Classes**: 10 (digits 0 through 9)  \n",
    "- **Label format**: Integer label corresponding to the digit in the image\n",
    "\n",
    "Each image is a low-resolution scan of a digit, making the dataset ideal for:\n",
    "- Image classification\n",
    "- Deep learning model benchmarking\n",
    "- Feature extraction and representation learning"
   ]
  },
  {
   "cell_type": "code",
   "execution_count": 2,
   "id": "fd744e77",
   "metadata": {},
   "outputs": [],
   "source": [
    "(x_train, y_train), (x_test, y_test) = tf.keras.datasets.mnist.load_data()"
   ]
  },
  {
   "cell_type": "code",
   "execution_count": 3,
   "id": "ff10357d",
   "metadata": {},
   "outputs": [
    {
     "name": "stdout",
     "output_type": "stream",
     "text": [
      "Class of x_train: <class 'numpy.ndarray'>\n",
      "Class of y_train: <class 'numpy.ndarray'>\n",
      "Shape of x_train: (60000, 28, 28)\n",
      "Shape of y_train: (60000,)\n",
      "Shape of x_test: (10000, 28, 28)\n",
      "Shape of y_test: (10000,)\n"
     ]
    },
    {
     "data": {
      "image/png": "[encoded data removed]",
      "text/plain": [
       "<Figure size 1500x800 with 4 Axes>"
      ]
     },
     "metadata": {},
     "output_type": "display_data"
    }
   ],
   "source": [
    "# Load and explore MNIST dataset\n",
    "# This loads the MNIST dataset and splits it into training and test sets\n",
    "(x_train, y_train), (x_test, y_test) = tf.keras.datasets.mnist.load_data()\n",
    "\n",
    "# Print data type and shape information for training and test sets\n",
    "print('Class of x_train: {}'.format(type(x_train)))\n",
    "print('Class of y_train: {}'.format(type(y_train)))  \n",
    "print('Shape of x_train: {}'.format(x_train.shape))  \n",
    "print('Shape of y_train: {}'.format(y_train.shape)) \n",
    "print('Shape of x_test: {}'.format(x_test.shape))    \n",
    "print('Shape of y_test: {}'.format(y_test.shape))    \n",
    "\n",
    "# Visualize 4 random samples from the training set\n",
    "# Randomly select 4 indices from the training set\n",
    "idxes = [np.random.randint(60000) for i in range(4)]\n",
    "\n",
    "# Create a new figure with a size of 15x8 inches\n",
    "plt.figure(figsize=(15,8))\n",
    "\n",
    "# Plot each randomly selected image with its corresponding label\n",
    "for i in range(4):\n",
    "  plt.subplot(1, 4, i+1)  # Create a subplot in a 1-row, 4-column grid\n",
    "  plt.imshow(x_train[idxes[i]], cmap='Greys')  # Display the image in grayscale\n",
    "  plt.title('Label = {}'.format(y_train[idxes[i]]))  # Set title to the digit label\n"
   ]
  },
  {
   "cell_type": "code",
   "execution_count": 4,
   "id": "8d51f72b",
   "metadata": {},
   "outputs": [
    {
     "data": {
      "text/plain": [
       "Text(0.5, 1.0, 'Class distribution in test dataset')"
      ]
     },
     "execution_count": 4,
     "metadata": {},
     "output_type": "execute_result"
    },
    {
     "data": {
      "image/png": "[encoded data removed]",
      "text/plain": [
       "<Figure size 640x480 with 1 Axes>"
      ]
     },
     "metadata": {},
     "output_type": "display_data"
    },
    {
     "data": {
      "image/png": "[encoded data removed]",
      "text/plain": [
       "<Figure size 640x480 with 1 Axes>"
      ]
     },
     "metadata": {},
     "output_type": "display_data"
    }
   ],
   "source": [
    "# Visualize the distribution of classes in training and in test\n",
    "\n",
    "# Count the number of occurrences of each digit in the training labels\n",
    "train_class_counter = Counter(y_train) #dictionary with keys as digits and values as counts\n",
    "\n",
    "# Create a new figure and plot a bar chart for the training set class distribution\n",
    "plt.figure()\n",
    "plt.bar(train_class_counter.keys(), train_class_counter.values())\n",
    "plt.title('Class distribution in training dataset')  # Title for the plot\n",
    "\n",
    "# Count the number of occurrences of each digit in the test labels\n",
    "test_class_counter = Counter(y_test)\n",
    "\n",
    "# Create a new figure and plot a bar chart for the test set class distribution\n",
    "plt.figure()\n",
    "plt.bar(test_class_counter.keys(), test_class_counter.values())\n",
    "plt.title('Class distribution in test dataset')  # Title for the plot"
   ]
  },
  {
   "cell_type": "code",
   "execution_count": 5,
   "id": "08801c53",
   "metadata": {},
   "outputs": [],
   "source": [
    "# Don't forget about normalization of input data. \n",
    "# Min-max normalization serve a scalare ogni valore tra 0 e 1 \n",
    "#(min che può assumere ogni pixel è 0 max è 255)\n",
    "# (prendere il valore - min) / (max- min)\n",
    "x_train, x_test = x_train / 255.0, x_test / 255.0"
   ]
  },
  {
   "cell_type": "markdown",
   "id": "e152126a",
   "metadata": {},
   "source": [
    "## Create a model with Keras: Sequential class"
   ]
  },
  {
   "cell_type": "code",
   "execution_count": 6,
   "id": "55eb7404",
   "metadata": {},
   "outputs": [],
   "source": [
    "from tensorflow.keras import Sequential, Input\n",
    "from tensorflow.keras.layers import Flatten, Dense, Dropout"
   ]
  },
  {
   "cell_type": "markdown",
   "id": "f6a09906",
   "metadata": {},
   "source": [
    "## Keras Classes and Layers Overview\n",
    "\n",
    "### Keras Model Class\n",
    "\n",
    "- **`Sequential`**:  \n",
    "  A simple way to build models layer-by-layer in a linear stack. Each layer receives the output of the previous one. Suitable for straightforward architectures.  \n",
    "  ⚠️ Use the **Functional API** if your model involves more complex topologies, such as multiple inputs, multiple outputs, or shared layers.\n",
    "\n",
    "### Keras Layers Used in This Lab\n",
    "\n",
    "- **`Dense`**:  \n",
    "  A fully connected layer where each input node is connected to every output node.\n",
    "\n",
    "- **`Flatten`**:  \n",
    "  Converts a multi-dimensional input (e.g., a 2D image) into a 1D vector. Commonly used to bridge convolutional layers and dense layers.\n",
    "\n",
    "- **`Dropout`**:  \n",
    "  A regularization technique that randomly sets a fraction of input units to zero during training, helping prevent overfitting (will see it compared to other regularization techniques later)."
   ]
  },
  {
   "cell_type": "code",
   "execution_count": 7,
   "id": "f08f63c5",
   "metadata": {},
   "outputs": [
    {
     "name": "stderr",
     "output_type": "stream",
     "text": [
      "2025-06-03 14:43:14.542832: E external/local_xla/xla/stream_executor/cuda/cuda_platform.cc:51] failed call to cuInit: INTERNAL: CUDA error: Failed call to cuInit: UNKNOWN ERROR (303)\n"
     ]
    }
   ],
   "source": [
    "# Define a function to create a Keras Sequential model\n",
    "def create_model(compile_model=False):\n",
    "    # DEFINE a sequential model with a specific architecture\n",
    "    model = Sequential([                    # Lista dei layer:\n",
    "        Input(shape=(28, 28)),              # Input layer for 28x28 grayscale images\n",
    "        Flatten(),                          # Flatten 2D input into 1D vector\n",
    "        Dense(512, activation='relu'),      # Fully connected layer with 512 (scelto noi) units (neurons) and ReLU activation\n",
    "        Dropout(0.2),                       # Dropout layer with 20% dropout (scelto noi) rate for regularization\n",
    "        Dense(10, activation='softmax')     # Output layer with 10 (numero di classi possibili - 10 cifre) units (one per digit class) and softmax activation\n",
    "    ])\n",
    "\n",
    "    # If we want to TRAIN:\n",
    "    # If compile_model is True, compile the model before returning\n",
    "    if compile_model:\n",
    "        # Compiling the model configures the learning process:\n",
    "        # - Specifies the loss function (how model error is calculated)\n",
    "        # - Specifies the optimizer (how the model updates weights)\n",
    "        # - Specifies metrics to track (e.g., accuracy)\n",
    "        model.compile(\n",
    "            loss='sparse_categorical_crossentropy',  # Loss for integer class labels\n",
    "            optimizer='adam',                        # Adam optimizer for efficient training\n",
    "            metrics=['accuracy']                     # Track accuracy as the performance metric\n",
    "        )\n",
    "    \n",
    "    return model  # Return the constructed (and optionally compiled) model\n",
    "\n",
    "# Create and compile the model\n",
    "model = create_model(compile_model=True)"
   ]
  },
  {
   "cell_type": "markdown",
   "id": "42971770",
   "metadata": {},
   "source": [
    "### Cross-Entropy\n",
    "\n",
    "Cross-entropy is a **loss function** commonly used in classification tasks. It measures the difference between two probability distributions:\n",
    "- The **true distribution**: based on actual labels (e.g., one-hot encoded, where one class has probability 1 and the rest have 0).\n",
    "- The **predicted distribution**: output by the model (e.g., softmax probabilities).\n",
    "\n",
    "It **penalizes incorrect predictions** more when they are confidently wrong (i.e., assigning high probability to the wrong class).\n",
    "\n",
    "### Sparse Categorical Cross-Entropy\n",
    "\n",
    "This is a variant of cross-entropy used when the **true labels are integers**, not one-hot encoded vectors.\n",
    "\n",
    "- For example, instead of a label like `[0, 0, 1, 0, ..., 0]` (one-hot), the label is simply `2`.\n",
    "- It is suitable for multi-class classification tasks where the target is a class index (e.g., 0 to 9 in MNIST).\n"
   ]
  },
  {
   "cell_type": "markdown",
   "id": "21d8a0ca",
   "metadata": {},
   "source": [
    "Visualize the model"
   ]
  },
  {
   "cell_type": "code",
   "execution_count": null,
   "id": "490c78f1-8444-457b-a25c-f75574c3860e",
   "metadata": {},
   "outputs": [],
   "source": [
    "!pip install pydot"
   ]
  },
  {
   "cell_type": "code",
   "execution_count": 8,
   "id": "aa0d7365",
   "metadata": {},
   "outputs": [
    {
     "data": {
      "text/html": [
       "<pre style=\"white-space:pre;overflow-x:auto;line-height:normal;font-family:Menlo,'DejaVu Sans Mono',consolas,'Courier New',monospace\"><span style=\"font-weight: bold\">Model: \"sequential\"</span>\n",
       "</pre>\n"
      ],
      "text/plain": [
       "\u001b[1mModel: \"sequential\"\u001b[0m\n"
      ]
     },
     "metadata": {},
     "output_type": "display_data"
    },
    {
     "data": {
      "text/html": [
       "<pre style=\"white-space:pre;overflow-x:auto;line-height:normal;font-family:Menlo,'DejaVu Sans Mono',consolas,'Courier New',monospace\">┏━━━━━━━━━━━━━━━━━━━━━━━━━━━━━━━━━┳━━━━━━━━━━━━━━━━━━━━━━━━┳━━━━━━━━━━━━━━━┓\n",
       "┃<span style=\"font-weight: bold\"> Layer (type)                    </span>┃<span style=\"font-weight: bold\"> Output Shape           </span>┃<span style=\"font-weight: bold\">       Param # </span>┃\n",
       "┡━━━━━━━━━━━━━━━━━━━━━━━━━━━━━━━━━╇━━━━━━━━━━━━━━━━━━━━━━━━╇━━━━━━━━━━━━━━━┩\n",
       "│ flatten (<span style=\"color: #0087ff; text-decoration-color: #0087ff\">Flatten</span>)               │ (<span style=\"color: #00d7ff; text-decoration-color: #00d7ff\">None</span>, <span style=\"color: #00af00; text-decoration-color: #00af00\">784</span>)            │             <span style=\"color: #00af00; text-decoration-color: #00af00\">0</span> │\n",
       "├─────────────────────────────────┼────────────────────────┼───────────────┤\n",
       "│ dense (<span style=\"color: #0087ff; text-decoration-color: #0087ff\">Dense</span>)                   │ (<span style=\"color: #00d7ff; text-decoration-color: #00d7ff\">None</span>, <span style=\"color: #00af00; text-decoration-color: #00af00\">512</span>)            │       <span style=\"color: #00af00; text-decoration-color: #00af00\">401,920</span> │\n",
       "├─────────────────────────────────┼────────────────────────┼───────────────┤\n",
       "│ dropout (<span style=\"color: #0087ff; text-decoration-color: #0087ff\">Dropout</span>)               │ (<span style=\"color: #00d7ff; text-decoration-color: #00d7ff\">None</span>, <span style=\"color: #00af00; text-decoration-color: #00af00\">512</span>)            │             <span style=\"color: #00af00; text-decoration-color: #00af00\">0</span> │\n",
       "├─────────────────────────────────┼────────────────────────┼───────────────┤\n",
       "│ dense_1 (<span style=\"color: #0087ff; text-decoration-color: #0087ff\">Dense</span>)                 │ (<span style=\"color: #00d7ff; text-decoration-color: #00d7ff\">None</span>, <span style=\"color: #00af00; text-decoration-color: #00af00\">10</span>)             │         <span style=\"color: #00af00; text-decoration-color: #00af00\">5,130</span> │\n",
       "└─────────────────────────────────┴────────────────────────┴───────────────┘\n",
       "</pre>\n"
      ],
      "text/plain": [
       "┏━━━━━━━━━━━━━━━━━━━━━━━━━━━━━━━━━┳━━━━━━━━━━━━━━━━━━━━━━━━┳━━━━━━━━━━━━━━━┓\n",
       "┃\u001b[1m \u001b[0m\u001b[1mLayer (type)                   \u001b[0m\u001b[1m \u001b[0m┃\u001b[1m \u001b[0m\u001b[1mOutput Shape          \u001b[0m\u001b[1m \u001b[0m┃\u001b[1m \u001b[0m\u001b[1m      Param #\u001b[0m\u001b[1m \u001b[0m┃\n",
       "┡━━━━━━━━━━━━━━━━━━━━━━━━━━━━━━━━━╇━━━━━━━━━━━━━━━━━━━━━━━━╇━━━━━━━━━━━━━━━┩\n",
       "│ flatten (\u001b[38;5;33mFlatten\u001b[0m)               │ (\u001b[38;5;45mNone\u001b[0m, \u001b[38;5;34m784\u001b[0m)            │             \u001b[38;5;34m0\u001b[0m │\n",
       "├─────────────────────────────────┼────────────────────────┼───────────────┤\n",
       "│ dense (\u001b[38;5;33mDense\u001b[0m)                   │ (\u001b[38;5;45mNone\u001b[0m, \u001b[38;5;34m512\u001b[0m)            │       \u001b[38;5;34m401,920\u001b[0m │\n",
       "├─────────────────────────────────┼────────────────────────┼───────────────┤\n",
       "│ dropout (\u001b[38;5;33mDropout\u001b[0m)               │ (\u001b[38;5;45mNone\u001b[0m, \u001b[38;5;34m512\u001b[0m)            │             \u001b[38;5;34m0\u001b[0m │\n",
       "├─────────────────────────────────┼────────────────────────┼───────────────┤\n",
       "│ dense_1 (\u001b[38;5;33mDense\u001b[0m)                 │ (\u001b[38;5;45mNone\u001b[0m, \u001b[38;5;34m10\u001b[0m)             │         \u001b[38;5;34m5,130\u001b[0m │\n",
       "└─────────────────────────────────┴────────────────────────┴───────────────┘\n"
      ]
     },
     "metadata": {},
     "output_type": "display_data"
    },
    {
     "data": {
      "text/html": [
       "<pre style=\"white-space:pre;overflow-x:auto;line-height:normal;font-family:Menlo,'DejaVu Sans Mono',consolas,'Courier New',monospace\"><span style=\"font-weight: bold\"> Total params: </span><span style=\"color: #00af00; text-decoration-color: #00af00\">407,050</span> (1.55 MB)\n",
       "</pre>\n"
      ],
      "text/plain": [
       "\u001b[1m Total params: \u001b[0m\u001b[38;5;34m407,050\u001b[0m (1.55 MB)\n"
      ]
     },
     "metadata": {},
     "output_type": "display_data"
    },
    {
     "data": {
      "text/html": [
       "<pre style=\"white-space:pre;overflow-x:auto;line-height:normal;font-family:Menlo,'DejaVu Sans Mono',consolas,'Courier New',monospace\"><span style=\"font-weight: bold\"> Trainable params: </span><span style=\"color: #00af00; text-decoration-color: #00af00\">407,050</span> (1.55 MB)\n",
       "</pre>\n"
      ],
      "text/plain": [
       "\u001b[1m Trainable params: \u001b[0m\u001b[38;5;34m407,050\u001b[0m (1.55 MB)\n"
      ]
     },
     "metadata": {},
     "output_type": "display_data"
    },
    {
     "data": {
      "text/html": [
       "<pre style=\"white-space:pre;overflow-x:auto;line-height:normal;font-family:Menlo,'DejaVu Sans Mono',consolas,'Courier New',monospace\"><span style=\"font-weight: bold\"> Non-trainable params: </span><span style=\"color: #00af00; text-decoration-color: #00af00\">0</span> (0.00 B)\n",
       "</pre>\n"
      ],
      "text/plain": [
       "\u001b[1m Non-trainable params: \u001b[0m\u001b[38;5;34m0\u001b[0m (0.00 B)\n"
      ]
     },
     "metadata": {},
     "output_type": "display_data"
    }
   ],
   "source": [
    "# PRINT A SUMMARY OF THE MODEL ARCHITECTURE\n",
    "# This includes the layer types, output shapes, and number of trainable parameters\n",
    "model.summary()"
   ]
  },
  {
   "cell_type": "markdown",
   "id": "3d1d9409",
   "metadata": {},
   "source": [
    "## Training"
   ]
  },
  {
   "cell_type": "markdown",
   "id": "5ee1980b",
   "metadata": {},
   "source": [
    "Now that we have defined the model, we train it on the training set."
   ]
  },
  {
   "cell_type": "code",
   "execution_count": 9,
   "id": "803a94aa",
   "metadata": {},
   "outputs": [
    {
     "name": "stdout",
     "output_type": "stream",
     "text": [
      "Epoch 1/10\n",
      "\u001b[1m1688/1688\u001b[0m \u001b[32m━━━━━━━━━━━━━━━━━━━━\u001b[0m\u001b[37m\u001b[0m \u001b[1m18s\u001b[0m 10ms/step - accuracy: 0.8877 - loss: 0.3756 - val_accuracy: 0.9707 - val_loss: 0.1042\n",
      "Epoch 2/10\n",
      "\u001b[1m1688/1688\u001b[0m \u001b[32m━━━━━━━━━━━━━━━━━━━━\u001b[0m\u001b[37m\u001b[0m \u001b[1m18s\u001b[0m 10ms/step - accuracy: 0.9689 - loss: 0.1046 - val_accuracy: 0.9745 - val_loss: 0.0832\n",
      "Epoch 3/10\n",
      "\u001b[1m1688/1688\u001b[0m \u001b[32m━━━━━━━━━━━━━━━━━━━━\u001b[0m\u001b[37m\u001b[0m \u001b[1m20s\u001b[0m 12ms/step - accuracy: 0.9779 - loss: 0.0695 - val_accuracy: 0.9792 - val_loss: 0.0683\n",
      "Epoch 4/10\n",
      "\u001b[1m1688/1688\u001b[0m \u001b[32m━━━━━━━━━━━━━━━━━━━━\u001b[0m\u001b[37m\u001b[0m \u001b[1m18s\u001b[0m 10ms/step - accuracy: 0.9837 - loss: 0.0512 - val_accuracy: 0.9810 - val_loss: 0.0641\n",
      "Epoch 5/10\n",
      "\u001b[1m1688/1688\u001b[0m \u001b[32m━━━━━━━━━━━━━━━━━━━━\u001b[0m\u001b[37m\u001b[0m \u001b[1m16s\u001b[0m 10ms/step - accuracy: 0.9870 - loss: 0.0419 - val_accuracy: 0.9803 - val_loss: 0.0661\n",
      "Epoch 6/10\n",
      "\u001b[1m1688/1688\u001b[0m \u001b[32m━━━━━━━━━━━━━━━━━━━━\u001b[0m\u001b[37m\u001b[0m \u001b[1m20s\u001b[0m 12ms/step - accuracy: 0.9888 - loss: 0.0323 - val_accuracy: 0.9818 - val_loss: 0.0671\n",
      "Epoch 7/10\n",
      "\u001b[1m1688/1688\u001b[0m \u001b[32m━━━━━━━━━━━━━━━━━━━━\u001b[0m\u001b[37m\u001b[0m \u001b[1m19s\u001b[0m 11ms/step - accuracy: 0.9897 - loss: 0.0299 - val_accuracy: 0.9787 - val_loss: 0.0811\n",
      "Epoch 8/10\n",
      "\u001b[1m1688/1688\u001b[0m \u001b[32m━━━━━━━━━━━━━━━━━━━━\u001b[0m\u001b[37m\u001b[0m \u001b[1m18s\u001b[0m 11ms/step - accuracy: 0.9915 - loss: 0.0255 - val_accuracy: 0.9792 - val_loss: 0.0793\n",
      "Epoch 9/10\n",
      "\u001b[1m1688/1688\u001b[0m \u001b[32m━━━━━━━━━━━━━━━━━━━━\u001b[0m\u001b[37m\u001b[0m \u001b[1m18s\u001b[0m 11ms/step - accuracy: 0.9906 - loss: 0.0257 - val_accuracy: 0.9843 - val_loss: 0.0758\n",
      "Epoch 10/10\n",
      "\u001b[1m1688/1688\u001b[0m \u001b[32m━━━━━━━━━━━━━━━━━━━━\u001b[0m\u001b[37m\u001b[0m \u001b[1m20s\u001b[0m 12ms/step - accuracy: 0.9940 - loss: 0.0179 - val_accuracy: 0.9837 - val_loss: 0.0694\n"
     ]
    }
   ],
   "source": [
    "# TRAIN the model using the training data\n",
    "history = model.fit(\n",
    "    x_train,             # Input images\n",
    "    y_train,             # Corresponding labels\n",
    "    batch_size=32,       # Number of samples per gradient update \n",
    "    epochs=10,           # Number of times to iterate over the training data\n",
    "    validation_split=0.1 # Reserve 10% of the training data for validation \n",
    "                         # (calcola accuracy e loss su un dataset che non ha mai visto,\n",
    "                         # ovvero il 10% del training set)\n",
    ")"
   ]
  },
  {
   "cell_type": "code",
   "execution_count": 10,
   "id": "23f07f4a",
   "metadata": {},
   "outputs": [
    {
     "data": {
      "text/plain": [
       "<matplotlib.legend.Legend at 0x7f886407f4d0>"
      ]
     },
     "execution_count": 10,
     "metadata": {},
     "output_type": "execute_result"
    },
    {
     "data": {
      "image/png": "[encoded data removed]",
      "text/plain": [
       "<Figure size 640x480 with 1 Axes>"
      ]
     },
     "metadata": {},
     "output_type": "display_data"
    }
   ],
   "source": [
    "# Create a new figure for plotting\n",
    "plt.figure()\n",
    "\n",
    "# Plot training accuracy over epochs\n",
    "# history.history['accuracy'] contains the training accuracy for each epoch\n",
    "plt.plot(history.history['accuracy'], label='Training Accuracy')\n",
    "\n",
    "# Plot validation accuracy over epochs\n",
    "# history.history['val_accuracy'] contains the validation accuracy for each epoch\n",
    "plt.plot(history.history['val_accuracy'], label='Validation Accuracy')\n",
    "\n",
    "plt.grid()\n",
    "plt.title('Training vs Validation Accuracy')\n",
    "plt.legend()"
   ]
  },
  {
   "cell_type": "markdown",
   "id": "dee46b01",
   "metadata": {},
   "source": [
    "## Evaluation"
   ]
  },
  {
   "cell_type": "code",
   "execution_count": 11,
   "id": "9b0eab42",
   "metadata": {},
   "outputs": [
    {
     "name": "stdout",
     "output_type": "stream",
     "text": [
      "\u001b[1m313/313\u001b[0m \u001b[32m━━━━━━━━━━━━━━━━━━━━\u001b[0m\u001b[37m\u001b[0m \u001b[1m1s\u001b[0m 4ms/step - accuracy: 0.9799 - loss: 0.0787\n",
      "Test accuracy: 0.982200026512146\n"
     ]
    }
   ],
   "source": [
    "# EVALUATE the model on the test data\n",
    "# The model will compute the loss and accuracy on the test set (x_test, y_test)\n",
    "[test_loss, test_accuracy] = model.evaluate(x_test, y_test)\n",
    "\n",
    "# Print the test accuracy\n",
    "# This is the final performance metric for the model on unseen test data\n",
    "print('Test accuracy: {}'.format(test_accuracy))"
   ]
  },
  {
   "cell_type": "markdown",
   "id": "171f8ef0",
   "metadata": {},
   "source": [
    "### Get Predictions\n",
    "\n",
    "Note that the model outputs probabilities for each class. We then select the class with the highest probability as our final prediction."
   ]
  },
  {
   "cell_type": "code",
   "execution_count": 12,
   "id": "d2978f32",
   "metadata": {},
   "outputs": [
    {
     "name": "stdout",
     "output_type": "stream",
     "text": [
      "\u001b[1m313/313\u001b[0m \u001b[32m━━━━━━━━━━━━━━━━━━━━\u001b[0m\u001b[37m\u001b[0m \u001b[1m1s\u001b[0m 3ms/step\n"
     ]
    }
   ],
   "source": [
    "# Get predictions from the model on the test data\n",
    "# The model outputs PROBABILITIES for each class for each test sample\n",
    "predictions = model.predict(x_test)\n",
    "\n",
    "# CONVERT THE PROBABILITIES INTO A PREDICTED LABEL\n",
    "# np.argmax returns the index of the maximum probability for each sample\n",
    "# axis=1 indicates we are selecting the index along each row (per sample)\n",
    "y_pred = np.argmax(predictions, axis=1)"
   ]
  },
  {
   "cell_type": "markdown",
   "id": "97ba79b2",
   "metadata": {},
   "source": [
    "Let's see which are the most confused classes. "
   ]
  },
  {
   "cell_type": "code",
   "execution_count": 13,
   "id": "6d6ab333",
   "metadata": {},
   "outputs": [
    {
     "data": {
      "text/plain": [
       "Text(0.5, 1.0, 'Class Distribution for Mismatch in Label Prediction')"
      ]
     },
     "execution_count": 13,
     "metadata": {},
     "output_type": "execute_result"
    },
    {
     "data": {
      "image/png": "[encoded data removed]",
      "text/plain": [
       "<Figure size 640x480 with 1 Axes>"
      ]
     },
     "metadata": {},
     "output_type": "display_data"
    }
   ],
   "source": [
    "# Find the indices where the predicted labels do not match the true labels\n",
    "# np.where returns the indices of elements that satisfy the condition (y_pred != y_test)\n",
    "mismatch = np.where(y_pred != y_test)[0]\n",
    "\n",
    "# Count the number of occurrences for each class in the mismatched predictions\n",
    "mismatch_class_counter = Counter(y_test[mismatch])\n",
    "\n",
    "# Initialize a dictionary to store the mismatch percentage for each class\n",
    "mismatch_percentage = dict()\n",
    "\n",
    "# Calculate the mismatch percentage for each digit class\n",
    "for digit in test_class_counter.keys():\n",
    "    # The percentage of mismatches for each class\n",
    "    mismatch_percentage[digit] = mismatch_class_counter[digit] / test_class_counter[digit] * 100\n",
    "\n",
    "# Create a new figure for plotting\n",
    "plt.figure()\n",
    "\n",
    "# Plot a bar chart showing the percentage of mismatches per class\n",
    "plt.bar(mismatch_percentage.keys(), mismatch_percentage.values())\n",
    "\n",
    "# Add a title to the plot\n",
    "plt.title('Class Distribution for Mismatch in Label Prediction')"
   ]
  },
  {
   "cell_type": "markdown",
   "id": "c0aa72df",
   "metadata": {},
   "source": [
    "Let's print 4 random mispredicted samples"
   ]
  },
  {
   "cell_type": "code",
   "execution_count": 14,
   "id": "e68d548d",
   "metadata": {},
   "outputs": [
    {
     "data": {
      "image/png": "[encoded data removed]",
      "text/plain": [
       "<Figure size 1500x800 with 4 Axes>"
      ]
     },
     "metadata": {},
     "output_type": "display_data"
    }
   ],
   "source": [
    "# Shuffle the indices of the mismatched predictions to select random samples\n",
    "np.random.shuffle(mismatch)\n",
    "\n",
    "# Select the first 4 mismatched samples after shuffling\n",
    "idxes = mismatch[:4]\n",
    "\n",
    "# Create a new figure to visualize the images\n",
    "plt.figure(figsize=(15,8))\n",
    "\n",
    "# Loop through the selected mismatched samples and plot them\n",
    "for i in range(4):\n",
    "    # Create a subplot for each image\n",
    "    plt.subplot(1, 4, i+1)\n",
    "    \n",
    "    # Display the image with a grayscale colormap\n",
    "    plt.imshow(x_test[idxes[i]], cmap='Greys')\n",
    "    \n",
    "    # Add the true and predicted label as the title for each image\n",
    "    plt.title('True label = {}\\nPredicted label: {}'.format(y_test[idxes[i]], y_pred[idxes[i]]))"
   ]
  },
  {
   "cell_type": "code",
   "execution_count": 15,
   "id": "2b559f44",
   "metadata": {},
   "outputs": [
    {
     "data": {
      "text/plain": [
       "Text(0, 0.5, 'True labels')"
      ]
     },
     "execution_count": 15,
     "metadata": {},
     "output_type": "execute_result"
    },
    {
     "data": {
      "image/png": "[encoded data removed]",
      "text/plain": [
       "<Figure size 640x480 with 2 Axes>"
      ]
     },
     "metadata": {},
     "output_type": "display_data"
    }
   ],
   "source": [
    "from sklearn.metrics import confusion_matrix\n",
    "\n",
    "# Compute the confusion matrix\n",
    "# The confusion matrix is calculated using the true labels (y_test) and predicted labels (y_pred)\n",
    "# We take the logarithm of the confusion matrix values for better visualization of smaller values\n",
    "cm = np.log(1 + confusion_matrix(y_test, y_pred))\n",
    "\n",
    "# Create a figure and axis for plotting\n",
    "fig, ax = plt.subplots()\n",
    "\n",
    "# Display the confusion matrix as an image\n",
    "# imshow() is used to show the matrix as a heatmap with a red colormap ('Reds')\n",
    "im = ax.imshow(cm, interpolation='nearest', cmap='Reds')\n",
    "\n",
    "# Add a color bar next to the plot to show the value scale\n",
    "ax.figure.colorbar(im, ax=ax)\n",
    "\n",
    "# Label the x-axis and y-axis for clarity\n",
    "plt.xlabel('Predicted labels')\n",
    "plt.ylabel('True labels')"
   ]
  },
  {
   "cell_type": "markdown",
   "id": "8da58344",
   "metadata": {},
   "source": [
    "## Save the model"
   ]
  },
  {
   "cell_type": "markdown",
   "id": "afed1eb5",
   "metadata": {},
   "source": [
    "We can save the model weights or the entire model (architecture + weights), either at the end of training or periodically during training (e.g., after every epoch)."
   ]
  },
  {
   "cell_type": "code",
   "execution_count": null,
   "id": "0ce327a6",
   "metadata": {},
   "outputs": [],
   "source": [
    "#Commands that you need only if you are using Google Colab\n",
    "# mount drive folder\n",
    "# from google.colab import drive\n",
    "# drive.mount('/content/drive')"
   ]
  },
  {
   "cell_type": "code",
   "execution_count": 16,
   "id": "5041a002",
   "metadata": {},
   "outputs": [
    {
     "data": {
      "text/plain": [
       "[]"
      ]
     },
     "execution_count": 16,
     "metadata": {},
     "output_type": "execute_result"
    }
   ],
   "source": [
    "# Define the path to the main folder where files will be saved\n",
    "folder = \"./drive/MyDrive/AA24-25ML/\"\n",
    "\n",
    "# Define the destination folder path by joining the main folder path with a subfolder name\n",
    "destination_folder = os.path.join(folder, '01_FFNN')\n",
    "\n",
    "# Check if the destination folder exists; if not, create it\n",
    "if not os.path.exists(destination_folder):\n",
    "    os.mkdir(destination_folder)\n",
    "\n",
    "# List the contents of the destination folder\n",
    "# This will return the files and subdirectories inside the destination folder\n",
    "os.listdir(destination_folder)"
   ]
  },
  {
   "cell_type": "code",
   "execution_count": 17,
   "id": "e0bdb874",
   "metadata": {},
   "outputs": [
    {
     "name": "stdout",
     "output_type": "stream",
     "text": [
      "\u001b[1m313/313\u001b[0m \u001b[32m━━━━━━━━━━━━━━━━━━━━\u001b[0m\u001b[37m\u001b[0m \u001b[1m2s\u001b[0m 4ms/step - accuracy: 0.9799 - loss: 0.0787\n",
      "Test accuracy from original model: 0.982200026512146\n",
      "Test accuracy from reloaded model: 0.982200026512146\n"
     ]
    }
   ],
   "source": [
    "# Save the model weights to a file with the extension .weights.h5\n",
    "# This saves only the weights, not the entire model architecture\n",
    "model.save_weights(destination_folder + '/weights.weights.h5')\n",
    "\n",
    "# Create a new model instance with the same architecture\n",
    "# Since only the weights are being saved, we need to recreate the same model architecture\n",
    "model_reloaded = create_model(compile_model=False)\n",
    "\n",
    "# Load the saved weights into the newly created model\n",
    "# This restores the model's learned weights from the file\n",
    "model_reloaded.load_weights(destination_folder + '/weights.weights.h5')\n",
    "\n",
    "# Compile the reloaded model to prepare it for evaluation\n",
    "# We use the same loss function, optimizer, and metrics as in the original model\n",
    "model_reloaded.compile(\n",
    "    loss='sparse_categorical_crossentropy',\n",
    "    optimizer='adam',\n",
    "    metrics=['accuracy']\n",
    ")\n",
    "\n",
    "# Evaluate the reloaded model on the test data\n",
    "# This will return the test loss and accuracy for the reloaded model\n",
    "[reloaded_test_loss, reloaded_test_accuracy] = model_reloaded.evaluate(x_test, y_test)\n",
    "\n",
    "# Print the test accuracy from the original model (which was computed before reloading)\n",
    "print('Test accuracy from original model: {}'.format(test_accuracy))\n",
    "\n",
    "# Print the test accuracy from the reloaded model (after restoring the weights)\n",
    "print('Test accuracy from reloaded model: {}'.format(reloaded_test_accuracy))"
   ]
  },
  {
   "cell_type": "markdown",
   "id": "b73391ed",
   "metadata": {},
   "source": [
    "You can also save the weights during training, using Keras callbacks."
   ]
  },
  {
   "cell_type": "code",
   "execution_count": 18,
   "id": "b7753b55",
   "metadata": {},
   "outputs": [
    {
     "name": "stdout",
     "output_type": "stream",
     "text": [
      "Epoch 1/10\n",
      "\u001b[1m1875/1875\u001b[0m \u001b[32m━━━━━━━━━━━━━━━━━━━━\u001b[0m\u001b[37m\u001b[0m \u001b[1m0s\u001b[0m 11ms/step - accuracy: 0.8914 - loss: 0.3665\n",
      "Epoch 1: saving model to ./drive/MyDrive/AA24-25ML/01_FFNN/training_00_FFNN//cp-0001.weights.h5\n",
      "\u001b[1m1875/1875\u001b[0m \u001b[32m━━━━━━━━━━━━━━━━━━━━\u001b[0m\u001b[37m\u001b[0m \u001b[1m25s\u001b[0m 13ms/step - accuracy: 0.8915 - loss: 0.3664 - val_accuracy: 0.9669 - val_loss: 0.1112\n",
      "Epoch 2/10\n",
      "\u001b[1m1872/1875\u001b[0m \u001b[32m━━━━━━━━━━━━━━━━━━━\u001b[0m\u001b[37m━\u001b[0m \u001b[1m0s\u001b[0m 14ms/step - accuracy: 0.9701 - loss: 0.0964\n",
      "Epoch 2: saving model to ./drive/MyDrive/AA24-25ML/01_FFNN/training_00_FFNN//cp-0002.weights.h5\n",
      "\u001b[1m1875/1875\u001b[0m \u001b[32m━━━━━━━━━━━━━━━━━━━━\u001b[0m\u001b[37m\u001b[0m \u001b[1m27s\u001b[0m 14ms/step - accuracy: 0.9701 - loss: 0.0964 - val_accuracy: 0.9748 - val_loss: 0.0797\n",
      "Epoch 3/10\n",
      "\u001b[1m1875/1875\u001b[0m \u001b[32m━━━━━━━━━━━━━━━━━━━━\u001b[0m\u001b[37m\u001b[0m \u001b[1m0s\u001b[0m 11ms/step - accuracy: 0.9787 - loss: 0.0682\n",
      "Epoch 3: saving model to ./drive/MyDrive/AA24-25ML/01_FFNN/training_00_FFNN//cp-0003.weights.h5\n",
      "\u001b[1m1875/1875\u001b[0m \u001b[32m━━━━━━━━━━━━━━━━━━━━\u001b[0m\u001b[37m\u001b[0m \u001b[1m22s\u001b[0m 12ms/step - accuracy: 0.9787 - loss: 0.0682 - val_accuracy: 0.9771 - val_loss: 0.0754\n",
      "Epoch 4/10\n",
      "\u001b[1m1873/1875\u001b[0m \u001b[32m━━━━━━━━━━━━━━━━━━━\u001b[0m\u001b[37m━\u001b[0m \u001b[1m0s\u001b[0m 9ms/step - accuracy: 0.9826 - loss: 0.0546\n",
      "Epoch 4: saving model to ./drive/MyDrive/AA24-25ML/01_FFNN/training_00_FFNN//cp-0004.weights.h5\n",
      "\u001b[1m1875/1875\u001b[0m \u001b[32m━━━━━━━━━━━━━━━━━━━━\u001b[0m\u001b[37m\u001b[0m \u001b[1m19s\u001b[0m 10ms/step - accuracy: 0.9826 - loss: 0.0546 - val_accuracy: 0.9799 - val_loss: 0.0629\n",
      "Epoch 5/10\n",
      "\u001b[1m1875/1875\u001b[0m \u001b[32m━━━━━━━━━━━━━━━━━━━━\u001b[0m\u001b[37m\u001b[0m \u001b[1m0s\u001b[0m 10ms/step - accuracy: 0.9876 - loss: 0.0387\n",
      "Epoch 5: saving model to ./drive/MyDrive/AA24-25ML/01_FFNN/training_00_FFNN//cp-0005.weights.h5\n",
      "\u001b[1m1875/1875\u001b[0m \u001b[32m━━━━━━━━━━━━━━━━━━━━\u001b[0m\u001b[37m\u001b[0m \u001b[1m20s\u001b[0m 10ms/step - accuracy: 0.9876 - loss: 0.0387 - val_accuracy: 0.9802 - val_loss: 0.0665\n",
      "Epoch 6/10\n",
      "\u001b[1m1872/1875\u001b[0m \u001b[32m━━━━━━━━━━━━━━━━━━━\u001b[0m\u001b[37m━\u001b[0m \u001b[1m0s\u001b[0m 12ms/step - accuracy: 0.9890 - loss: 0.0341\n",
      "Epoch 6: saving model to ./drive/MyDrive/AA24-25ML/01_FFNN/training_00_FFNN//cp-0006.weights.h5\n",
      "\u001b[1m1875/1875\u001b[0m \u001b[32m━━━━━━━━━━━━━━━━━━━━\u001b[0m\u001b[37m\u001b[0m \u001b[1m23s\u001b[0m 12ms/step - accuracy: 0.9890 - loss: 0.0341 - val_accuracy: 0.9815 - val_loss: 0.0676\n",
      "Epoch 7/10\n",
      "\u001b[1m1874/1875\u001b[0m \u001b[32m━━━━━━━━━━━━━━━━━━━\u001b[0m\u001b[37m━\u001b[0m \u001b[1m0s\u001b[0m 12ms/step - accuracy: 0.9904 - loss: 0.0293\n",
      "Epoch 7: saving model to ./drive/MyDrive/AA24-25ML/01_FFNN/training_00_FFNN//cp-0007.weights.h5\n",
      "\u001b[1m1875/1875\u001b[0m \u001b[32m━━━━━━━━━━━━━━━━━━━━\u001b[0m\u001b[37m\u001b[0m \u001b[1m24s\u001b[0m 13ms/step - accuracy: 0.9904 - loss: 0.0293 - val_accuracy: 0.9818 - val_loss: 0.0653\n",
      "Epoch 8/10\n",
      "\u001b[1m1873/1875\u001b[0m \u001b[32m━━━━━━━━━━━━━━━━━━━\u001b[0m\u001b[37m━\u001b[0m \u001b[1m0s\u001b[0m 12ms/step - accuracy: 0.9920 - loss: 0.0246\n",
      "Epoch 8: saving model to ./drive/MyDrive/AA24-25ML/01_FFNN/training_00_FFNN//cp-0008.weights.h5\n",
      "\u001b[1m1875/1875\u001b[0m \u001b[32m━━━━━━━━━━━━━━━━━━━━\u001b[0m\u001b[37m\u001b[0m \u001b[1m23s\u001b[0m 12ms/step - accuracy: 0.9919 - loss: 0.0246 - val_accuracy: 0.9823 - val_loss: 0.0646\n",
      "Epoch 9/10\n",
      "\u001b[1m1875/1875\u001b[0m \u001b[32m━━━━━━━━━━━━━━━━━━━━\u001b[0m\u001b[37m\u001b[0m \u001b[1m0s\u001b[0m 11ms/step - accuracy: 0.9933 - loss: 0.0203\n",
      "Epoch 9: saving model to ./drive/MyDrive/AA24-25ML/01_FFNN/training_00_FFNN//cp-0009.weights.h5\n",
      "\u001b[1m1875/1875\u001b[0m \u001b[32m━━━━━━━━━━━━━━━━━━━━\u001b[0m\u001b[37m\u001b[0m \u001b[1m22s\u001b[0m 12ms/step - accuracy: 0.9933 - loss: 0.0203 - val_accuracy: 0.9822 - val_loss: 0.0687\n",
      "Epoch 10/10\n",
      "\u001b[1m1874/1875\u001b[0m \u001b[32m━━━━━━━━━━━━━━━━━━━\u001b[0m\u001b[37m━\u001b[0m \u001b[1m0s\u001b[0m 9ms/step - accuracy: 0.9924 - loss: 0.0226\n",
      "Epoch 10: saving model to ./drive/MyDrive/AA24-25ML/01_FFNN/training_00_FFNN//cp-0010.weights.h5\n",
      "\u001b[1m1875/1875\u001b[0m \u001b[32m━━━━━━━━━━━━━━━━━━━━\u001b[0m\u001b[37m\u001b[0m \u001b[1m18s\u001b[0m 10ms/step - accuracy: 0.9924 - loss: 0.0226 - val_accuracy: 0.9814 - val_loss: 0.0731\n"
     ]
    },
    {
     "data": {
      "text/plain": [
       "<keras.src.callbacks.history.History at 0x7f883c611e10>"
      ]
     },
     "execution_count": 18,
     "metadata": {},
     "output_type": "execute_result"
    }
   ],
   "source": [
    "# Saving checkpoints during training with Keras CALLBACKS\n",
    "\n",
    "# Define a folder to store the checkpoints\n",
    "checkpoint_folder = destination_folder + \"/training_00_FFNN/\"\n",
    "\n",
    "# Create the checkpoint folder if it doesn't already exist\n",
    "if not os.path.exists(checkpoint_folder): \n",
    "    os.mkdir(checkpoint_folder)\n",
    "\n",
    "# Define the full path template for saving checkpoints\n",
    "# This includes the epoch number in the filename using str.format\n",
    "checkpoint_path = checkpoint_folder + \"/cp-{epoch:04d}.weights.h5\"\n",
    "\n",
    "# Extract the directory path (in case it's needed later)\n",
    "checkpoint_dir = os.path.dirname(checkpoint_path)\n",
    "\n",
    "# DEFINE A KERAS CALLBACK to save model checkpoints during training\n",
    "cp_callback = tf.keras.callbacks.ModelCheckpoint(\n",
    "    filepath=checkpoint_path,         # File path pattern to save checkpoints\n",
    "    verbose=1,                         # Log saving actions\n",
    "    save_weights_only=True,           # SAVE ONLY WEIGHTS, not the full model\n",
    "    save_freq='epoch'                 # Save weights at the end of every epoch\n",
    ")\n",
    "\n",
    "# Create and compile a new model instance\n",
    "model = create_model(compile_model=True)\n",
    "\n",
    "# Optionally save the initial weights before training starts (epoch 0)\n",
    "model.save_weights(checkpoint_path.format(epoch=0))\n",
    "\n",
    "# Train the model for 10 epochs with the checkpoint callback enabled\n",
    "# This will save weights to a new file at the end of each epoch\n",
    "model.fit(\n",
    "    x_train, y_train,\n",
    "    epochs=10,\n",
    "    callbacks=[cp_callback],\n",
    "    validation_data=(x_test, y_test),\n",
    "    verbose=1\n",
    ")"
   ]
  },
  {
   "cell_type": "code",
   "execution_count": 20,
   "id": "34be3bda",
   "metadata": {},
   "outputs": [
    {
     "name": "stderr",
     "output_type": "stream",
     "text": [
      "WARNING:absl:You are saving your model as an HDF5 file via `model.save()` or `keras.saving.save_model(model)`. This file format is considered legacy. We recommend using instead the native Keras format, e.g. `model.save('my_model.keras')` or `keras.saving.save_model(model, 'my_model.keras')`. \n",
      "WARNING:absl:Compiled the loaded model, but the compiled metrics have yet to be built. `model.compile_metrics` will be empty until you train or evaluate the model.\n"
     ]
    },
    {
     "data": {
      "text/html": [
       "<pre style=\"white-space:pre;overflow-x:auto;line-height:normal;font-family:Menlo,'DejaVu Sans Mono',consolas,'Courier New',monospace\"><span style=\"font-weight: bold\">Model: \"sequential_2\"</span>\n",
       "</pre>\n"
      ],
      "text/plain": [
       "\u001b[1mModel: \"sequential_2\"\u001b[0m\n"
      ]
     },
     "metadata": {},
     "output_type": "display_data"
    },
    {
     "data": {
      "text/html": [
       "<pre style=\"white-space:pre;overflow-x:auto;line-height:normal;font-family:Menlo,'DejaVu Sans Mono',consolas,'Courier New',monospace\">┏━━━━━━━━━━━━━━━━━━━━━━━━━━━━━━━━━┳━━━━━━━━━━━━━━━━━━━━━━━━┳━━━━━━━━━━━━━━━┓\n",
       "┃<span style=\"font-weight: bold\"> Layer (type)                    </span>┃<span style=\"font-weight: bold\"> Output Shape           </span>┃<span style=\"font-weight: bold\">       Param # </span>┃\n",
       "┡━━━━━━━━━━━━━━━━━━━━━━━━━━━━━━━━━╇━━━━━━━━━━━━━━━━━━━━━━━━╇━━━━━━━━━━━━━━━┩\n",
       "│ flatten_2 (<span style=\"color: #0087ff; text-decoration-color: #0087ff\">Flatten</span>)             │ (<span style=\"color: #00d7ff; text-decoration-color: #00d7ff\">None</span>, <span style=\"color: #00af00; text-decoration-color: #00af00\">784</span>)            │             <span style=\"color: #00af00; text-decoration-color: #00af00\">0</span> │\n",
       "├─────────────────────────────────┼────────────────────────┼───────────────┤\n",
       "│ dense_4 (<span style=\"color: #0087ff; text-decoration-color: #0087ff\">Dense</span>)                 │ (<span style=\"color: #00d7ff; text-decoration-color: #00d7ff\">None</span>, <span style=\"color: #00af00; text-decoration-color: #00af00\">512</span>)            │       <span style=\"color: #00af00; text-decoration-color: #00af00\">401,920</span> │\n",
       "├─────────────────────────────────┼────────────────────────┼───────────────┤\n",
       "│ dropout_2 (<span style=\"color: #0087ff; text-decoration-color: #0087ff\">Dropout</span>)             │ (<span style=\"color: #00d7ff; text-decoration-color: #00d7ff\">None</span>, <span style=\"color: #00af00; text-decoration-color: #00af00\">512</span>)            │             <span style=\"color: #00af00; text-decoration-color: #00af00\">0</span> │\n",
       "├─────────────────────────────────┼────────────────────────┼───────────────┤\n",
       "│ dense_5 (<span style=\"color: #0087ff; text-decoration-color: #0087ff\">Dense</span>)                 │ (<span style=\"color: #00d7ff; text-decoration-color: #00d7ff\">None</span>, <span style=\"color: #00af00; text-decoration-color: #00af00\">10</span>)             │         <span style=\"color: #00af00; text-decoration-color: #00af00\">5,130</span> │\n",
       "└─────────────────────────────────┴────────────────────────┴───────────────┘\n",
       "</pre>\n"
      ],
      "text/plain": [
       "┏━━━━━━━━━━━━━━━━━━━━━━━━━━━━━━━━━┳━━━━━━━━━━━━━━━━━━━━━━━━┳━━━━━━━━━━━━━━━┓\n",
       "┃\u001b[1m \u001b[0m\u001b[1mLayer (type)                   \u001b[0m\u001b[1m \u001b[0m┃\u001b[1m \u001b[0m\u001b[1mOutput Shape          \u001b[0m\u001b[1m \u001b[0m┃\u001b[1m \u001b[0m\u001b[1m      Param #\u001b[0m\u001b[1m \u001b[0m┃\n",
       "┡━━━━━━━━━━━━━━━━━━━━━━━━━━━━━━━━━╇━━━━━━━━━━━━━━━━━━━━━━━━╇━━━━━━━━━━━━━━━┩\n",
       "│ flatten_2 (\u001b[38;5;33mFlatten\u001b[0m)             │ (\u001b[38;5;45mNone\u001b[0m, \u001b[38;5;34m784\u001b[0m)            │             \u001b[38;5;34m0\u001b[0m │\n",
       "├─────────────────────────────────┼────────────────────────┼───────────────┤\n",
       "│ dense_4 (\u001b[38;5;33mDense\u001b[0m)                 │ (\u001b[38;5;45mNone\u001b[0m, \u001b[38;5;34m512\u001b[0m)            │       \u001b[38;5;34m401,920\u001b[0m │\n",
       "├─────────────────────────────────┼────────────────────────┼───────────────┤\n",
       "│ dropout_2 (\u001b[38;5;33mDropout\u001b[0m)             │ (\u001b[38;5;45mNone\u001b[0m, \u001b[38;5;34m512\u001b[0m)            │             \u001b[38;5;34m0\u001b[0m │\n",
       "├─────────────────────────────────┼────────────────────────┼───────────────┤\n",
       "│ dense_5 (\u001b[38;5;33mDense\u001b[0m)                 │ (\u001b[38;5;45mNone\u001b[0m, \u001b[38;5;34m10\u001b[0m)             │         \u001b[38;5;34m5,130\u001b[0m │\n",
       "└─────────────────────────────────┴────────────────────────┴───────────────┘\n"
      ]
     },
     "metadata": {},
     "output_type": "display_data"
    },
    {
     "data": {
      "text/html": [
       "<pre style=\"white-space:pre;overflow-x:auto;line-height:normal;font-family:Menlo,'DejaVu Sans Mono',consolas,'Courier New',monospace\"><span style=\"font-weight: bold\"> Total params: </span><span style=\"color: #00af00; text-decoration-color: #00af00\">407,052</span> (1.55 MB)\n",
       "</pre>\n"
      ],
      "text/plain": [
       "\u001b[1m Total params: \u001b[0m\u001b[38;5;34m407,052\u001b[0m (1.55 MB)\n"
      ]
     },
     "metadata": {},
     "output_type": "display_data"
    },
    {
     "data": {
      "text/html": [
       "<pre style=\"white-space:pre;overflow-x:auto;line-height:normal;font-family:Menlo,'DejaVu Sans Mono',consolas,'Courier New',monospace\"><span style=\"font-weight: bold\"> Trainable params: </span><span style=\"color: #00af00; text-decoration-color: #00af00\">407,050</span> (1.55 MB)\n",
       "</pre>\n"
      ],
      "text/plain": [
       "\u001b[1m Trainable params: \u001b[0m\u001b[38;5;34m407,050\u001b[0m (1.55 MB)\n"
      ]
     },
     "metadata": {},
     "output_type": "display_data"
    },
    {
     "data": {
      "text/html": [
       "<pre style=\"white-space:pre;overflow-x:auto;line-height:normal;font-family:Menlo,'DejaVu Sans Mono',consolas,'Courier New',monospace\"><span style=\"font-weight: bold\"> Non-trainable params: </span><span style=\"color: #00af00; text-decoration-color: #00af00\">0</span> (0.00 B)\n",
       "</pre>\n"
      ],
      "text/plain": [
       "\u001b[1m Non-trainable params: \u001b[0m\u001b[38;5;34m0\u001b[0m (0.00 B)\n"
      ]
     },
     "metadata": {},
     "output_type": "display_data"
    },
    {
     "data": {
      "text/html": [
       "<pre style=\"white-space:pre;overflow-x:auto;line-height:normal;font-family:Menlo,'DejaVu Sans Mono',consolas,'Courier New',monospace\"><span style=\"font-weight: bold\"> Optimizer params: </span><span style=\"color: #00af00; text-decoration-color: #00af00\">2</span> (12.00 B)\n",
       "</pre>\n"
      ],
      "text/plain": [
       "\u001b[1m Optimizer params: \u001b[0m\u001b[38;5;34m2\u001b[0m (12.00 B)\n"
      ]
     },
     "metadata": {},
     "output_type": "display_data"
    },
    {
     "name": "stdout",
     "output_type": "stream",
     "text": [
      "None\n",
      "\u001b[1m313/313\u001b[0m \u001b[32m━━━━━━━━━━━━━━━━━━━━\u001b[0m\u001b[37m\u001b[0m \u001b[1m2s\u001b[0m 4ms/step - accuracy: 0.9776 - loss: 0.0903\n",
      "\n",
      "\n",
      "Test accuracy from original model: 0.982200026512146\n",
      "Test accuracy from new model: 0.9814000129699707\n"
     ]
    }
   ],
   "source": [
    "# SAVING FULLY-FUNCTIONAL MODEL\n",
    "\n",
    "# Save the entire model to a single HDF5 (.h5) file\n",
    "# This includes the model architecture, weights, and optimizer state\n",
    "model.save(destination_folder + '/mnist_00_ffnn.h5')\n",
    "\n",
    "# Load the saved model from file\n",
    "# This recreates the model exactly as it was at the time of saving\n",
    "new_model = tf.keras.models.load_model(destination_folder + '/mnist_00_ffnn.h5')\n",
    "\n",
    "# Display the architecture of the reloaded model\n",
    "print(new_model.summary())\n",
    "\n",
    "# Evaluate the reloaded model on the test dataset\n",
    "# This verifies that the model's performance is preserved after saving and loading\n",
    "[new_test_loss, new_test_accuracy] = new_model.evaluate(x_test, y_test)\n",
    "\n",
    "# Compare the accuracy of the original model and the reloaded one\n",
    "print('\\n\\nTest accuracy from original model: {}'.format(test_accuracy))\n",
    "print('Test accuracy from new model: {}'.format(new_test_accuracy))"
   ]
  },
  {
   "cell_type": "markdown",
   "id": "62c2306c",
   "metadata": {},
   "source": [
    "<span style=\"color:red\"><strong>🏋️‍♀️ Exercises</strong></span>\n",
    "- What happens if dropout is removed?\n",
    "- Does it help to add more dense layers?\n",
    "- Try to visually inspect the digits that are wrongly recognized by the FFNN: can you correctly classify them?"
   ]
  },
  {
   "cell_type": "markdown",
   "id": "ad5f6d0f",
   "metadata": {},
   "source": [
    "## Overview of Keras API for Creating Models\n",
    "\n",
    "In the previous example, we used the **Sequential API**, where a model is built by stacking layers linearly — each layer has exactly one input and one output.\n",
    "\n",
    "However, `tf.keras` offers more flexible ways to define models:\n",
    "\n",
    "- **Functional API**  \n",
    "  Enables the creation of complex architectures, such as models with multiple inputs and outputs, shared layers, and NON-LINEAR topologies (e.g., skip connections or residual networks).\n",
    "\n",
    "- **Subclassing (Custom Model Definition)**  \n",
    "  Allows you to define a model by subclassing the `tf.keras.Model` class and manually implementing the `call()` method. This approach is ideal for building highly customized models or for research purposes."
   ]
  },
  {
   "cell_type": "markdown",
   "id": "916ad2aa-bd34-4322-9c4e-f61631f10e65",
   "metadata": {},
   "source": [
    "### Functional API\n",
    "\n",
    "The Functional API allows us to build models with more complex topologies than the Sequential API, including:\n",
    "\n",
    "- **Multi-input models**\n",
    "- **Multi-output models**\n",
    "- **Models with shared layers** (the same layer used multiple times)\n",
    "- **Models with non-sequential data flows** (e.g., skip connections, residual networks)\n",
    "\n",
    "Despite the added flexibility, models built using the Functional API are compiled, trained, and evaluated in the same way as Sequential models."
   ]
  },
  {
   "cell_type": "code",
   "execution_count": 21,
   "id": "bc4e5f32-f62e-4eb8-8af3-579d81c99e9b",
   "metadata": {},
   "outputs": [
    {
     "name": "stdout",
     "output_type": "stream",
     "text": [
      "Epoch 1/5\n",
      "\u001b[1m1688/1688\u001b[0m \u001b[32m━━━━━━━━━━━━━━━━━━━━\u001b[0m\u001b[37m\u001b[0m \u001b[1m22s\u001b[0m 12ms/step - accuracy: 0.8880 - loss: 0.3819 - val_accuracy: 0.9720 - val_loss: 0.0984\n",
      "Epoch 2/5\n",
      "\u001b[1m1688/1688\u001b[0m \u001b[32m━━━━━━━━━━━━━━━━━━━━\u001b[0m\u001b[37m\u001b[0m \u001b[1m20s\u001b[0m 12ms/step - accuracy: 0.9677 - loss: 0.1061 - val_accuracy: 0.9772 - val_loss: 0.0767\n",
      "Epoch 3/5\n",
      "\u001b[1m1688/1688\u001b[0m \u001b[32m━━━━━━━━━━━━━━━━━━━━\u001b[0m\u001b[37m\u001b[0m \u001b[1m20s\u001b[0m 12ms/step - accuracy: 0.9786 - loss: 0.0687 - val_accuracy: 0.9817 - val_loss: 0.0698\n",
      "Epoch 4/5\n",
      "\u001b[1m1688/1688\u001b[0m \u001b[32m━━━━━━━━━━━━━━━━━━━━\u001b[0m\u001b[37m\u001b[0m \u001b[1m17s\u001b[0m 10ms/step - accuracy: 0.9843 - loss: 0.0506 - val_accuracy: 0.9772 - val_loss: 0.0831\n",
      "Epoch 5/5\n",
      "\u001b[1m1688/1688\u001b[0m \u001b[32m━━━━━━━━━━━━━━━━━━━━\u001b[0m\u001b[37m\u001b[0m \u001b[1m18s\u001b[0m 11ms/step - accuracy: 0.9864 - loss: 0.0444 - val_accuracy: 0.9780 - val_loss: 0.0701\n",
      "\u001b[1m313/313\u001b[0m \u001b[32m━━━━━━━━━━━━━━━━━━━━\u001b[0m\u001b[37m\u001b[0m \u001b[1m2s\u001b[0m 5ms/step - accuracy: 0.9735 - loss: 0.0836\n"
     ]
    },
    {
     "data": {
      "text/plain": [
       "[0.06694124639034271, 0.9779999852180481]"
      ]
     },
     "execution_count": 21,
     "metadata": {},
     "output_type": "execute_result"
    }
   ],
   "source": [
    "### Example: Building a Model with the Functional API\n",
    "\n",
    "from tensorflow.keras.layers import Input, Flatten, Dense, Dropout\n",
    "from tensorflow.keras.models import Model # NON SEQUENTIAL\n",
    "\n",
    "# The Functional API defines the data flow explicitly, starting from Input\n",
    "inputs = Input(shape=(28, 28))  # Symbolic placeholder for input data (no need to specify batch size)\n",
    "\n",
    "# Stesso modello di prima di Sequential, ma definito in altro modo\n",
    "x = Flatten()(inputs)           # Flatten the 2D image into a 1D vector\n",
    "x = Dense(512, activation='relu')(x)  # Fully connected hidden layer with ReLU activation\n",
    "x = Dropout(0.2)(x)             # Dropout layer for regularization\n",
    "predictions = Dense(10, activation='softmax')(x)  # Output layer with softmax for multi-class classification\n",
    "\n",
    "# Create the Model object by specifying inputs and outputs\n",
    "model = Model(inputs=inputs, outputs=predictions)\n",
    "\n",
    "# Compile the model: define loss function, optimizer, and evaluation metric\n",
    "model.compile(\n",
    "    loss='sparse_categorical_crossentropy',\n",
    "    optimizer='adam',\n",
    "    metrics=['accuracy']\n",
    ")\n",
    "\n",
    "# Train the model on the training data\n",
    "model.fit(x_train, y_train, batch_size=32, epochs=5, validation_split=0.1)\n",
    "\n",
    "# Evaluate the model on the test set\n",
    "model.evaluate(x_test, y_test)"
   ]
  },
  {
   "cell_type": "markdown",
   "id": "84f63648",
   "metadata": {},
   "source": [
    "### Perchè non si può sempre usare Sequential API: A More Involved Case - Multi-Output Model\n",
    "\n",
    "Suppose we want to train a model that assesses the credit risk of loan applicants. Each applicant is described by 30 tabular features (e.g., age, income, credit score, employment type, etc.).\n",
    "The model should output:\n",
    "- **Default risk** (binary classification): predict whether the applicant is likely to default on the loan.\n",
    "- **Expected loss amount** (regression): estimate how much money the lender stands to lose if the applicant defaults.\n",
    "\n",
    "Why a Multi-Ouput model? \n",
    "- Both outputs depend on the same features. Shared layers allow the model to learn common representations, improving performance.\n",
    "- It is computationally efficient — one model, one inference step.\n",
    "\n",
    "This use case is a great candidate for Keras's **Functional API**, which allows handling multiple outputs (and inputs) within a single model."
   ]
  },
  {
   "cell_type": "code",
   "execution_count": 25,
   "id": "feb3cb3a-006c-4b6f-b034-6db320bdb816",
   "metadata": {},
   "outputs": [],
   "source": [
    "from tensorflow.keras.models import Model\n",
    "\n",
    "input_data = Input(shape=(30,))\n",
    "\n",
    "# shared layers \n",
    "x = Dense(64, activation='relu')(input_data)\n",
    "x = Dense(32, activation='relu')(x)\n",
    "\n",
    "# Output 1: DEFAULT PROBABILITIES (classification)\n",
    "default_output = Dense(1, activation='sigmoid', name='default_risk')(x)\n",
    "\n",
    "# Output 2: EXPECTED LOSS (regression)\n",
    "loss_output = Dense(1, name='expected_loss')(x)\n",
    "\n",
    "model = Model(inputs=input_data, outputs=[default_output, loss_output])"
   ]
  },
  {
   "cell_type": "markdown",
   "id": "58d11abc",
   "metadata": {},
   "source": [
    "### Custom Model Definition\n",
    "\n",
    "By subclassing `tf.keras.Model` and defining the forward pass (`call` method), it is possible to build completely custom models while still leveraging automatic gradient computation and all of Keras's high-level features.\n",
    "\n",
    "Additionally, custom layers can be created by subclassing `tf.keras.layers.Layer`.\n",
    "\n",
    "⚠️ **Note:** While this is the most flexible approach, it is also the most error-prone. It requires careful implementation of the forward pass and model structure.\n",
    "\n",
    "### Example: Custom MNIST Model via Subclassing\n",
    "\n",
    "The example below shows how to create a custom model by subclassing `tf.keras.Model`. This approach gives you full control over the forward pass:\n",
    "\n",
    "- `__init__()` is used to define the model architecture.\n",
    "- `call()` defines how data flows through the layers.\n",
    "\n",
    "The model consists of:\n",
    "- A `Flatten` layer to convert image input into a vector.\n",
    "- A dense hidden layer with ReLU activation.\n",
    "- A dropout layer to reduce overfitting.\n",
    "- An output layer with `sigmoid` activation (suitable for multi-label tasks).\n",
    "\n",
    "This architecture can be compiled, trained, and evaluated like any other Keras model."
   ]
  },
  {
   "cell_type": "code",
   "execution_count": 26,
   "id": "b4a9cf83",
   "metadata": {},
   "outputs": [],
   "source": [
    "class MyModel(tf.keras.Model):\n",
    "    def __init__(self, num_classes=10):\n",
    "        super(MyModel, self).__init__(name='custom_MNIST_model')\n",
    "        self.num_classes = num_classes\n",
    "        \n",
    "        # Define the model layers\n",
    "        self.Flatten = Flatten()                         # Flattens 2D image into 1D vector\n",
    "        self.dense_1 = Dense(512, activation='relu')     # First dense layer with ReLU activation\n",
    "        self.dropout = Dropout(0.2)                      # Dropout for regularization\n",
    "        self.dense_2 = Dense(num_classes, activation='sigmoid')  # Output layer with sigmoid (multi-label classification)\n",
    "\n",
    "    def call(self, inputs): \n",
    "        # Define the FORWARD PASS\n",
    "        x = self.Flatten(inputs)\n",
    "        x = self.dense_1(x)\n",
    "        x = self.dropout(x)\n",
    "        return self.dense_2(x)  # Output logits"
   ]
  },
  {
   "cell_type": "code",
   "execution_count": 27,
   "id": "90f68e57",
   "metadata": {},
   "outputs": [
    {
     "name": "stdout",
     "output_type": "stream",
     "text": [
      "Epoch 1/5\n",
      "\u001b[1m1875/1875\u001b[0m \u001b[32m━━━━━━━━━━━━━━━━━━━━\u001b[0m\u001b[37m\u001b[0m \u001b[1m17s\u001b[0m 9ms/step - accuracy: 0.9000 - loss: 0.3354\n",
      "Epoch 2/5\n",
      "\u001b[1m1875/1875\u001b[0m \u001b[32m━━━━━━━━━━━━━━━━━━━━\u001b[0m\u001b[37m\u001b[0m \u001b[1m16s\u001b[0m 9ms/step - accuracy: 0.9761 - loss: 0.0815\n",
      "Epoch 3/5\n",
      "\u001b[1m1875/1875\u001b[0m \u001b[32m━━━━━━━━━━━━━━━━━━━━\u001b[0m\u001b[37m\u001b[0m \u001b[1m16s\u001b[0m 8ms/step - accuracy: 0.9835 - loss: 0.0512\n",
      "Epoch 4/5\n",
      "\u001b[1m1875/1875\u001b[0m \u001b[32m━━━━━━━━━━━━━━━━━━━━\u001b[0m\u001b[37m\u001b[0m \u001b[1m16s\u001b[0m 8ms/step - accuracy: 0.9894 - loss: 0.0328\n",
      "Epoch 5/5\n",
      "\u001b[1m1875/1875\u001b[0m \u001b[32m━━━━━━━━━━━━━━━━━━━━\u001b[0m\u001b[37m\u001b[0m \u001b[1m16s\u001b[0m 8ms/step - accuracy: 0.9926 - loss: 0.0231\n"
     ]
    },
    {
     "data": {
      "text/plain": [
       "<keras.src.callbacks.history.History at 0x7f8834228090>"
      ]
     },
     "execution_count": 27,
     "metadata": {},
     "output_type": "execute_result"
    }
   ],
   "source": [
    "# Instantiate the custom model class with 10 output classes (e.g., for MNIST)\n",
    "model = MyModel(num_classes=10)\n",
    "\n",
    "# Compile the model by specifying the loss function, optimizer, and evaluation metric\n",
    "# - Loss: sparse_categorical_crossentropy (suitable for integer labels in multi-class classification)\n",
    "# - Optimizer: Adam (adaptive learning rate)\n",
    "# - Metrics: accuracy (to monitor classification performance)\n",
    "model.compile(\n",
    "    loss='sparse_categorical_crossentropy',\n",
    "    optimizer='adam',\n",
    "    metrics=['accuracy']\n",
    ")\n",
    "\n",
    "# Train the model on the training data for 5 epochs\n",
    "model.fit(x_train, y_train, epochs=5)"
   ]
  },
  {
   "cell_type": "code",
   "execution_count": 28,
   "id": "9c24e9f3",
   "metadata": {},
   "outputs": [
    {
     "name": "stdout",
     "output_type": "stream",
     "text": [
      "\u001b[1m313/313\u001b[0m \u001b[32m━━━━━━━━━━━━━━━━━━━━\u001b[0m\u001b[37m\u001b[0m \u001b[1m1s\u001b[0m 3ms/step - accuracy: 0.9783 - loss: 0.0771\n",
      "0.9807999730110168\n"
     ]
    }
   ],
   "source": [
    "# Evaluate the trained model on the test set.\n",
    "# Returns the loss and accuracy values.\n",
    "loss, acc = model.evaluate(x_test, y_test)\n",
    "\n",
    "# Print the test accuracy\n",
    "print(acc)"
   ]
  },
  {
   "cell_type": "markdown",
   "id": "a893b0a1",
   "metadata": {},
   "source": [
    "## [TensorBoard](https://github.com/tensorflow/tensorboard/blob/master/README.md)\n",
    "\n",
    "TensorBoard is a powerful dashboarding tool that helps with:\n",
    "\n",
    "- Training model visualization\n",
    "- Debugging workflows\n",
    "- Selecting and tuning hyperparameters\n",
    "- Inspecting model architecture\n",
    "- Exploring datasets\n",
    "- And more...\n",
    "\n",
    "![TensorBoard Cockpit Example](https://www.tensorflow.org/images/mnist_tensorboard.png)\n",
    "\n",
    "TensorBoard can be configured in many ways. Below, we explore the simplest setup using the `tf.keras.callbacks.TensorBoard` callback.\n",
    "\n",
    "This tool can be used in combination with other callbacks, such as:\n",
    "\n",
    "- Saving model checkpoints (`ModelCheckpoint`)\n",
    "- Implementing early stopping (`EarlyStopping`)"
   ]
  },
  {
   "cell_type": "code",
   "execution_count": 29,
   "id": "ef276d54",
   "metadata": {},
   "outputs": [],
   "source": [
    "# Load the MNIST dataset.\n",
    "# x_train and x_test are images of handwritten digits (28x28 grayscale).\n",
    "# y_train and y_test are the corresponding labels (0 through 9).\n",
    "(x_train, y_train), (x_test, y_test) = tf.keras.datasets.mnist.load_data()\n",
    "\n",
    "# Normalize pixel values to the range [0, 1] by dividing by 255.\n",
    "# This helps the model train faster and improves performance.\n",
    "x_train, x_test = x_train / 255.0, x_test / 255.0"
   ]
  },
  {
   "cell_type": "code",
   "execution_count": 30,
   "id": "d0c7af1a",
   "metadata": {},
   "outputs": [
    {
     "data": {
      "text/plain": [
       "[]"
      ]
     },
     "execution_count": 30,
     "metadata": {},
     "output_type": "execute_result"
    }
   ],
   "source": [
    "# Create the main folder path where models will be saved\n",
    "folder = \"./drive/MyDrive/AA24-25ML/\"\n",
    "\n",
    "# Define a subdirectory specifically for FFNN models with TensorBoard checkpoints\n",
    "destination_folder = os.path.join(folder, 'FFNN_tensorboard/checkpoints')\n",
    "\n",
    "# Create the directory if it doesn't already exist (recursively makes all intermediate directories)\n",
    "if not os.path.exists(destination_folder):\n",
    "    os.makedirs(destination_folder)\n",
    "\n",
    "# List all files and folders in the destination directory to confirm it's accessible\n",
    "os.listdir(destination_folder)"
   ]
  },
  {
   "cell_type": "markdown",
   "id": "c67c8452",
   "metadata": {},
   "source": [
    "### Callbacks Definition\n",
    "\n",
    "First, we used a callback to save the weights of the model at each epoch.  \n",
    "Now, we can define and add another callback to use **TensorBoard**.\n",
    "\n",
    "TensorBoard provides visualizations and metrics that help in monitoring and debugging training in real-time.  \n",
    "It can be used alongside other callbacks such as checkpoint saving or early stopping.\n",
    "\n",
    "We define two callbacks:\n",
    "\n",
    "1. **TensorBoard Callback**: This callback allows us to log training data for visualization in TensorBoard. It includes the following parameters:\n",
    "   - `log_dir`: Directory to store logs.\n",
    "   - `histogram_freq`: The frequency (in epochs) at which to compute activation and weight histograms.\n",
    "   - `write_graph`: Whether to write the model graph to the logs.\n",
    "   - `write_images`: Whether to write the model weights as image summaries.\n",
    "   - `update_freq`: How often to update the logs (can be `'epoch'`, `'batch'`, etc.).\n",
    "\\\\\n",
    "2. **ModelCheckpoint Callback**: This callback saves the model weights at regular intervals (in this case, after each epoch). It includes the following parameters:\n",
    "   - `filepath`: Path to save the model weights, with the format including the epoch number and validation loss.\n",
    "   - `monitor`: The metric to monitor, which is the validation loss here.\n",
    "   - `save_best_only`: Set to `False` to save weights at every epoch, or `True` to save only the best weights according to the monitored metric.\n",
    "   - `save_weights_only`: Set to `True` to save only the weights, not the entire model.\n",
    "   - `mode`: Defines whether the `monitor` value should be maximized or minimized.\n",
    "   - `save_freq`: The frequency at which to save the model weights."
   ]
  },
  {
   "cell_type": "code",
   "execution_count": 31,
   "id": "b18cb990",
   "metadata": {},
   "outputs": [
    {
     "name": "stdout",
     "output_type": "stream",
     "text": [
      "Epoch 1/10\n",
      "\u001b[1m1688/1688\u001b[0m \u001b[32m━━━━━━━━━━━━━━━━━━━━\u001b[0m\u001b[37m\u001b[0m \u001b[1m19s\u001b[0m 10ms/step - accuracy: 0.8876 - loss: 0.3819 - val_accuracy: 0.9633 - val_loss: 0.1242\n",
      "Epoch 2/10\n",
      "\u001b[1m1688/1688\u001b[0m \u001b[32m━━━━━━━━━━━━━━━━━━━━\u001b[0m\u001b[37m\u001b[0m \u001b[1m17s\u001b[0m 10ms/step - accuracy: 0.9696 - loss: 0.1006 - val_accuracy: 0.9720 - val_loss: 0.0909\n",
      "Epoch 3/10\n",
      "\u001b[1m1688/1688\u001b[0m \u001b[32m━━━━━━━━━━━━━━━━━━━━\u001b[0m\u001b[37m\u001b[0m \u001b[1m17s\u001b[0m 10ms/step - accuracy: 0.9776 - loss: 0.0700 - val_accuracy: 0.9810 - val_loss: 0.0657\n",
      "Epoch 4/10\n",
      "\u001b[1m1688/1688\u001b[0m \u001b[32m━━━━━━━━━━━━━━━━━━━━\u001b[0m\u001b[37m\u001b[0m \u001b[1m17s\u001b[0m 10ms/step - accuracy: 0.9843 - loss: 0.0496 - val_accuracy: 0.9815 - val_loss: 0.0694\n",
      "Epoch 5/10\n",
      "\u001b[1m1688/1688\u001b[0m \u001b[32m━━━━━━━━━━━━━━━━━━━━\u001b[0m\u001b[37m\u001b[0m \u001b[1m17s\u001b[0m 10ms/step - accuracy: 0.9874 - loss: 0.0405 - val_accuracy: 0.9807 - val_loss: 0.0707\n",
      "Epoch 6/10\n",
      "\u001b[1m1688/1688\u001b[0m \u001b[32m━━━━━━━━━━━━━━━━━━━━\u001b[0m\u001b[37m\u001b[0m \u001b[1m17s\u001b[0m 10ms/step - accuracy: 0.9885 - loss: 0.0356 - val_accuracy: 0.9813 - val_loss: 0.0774\n",
      "Epoch 7/10\n",
      "\u001b[1m1688/1688\u001b[0m \u001b[32m━━━━━━━━━━━━━━━━━━━━\u001b[0m\u001b[37m\u001b[0m \u001b[1m17s\u001b[0m 10ms/step - accuracy: 0.9895 - loss: 0.0304 - val_accuracy: 0.9822 - val_loss: 0.0776\n",
      "Epoch 8/10\n",
      "\u001b[1m1688/1688\u001b[0m \u001b[32m━━━━━━━━━━━━━━━━━━━━\u001b[0m\u001b[37m\u001b[0m \u001b[1m18s\u001b[0m 10ms/step - accuracy: 0.9912 - loss: 0.0259 - val_accuracy: 0.9835 - val_loss: 0.0611\n",
      "Epoch 9/10\n",
      "\u001b[1m1688/1688\u001b[0m \u001b[32m━━━━━━━━━━━━━━━━━━━━\u001b[0m\u001b[37m\u001b[0m \u001b[1m18s\u001b[0m 11ms/step - accuracy: 0.9922 - loss: 0.0221 - val_accuracy: 0.9838 - val_loss: 0.0717\n",
      "Epoch 10/10\n",
      "\u001b[1m1688/1688\u001b[0m \u001b[32m━━━━━━━━━━━━━━━━━━━━\u001b[0m\u001b[37m\u001b[0m \u001b[1m18s\u001b[0m 11ms/step - accuracy: 0.9927 - loss: 0.0220 - val_accuracy: 0.9835 - val_loss: 0.0744\n"
     ]
    }
   ],
   "source": [
    "callbacks = [\n",
    "            tf.keras.callbacks.TensorBoard(     # callback for TensorBoard\n",
    "                log_dir='tb_logs',\n",
    "                histogram_freq=1,\n",
    "                write_graph=True,\n",
    "                write_images=False,\n",
    "                update_freq='epoch'\n",
    "                ),\n",
    "            tf.keras.callbacks.ModelCheckpoint(\n",
    "                filepath= destination_folder+'/weights_{epoch:02d}-{val_loss:.2f}.weights.h5',\n",
    "                monitor='val_loss',\n",
    "                verbose=0,\n",
    "                save_best_only=False,   # this would save only the best model wrt validation loss\n",
    "                save_weights_only=True, \n",
    "                mode='auto',   \n",
    "                save_freq='epoch', # save every epoch\n",
    "                )\n",
    "            ]\n",
    "\n",
    "\n",
    "# Fit the model with the defined callbacks\n",
    "model = create_model(compile_model=True)  # Create the model (function `create_model` must define the model architecture)\n",
    "history = model.fit(\n",
    "    x_train,  # Training data\n",
    "    y_train,  # Training labels\n",
    "    batch_size=32,  # Number of samples per gradient update\n",
    "    epochs=10,  # Number of epochs to train the model\n",
    "    validation_split=0.1,  # Use 10% of the data for validation\n",
    "    callbacks=callbacks  # Pass the defined callbacks\n",
    ")"
   ]
  },
  {
   "cell_type": "code",
   "execution_count": 32,
   "id": "aa762920",
   "metadata": {},
   "outputs": [
    {
     "name": "stdout",
     "output_type": "stream",
     "text": [
      "\u001b[1m313/313\u001b[0m \u001b[32m━━━━━━━━━━━━━━━━━━━━\u001b[0m\u001b[37m\u001b[0m \u001b[1m1s\u001b[0m 4ms/step - accuracy: 0.9782 - loss: 0.0848\n",
      "Test accuracy: 0.9822999835014343\n"
     ]
    }
   ],
   "source": [
    "# evaluate model \n",
    "[test_loss, test_accuracy] = model.evaluate(x_test,y_test)\n",
    "print('Test accuracy: {}'.format(test_accuracy))"
   ]
  },
  {
   "cell_type": "markdown",
   "id": "2cc192da",
   "metadata": {},
   "source": [
    "**Visualize tensorboard**  \n",
    "You can launch tensorboard from terminal and then open `localhost:6006` in the browser."
   ]
  },
  {
   "cell_type": "code",
   "execution_count": 33,
   "id": "3a5d02e0",
   "metadata": {},
   "outputs": [
    {
     "data": {
      "text/html": [
       "\n",
       "      <iframe id=\"tensorboard-frame-c111ec99cb4d5088\" width=\"100%\" height=\"800\" frameborder=\"0\">\n",
       "      </iframe>\n",
       "      <script>\n",
       "        (function() {\n",
       "          const frame = document.getElementById(\"tensorboard-frame-c111ec99cb4d5088\");\n",
       "          const url = new URL(\"/\", window.location);\n",
       "          const port = 6006;\n",
       "          if (port) {\n",
       "            url.port = port;\n",
       "          }\n",
       "          frame.src = url;\n",
       "        })();\n",
       "      </script>\n",
       "    "
      ],
      "text/plain": [
       "<IPython.core.display.HTML object>"
      ]
     },
     "metadata": {},
     "output_type": "display_data"
    }
   ],
   "source": [
    "# launch tensorboard from jupyter\n",
    "%load_ext tensorboard\n",
    "%tensorboard --logdir tb_logs"
   ]
  },
  {
   "cell_type": "code",
   "execution_count": 34,
   "id": "8ca120ee",
   "metadata": {},
   "outputs": [
    {
     "name": "stdout",
     "output_type": "stream",
     "text": [
      "Known TensorBoard instances:\n",
      "  - port 6006: logdir tb_logs (started 0:00:07 ago; pid 11863)\n",
      "Selecting TensorBoard with logdir tb_logs (started 0:00:07 ago; port 6006, pid 11863).\n"
     ]
    },
    {
     "data": {
      "text/html": [
       "\n",
       "      <iframe id=\"tensorboard-frame-beb8ce2ea3925934\" width=\"100%\" height=\"1000\" frameborder=\"0\">\n",
       "      </iframe>\n",
       "      <script>\n",
       "        (function() {\n",
       "          const frame = document.getElementById(\"tensorboard-frame-beb8ce2ea3925934\");\n",
       "          const url = new URL(\"/\", window.location);\n",
       "          const port = 6006;\n",
       "          if (port) {\n",
       "            url.port = port;\n",
       "          }\n",
       "          frame.src = url;\n",
       "        })();\n",
       "      </script>\n",
       "    "
      ],
      "text/plain": [
       "<IPython.core.display.HTML object>"
      ]
     },
     "metadata": {},
     "output_type": "display_data"
    }
   ],
   "source": [
    "# using API instead\n",
    "from tensorboard import notebook\n",
    "notebook.list() # View open TensorBoard instances\n",
    "\n",
    "# # Control TensorBoard display. If no port is provided,\n",
    "# # the most recently launched TensorBoard is used\n",
    "notebook.display(height=1000)\n"
   ]
  },
  {
   "cell_type": "markdown",
   "id": "641f7eee-0109-4731-b432-4f9d369e018e",
   "metadata": {},
   "source": [
    "## Regularization\n",
    "\n",
    "There are many regularization methodologies that can be useful in training Neural Networks:\n",
    "\n",
    "- **L1/L2 Regularization**: These add penalty terms to the loss function based on the weights of the model. L1 regularization (LASSO) encourages sparsity, while L2 (Ridge) regularization penalizes large weights.\n",
    "- **Dropout**: A technique where during training, random neurons are dropped out, i.e., set to zero, with a certain probability. This helps prevent overfitting by ensuring the model doesn't rely too heavily on any particular neuron.\n",
    "- **Early Stopping**: A technique where training stops if the validation loss stops improving for a specified number of epochs, helping to prevent overfitting.\n",
    "- **Batch Normalization**: This normalizes the output of each layer so that it has a mean of 0 and a standard deviation of 1. This helps speed up training and can improve performance.\n",
    "\n",
    "Let's see some of these regularization techniques in practice. We'll focus on a simple Feed-Forward Neural Network (FFNN) architecture for the MNIST classification problem."
   ]
  },
  {
   "cell_type": "code",
   "execution_count": 35,
   "id": "b0a0e07e-98be-4cfe-97ca-70292e46ae24",
   "metadata": {},
   "outputs": [],
   "source": [
    "# Load the MNIST dataset from TensorFlow\n",
    "(x_train, y_train), (x_test, y_test) = tf.keras.datasets.mnist.load_data()\n",
    "\n",
    "# Normalize the pixel values from [0, 255] to [0, 1]\n",
    "# This is done by dividing the image pixel values by 255.0\n",
    "x_train, x_test = x_train / 255.0, x_test / 255.0"
   ]
  },
  {
   "cell_type": "code",
   "execution_count": 36,
   "id": "2372ff3e-d3e8-435e-a5c0-6bd96abfce7a",
   "metadata": {},
   "outputs": [],
   "source": [
    "log_dir = destination_folder + \"/04_Regularization/reg_example_logs\"\n",
    "if not os.path.exists(log_dir):\n",
    "    os.makedirs(log_dir)"
   ]
  },
  {
   "cell_type": "code",
   "execution_count": 37,
   "id": "d1f711f8-c14c-4397-8b4b-c9afa18138cf",
   "metadata": {},
   "outputs": [],
   "source": [
    "# Define a Sequential model using Keras\n",
    "model = Sequential(\n",
    "    [\n",
    "        Input(shape=(28, 28)),  # Input layer, specifying the shape of the input (28x28 pixels)\n",
    "        Flatten(),              # Flatten the 2D input (28x28) into a 1D vector (784 elements)\n",
    "        Dense(512, activation='relu'),  # Fully connected layer with 512 neurons and ReLU activation\n",
    "        Dense(10, activation='softmax') # Output layer with 10 neurons (one for each class) and softmax activation for multi-class classification\n",
    "    ]\n",
    ")\n",
    "\n",
    "# Compile the model: specify loss function, optimizer, and evaluation metric\n",
    "model.compile(\n",
    "    loss='sparse_categorical_crossentropy',  # Loss function for multi-class classification\n",
    "    optimizer='adam',                        # Adam optimizer for efficient training\n",
    "    metrics=['accuracy'],                    # Use accuracy as the evaluation metric during training and testing\n",
    ")"
   ]
  },
  {
   "cell_type": "markdown",
   "id": "4e3e53a9-2206-426e-8174-eddd34b51dab",
   "metadata": {},
   "source": [
    "### L1 Regularization\n",
    "When defining a dense layer, we can specify the type of regularization to apply. In the case of **L1 regularization**, we add a penalty to the loss function based on the absolute values of the weights and biases. This penalty encourages sparsity by pushing some of the weights to zero, which helps to prevent overfitting by reducing model complexity.\n",
    "\n",
    "In Keras, you can specify L1 regularization using the `kernel_regularizer` and `bias_regularizer` parameters in the `Dense` layer. The **lambda** parameter (taking the value of `0.01` in the example below) controls the strength of the regularization."
   ]
  },
  {
   "cell_type": "code",
   "execution_count": null,
   "id": "920da56b-6b0d-4139-964b-602556951c85",
   "metadata": {},
   "outputs": [],
   "source": [
    "# Define a Sequential model with L1 regularization\n",
    "model_l1 = Sequential(\n",
    "    [\n",
    "        Input(shape=(28, 28)),  # Input layer with shape (28, 28), representing MNIST images\n",
    "        Flatten(),              # Flatten the 2D image (28x28) into a 1D vector (784 elements)\n",
    "        \n",
    "        # First Dense layer with L1 regularization on both weights and biases\n",
    "        Dense(512, activation='relu',  # 512 neurons in the layer with ReLU activation\n",
    "              kernel_regularizer=tf.keras.regularizers.l1(0.01),  # Apply L1 regularization to weights (0.01 is the regularization strength)\n",
    "              bias_regularizer=tf.keras.regularizers.l1(0.01)),   # Apply L1 regularization to biases\n",
    "\n",
    "        # Second Dense layer (output layer) with L1 regularization\n",
    "        Dense(10, activation='softmax',  # Output layer with 10 neurons (for the 10 classes in MNIST)\n",
    "              kernel_regularizer=tf.keras.regularizers.l1(0.01),  # Apply L1 regularization to weights\n",
    "              bias_regularizer=tf.keras.regularizers.l1(0.01))    # Apply L1 regularization to biases\n",
    "    ]\n",
    ")\n",
    "\n",
    "# Compile the model: specify loss function, optimizer, and evaluation metric\n",
    "model_l1.compile(\n",
    "    loss='sparse_categorical_crossentropy',  # Loss function for multi-class classification (labels are integers)\n",
    "    optimizer='adam',                        # Adam optimizer for efficient gradient descent\n",
    "    metrics=['accuracy'],                    # Track accuracy as the evaluation metric during training and testing\n",
    ")"
   ]
  },
  {
   "cell_type": "markdown",
   "id": "d323ddf6-4496-4a3c-b468-05fa08497a22",
   "metadata": {},
   "source": [
    "### L2 Regularization\n",
    "When defining a dense layer, we can specify the type of regularization to apply. In the case of **L2 regularization**, we add a penalty to the loss function based on the squared values of the weights and biases. This penalty encourages smaller weights, which helps to prevent overfitting by reducing the complexity of the model.\n",
    "\n",
    "In Keras, you can specify L2 regularization using the `kernel_regularizer` and `bias_regularizer` parameters in the `Dense` layer. The **lambda** parameter (taking the value of `0.01` in the example below) controls the strength of the regularization."
   ]
  },
  {
   "cell_type": "code",
   "execution_count": null,
   "id": "a6231c45-ede1-452d-861e-2688a54225e6",
   "metadata": {},
   "outputs": [],
   "source": [
    "# Create a Sequential model\n",
    "model_l2 = Sequential(\n",
    "    [\n",
    "        # Input layer: shape of each input is (28, 28), corresponding to the MNIST image size\n",
    "        Input(shape=(28, 28)), \n",
    "        \n",
    "        # Flatten the 2D input images into 1D vector (28*28 = 784 features)\n",
    "        Flatten(),\n",
    "        \n",
    "        # First Dense layer:\n",
    "        # 512 neurons, ReLU activation, L2 regularization applied on weights and biases\n",
    "        # L2 regularization with lambda = 0.01 on kernel (weights) and bias\n",
    "        Dense(512, activation='relu',\n",
    "              kernel_regularizer=tf.keras.regularizers.l2(0.01),   # L2 regularization on kernel (weights)\n",
    "              bias_regularizer=tf.keras.regularizers.l2(0.01)),    # L2 regularization on bias\n",
    "        \n",
    "        # Second Dense layer (output layer):\n",
    "        # 10 neurons for classification into 10 categories (digits 0-9), softmax activation\n",
    "        # L2 regularization applied on weights and biases\n",
    "        Dense(10, activation='softmax',\n",
    "              kernel_regularizer=tf.keras.regularizers.l2(0.01),   # L2 regularization on kernel (weights)\n",
    "              bias_regularizer=tf.keras.regularizers.l2(0.01))     # L2 regularization on bias\n",
    "    ])\n",
    "\n",
    "# The compile step specifies the model's training configuration\n",
    "# We use sparse_categorical_crossentropy for multi-class classification and Adam optimizer\n",
    "model_l2.compile(\n",
    "    loss='sparse_categorical_crossentropy',  # Loss function for multi-class classification (integer labels)\n",
    "    optimizer='adam',                        # Adam optimizer\n",
    "    metrics=['accuracy'],                    # We will track accuracy during training and evaluation\n",
    ")"
   ]
  },
  {
   "cell_type": "markdown",
   "id": "cf45b0bf-5abb-423d-914c-3913c4230e5e",
   "metadata": {},
   "source": [
    "### Dropout\n",
    "\n",
    "**Dropout** is a regularization technique used to prevent overfitting in neural networks. During training, it randomly \"drops\" (sets to zero) a fraction of the input units in a layer at each update step. This prevents the network from becoming overly reliant on any single feature or neuron, encouraging the network to learn more robust and generalized representations.\n",
    "\n",
    "In Keras, dropout is applied using the `Dropout` layer. The fraction of dropped units is controlled by the parameter `rate`, where a value of 0.5 means 50% of the units are dropped during training. Dropout is only active during training and does not affect the model's behavior during inference."
   ]
  },
  {
   "cell_type": "code",
   "execution_count": null,
   "id": "c2b40ec0-aa6f-4a59-ba57-e0a3a4b93971",
   "metadata": {},
   "outputs": [],
   "source": [
    "# Create a Sequential model\n",
    "model_dropout = Sequential(\n",
    "    [\n",
    "        # Input layer: shape of each input is (28, 28), corresponding to the MNIST image size\n",
    "        Input(shape=(28, 28)), \n",
    "        \n",
    "        # Flatten the 2D input images into a 1D vector (28*28 = 784 features)\n",
    "        Flatten(),\n",
    "        \n",
    "        # First Dense layer:\n",
    "        # 512 neurons, ReLU activation function\n",
    "        # This layer learns a dense representation of the input features\n",
    "        Dense(512, activation='relu'),\n",
    "        \n",
    "        # Dropout layer: randomly sets 50% of the input units to 0 during training\n",
    "        # This helps prevent overfitting by reducing reliance on specific neurons\n",
    "        Dropout(0.5),\n",
    "        \n",
    "        # Second Dense layer (output layer):\n",
    "        # 10 neurons for classification into 10 categories (digits 0-9), softmax activation\n",
    "        # This layer outputs probabilities for each class\n",
    "        Dense(10, activation='softmax')\n",
    "    ])\n",
    "\n",
    "# The compile step specifies the model's training configuration\n",
    "# We use sparse_categorical_crossentropy for multi-class classification and Adam optimizer\n",
    "model_dropout.compile(\n",
    "    loss='sparse_categorical_crossentropy',  # Loss function for multi-class classification (integer labels)\n",
    "    optimizer='adam',                        # Adam optimizer\n",
    "    metrics=['accuracy'],                    # We will track accuracy during training and evaluation\n",
    ")"
   ]
  },
  {
   "cell_type": "markdown",
   "id": "a6efa6a8-143e-4a8d-b52b-3dbe5bd45438",
   "metadata": {},
   "source": [
    "### Batch normalization\n",
    "### Batch Normalization (Ioffe and Szegedy, 2014)\n",
    "\n",
    "**Batch normalization** normalizes the activations of the previous layer for each batch. It applies a transformation to maintain the mean activation close to 0 and the activation standard deviation close to 1. This helps to stabilize and speed up the training process by reducing internal covariate shift.\n",
    "\n",
    "This layer is particularly useful in deep networks to improve performance and training speed.\n"
   ]
  },
  {
   "cell_type": "code",
   "execution_count": null,
   "id": "10d956a6-bd90-4687-84d2-1b7c705b3d76",
   "metadata": {},
   "outputs": [],
   "source": [
    "from tensorflow.keras.layers import BatchNormalization\n",
    "\n",
    "# Defining the model with BatchNormalization layers\n",
    "model_bn = Sequential(\n",
    "    [\n",
    "        Input(shape=(28, 28)),  # Input layer, 28x28 pixel image\n",
    "        Flatten(),  # Flatten the 2D image into a 1D vector\n",
    "        BatchNormalization(),  # Apply BatchNormalization to the input\n",
    "        Dense(512, activation='relu'),  # Fully connected layer with ReLU activation\n",
    "        BatchNormalization(),  # Apply BatchNormalization after the dense layer\n",
    "        Dense(10, activation='softmax')  # Output layer with softmax activation for multi-class classification\n",
    "    ])\n",
    "\n",
    "# The compile step specifies the training configuration.\n",
    "# The loss function used is sparse categorical cross-entropy since the labels are integers.\n",
    "model_bn.compile(loss='sparse_categorical_crossentropy',\n",
    "                  optimizer='adam',  # Adam optimizer for better training speed\n",
    "                  metrics=['accuracy'],  # Track accuracy during training\n",
    "                  )"
   ]
  },
  {
   "cell_type": "markdown",
   "id": "f10233d0-fe04-4b62-b6e9-4c929812cc90",
   "metadata": {},
   "source": [
    "### Early Stopping\n",
    "\n",
    "**Early stopping** is a technique used during training to prevent overfitting by monitoring the performance of the model on a validation dataset. When the monitored performance metric (such as validation loss or accuracy) stops improving for a specified number of epochs (called **patience**), training is halted.\n",
    "\n",
    "This technique helps to stop training before the model starts to overfit, saving computational resources and improving the model's generalization ability.\n",
    "\n",
    "#### Key Parameters:\n",
    "- **monitor**: The metric to monitor (e.g., `val_loss`, `val_accuracy`).\n",
    "- **patience**: The number of epochs with no improvement after which training will be stopped.\n",
    "- **restore_best_weights**: If `True`, the model weights from the epoch with the best performance will be restored.\n"
   ]
  },
  {
   "cell_type": "code",
   "execution_count": null,
   "id": "8387ceb6-f22e-4ce6-b4b7-f7fdd755f63c",
   "metadata": {},
   "outputs": [],
   "source": [
    "# Early stopping callback definition\n",
    "# Monitor the validation loss and stop training if it doesn't improve for 2 consecutive epochs\n",
    "ESCallback = tf.keras.callbacks.EarlyStopping(monitor='val_loss', patience=2)\n",
    "\n",
    "# Define a simple Sequential model with fully connected layers\n",
    "model_es = Sequential(\n",
    "    [\n",
    "        Input(shape=(28, 28)),  # Input layer for 28x28 pixel images\n",
    "        Flatten(),  # Flatten the 2D input image into a 1D vector\n",
    "        Dense(512, activation='relu'),  # Fully connected layer with 512 units and ReLU activation\n",
    "        Dense(10, activation='softmax')  # Output layer with 10 units (one for each class) and softmax activation\n",
    "    ])\n",
    "\n",
    "# The compile step specifies the training configuration.\n",
    "# Using sparse categorical cross-entropy as the loss function because the labels are integers\n",
    "# Adam optimizer is used for faster convergence\n",
    "# Accuracy is tracked as a metric during training\n",
    "model_es.compile(loss='sparse_categorical_crossentropy',\n",
    "                  optimizer='adam',  # Adam optimizer for faster and more efficient training\n",
    "                  metrics=['accuracy'],  # Track accuracy during training\n",
    "                  )"
   ]
  },
  {
   "cell_type": "markdown",
   "id": "895d8010-1562-4906-a224-fadd6e9b7317",
   "metadata": {},
   "source": [
    "### Training"
   ]
  },
  {
   "cell_type": "code",
   "execution_count": null,
   "id": "b95076a5-cb6c-483d-a220-1bccea400249",
   "metadata": {},
   "outputs": [],
   "source": [
    "# Training the model without regularization, with TensorBoard logging enabled for visualization\n",
    "history = model.fit(x_train, y_train, batch_size=32, epochs=10,\n",
    "                    validation_split=0.1,  # Use 10% of the training data for validation\n",
    "                    callbacks=[ \n",
    "                        tf.keras.callbacks.TensorBoard(\n",
    "                            log_dir=log_dir + r'\\no_regularization',  # Directory for TensorBoard logs\n",
    "                            histogram_freq=1,  # Enable histogram computation for activations\n",
    "                            write_graph=True,  # Save the graph for visualization\n",
    "                            write_images=False,  # Do not save images of the model weights\n",
    "                            update_freq='epoch'  # Update logs at each epoch\n",
    "                        )\n",
    "                    ], verbose=1)  # Show training progress\n",
    "\n",
    "# Training the model with L1 regularization and TensorBoard logging enabled for visualization\n",
    "history_l1 = model_l1.fit(x_train, y_train, batch_size=32, epochs=10,\n",
    "                          validation_split=0.1,\n",
    "                          callbacks=[\n",
    "                              tf.keras.callbacks.TensorBoard(\n",
    "                                  log_dir=log_dir + r'\\l1_regularization',  # Directory for TensorBoard logs\n",
    "                                  histogram_freq=1,\n",
    "                                  write_graph=True,\n",
    "                                  write_images=False,\n",
    "                                  update_freq='epoch'\n",
    "                              )\n",
    "                          ], verbose=1)\n",
    "\n",
    "# Training the model with L2 regularization and TensorBoard logging enabled for visualization\n",
    "history_l2 = model_l2.fit(x_train, y_train, batch_size=32, epochs=10,\n",
    "                          validation_split=0.1,\n",
    "                          callbacks=[\n",
    "                              tf.keras.callbacks.TensorBoard(\n",
    "                                  log_dir=log_dir + r'\\l2_regularization',  # Directory for TensorBoard logs\n",
    "                                  histogram_freq=1,\n",
    "                                  write_graph=True,\n",
    "                                  write_images=False,\n",
    "                                  update_freq='epoch'\n",
    "                              )\n",
    "                          ], verbose=1)\n",
    "\n",
    "# Training the model with Dropout regularization and TensorBoard logging enabled for visualization\n",
    "history_dropout = model_dropout.fit(x_train, y_train, batch_size=32, epochs=10,\n",
    "                                    validation_split=0.1,\n",
    "                                    callbacks=[\n",
    "                                        tf.keras.callbacks.TensorBoard(\n",
    "                                            log_dir=log_dir + r'\\dropout_regularization',  # Directory for TensorBoard logs\n",
    "                                            histogram_freq=1,\n",
    "                                            write_graph=True,\n",
    "                                            write_images=False,\n",
    "                                            update_freq='epoch'\n",
    "                                        )\n",
    "                                    ], verbose=1)\n",
    "\n",
    "# Training the model with Batch Normalization regularization and TensorBoard logging enabled for visualization\n",
    "history_bn = model_bn.fit(x_train, y_train, batch_size=32, epochs=10,\n",
    "                          validation_split=0.1,\n",
    "                          callbacks=[\n",
    "                              tf.keras.callbacks.TensorBoard(\n",
    "                                  log_dir=log_dir + r'\\batch_norm_regularization',  # Directory for TensorBoard logs\n",
    "                                  histogram_freq=1,\n",
    "                                  write_graph=True,\n",
    "                                  write_images=False,\n",
    "                                  update_freq='epoch'\n",
    "                              )\n",
    "                          ], verbose=1)\n",
    "\n",
    "# Training the model with Early Stopping regularization and TensorBoard logging enabled for visualization\n",
    "history_es = model.fit(x_train, y_train, batch_size=32, epochs=10,\n",
    "                       validation_split=0.1,\n",
    "                       callbacks=[\n",
    "                           tf.keras.callbacks.TensorBoard(\n",
    "                               log_dir=log_dir + r'\\early_stop_regularization',  # Directory for TensorBoard logs\n",
    "                               histogram_freq=1,\n",
    "                               write_graph=True,\n",
    "                               write_images=False,\n",
    "                               update_freq='epoch'\n",
    "                           ),\n",
    "                           ESCallback  # EarlyStopping callback to monitor validation loss\n",
    "                       ], verbose=1)"
   ]
  },
  {
   "cell_type": "markdown",
   "id": "c2f17eec-f6a0-40f5-8412-cfd7ad39911f",
   "metadata": {},
   "source": [
    "### Evaluation"
   ]
  },
  {
   "cell_type": "code",
   "execution_count": null,
   "id": "d0a26ea9-6f02-4b91-a76f-0b140f92ea80",
   "metadata": {},
   "outputs": [],
   "source": [
    "# Evaluate the models on the test data and store the test accuracies for each model\n",
    "_, test_accuracy = model.evaluate(x_test, y_test)  # Model with no regularization\n",
    "_, test_accuracy_l1 = model_l1.evaluate(x_test, y_test)  # Model with L1 regularization\n",
    "_, test_accuracy_l2 = model_l2.evaluate(x_test, y_test)  # Model with L2 regularization\n",
    "_, test_accuracy_dropout = model_dropout.evaluate(x_test, y_test)  # Model with Dropout regularization\n",
    "_, test_accuracy_bn = model_bn.evaluate(x_test, y_test)  # Model with Batch Normalization regularization\n",
    "_, test_accuracy_es = model_es.evaluate(x_test, y_test)  # Model with Early Stopping regularization\n",
    "\n",
    "# Print the test accuracies for each model with proper formatting\n",
    "print('{:<30}:\\t Test accuracy: {}'.format('no regularization', test_accuracy))\n",
    "print('{:<30}:\\t Test accuracy: {}'.format('l1 regularization', test_accuracy_l1))\n",
    "print('{:<30}:\\t Test accuracy: {}'.format('l2 regularization', test_accuracy_l2))\n",
    "print('{:<30}:\\t Test accuracy: {}'.format('dropout regularization', test_accuracy_dropout))\n",
    "print('{:<30}:\\t Test accuracy: {}'.format('batch norm regularization', test_accuracy_bn))\n",
    "print('{:<30}:\\t Test accuracy: {}'.format('early stopping regularization', test_accuracy_es))"
   ]
  }
 ],
 "metadata": {
  "kernelspec": {
   "display_name": "Python 3 (ipykernel)",
   "language": "python",
   "name": "python3"
  },
  "language_info": {
   "codemirror_mode": {
    "name": "ipython",
    "version": 3
   },
   "file_extension": ".py",
   "mimetype": "text/x-python",
   "name": "python",
   "nbconvert_exporter": "python",
   "pygments_lexer": "ipython3",
   "version": "3.11.6"
  }
 },
 "nbformat": 4,
 "nbformat_minor": 5
}
