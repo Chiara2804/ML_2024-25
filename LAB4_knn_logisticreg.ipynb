{
  "cells": [
    {
      "cell_type": "markdown",
      "metadata": {
        "id": "x3_LBcP2MY0S"
      },
      "source": [
        "**ML COURSE 2024-2025**\n",
        "# LAB4: Classification with KNN and Logistic Regression\n",
        "\n",
        "In this notebook you will implement K-Nearest Neighbors and Logistic Regression for classification tasks.\n",
        "\n",
        "#### Summary\n"
      ]
    },
    {
      "cell_type": "code",
      "execution_count": 1,
      "metadata": {
        "colab": {
          "base_uri": "https://localhost:8080/"
        },
        "id": "6BNEyQp7Mbh7",
        "outputId": "ddb807af-584d-4c61-89ef-f3a706e88cdd"
      },
      "outputs": [
        {
          "name": "stderr",
          "output_type": "stream",
          "text": [
            "Cloning into 'ML_2024-25'...\n"
          ]
        }
      ],
      "source": [
        "!git clone https://github.com/Chiara2804/ML_2024-25.git"
      ]
    },
    {
      "cell_type": "code",
      "execution_count": 2,
      "metadata": {
        "id": "wxEdRIz4MY0U"
      },
      "outputs": [],
      "source": [
        "import pandas as pd\n",
        "import numpy as np\n",
        "import matplotlib.pyplot as plt\n",
        "import seaborn as sns\n",
        "import random"
      ]
    },
    {
      "cell_type": "markdown",
      "metadata": {
        "id": "EVnnoa3uMY0V"
      },
      "source": [
        "| Task                   | Target                 | Example                     |\n",
        "|------------------------|-----------------------|-----------------------------|\n",
        "| Regression        | Continuous Values     | `{3.2, 5.7, 8.9}`            |\n",
        "| Classification     | Unordered/Ordered Categories  | `{🐶 Dog, 🐱 Cat, 🐰 Rabbit}`        |\n",
        "\n"
      ]
    },
    {
      "cell_type": "markdown",
      "metadata": {
        "id": "3xPTzBZRMY0W"
      },
      "source": [
        "## Classification metrics"
      ]
    },
    {
      "cell_type": "markdown",
      "metadata": {
        "id": "UTJSZXuoMY0W"
      },
      "source": [
        "<span style=\"color: #4abde8;\">**Accuracy / classification rate**</span>\n",
        "$$\n",
        "\\text{Accuracy} = \\frac{\\text{number of correct predictions}}{\\text{total number of predictions}}\n",
        "$$"
      ]
    },
    {
      "cell_type": "code",
      "execution_count": 3,
      "metadata": {
        "colab": {
          "base_uri": "https://localhost:8080/"
        },
        "id": "usm9i-2MMY0X",
        "outputId": "95039ea2-95e8-456e-bf77-17984ec3e4d8"
      },
      "outputs": [
        {
          "name": "stdout",
          "output_type": "stream",
          "text": [
            "0.6666666666666666\n"
          ]
        }
      ],
      "source": [
        "def accuracy(y_true, y_pred):\n",
        "    \"\"\"\n",
        "    Args:\n",
        "    y_true: array of true labels. Shape (n_samples, ) or (n_samples, 1)\n",
        "    y_pred: array of predicted labels. Shape (n_samples, ) or (n_samples, 1)\n",
        "    \"\"\"\n",
        "    total_predictions = len(y_true)\n",
        "    is_correct = (y_true == y_pred)\n",
        "    n_correct_pred = np.sum(is_correct)\n",
        "    accuracy = n_correct_pred / total_predictions\n",
        "    return accuracy\n",
        "\n",
        "\n",
        "true_labels = np.array(['cat', 'dog', 'cat'])\n",
        "predicted_labels = np.array(['cat', 'dog', 'dog'])\n",
        "acc = accuracy(true_labels, predicted_labels)\n",
        "print(acc)"
      ]
    },
    {
      "cell_type": "markdown",
      "metadata": {
        "id": "CV0g_40pMY0X"
      },
      "source": [
        "<span style=\"color: #1663aa;\">**Confusion Matrix**</span>"
      ]
    },
    {
      "cell_type": "code",
      "execution_count": 4,
      "metadata": {
        "colab": {
          "base_uri": "https://localhost:8080/",
          "height": 472
        },
        "id": "R4O_8excMY0Y",
        "outputId": "07321a47-4f95-4d5a-f6cb-b8369ffb7757"
      },
      "outputs": [
        {
          "data": {
            "image/png": "[encoded data removed]",
            "text/plain": [
              "<Figure size 640x480 with 2 Axes>"
            ]
          },
          "metadata": {},
          "output_type": "display_data"
        }
      ],
      "source": [
        "def get_confusion_matrix(y_true, y_pred, classes):\n",
        "    \"\"\"\n",
        "    Args:\n",
        "    y_true: array of true labels. Shape (n_samples, ) or (n_samples, 1)\n",
        "    y_pred: array of predicted labels. Shape (n_samples, ) or (n_samples, 1)\n",
        "    classes: list of class labels\n",
        "    \"\"\"\n",
        "    n_classes = len(classes)\n",
        "    confusion_matrix = np.zeros((n_classes, n_classes))\n",
        "    for i in range(n_classes):\n",
        "        for j in range(n_classes):\n",
        "            confusion_matrix[i, j] = np.sum((y_true == classes[i]) & (y_pred == classes[j]))\n",
        "    return confusion_matrix\n",
        "\n",
        "\n",
        "classes = ['cat', 'dog', 'rabbit']\n",
        "true_labels      = np.array(['cat', 'cat', 'cat', 'cat', 'dog', 'dog', 'dog', 'rabbit', 'rabbit' ])\n",
        "predicted_labels = np.array(['cat', 'cat', 'cat', 'dog', 'dog', 'dog', 'cat', 'rabbit', 'dog'])\n",
        "\n",
        "confusion_matrix = get_confusion_matrix(true_labels, predicted_labels, classes)\n",
        "sns.heatmap(confusion_matrix, annot=True, xticklabels=classes, yticklabels=classes, cmap='Blues')\n",
        "plt.xlabel('Predicted labels')\n",
        "plt.ylabel('True labels')\n",
        "plt.title('Confusion matrix')\n",
        "plt.show()"
      ]
    },
    {
      "cell_type": "markdown",
      "metadata": {
        "id": "iH554iGlMY0Y"
      },
      "source": [
        "### Classification metrics for Binary Classification (Positive/Negative or 1/0 classes)\n",
        "| Actual \\ Predicted | Positive (P) | Negative (N) |\n",
        "|-------------------|-------------|-------------|\n",
        "| **Positive (P)**  | True Positive (TP) ✅ | False Negative (FN) ❌ |\n",
        "| **Negative (N)**  | False Positive (FP) ❌ | True Negative (TN) ✅ |\n",
        "\n",
        "\n",
        "Then we can define:\n",
        "- <span style=\"color: #4abde8;\">**Accuracy**</span>: $\\frac{\\text{TP} + \\text{TN}}{\\text{TP} + \\text{TN} + \\text{FP} + \\text{FN}}$\n",
        "\n",
        "- <span style=\"color: #f4a43a;\">**Specificity**</span>: $\\frac{\\text{TN}}{\\text{TN} + \\text{FP}}$\n",
        "\n",
        "- <span style=\"color: #0ea782;\">**Precision**</span>: $\\frac{\\text{TP}}{\\text{TP} + \\text{FP}}$\n",
        "\n",
        "- <span style=\"color: #d586ab;\">**Recall**</span>: $\\frac{\\text{TP}}{\\text{TP} + \\text{FN}}$"
      ]
    },
    {
      "cell_type": "code",
      "execution_count": 5,
      "metadata": {
        "colab": {
          "base_uri": "https://localhost:8080/"
        },
        "id": "hokehcPKMY0Z",
        "outputId": "91e18a48-780f-4473-e595-fef7a5784987"
      },
      "outputs": [
        {
          "name": "stdout",
          "output_type": "stream",
          "text": [
            "True Positives:  4  True Negatives:  2  False Positives:  1  False Negatives:  3\n",
            "Accuracy:  0.6\n",
            "Specificity:  0.6666666666666666\n",
            "Precision:  0.8\n",
            "Recall:  0.5714285714285714\n"
          ]
        }
      ],
      "source": [
        "def TP_TN_FP_FN(y_true, y_pred):\n",
        "    \"\"\"\n",
        "    Intuitive way to calculate TP, TN, FP, FN\n",
        "    \"\"\"\n",
        "    positive = (y_true == 1)            # array of the same shape as y_true, with True if y_true is pos/1 and False otherwise\n",
        "    negative = (y_true == 0)            # array of the same shape as y_true, with True if y_true is neg/0 and False otherwise\n",
        "    pred_positive = (y_pred == 1)       # array with True if the predicted label is pos/1, 0 otherwise\n",
        "    pred_negative = (y_pred == 0)       # array with True if the predicted label is neg/0, 0 otherwise\n",
        "\n",
        "    # element-wise boolean operation that returns 1 if both are True/1, 0 otherwise\n",
        "    TP = np.sum(positive & pred_positive)  # True Positives\n",
        "    TN = np.sum(negative & pred_negative)  # True Negatives\n",
        "    FP = np.sum(negative & pred_positive)  # False Positives\n",
        "    FN = np.sum(positive & pred_negative)  # False Negatives\n",
        "    return TP, TN, FP, FN\n",
        "\n",
        "\n",
        "def specificity(y_true, y_pred):\n",
        "    TP, TN, FP, FN = TP_TN_FP_FN(y_true, y_pred)\n",
        "    return TN / (TN + FP)\n",
        "\n",
        "def precision(y_true, y_pred):\n",
        "    TP, TN, FP, FN = TP_TN_FP_FN(y_true, y_pred)\n",
        "    return TP / (TP + FP)\n",
        "\n",
        "def recall(y_true, y_pred):\n",
        "    TP, TN, FP, FN = TP_TN_FP_FN(y_true, y_pred)\n",
        "    return TP / (TP + FN)\n",
        "\n",
        "\n",
        "y_true = np.array([1, 1, 1, 1, 0, 0, 0, 1, 1, 1])\n",
        "y_pred = np.array([1, 1, 1, 1, 0, 0, 1, 0, 0, 0])\n",
        "TP, TN, FP, FN = TP_TN_FP_FN(y_true, y_pred)\n",
        "acc = accuracy(y_true, y_pred)\n",
        "spec = specificity(y_true, y_pred)\n",
        "prec = precision(y_true, y_pred)\n",
        "rec = recall(y_true, y_pred)\n",
        "\n",
        "print(\"True Positives: \", TP, \" True Negatives: \", TN, \" False Positives: \", FP, \" False Negatives: \", FN)\n",
        "print(\"Accuracy: \", acc)\n",
        "print(\"Specificity: \", spec)\n",
        "print(\"Precision: \", prec)\n",
        "print(\"Recall: \", rec)"
      ]
    },
    {
      "cell_type": "markdown",
      "metadata": {
        "id": "hL3pjZDkMY0a"
      },
      "source": [
        "## Stratified Splitting"
      ]
    },
    {
      "cell_type": "markdown",
      "metadata": {
        "id": "9yyP9yEPMY0a"
      },
      "source": [
        "I.e., how to split data into training and test sets while keeping the same proportions of different classes (i.e. if your dataset has 70% cats and 30% dogs, the training and test sets will also have about 70% dogs and 30% cats). This helps the model to generalize better."
      ]
    },
    {
      "cell_type": "code",
      "execution_count": 6,
      "metadata": {
        "id": "AW7iNcQ1MY0a"
      },
      "outputs": [],
      "source": [
        "def stratified_train_test_split(X, y, train_prop):\n",
        "    \"\"\"\n",
        "    Split randomly the dataset into training and test sets while preserving class proportions.\n",
        "\n",
        "    Args:\n",
        "    X: array of samples. Shape (n_samples, n_features)\n",
        "    y: array of labels. Shape (n_samples, ) or (n_samples, 1)\n",
        "    train_prop: proportion of samples to include in the training set. Must be between 0 and 1.\n",
        "\n",
        "    Returns:\n",
        "    X_train: array of training samples. Shape (n_train_samples, n_features)\n",
        "    X_test: array of test samples. Shape (n_test_samples, n_features)\n",
        "    y_train: array of training labels. Shape (n_train_samples, ) or (n_train_samples, 1)\n",
        "    y_test: array of test labels. Shape (n_test_samples, ) or (n_test_samples, 1)\n",
        "    \"\"\"\n",
        "    unique_classes = np.unique(y)                           # get unique class labels (i.e., the different classes)\n",
        "\n",
        "    #liste vuote per memorizzare gli indici\n",
        "    train_indices = []\n",
        "    test_indices = []\n",
        "\n",
        "    for cls in unique_classes:\n",
        "        indices = np.where(y == cls)[0]                     # find indices of samples belonging to class cls\n",
        "        np.random.shuffle(indices)                          # shuffle the indices for randomness\n",
        "        split_idx = int(indices.shape[0] * train_prop)      # determine split index\n",
        "\n",
        "        #lo posso fare perchè prima ho fatto lo shuffle\n",
        "        cls_train_indices = indices[:split_idx].tolist()    # get the first split_idx indices for training for class cls\n",
        "        cls_test_indices = indices[split_idx:].tolist()     # get the remaining indices for testing for class cls\n",
        "\n",
        "        train_indices = train_indices + cls_train_indices   # concatenate the training indices for all classes\n",
        "        test_indices = test_indices + cls_test_indices      # concatenate the test indices for all classes\n",
        "\n",
        "    # shuffle again to avoid unintended ordering (right now the indices are ordered by class)\n",
        "    np.random.shuffle(train_indices)\n",
        "    np.random.shuffle(test_indices)\n",
        "\n",
        "    X_train, y_train = X[train_indices], y[train_indices]\n",
        "    X_test, y_test = X[test_indices], y[test_indices]\n",
        "    return X_train, X_test, y_train, y_test"
      ]
    },
    {
      "cell_type": "markdown",
      "metadata": {
        "id": "GZyfdiGnMY0a"
      },
      "source": [
        "## k-Nearest Neighbors"
      ]
    },
    {
      "cell_type": "markdown",
      "metadata": {
        "id": "Rq2HlOt1MY0b"
      },
      "source": [
        "Key idea: find a predefined number k of training samples closests in distance to the new point, and predict the label from these:\n",
        "- for classification: majority voting, i.e, the most frequent class among the k neighbors.\n",
        "- for regression: average (or weighted average) of neighbors' values.\n",
        "\n",
        "![image.png](https://www.jcchouinard.com/wp-content/uploads/2021/08/image-8.png)"
      ]
    },
    {
      "cell_type": "markdown",
      "metadata": {
        "id": "U8LP8iqfMY0b"
      },
      "source": [
        "Different type of distances can be used (most common: Euclidean)"
      ]
    },
    {
      "cell_type": "code",
      "execution_count": 7,
      "metadata": {
        "id": "cc8W4hEbMY0b"
      },
      "outputs": [],
      "source": [
        "def euclidean_distance(x1, x2):\n",
        "    return np.sqrt(np.sum((x1 - x2)**2))\n",
        "\n",
        "def manhattan_distance(x1, x2):\n",
        "    return np.sum(np.abs(x1 - x2))"
      ]
    },
    {
      "cell_type": "code",
      "execution_count": 8,
      "metadata": {
        "id": "_4YBz1dTMY0b"
      },
      "outputs": [],
      "source": [
        "def KNN_classifier(X_train, y_train, X_test, k, distance_metric):\n",
        "    \"\"\"\n",
        "    Args:\n",
        "    X_train: array of training samples. Shape (n_samples, n_features)\n",
        "    y_train: array of training labels. Shape (n_samples,) or (n_samples, 1)\n",
        "    X_test: array of test samples. Shape (n_samples_test, n_features)\n",
        "    k: number of neighbors to consider\n",
        "    distance_metric: 'euclidean' or 'manhattan'\n",
        "    \"\"\"\n",
        "    n_train_samples = X_train.shape[0]\n",
        "    n_test_samples = X_test.shape[0]\n",
        "\n",
        "    y_train = y_train.flatten()                 # make sure y_train is 1D array\n",
        "\n",
        "    # check if k>number of training samples: if so  set k to the number of training samples\n",
        "    if k > n_train_samples:\n",
        "        print(\"Warning: k > number of training samples. Setting k to number of training samples\")\n",
        "        k = n_train_samples\n",
        "\n",
        "    predictions = []\n",
        "\n",
        "    # iterate over each test sample\n",
        "    for j in range(n_test_samples):\n",
        "        x_test = X_test[j, :]\n",
        "\n",
        "        # compute the distance between the each test sample and all training samples\n",
        "        pairs_dist_lab = []\n",
        "        for j in range(n_train_samples):\n",
        "            if distance_metric == 'euclidean':\n",
        "                dist = euclidean_distance(X_train[j,:], x_test)\n",
        "            elif distance_metric == 'manhattan':\n",
        "                dist = manhattan_distance(X_train[j,:], x_test)\n",
        "\n",
        "            # store each pair (distance, label)\n",
        "            pairs_dist_lab.append((dist, y_train[j]))\n",
        "\n",
        "        # sort the pairs (distance, label) by distance in ascending order\n",
        "        pairs_dist_lab = sorted(pairs_dist_lab, key = lambda x:x[0])\n",
        "\n",
        "        # get the first k pairs (i.e. the k-nearest neighbors, with smallest distance)\n",
        "        k_nearest = pairs_dist_lab[:k]\n",
        "\n",
        "        # from the k pairs extract the labels\n",
        "        k_nearest_labels = []\n",
        "        for dist, label in k_nearest:\n",
        "            k_nearest_labels.append(label)\n",
        "\n",
        "        # get the most common label\n",
        "        unique_labels, counts = np.unique(k_nearest_labels, return_counts=True)\n",
        "        idx_max_count = np.argmax(counts)\n",
        "        most_common_label = unique_labels[idx_max_count]\n",
        "        predictions.append(most_common_label)\n",
        "\n",
        "    predictions = np.array(predictions)\n",
        "    return predictions"
      ]
    },
    {
      "cell_type": "markdown",
      "metadata": {
        "id": "gnfEDNfCMY0c"
      },
      "source": [
        "### k-NN on IRIS data"
      ]
    },
    {
      "cell_type": "code",
      "execution_count": 9,
      "metadata": {
        "id": "rS5nS16HMY0c"
      },
      "outputs": [],
      "source": [
        "np.random.seed(0)"
      ]
    },
    {
      "cell_type": "code",
      "execution_count": 10,
      "metadata": {
        "colab": {
          "base_uri": "https://localhost:8080/",
          "height": 258
        },
        "id": "qzuBN8t2MY0c",
        "outputId": "1f3d7f8f-6f8d-4d8d-bfc2-2ef15f586398"
      },
      "outputs": [
        {
          "ename": "FileNotFoundError",
          "evalue": "[Errno 2] No such file or directory: '/content/ML_2024-25/drive/MyDrive/AA24-25ML/iris.csv'",
          "output_type": "error",
          "traceback": [
            "\u001b[1;31m---------------------------------------------------------------------------\u001b[0m",
            "\u001b[1;31mFileNotFoundError\u001b[0m                         Traceback (most recent call last)",
            "Cell \u001b[1;32mIn[10], line 2\u001b[0m\n\u001b[0;32m      1\u001b[0m \u001b[38;5;66;03m# Load data: IRIS considering only the features 'sepal_length', 'sepal_width' and with target 'species'\u001b[39;00m\n\u001b[1;32m----> 2\u001b[0m data \u001b[38;5;241m=\u001b[39m \u001b[43mpd\u001b[49m\u001b[38;5;241;43m.\u001b[39;49m\u001b[43mread_csv\u001b[49m\u001b[43m(\u001b[49m\u001b[38;5;124;43m'\u001b[39;49m\u001b[38;5;124;43m/content/ML_2024-25/drive/MyDrive/AA24-25ML/iris.csv\u001b[39;49m\u001b[38;5;124;43m'\u001b[39;49m\u001b[43m)\u001b[49m\n\u001b[0;32m      3\u001b[0m display(data\u001b[38;5;241m.\u001b[39mhead())\n\u001b[0;32m      4\u001b[0m data \u001b[38;5;241m=\u001b[39m data[[\u001b[38;5;124m'\u001b[39m\u001b[38;5;124msepal length (cm)\u001b[39m\u001b[38;5;124m'\u001b[39m, \u001b[38;5;124m'\u001b[39m\u001b[38;5;124msepal width (cm)\u001b[39m\u001b[38;5;124m'\u001b[39m, \u001b[38;5;124m'\u001b[39m\u001b[38;5;124mspecies\u001b[39m\u001b[38;5;124m'\u001b[39m]]\n",
            "File \u001b[1;32m~\\AppData\\Local\\Packages\\PythonSoftwareFoundation.Python.3.9_qbz5n2kfra8p0\\LocalCache\\local-packages\\Python39\\site-packages\\pandas\\io\\parsers\\readers.py:1026\u001b[0m, in \u001b[0;36mread_csv\u001b[1;34m(filepath_or_buffer, sep, delimiter, header, names, index_col, usecols, dtype, engine, converters, true_values, false_values, skipinitialspace, skiprows, skipfooter, nrows, na_values, keep_default_na, na_filter, verbose, skip_blank_lines, parse_dates, infer_datetime_format, keep_date_col, date_parser, date_format, dayfirst, cache_dates, iterator, chunksize, compression, thousands, decimal, lineterminator, quotechar, quoting, doublequote, escapechar, comment, encoding, encoding_errors, dialect, on_bad_lines, delim_whitespace, low_memory, memory_map, float_precision, storage_options, dtype_backend)\u001b[0m\n\u001b[0;32m   1013\u001b[0m kwds_defaults \u001b[38;5;241m=\u001b[39m _refine_defaults_read(\n\u001b[0;32m   1014\u001b[0m     dialect,\n\u001b[0;32m   1015\u001b[0m     delimiter,\n\u001b[1;32m   (...)\u001b[0m\n\u001b[0;32m   1022\u001b[0m     dtype_backend\u001b[38;5;241m=\u001b[39mdtype_backend,\n\u001b[0;32m   1023\u001b[0m )\n\u001b[0;32m   1024\u001b[0m kwds\u001b[38;5;241m.\u001b[39mupdate(kwds_defaults)\n\u001b[1;32m-> 1026\u001b[0m \u001b[38;5;28;01mreturn\u001b[39;00m \u001b[43m_read\u001b[49m\u001b[43m(\u001b[49m\u001b[43mfilepath_or_buffer\u001b[49m\u001b[43m,\u001b[49m\u001b[43m \u001b[49m\u001b[43mkwds\u001b[49m\u001b[43m)\u001b[49m\n",
            "File \u001b[1;32m~\\AppData\\Local\\Packages\\PythonSoftwareFoundation.Python.3.9_qbz5n2kfra8p0\\LocalCache\\local-packages\\Python39\\site-packages\\pandas\\io\\parsers\\readers.py:620\u001b[0m, in \u001b[0;36m_read\u001b[1;34m(filepath_or_buffer, kwds)\u001b[0m\n\u001b[0;32m    617\u001b[0m _validate_names(kwds\u001b[38;5;241m.\u001b[39mget(\u001b[38;5;124m\"\u001b[39m\u001b[38;5;124mnames\u001b[39m\u001b[38;5;124m\"\u001b[39m, \u001b[38;5;28;01mNone\u001b[39;00m))\n\u001b[0;32m    619\u001b[0m \u001b[38;5;66;03m# Create the parser.\u001b[39;00m\n\u001b[1;32m--> 620\u001b[0m parser \u001b[38;5;241m=\u001b[39m TextFileReader(filepath_or_buffer, \u001b[38;5;241m*\u001b[39m\u001b[38;5;241m*\u001b[39mkwds)\n\u001b[0;32m    622\u001b[0m \u001b[38;5;28;01mif\u001b[39;00m chunksize \u001b[38;5;129;01mor\u001b[39;00m iterator:\n\u001b[0;32m    623\u001b[0m     \u001b[38;5;28;01mreturn\u001b[39;00m parser\n",
            "File \u001b[1;32m~\\AppData\\Local\\Packages\\PythonSoftwareFoundation.Python.3.9_qbz5n2kfra8p0\\LocalCache\\local-packages\\Python39\\site-packages\\pandas\\io\\parsers\\readers.py:1620\u001b[0m, in \u001b[0;36mTextFileReader.__init__\u001b[1;34m(self, f, engine, **kwds)\u001b[0m\n\u001b[0;32m   1617\u001b[0m     \u001b[38;5;28mself\u001b[39m\u001b[38;5;241m.\u001b[39moptions[\u001b[38;5;124m\"\u001b[39m\u001b[38;5;124mhas_index_names\u001b[39m\u001b[38;5;124m\"\u001b[39m] \u001b[38;5;241m=\u001b[39m kwds[\u001b[38;5;124m\"\u001b[39m\u001b[38;5;124mhas_index_names\u001b[39m\u001b[38;5;124m\"\u001b[39m]\n\u001b[0;32m   1619\u001b[0m \u001b[38;5;28mself\u001b[39m\u001b[38;5;241m.\u001b[39mhandles: IOHandles \u001b[38;5;241m|\u001b[39m \u001b[38;5;28;01mNone\u001b[39;00m \u001b[38;5;241m=\u001b[39m \u001b[38;5;28;01mNone\u001b[39;00m\n\u001b[1;32m-> 1620\u001b[0m \u001b[38;5;28mself\u001b[39m\u001b[38;5;241m.\u001b[39m_engine \u001b[38;5;241m=\u001b[39m \u001b[38;5;28;43mself\u001b[39;49m\u001b[38;5;241;43m.\u001b[39;49m\u001b[43m_make_engine\u001b[49m\u001b[43m(\u001b[49m\u001b[43mf\u001b[49m\u001b[43m,\u001b[49m\u001b[43m \u001b[49m\u001b[38;5;28;43mself\u001b[39;49m\u001b[38;5;241;43m.\u001b[39;49m\u001b[43mengine\u001b[49m\u001b[43m)\u001b[49m\n",
            "File \u001b[1;32m~\\AppData\\Local\\Packages\\PythonSoftwareFoundation.Python.3.9_qbz5n2kfra8p0\\LocalCache\\local-packages\\Python39\\site-packages\\pandas\\io\\parsers\\readers.py:1880\u001b[0m, in \u001b[0;36mTextFileReader._make_engine\u001b[1;34m(self, f, engine)\u001b[0m\n\u001b[0;32m   1878\u001b[0m     \u001b[38;5;28;01mif\u001b[39;00m \u001b[38;5;124m\"\u001b[39m\u001b[38;5;124mb\u001b[39m\u001b[38;5;124m\"\u001b[39m \u001b[38;5;129;01mnot\u001b[39;00m \u001b[38;5;129;01min\u001b[39;00m mode:\n\u001b[0;32m   1879\u001b[0m         mode \u001b[38;5;241m+\u001b[39m\u001b[38;5;241m=\u001b[39m \u001b[38;5;124m\"\u001b[39m\u001b[38;5;124mb\u001b[39m\u001b[38;5;124m\"\u001b[39m\n\u001b[1;32m-> 1880\u001b[0m \u001b[38;5;28mself\u001b[39m\u001b[38;5;241m.\u001b[39mhandles \u001b[38;5;241m=\u001b[39m \u001b[43mget_handle\u001b[49m\u001b[43m(\u001b[49m\n\u001b[0;32m   1881\u001b[0m \u001b[43m    \u001b[49m\u001b[43mf\u001b[49m\u001b[43m,\u001b[49m\n\u001b[0;32m   1882\u001b[0m \u001b[43m    \u001b[49m\u001b[43mmode\u001b[49m\u001b[43m,\u001b[49m\n\u001b[0;32m   1883\u001b[0m \u001b[43m    \u001b[49m\u001b[43mencoding\u001b[49m\u001b[38;5;241;43m=\u001b[39;49m\u001b[38;5;28;43mself\u001b[39;49m\u001b[38;5;241;43m.\u001b[39;49m\u001b[43moptions\u001b[49m\u001b[38;5;241;43m.\u001b[39;49m\u001b[43mget\u001b[49m\u001b[43m(\u001b[49m\u001b[38;5;124;43m\"\u001b[39;49m\u001b[38;5;124;43mencoding\u001b[39;49m\u001b[38;5;124;43m\"\u001b[39;49m\u001b[43m,\u001b[49m\u001b[43m \u001b[49m\u001b[38;5;28;43;01mNone\u001b[39;49;00m\u001b[43m)\u001b[49m\u001b[43m,\u001b[49m\n\u001b[0;32m   1884\u001b[0m \u001b[43m    \u001b[49m\u001b[43mcompression\u001b[49m\u001b[38;5;241;43m=\u001b[39;49m\u001b[38;5;28;43mself\u001b[39;49m\u001b[38;5;241;43m.\u001b[39;49m\u001b[43moptions\u001b[49m\u001b[38;5;241;43m.\u001b[39;49m\u001b[43mget\u001b[49m\u001b[43m(\u001b[49m\u001b[38;5;124;43m\"\u001b[39;49m\u001b[38;5;124;43mcompression\u001b[39;49m\u001b[38;5;124;43m\"\u001b[39;49m\u001b[43m,\u001b[49m\u001b[43m \u001b[49m\u001b[38;5;28;43;01mNone\u001b[39;49;00m\u001b[43m)\u001b[49m\u001b[43m,\u001b[49m\n\u001b[0;32m   1885\u001b[0m \u001b[43m    \u001b[49m\u001b[43mmemory_map\u001b[49m\u001b[38;5;241;43m=\u001b[39;49m\u001b[38;5;28;43mself\u001b[39;49m\u001b[38;5;241;43m.\u001b[39;49m\u001b[43moptions\u001b[49m\u001b[38;5;241;43m.\u001b[39;49m\u001b[43mget\u001b[49m\u001b[43m(\u001b[49m\u001b[38;5;124;43m\"\u001b[39;49m\u001b[38;5;124;43mmemory_map\u001b[39;49m\u001b[38;5;124;43m\"\u001b[39;49m\u001b[43m,\u001b[49m\u001b[43m \u001b[49m\u001b[38;5;28;43;01mFalse\u001b[39;49;00m\u001b[43m)\u001b[49m\u001b[43m,\u001b[49m\n\u001b[0;32m   1886\u001b[0m \u001b[43m    \u001b[49m\u001b[43mis_text\u001b[49m\u001b[38;5;241;43m=\u001b[39;49m\u001b[43mis_text\u001b[49m\u001b[43m,\u001b[49m\n\u001b[0;32m   1887\u001b[0m \u001b[43m    \u001b[49m\u001b[43merrors\u001b[49m\u001b[38;5;241;43m=\u001b[39;49m\u001b[38;5;28;43mself\u001b[39;49m\u001b[38;5;241;43m.\u001b[39;49m\u001b[43moptions\u001b[49m\u001b[38;5;241;43m.\u001b[39;49m\u001b[43mget\u001b[49m\u001b[43m(\u001b[49m\u001b[38;5;124;43m\"\u001b[39;49m\u001b[38;5;124;43mencoding_errors\u001b[39;49m\u001b[38;5;124;43m\"\u001b[39;49m\u001b[43m,\u001b[49m\u001b[43m \u001b[49m\u001b[38;5;124;43m\"\u001b[39;49m\u001b[38;5;124;43mstrict\u001b[39;49m\u001b[38;5;124;43m\"\u001b[39;49m\u001b[43m)\u001b[49m\u001b[43m,\u001b[49m\n\u001b[0;32m   1888\u001b[0m \u001b[43m    \u001b[49m\u001b[43mstorage_options\u001b[49m\u001b[38;5;241;43m=\u001b[39;49m\u001b[38;5;28;43mself\u001b[39;49m\u001b[38;5;241;43m.\u001b[39;49m\u001b[43moptions\u001b[49m\u001b[38;5;241;43m.\u001b[39;49m\u001b[43mget\u001b[49m\u001b[43m(\u001b[49m\u001b[38;5;124;43m\"\u001b[39;49m\u001b[38;5;124;43mstorage_options\u001b[39;49m\u001b[38;5;124;43m\"\u001b[39;49m\u001b[43m,\u001b[49m\u001b[43m \u001b[49m\u001b[38;5;28;43;01mNone\u001b[39;49;00m\u001b[43m)\u001b[49m\u001b[43m,\u001b[49m\n\u001b[0;32m   1889\u001b[0m \u001b[43m\u001b[49m\u001b[43m)\u001b[49m\n\u001b[0;32m   1890\u001b[0m \u001b[38;5;28;01massert\u001b[39;00m \u001b[38;5;28mself\u001b[39m\u001b[38;5;241m.\u001b[39mhandles \u001b[38;5;129;01mis\u001b[39;00m \u001b[38;5;129;01mnot\u001b[39;00m \u001b[38;5;28;01mNone\u001b[39;00m\n\u001b[0;32m   1891\u001b[0m f \u001b[38;5;241m=\u001b[39m \u001b[38;5;28mself\u001b[39m\u001b[38;5;241m.\u001b[39mhandles\u001b[38;5;241m.\u001b[39mhandle\n",
            "File \u001b[1;32m~\\AppData\\Local\\Packages\\PythonSoftwareFoundation.Python.3.9_qbz5n2kfra8p0\\LocalCache\\local-packages\\Python39\\site-packages\\pandas\\io\\common.py:873\u001b[0m, in \u001b[0;36mget_handle\u001b[1;34m(path_or_buf, mode, encoding, compression, memory_map, is_text, errors, storage_options)\u001b[0m\n\u001b[0;32m    868\u001b[0m \u001b[38;5;28;01melif\u001b[39;00m \u001b[38;5;28misinstance\u001b[39m(handle, \u001b[38;5;28mstr\u001b[39m):\n\u001b[0;32m    869\u001b[0m     \u001b[38;5;66;03m# Check whether the filename is to be opened in binary mode.\u001b[39;00m\n\u001b[0;32m    870\u001b[0m     \u001b[38;5;66;03m# Binary mode does not support 'encoding' and 'newline'.\u001b[39;00m\n\u001b[0;32m    871\u001b[0m     \u001b[38;5;28;01mif\u001b[39;00m ioargs\u001b[38;5;241m.\u001b[39mencoding \u001b[38;5;129;01mand\u001b[39;00m \u001b[38;5;124m\"\u001b[39m\u001b[38;5;124mb\u001b[39m\u001b[38;5;124m\"\u001b[39m \u001b[38;5;129;01mnot\u001b[39;00m \u001b[38;5;129;01min\u001b[39;00m ioargs\u001b[38;5;241m.\u001b[39mmode:\n\u001b[0;32m    872\u001b[0m         \u001b[38;5;66;03m# Encoding\u001b[39;00m\n\u001b[1;32m--> 873\u001b[0m         handle \u001b[38;5;241m=\u001b[39m \u001b[38;5;28;43mopen\u001b[39;49m\u001b[43m(\u001b[49m\n\u001b[0;32m    874\u001b[0m \u001b[43m            \u001b[49m\u001b[43mhandle\u001b[49m\u001b[43m,\u001b[49m\n\u001b[0;32m    875\u001b[0m \u001b[43m            \u001b[49m\u001b[43mioargs\u001b[49m\u001b[38;5;241;43m.\u001b[39;49m\u001b[43mmode\u001b[49m\u001b[43m,\u001b[49m\n\u001b[0;32m    876\u001b[0m \u001b[43m            \u001b[49m\u001b[43mencoding\u001b[49m\u001b[38;5;241;43m=\u001b[39;49m\u001b[43mioargs\u001b[49m\u001b[38;5;241;43m.\u001b[39;49m\u001b[43mencoding\u001b[49m\u001b[43m,\u001b[49m\n\u001b[0;32m    877\u001b[0m \u001b[43m            \u001b[49m\u001b[43merrors\u001b[49m\u001b[38;5;241;43m=\u001b[39;49m\u001b[43merrors\u001b[49m\u001b[43m,\u001b[49m\n\u001b[0;32m    878\u001b[0m \u001b[43m            \u001b[49m\u001b[43mnewline\u001b[49m\u001b[38;5;241;43m=\u001b[39;49m\u001b[38;5;124;43m\"\u001b[39;49m\u001b[38;5;124;43m\"\u001b[39;49m\u001b[43m,\u001b[49m\n\u001b[0;32m    879\u001b[0m \u001b[43m        \u001b[49m\u001b[43m)\u001b[49m\n\u001b[0;32m    880\u001b[0m     \u001b[38;5;28;01melse\u001b[39;00m:\n\u001b[0;32m    881\u001b[0m         \u001b[38;5;66;03m# Binary mode\u001b[39;00m\n\u001b[0;32m    882\u001b[0m         handle \u001b[38;5;241m=\u001b[39m \u001b[38;5;28mopen\u001b[39m(handle, ioargs\u001b[38;5;241m.\u001b[39mmode)\n",
            "\u001b[1;31mFileNotFoundError\u001b[0m: [Errno 2] No such file or directory: '/content/ML_2024-25/drive/MyDrive/AA24-25ML/iris.csv'"
          ]
        }
      ],
      "source": [
        "# Load data: IRIS considering only the features 'sepal_length', 'sepal_width' and with target 'species'\n",
        "data = pd.read_csv('/content/ML_2024-25/drive/MyDrive/AA24-25ML/iris.csv')\n",
        "display(data.head())\n",
        "data = data[['sepal length (cm)', 'sepal width (cm)', 'species']]\n",
        "\n",
        "# let's see what are the classes in the dataset\n",
        "classes = data['species'].unique()\n",
        "print(\"Classes: \", classes)\n",
        "\n",
        "# Split data into X and y numpy arrays\n",
        "X = data.drop('species', axis=1).to_numpy()\n",
        "y = data[['species']].to_numpy()\n",
        "n_samples = X.shape[0]\n",
        "n_features = X.shape[1]\n",
        "\n",
        "# check the shapes\n",
        "print(\"X shape: \", X.shape)\n",
        "print(\"y shape: \", y.shape)"
      ]
    },
    {
      "cell_type": "markdown",
      "metadata": {
        "id": "uqjeszCbMY0c"
      },
      "source": [
        "<div style=\"background-color: lightblue; padding: 10px; color: black\">\n",
        "<strong> ⚠️ Warning! </strong> The expression <code>y = data[['species']].to_numpy() </code> returns a 2D array of shape (n_samples, 1), while <code>y = data['species'].to_numpy() </code> returns a 1D array of shape (n_samples,).\n",
        "Both are valid, but be careful of the following:\n",
        "<ol>\n",
        "    <li>Ensure true labels and predicted labels have consistent shapes.</li>\n",
        "    <li>Gradient computation formulas usually assume <code>y</code> is a column vector <code>(n_samples, 1)</code>.</li>\n",
        "    <li>External libraries may require a 1D array instead.</li>\n",
        "</ol>\n",
        "Always verify shapes at each step: many errors, even silent ones, stem from mismatched dimensions!\n",
        "</div>\n"
      ]
    },
    {
      "cell_type": "markdown",
      "metadata": {
        "id": "DTeGMGwFMY0c"
      },
      "source": [
        "**Tip 🕵**\n",
        "If you need (and you will) to convert the labels into numerical values (e.g., _Iris-setosa_ → 0, _Iris-versicolor_ → 1, _Iris-virginica_ → 2) you can use:"
      ]
    },
    {
      "cell_type": "code",
      "execution_count": null,
      "metadata": {
        "colab": {
          "base_uri": "https://localhost:8080/"
        },
        "id": "JU0zYXGMMY0c",
        "outputId": "e071bac4-6038-4957-c95c-b00631c4b18a"
      },
      "outputs": [],
      "source": [
        "classes, y_numeric = np.unique(y, return_inverse=True) #converte le classi in numeri\n",
        "print(y_numeric)\n",
        "print(classes)"
      ]
    },
    {
      "cell_type": "markdown",
      "metadata": {
        "id": "Jdv1dZ0SMY0d"
      },
      "source": [
        "Let's see KNN in action:"
      ]
    },
    {
      "cell_type": "code",
      "execution_count": null,
      "metadata": {
        "colab": {
          "base_uri": "https://localhost:8080/",
          "height": 527
        },
        "id": "4Qq8HI9_MY0d",
        "outputId": "23d9f071-7871-4a3a-a0b6-442452c4c38d"
      },
      "outputs": [],
      "source": [
        "k_values = [1, 2, 3, 5, 10, 20, 30, 50, 100]\n",
        "\n",
        "# MC-CV parameters\n",
        "train_set_prop = 0.8\n",
        "n_iter_mc_cv = 25    #standard\n",
        "\n",
        "miss_c_rates = []\n",
        "\n",
        "for k in k_values:\n",
        "    miss_c_rates_k = []   # miss classification rate = 1 - accuracy\n",
        "\n",
        "    # MonteCarlo Cross Validation Loop\n",
        "    for i in range(n_iter_mc_cv):\n",
        "        # split the data into random train and stest\n",
        "        X_train, X_test, y_train, y_test = stratified_train_test_split(X, y, train_set_prop)\n",
        "\n",
        "        y_pred = KNN_classifier(X_train, y_train, X_test, k, 'euclidean')\n",
        "        y_pred = y_pred.reshape(y_test.shape)                               # make sure y_pred has the same shape as y_test\n",
        "\n",
        "        # calculate the accuracy\n",
        "        mcr = 1- accuracy(y_test, y_pred)\n",
        "        miss_c_rates_k.append(mcr)\n",
        "\n",
        "    miss_c_rates.append(miss_c_rates_k)\n",
        "\n",
        "# BOXPLOTS + mean values\n",
        "plt.figure()\n",
        "plt.boxplot(miss_c_rates, labels=k_values, showmeans=True)\n",
        "plt.ylim(bottom=0)\n",
        "plt.xlabel('k-values')\n",
        "plt.ylabel('Miss Classification Rate')\n",
        "plt.title('KNN classifier with different k-values')\n",
        "plt.show()\n"
      ]
    },
    {
      "cell_type": "markdown",
      "metadata": {
        "id": "sQ0UXitVMY0d"
      },
      "source": [
        "## Logistic Regression"
      ]
    },
    {
      "cell_type": "markdown",
      "metadata": {
        "id": "UTDyqobtMY0d"
      },
      "source": [
        "### Theory"
      ]
    },
    {
      "cell_type": "markdown",
      "metadata": {
        "id": "8jRC4KXFMY0d"
      },
      "source": [
        "#### The logistic (sigmoid)\n",
        "The **logistic regression** model uses a linear combination of the input through a logistic function trasformation, also called *sigmoid*:\n",
        "$$\n",
        "\\sigma(z) = \\frac{1}{1+e^{-z}}\n",
        "$$\n",
        "\n",
        "$$\n",
        "\\sigma(x_{i}^T\\beta) = \\frac{1}{1+e^{-x_i^T\\beta}}\n",
        "$$\n",
        "\n",
        "Since the sigmoid directly outputs numbers in (0,1], it has a probabilistic interpretation: we can consider the outputs as the probability of the positive outcome.\n",
        "$$\n",
        "P(y_i=1|x_i) = \\sigma(x_i^T\\beta)\n",
        "$$\n",
        "$$\n",
        "P(y_i=0|x_i) = 1-\\sigma(x_i^T\\beta)\n",
        "$$\n",
        "hence:\n",
        "$$\n",
        "\\hat{y_i} =\n",
        "\\begin{cases}\n",
        "    1, & \\text{if } \\sigma(x_i^T\\beta) \\geq 0.5 \\\\\n",
        "    0, & \\text{if } \\sigma(x_i^T\\beta) < 0.5 \\\\\n",
        "\\end{cases}\n",
        "$$\n",
        "\n",
        "#### Linear vs Logistic Regression\n",
        "By passing the linear function through a sigmoid function, real values are mapped in (0,1).\n",
        "\n",
        "![Linear vs Logistic Regression](https://github.com/Chiara2804/ML_2024-25/blob/main/figures/linearVSlogistic.png?raw=1)\n",
        "\n",
        "- 🟨 Yellow Square: z = -10 , y' = 0\n",
        "- 🔴 Red Dot: z = 0, y' = 0.5\n",
        "- 💜⭐ Purple Star: z = 5, y' = 0.99\n",
        "\n",
        "#### Solving Logistic Regression\n",
        "As in LASSO regression, there is no closed solution when a sigmoid function is applied; we need to resort to Gradient Descent.  \n",
        "What is our loss function? Can we use the minimum squared error?\n",
        "\n",
        "$$\n",
        "J(\\beta,y) = \\textcolor{red}{\\frac{1}{n}}\\sum_{i=1}^n\\textcolor{red}{\\frac{1}{2}}(y_i-\\sigma(\\beta_0+\\sum_{j=1}^p\\beta_j x_{ij}))^2\n",
        "$$\n",
        "\n",
        "The function above is generally **NOT** convex, gradient descent doesn't work. We need to find an alternative loss (error) function."
      ]
    },
    {
      "cell_type": "code",
      "execution_count": null,
      "metadata": {
        "id": "Yvo1YYzxMY0d"
      },
      "outputs": [],
      "source": [
        "# Function that, given X_expanded and beta, computes the sigmoid of X_expanded@beta\n",
        "def sigmoid(z):\n",
        "    return 1 / (1+np.exp(-z))\n",
        "\n",
        "# Minimum squared error\n",
        "def mse(y, y_pred):\n",
        "    return np.mean((y - y_pred)**2)\n",
        "\n",
        "# Function that creates a synthetic dataset, with binary target\n",
        "def create_dataset():\n",
        "    # mean of the features\n",
        "    mean = np.array([0, 0, 0])\n",
        "    # covariance between the features\n",
        "    cov = np.array([\n",
        "        [1, 0.1, 0.5],\n",
        "        [0.1, 1, 0.9],\n",
        "        [0.5, 0.9, 1]])\n",
        "    # number of samples\n",
        "    n_samples = 100\n",
        "\n",
        "    np.random.seed(0)\n",
        "    # generate samples from a multivariate normal distribution with mean and covariance defined above\n",
        "    ds = np.random.multivariate_normal(mean, cov, n_samples)\n",
        "\n",
        "    # exclude the target\n",
        "    X = ds[:, :-1]\n",
        "    #consider only the last feature as target\n",
        "    y = ds[:, -1]\n",
        "    # binarize y (difference with respect to laboratory 3)\n",
        "    y = (y > np.median(y)).astype(int)\n",
        "    y = y.reshape(-1, 1)\n",
        "\n",
        "    return X, y"
      ]
    },
    {
      "cell_type": "code",
      "execution_count": null,
      "metadata": {
        "colab": {
          "base_uri": "https://localhost:8080/",
          "height": 472
        },
        "id": "gspswpErMY0d",
        "outputId": "38f52090-a782-4b29-f59e-8daea45970bd"
      },
      "outputs": [],
      "source": [
        "#create the dataset\n",
        "X, y = create_dataset()\n",
        "beta_fixed = [-3, 0, 30]\n",
        "# consider various values for beta[1]\n",
        "beta_1_vec = np.linspace(0, 50, 1000)\n",
        "\n",
        "# compute the errors for each value of beta_1_vec\n",
        "errors_mse = []\n",
        "for beta_1 in beta_1_vec:\n",
        "    # beta[0] and beta[2] are fixed\n",
        "    beta = np.array([beta_fixed[0], beta_1, beta_fixed[2]])\n",
        "    # add the column of ones to X\n",
        "    X_expanded = np.hstack([np.ones((X.shape[0], 1)), X])\n",
        "\n",
        "    # compute the sigmoid\n",
        "    y_pred = sigmoid(X_expanded @ beta)\n",
        "    # compute the error (MSE)\n",
        "    error = mse(y.flatten(), y_pred.flatten())\n",
        "    errors_mse.append(error)\n",
        "\n",
        "# plot the errors (over the values of beta_1)\n",
        "plt.plot(beta_1_vec, errors_mse)\n",
        "plt.xlabel('beta_1')\n",
        "plt.ylabel('MSE')\n",
        "plt.title('MSE vs beta_1')\n",
        "plt.grid()\n",
        "plt.show()"
      ]
    },
    {
      "cell_type": "markdown",
      "metadata": {
        "id": "xLIULVDKMY0d"
      },
      "source": [
        "#### Negative Log Likelihood\n",
        "Metric that captures a classification error.\n",
        "$$\n",
        "\\begin{align*}\n",
        "\\mathcal{L}(\\beta) &= - \\sum_{i=1}^{n} \\left[ y_i \\log \\sigma\\left(\\sum_{j=1}^{p} \\beta_j x_{ij} \\right) + (1 - y_i) \\log \\left(1 - \\sigma\\left(\\sum_{j=1}^{p} \\beta_j x_{ij} \\right)\\right) \\right] \\\\\n",
        "&= - \\sum_{i=1}^{n} \\left[ y_i \\log \\sigma(x_i^\\top \\beta) + (1 - y_i) \\log (1 - \\sigma(x_i^\\top \\beta)) \\right]\n",
        "\\end{align*}\n",
        "$$\n",
        "It's convex! We can use it compute gradient descent and fine the optimal values of $\\beta$."
      ]
    },
    {
      "cell_type": "code",
      "execution_count": null,
      "metadata": {
        "id": "aRys0zrHMY0e"
      },
      "outputs": [],
      "source": [
        "# Negative log-likelihood\n",
        "def negLogLikelihood(y, y_pred):\n",
        "    # Clip predictions to avoid log(0)\n",
        "    return -np.mean(y * np.log(y_pred+1e-16) + (1 - y) * np.log(1 - y_pred+1e-16))"
      ]
    },
    {
      "cell_type": "code",
      "execution_count": null,
      "metadata": {
        "colab": {
          "base_uri": "https://localhost:8080/",
          "height": 472
        },
        "id": "4jjW2m7tMY0e",
        "outputId": "9fdb434a-fa20-43e0-d620-f0da283b6bde"
      },
      "outputs": [],
      "source": [
        "#consider various values for beta[1]\n",
        "beta_1_vec = np.linspace(0, 50, 1000)\n",
        "\n",
        "#compute the errors for each value of beta_1_vec\n",
        "errors_nll = []\n",
        "for beta_1 in beta_1_vec:\n",
        "    #beta[0] and beta[2] are fixed\n",
        "    beta = np.array([beta_fixed[0], beta_1, beta_fixed[2]])\n",
        "    #add the column of ones to X\n",
        "    X_expanded = np.hstack([np.ones((X.shape[0], 1)), X])\n",
        "    #compute the sigmoid\n",
        "    y_pred = sigmoid(X_expanded @ beta)\n",
        "    #compute the error (NLL)\n",
        "    error = negLogLikelihood(y.flatten(), y_pred.flatten())\n",
        "    errors_nll.append(error)\n",
        "\n",
        "#plot the errors\n",
        "plt.plot(beta_1_vec, errors_nll)\n",
        "plt.xlabel('beta_1')\n",
        "plt.ylabel('NLL')\n",
        "plt.title('NLL vs beta_1')\n",
        "plt.grid()\n",
        "plt.show()"
      ]
    },
    {
      "cell_type": "markdown",
      "metadata": {
        "id": "_N-0XyzdMY0e"
      },
      "source": [
        "#### Gradient Descent on Logistic Regression\n",
        "The gradient descent is performed similarly to the gradient descent of LASSO. Main differences:\n",
        "- Instead of the gradient of MSE + Lasso term, we compute the gradient of the negative log likelihood.\n",
        "- Instead of computing the prediction as $y_{pred} = X\\beta$, we compute it as $y_{pred} = \\sigma(X\\beta)$\n",
        "\n",
        "The gradient of the negative log likelihood is:\n",
        "$$\n",
        "\\nabla L(\\beta) = \\frac{X^T(\\hat{y}-y)}{n}\n",
        "$$\n",
        "where the matrix $X$ has been expanded to include an additional column of ones at the beginning.\n",
        "\n",
        "We do not show explicitly how the formula of the gradient is derived; if you're interested in having more details, you can find them [here](https://ml-explained.com/blog/logistic-regression-explained#deriving-the-gradient-descent-formula-for-logistic-regression-optional)."
      ]
    },
    {
      "cell_type": "code",
      "execution_count": null,
      "metadata": {
        "id": "9dhrmE1LMY0e"
      },
      "outputs": [],
      "source": [
        "def nll_gradient(X_expanded, y_true, y_pred):\n",
        "    \"\"\"Compute the gradient of the negative log-likelihood loss.\n",
        "\n",
        "    Args:\n",
        "    X_expanded: array of shape (n_samples, n_features + 1) with the samples and a column of ones\n",
        "    y_true: array of shape (n_samples, 1) with the true labels\n",
        "    y_pred: array of shape (n_samples, 1) with the predicted labels\n",
        "    \"\"\"\n",
        "    # check if the dimensions of y_true and y_pred are correct\n",
        "    assert y_true.ndim == 2, \"y_true should be a column vector of shape (n_samples, 1)\"\n",
        "    assert y_pred.ndim == 2, \"y_pred should be a column vector of shape (n_samples, 1)\"\n",
        "\n",
        "    n_samples = X_expanded.shape[0]  # Number of samples\n",
        "    return (X_expanded.T@(y_pred-y_true))/n_samples  # Shape (p+1, 1)\n",
        "\n",
        "def GD_update(beta, gradient, learning_rate):\n",
        "    \"\"\"Performs a gradient descent update.\"\"\"\n",
        "    return beta - learning_rate * gradient\n",
        "\n",
        "def train_logistic_regression_GD(X, y, initial_learning_rate, decay_rate, n_iter):\n",
        "    \"\"\"Train logistic regression using gradient descent.\n",
        "\n",
        "    Args:\n",
        "    X: (n_samples, n_features) - Input features\n",
        "    y: (n_samples, ) - Binary labels\n",
        "    initial_learning_rate: float - Initial learning rate\n",
        "    decay_rate: float - Learning rate decay factor\n",
        "    n_iter: int - Number of iterations\n",
        "\n",
        "    Returns:\n",
        "    beta: (n_features + 1, 1) - Learned parameters\n",
        "    \"\"\"\n",
        "    np.random.seed(0)\n",
        "    n_samples, n_features = X.shape\n",
        "\n",
        "    X_expanded = np.hstack([np.ones((n_samples, 1)), X])  # Add column of ones\n",
        "\n",
        "    beta = np.random.rand(n_features + 1, 1)  # Shape (p+1, 1) for binary classification\n",
        "\n",
        "    # Training loop\n",
        "    for i in range(n_iter):\n",
        "        learning_rate = initial_learning_rate/(1+decay_rate*i)  # update the learning rate\n",
        "        y_pred = sigmoid(X_expanded @ beta) # Sigmoid activation for binary classification.\n",
        "        gradient = nll_gradient(X_expanded, y.reshape(-1, 1), y_pred)\n",
        "        beta = GD_update(beta, gradient, learning_rate)\n",
        "\n",
        "    return beta"
      ]
    },
    {
      "cell_type": "markdown",
      "metadata": {
        "id": "FvgEdRTpMY0f"
      },
      "source": [
        "### Logistic Regression for multiclass classsification on IRIS data"
      ]
    },
    {
      "cell_type": "markdown",
      "metadata": {
        "id": "wGAAvWDnMY0f"
      },
      "source": [
        "In some cases, we want to predict the class of a sample, and the possible set of classes has cardinality greater than two. For example, in the Iris dataset, the prediction is the species, and there are three possible predictions: 'Iris-setosa', 'Iris-versicolor' and 'Iris-virginica'."
      ]
    },
    {
      "cell_type": "code",
      "execution_count": null,
      "metadata": {
        "colab": {
          "base_uri": "https://localhost:8080/"
        },
        "id": "8ceotSUfMY0g",
        "outputId": "861f37cb-aa63-4363-fdf7-8afb36dc1702"
      },
      "outputs": [],
      "source": [
        "#set the seed\n",
        "np.random.seed(0)\n",
        "# Load again the data: IRIS considering only the features 'sepal_length', 'sepal_width' and with target 'species'\n",
        "data = pd.read_csv('/content/ML_2024-25/drive/MyDrive/AA24-25ML/iris.csv')\n",
        "data = data[['sepal length (cm)', 'sepal width (cm)', 'species']]\n",
        "classes = data['species'].unique()\n",
        "\n",
        "# Split data into X and y numpy arrays\n",
        "X = data.drop('species', axis=1).to_numpy()\n",
        "y = data['species'].to_numpy()\n",
        "\n",
        "n_samples = X.shape[0]\n",
        "n_features = X.shape[1]\n",
        "# check the shapes\n",
        "print(\"X shape: \", X.shape)\n",
        "print(\"y shape: \", y.shape)"
      ]
    },
    {
      "cell_type": "code",
      "execution_count": null,
      "metadata": {
        "colab": {
          "base_uri": "https://localhost:8080/"
        },
        "id": "AJGX6tQRMY0u",
        "outputId": "ac9841fd-afb1-4a45-b278-65a25feb7db2"
      },
      "outputs": [],
      "source": [
        "# Divide X and y into training and test sets using stratified sampling\n",
        "X_train, X_test, y_train, y_test = stratified_train_test_split(X, y, 0.8)\n",
        "print(\"Training set size: \", X_train.shape[0])\n",
        "print(\"Test set size: \", X_test.shape[0])"
      ]
    },
    {
      "cell_type": "markdown",
      "metadata": {
        "id": "Oq4Q30ZgMY0v"
      },
      "source": [
        "#### One VS One\n",
        "One possible strategy for solving multi-class classification is called **one vs one**. Specifically:\n",
        "- For each pair of class <code>(class_1, class_2)</code> we train a classifier that distinguishes between <code>(class_1, class_2)</code> (samples that were associated with the other classes are temporally removed from the training set). If we have $K$ classes, we will have $\\frac{K(K-1)}{2}$ classifiers.\n",
        "- At test time, we pass the new samples to classify through each of the $\\frac{K(K-1)}{2}$ classifiers.\n",
        "- We count how many time each class was predicted, hence \"won\" against the other classes.\n",
        "- We predict the class that won most frequently.\n",
        "There are different ways in which ties can be handled; today, we will break them arbitrarly."
      ]
    },
    {
      "cell_type": "code",
      "execution_count": null,
      "metadata": {
        "id": "H4tctMkpMY0v"
      },
      "outputs": [],
      "source": [
        "def train_oneVSone(X_train, y_train , classes, learning_rate, decay_rate, n_iter):\n",
        "    \"\"\"\n",
        "    X_train: matrix of training data\n",
        "    y_train: vector of training labels\n",
        "    classes: list of classes to consider\n",
        "\n",
        "    Returns a dictionary containing the optimal parameters for each model, trained on each pair of classes using Logistic Regression\n",
        "    \"\"\"\n",
        "    # Dictionary to store the optimal betas for each model (one for each pair of classes)\n",
        "    optimal_parameters = {}\n",
        "\n",
        "    # Iterate through class pairs and train classifiers\n",
        "    pairs = [(classes[0], classes[1]), (classes[1], classes[2]), (classes[2], classes[0])]\n",
        "\n",
        "    for class_1, class_2 in pairs:\n",
        "        print(f\"Training classifier for {class_1} vs {class_2}\")\n",
        "\n",
        "        # Filter training data for the selected class pair\n",
        "        mask = (y_train == class_1) | (y_train == class_2)  # Boolean mask for filtering\n",
        "        X_train_subset = X_train[mask]  # Select relevant samples\n",
        "        y_train_subset = y_train[mask]  # Select relevant labels\n",
        "\n",
        "        # Convert labels to 0 or 1 (1 if class_1, 0 otherwise)\n",
        "        y_train_subset = np.where( y_train_subset == class_1, 1, 0).astype(int)\n",
        "\n",
        "        # Train logistic regression model using gradient descent\n",
        "        beta = train_logistic_regression_GD(X_train_subset, y_train_subset, learning_rate, decay_rate, n_iter)\n",
        "\n",
        "        # Save model parameters\n",
        "        optimal_parameters[(class_1, class_2)] = beta\n",
        "\n",
        "    return optimal_parameters\n",
        "\n",
        "def predict_oneVSone(X_test, y_test, optimal_parameters):\n",
        "    \"\"\"\n",
        "    X_test : matrix of test data\n",
        "    y_test : vector of test labels\n",
        "    optimal_parameters : dictionary containing the optimal parameters for each model\n",
        "\n",
        "    Returns a vector of final predictions based on majority voting of all the models trained on classes pairs using Logistic Regression\n",
        "    \"\"\"\n",
        "    # Initialize vote counts; it contains one dictionary for each test sample\n",
        "    vote_counts = [{} for _ in range(len(y_test))]  # One dictionary for each test sample\n",
        "\n",
        "    # Evaluate classifiers on the test set\n",
        "    for (class_1, class_2), beta in optimal_parameters.items(): #optimal_parameters.items() returns the tuple (key, value) for each item in the dictionary (the keys are tuples (class_1, class_2), the values are betas)\n",
        "        #add column of ones to the test set\n",
        "        X_test_expanded = np.hstack([np.ones((X_test.shape[0], 1)), X_test])\n",
        "        #compute the probabilities\n",
        "        probabilities = sigmoid(X_test_expanded @ beta)\n",
        "        #compute the prediction\n",
        "        y_pred = (probabilities >= 0.5).astype(int)\n",
        "\n",
        "        for idx in range(len(y_test)):\n",
        "            pred = y_pred[idx]  # Get the predicted class label\n",
        "            predicted_class = class_1 if pred else class_2 # the model predicts class_1 if pred is 1, class_2 if pred is 0\n",
        "\n",
        "            # if the class is already in the dictionary, increment the count, otherwise add the class to the dictionary\n",
        "            if predicted_class in vote_counts[idx]:\n",
        "                vote_counts[idx][predicted_class] += 1\n",
        "            else:\n",
        "                vote_counts[idx][predicted_class] = 1\n",
        "\n",
        "    # Determine final prediction based on majority voting\n",
        "    final_predictions = []\n",
        "    for i in range(len(vote_counts)):\n",
        "        votes = vote_counts[i] # Get the dictionary of votes for the i-th test sample\n",
        "\n",
        "        # Extract keys and values separately\n",
        "        classes = list(votes.keys()) # Get the classes\n",
        "        vote_numbers = list(votes.values()) # Get how many times each class has been predicted\n",
        "\n",
        "        # Find the maximum vote count\n",
        "        max_votes = max(vote_numbers)\n",
        "\n",
        "        # Get all classes that have the max vote count (to handle ties)\n",
        "        tied_classes = [classes[j] for j in range(len(vote_numbers)) if vote_numbers[j] == max_votes]\n",
        "\n",
        "        # Randomly select one class in case of a tie\n",
        "        predicted_class = random.choice(tied_classes)\n",
        "\n",
        "        final_predictions.append(predicted_class)\n",
        "\n",
        "    return final_predictions\n"
      ]
    },
    {
      "cell_type": "code",
      "execution_count": null,
      "metadata": {
        "colab": {
          "base_uri": "https://localhost:8080/"
        },
        "id": "Mhb2UkDxMY0w",
        "outputId": "f36de3e6-a72a-41d7-e71b-1fc99b5f1a67"
      },
      "outputs": [],
      "source": [
        "# Training hyperparameters\n",
        "decay_rate = 0.0001\n",
        "n_iter = 10000              # Number of iterations\n",
        "learning_rate = 0.1\n",
        "optimal_parameters_oneVSone = train_oneVSone(X_train, y_train, classes, learning_rate, decay_rate, n_iter)\n",
        "final_predictions_oneVSone = predict_oneVSone(X_test, y_test, optimal_parameters_oneVSone)"
      ]
    },
    {
      "cell_type": "code",
      "execution_count": null,
      "metadata": {
        "colab": {
          "base_uri": "https://localhost:8080/"
        },
        "id": "gvxZpcBxMY0w",
        "outputId": "c55433fb-b4da-4566-f1cf-a0ed8617d148"
      },
      "outputs": [],
      "source": [
        "# compute accuracy of prediction\n",
        "acc = accuracy(y_test, final_predictions_oneVSone)\n",
        "print(\"Accuracy: \", acc)"
      ]
    },
    {
      "cell_type": "markdown",
      "metadata": {
        "id": "pRhh7DveMY0w"
      },
      "source": [
        "#### One VS All"
      ]
    },
    {
      "cell_type": "markdown",
      "metadata": {
        "id": "mlUn5S97MY0w"
      },
      "source": [
        "Another possible strategy for solving multi-class classification is called **one vs all**. Specifically:\n",
        "- For each class <code>class_1</code> we train a classifier that distinguishes between <code>class_1</code> and <code>not class_1</code> (all samples from the training set are considered). If we have $K$ classes, we will have $K$ classifiers.\n",
        "- At test time, we pass the new samples to classify through each of the $K$ classifiers.\n",
        "- We save the confidence score (probability) derived from each classifier.\n",
        "- We predict the class with the highest confidence score."
      ]
    },
    {
      "cell_type": "code",
      "execution_count": null,
      "metadata": {
        "id": "HXnRAFn5MY0x"
      },
      "outputs": [],
      "source": [
        "def train_oneVSall(X_train, y_train, classes, learning_rate, decay_rate, n_iter):\n",
        "    \"\"\"\n",
        "    X_train: matrix of training data\n",
        "    y_train: vector of training labels\n",
        "    classes: list of classes to consider\n",
        "\n",
        "    Returns a dictionary containing the optimal parameters for each model, trained on each class using Logistic Regression\n",
        "    \"\"\"\n",
        "    # Dictionary to store the optimal betas for each model (one for each class)\n",
        "    optimal_parameters = {}\n",
        "\n",
        "    # Iterate through each unique class and train a one-vs-all classifier\n",
        "    for i in range(len(classes)):\n",
        "        class_1 = classes[i]  # Get the class label\n",
        "\n",
        "        print(f\"Training classifier for {class_1} vs all\")\n",
        "\n",
        "        # Convert class labels to binary (1 if the class is class_1, 0 otherwise)\n",
        "        y_train_binary = np.where(y_train == class_1, 1, 0).astype(int)  # 1 for class_1, 0 for all others\n",
        "\n",
        "        # Train logistic regression model using gradient descent\n",
        "        beta = train_logistic_regression_GD(X_train, y_train_binary, learning_rate, decay_rate, n_iter)\n",
        "\n",
        "        # Save model parameters (betas)\n",
        "        optimal_parameters[class_1] = beta  # Keyed by the class label\n",
        "\n",
        "    return optimal_parameters\n",
        "\n",
        "def predict_oneVSall(X_test, y_test, optimal_parameters):\n",
        "    \"\"\"\n",
        "    X_test : matrix of test data\n",
        "    y_test : vector of test labels\n",
        "    optimal_parameters: dictionary containing the optimal parameters for each model\n",
        "\n",
        "    Returns a vector of final predictions based on majority voting of all the models trained on each class using Logistic Regression\n",
        "    \"\"\"\n",
        "    # Initialize probability dictionary for each test sample (for each sample, it will contain the probability of each class, as computed by the corresponding model)\n",
        "    probabilities = [{} for _ in range(len(y_test))]\n",
        "\n",
        "    # Iterate through each class and compute probabilities using the corresponding model (beta)\n",
        "    for class_1, beta in optimal_parameters.items():\n",
        "        # Predict probabilities for class_1 using the custom logistic regression\n",
        "        X_test_expanded = np.hstack([np.ones((X_test.shape[0], 1)), X_test])  # Add a column of ones (bias term)\n",
        "        class_probs = sigmoid(X_test_expanded @ beta)  # Compute the probabilities using the sigmoid function\n",
        "\n",
        "        # Store probabilities in the dictionary for each test sample\n",
        "        for i in range(len(y_test)):\n",
        "            probabilities[i][class_1] = class_probs[i, 0]  # Assign the probability for class_1\n",
        "\n",
        "    # Initialize final predictions list\n",
        "    final_predictions = []\n",
        "\n",
        "    # Iterate through each test sample's probability dictionary\n",
        "    for probs in probabilities:\n",
        "        # Extract class labels\n",
        "        class_labels = list(probs.keys())\n",
        "\n",
        "        # Extract probability values\n",
        "        prob_values = list(probs.values())\n",
        "\n",
        "        # Find the class with the highest probability\n",
        "        max_index = prob_values.index(max(prob_values))\n",
        "        predicted_class = class_labels[max_index]\n",
        "\n",
        "        # Store the final prediction\n",
        "        final_predictions.append(predicted_class)\n",
        "\n",
        "    return final_predictions"
      ]
    },
    {
      "cell_type": "code",
      "execution_count": null,
      "metadata": {
        "id": "jiQ_CqU0MY0x"
      },
      "outputs": [],
      "source": [
        "# Training hyperparameters\n",
        "decay_rate = 0.0001\n",
        "n_iter = 10000              # Number of iterations\n",
        "learning_rate = 0.1\n",
        "optimal_parameters_oneVSall = train_oneVSall(X_train, y_train, classes, learning_rate, decay_rate, n_iter)\n",
        "final_predictions_oneVSall = predict_oneVSall(X_test, y_test, optimal_parameters_oneVSall)"
      ]
    },
    {
      "cell_type": "code",
      "execution_count": null,
      "metadata": {
        "id": "WYfHe9IeMY0x"
      },
      "outputs": [],
      "source": [
        "# Compute and print the accuracy of the predictions\n",
        "acc = accuracy(y_test, final_predictions_oneVSall)\n",
        "print(\"Accuracy: \", acc)"
      ]
    },
    {
      "cell_type": "markdown",
      "metadata": {
        "id": "SpZMuVTuMY0x"
      },
      "source": [
        "## Decision boundaries"
      ]
    },
    {
      "cell_type": "code",
      "execution_count": null,
      "metadata": {
        "id": "LxQXCaBbMY0y"
      },
      "outputs": [],
      "source": [
        "from sklearn.linear_model import LogisticRegression\n",
        "from sklearn.datasets import make_blobs\n",
        "from utils import plot_decision_boundary_2d, create_2d_meshpoints, plot_probability_boundary, plot_combined_probability_boundary"
      ]
    },
    {
      "cell_type": "code",
      "execution_count": null,
      "metadata": {
        "id": "Dma-oWU2MY0y"
      },
      "outputs": [],
      "source": [
        "# 2-dimensional dataset\n",
        "\n",
        "# Generate synthetic dataset\n",
        "data = make_blobs(n_samples=100, centers=3, n_features=2, random_state=0) #make_blobs creates a synthetic dataset such that in the y target there are 3 classes and 3 clusters\n",
        "assert len(data) == 2\n",
        "X, y = data\n",
        "\n",
        "n_features = X.shape[1]\n",
        "resolution = 400\n",
        "\n",
        "# Generate a dense grid of points covering the 2D feature space.\n",
        "# If X has more than two features, PCA is applied to reduce it to two dimensions.\n",
        "# X_grid: Flattened array of all grid points in the 2D space.\n",
        "# xx, yy: Meshgrid matrices representing x and y coordinates for visualization.\n",
        "# X_2d: Original dataset X, potentially reduced to 2D if necessary.\n",
        "X_grid, xx, yy, X_2d = create_2d_meshpoints(X, resolution)\n",
        "\n",
        "# Train logistic regression model using scikit-learn\n",
        "# parameters: multi_class='ovr' (one-vs-rest), solver='lbfgs' (optimization algorithm), max_iter=1000 (maximum number of iterations), random_state=0 (seed)\n",
        "clf = LogisticRegression(multi_class='ovr', solver='lbfgs', max_iter=1000, random_state=0)\n",
        "# train the model\n",
        "clf.fit(X, y)\n",
        "\n",
        "# Define the probability function using the trained model\n",
        "probability_function = clf.predict_proba\n",
        "\n",
        "# Plot decision boundary\n",
        "plot_decision_boundary_2d(X_grid, y, probability_function, xx, yy, X_2d, n_features)\n",
        "\n",
        "# Plot probability boundary (it shows how confident the model is about its predictions)\n",
        "plot_probability_boundary(probability_function, X, y)"
      ]
    },
    {
      "cell_type": "markdown",
      "metadata": {
        "id": "-_PtyMOaMY0y"
      },
      "source": [
        "If the features are > 2, PCA is used to plot the decision boundary in 2D: the first and the second principal components are shown."
      ]
    },
    {
      "cell_type": "code",
      "execution_count": null,
      "metadata": {
        "id": "5E4t-nYXMY0y"
      },
      "outputs": [],
      "source": [
        "# Generate multi-class data (3 classes)\n",
        "data = make_blobs(n_samples=100, centers=3, n_features=6, random_state=0) # in this case, there are 6 features\n",
        "assert len(data) == 2\n",
        "X, y = data\n",
        "\n",
        "n_features = X.shape[1]\n",
        "resolution = 400\n",
        "\n",
        "# Generate a dense grid of points covering the 2D feature space.\n",
        "# If X has more than two features, PCA is applied to reduce it to two dimensions.\n",
        "# X_grid: Flattened array of all grid points in the 2D space.\n",
        "# xx, yy: Meshgrid matrices representing x and y coordinates for visualization.\n",
        "# X_2d: Original dataset X, potentially reduced to 2D if necessary.\n",
        "X_grid, xx, yy, X_2d = create_2d_meshpoints(X, resolution)\n",
        "\n",
        "# Train logistic regression model using scikit-learn\n",
        "# parameters: multi_class='ovr' (one-vs-rest), solver='lbfgs' (optimization algorithm), max_iter=1000 (maximum number of iterations), random_state=0 (seed)\n",
        "clf = LogisticRegression(multi_class='ovr', solver='lbfgs', max_iter=1000, random_state=0)\n",
        "# train the model\n",
        "clf.fit(X, y)\n",
        "\n",
        "# Define the probability function using the trained model\n",
        "probability_function = clf.predict_proba\n",
        "\n",
        "# Plot decision boundary\n",
        "plot_decision_boundary_2d(X_grid, y, probability_function, xx, yy, X_2d, n_features)\n",
        "\n",
        "# Plot probability boundary\n",
        "plot_probability_boundary(probability_function, X, y)\n",
        "\n",
        "# combined the boundaries computed above in one figure\n",
        "plot_combined_probability_boundary(probability_function, X_grid, X_2d, xx, yy, X, y, linewidth=3)"
      ]
    },
    {
      "cell_type": "markdown",
      "metadata": {
        "id": "Olmecd6sMY0z"
      },
      "source": [
        "## 🏋️‍♀️ Exercises"
      ]
    },
    {
      "cell_type": "markdown",
      "metadata": {
        "id": "iNFQPGZOMY0z"
      },
      "source": [
        "### Binary classification with K-NN"
      ]
    },
    {
      "cell_type": "markdown",
      "metadata": {
        "id": "7_4UNIYCMY0z"
      },
      "source": [
        "1. Load the 'breast_cancer.csv' file in drive/MyDrive/AA24-25ML\n",
        "    - Get X and y arrays. Use as target the 'target' column.\n",
        "    - Divide randomly, using stratified sampling, in X_train, X_test, y_train, y_test.\n",
        "2. Rewrite the K-NN classification function:\n",
        "    - Such that, together with the most common labels it returns the average distance from neighbors.\n",
        "    - Using only euclidean distance.\n",
        "    - Be careful not to overwrite the method by choosing the same name of the one already implemented.\n",
        "3. Make predictions on the test set. Use k=20.\n",
        "4. Compute, by re-implementing the functions from scratch:\n",
        "    - accuracy\n",
        "    - specificity\n",
        "    - precision\n",
        "    - recall\n",
        "\n",
        "Compare with the already implemented ones."
      ]
    },
    {
      "cell_type": "code",
      "execution_count": 16,
      "metadata": {
        "id": "DgjKZXx2MY0z"
      },
      "outputs": [
        {
          "data": {
            "text/html": [
              "<div>\n",
              "<style scoped>\n",
              "    .dataframe tbody tr th:only-of-type {\n",
              "        vertical-align: middle;\n",
              "    }\n",
              "\n",
              "    .dataframe tbody tr th {\n",
              "        vertical-align: top;\n",
              "    }\n",
              "\n",
              "    .dataframe thead th {\n",
              "        text-align: right;\n",
              "    }\n",
              "</style>\n",
              "<table border=\"1\" class=\"dataframe\">\n",
              "  <thead>\n",
              "    <tr style=\"text-align: right;\">\n",
              "      <th></th>\n",
              "      <th>mean radius</th>\n",
              "      <th>mean texture</th>\n",
              "      <th>mean perimeter</th>\n",
              "      <th>mean area</th>\n",
              "      <th>mean smoothness</th>\n",
              "      <th>mean compactness</th>\n",
              "      <th>mean concavity</th>\n",
              "      <th>mean concave points</th>\n",
              "      <th>mean symmetry</th>\n",
              "      <th>mean fractal dimension</th>\n",
              "      <th>...</th>\n",
              "      <th>worst texture</th>\n",
              "      <th>worst perimeter</th>\n",
              "      <th>worst area</th>\n",
              "      <th>worst smoothness</th>\n",
              "      <th>worst compactness</th>\n",
              "      <th>worst concavity</th>\n",
              "      <th>worst concave points</th>\n",
              "      <th>worst symmetry</th>\n",
              "      <th>worst fractal dimension</th>\n",
              "      <th>target</th>\n",
              "    </tr>\n",
              "  </thead>\n",
              "  <tbody>\n",
              "    <tr>\n",
              "      <th>0</th>\n",
              "      <td>17.99</td>\n",
              "      <td>10.38</td>\n",
              "      <td>122.80</td>\n",
              "      <td>1001.0</td>\n",
              "      <td>0.11840</td>\n",
              "      <td>0.27760</td>\n",
              "      <td>0.3001</td>\n",
              "      <td>0.14710</td>\n",
              "      <td>0.2419</td>\n",
              "      <td>0.07871</td>\n",
              "      <td>...</td>\n",
              "      <td>17.33</td>\n",
              "      <td>184.60</td>\n",
              "      <td>2019.0</td>\n",
              "      <td>0.1622</td>\n",
              "      <td>0.6656</td>\n",
              "      <td>0.7119</td>\n",
              "      <td>0.2654</td>\n",
              "      <td>0.4601</td>\n",
              "      <td>0.11890</td>\n",
              "      <td>0</td>\n",
              "    </tr>\n",
              "    <tr>\n",
              "      <th>1</th>\n",
              "      <td>20.57</td>\n",
              "      <td>17.77</td>\n",
              "      <td>132.90</td>\n",
              "      <td>1326.0</td>\n",
              "      <td>0.08474</td>\n",
              "      <td>0.07864</td>\n",
              "      <td>0.0869</td>\n",
              "      <td>0.07017</td>\n",
              "      <td>0.1812</td>\n",
              "      <td>0.05667</td>\n",
              "      <td>...</td>\n",
              "      <td>23.41</td>\n",
              "      <td>158.80</td>\n",
              "      <td>1956.0</td>\n",
              "      <td>0.1238</td>\n",
              "      <td>0.1866</td>\n",
              "      <td>0.2416</td>\n",
              "      <td>0.1860</td>\n",
              "      <td>0.2750</td>\n",
              "      <td>0.08902</td>\n",
              "      <td>0</td>\n",
              "    </tr>\n",
              "    <tr>\n",
              "      <th>2</th>\n",
              "      <td>19.69</td>\n",
              "      <td>21.25</td>\n",
              "      <td>130.00</td>\n",
              "      <td>1203.0</td>\n",
              "      <td>0.10960</td>\n",
              "      <td>0.15990</td>\n",
              "      <td>0.1974</td>\n",
              "      <td>0.12790</td>\n",
              "      <td>0.2069</td>\n",
              "      <td>0.05999</td>\n",
              "      <td>...</td>\n",
              "      <td>25.53</td>\n",
              "      <td>152.50</td>\n",
              "      <td>1709.0</td>\n",
              "      <td>0.1444</td>\n",
              "      <td>0.4245</td>\n",
              "      <td>0.4504</td>\n",
              "      <td>0.2430</td>\n",
              "      <td>0.3613</td>\n",
              "      <td>0.08758</td>\n",
              "      <td>0</td>\n",
              "    </tr>\n",
              "    <tr>\n",
              "      <th>3</th>\n",
              "      <td>11.42</td>\n",
              "      <td>20.38</td>\n",
              "      <td>77.58</td>\n",
              "      <td>386.1</td>\n",
              "      <td>0.14250</td>\n",
              "      <td>0.28390</td>\n",
              "      <td>0.2414</td>\n",
              "      <td>0.10520</td>\n",
              "      <td>0.2597</td>\n",
              "      <td>0.09744</td>\n",
              "      <td>...</td>\n",
              "      <td>26.50</td>\n",
              "      <td>98.87</td>\n",
              "      <td>567.7</td>\n",
              "      <td>0.2098</td>\n",
              "      <td>0.8663</td>\n",
              "      <td>0.6869</td>\n",
              "      <td>0.2575</td>\n",
              "      <td>0.6638</td>\n",
              "      <td>0.17300</td>\n",
              "      <td>0</td>\n",
              "    </tr>\n",
              "    <tr>\n",
              "      <th>4</th>\n",
              "      <td>20.29</td>\n",
              "      <td>14.34</td>\n",
              "      <td>135.10</td>\n",
              "      <td>1297.0</td>\n",
              "      <td>0.10030</td>\n",
              "      <td>0.13280</td>\n",
              "      <td>0.1980</td>\n",
              "      <td>0.10430</td>\n",
              "      <td>0.1809</td>\n",
              "      <td>0.05883</td>\n",
              "      <td>...</td>\n",
              "      <td>16.67</td>\n",
              "      <td>152.20</td>\n",
              "      <td>1575.0</td>\n",
              "      <td>0.1374</td>\n",
              "      <td>0.2050</td>\n",
              "      <td>0.4000</td>\n",
              "      <td>0.1625</td>\n",
              "      <td>0.2364</td>\n",
              "      <td>0.07678</td>\n",
              "      <td>0</td>\n",
              "    </tr>\n",
              "  </tbody>\n",
              "</table>\n",
              "<p>5 rows × 31 columns</p>\n",
              "</div>"
            ],
            "text/plain": [
              "   mean radius  mean texture  mean perimeter  mean area  mean smoothness  \\\n",
              "0        17.99         10.38          122.80     1001.0          0.11840   \n",
              "1        20.57         17.77          132.90     1326.0          0.08474   \n",
              "2        19.69         21.25          130.00     1203.0          0.10960   \n",
              "3        11.42         20.38           77.58      386.1          0.14250   \n",
              "4        20.29         14.34          135.10     1297.0          0.10030   \n",
              "\n",
              "   mean compactness  mean concavity  mean concave points  mean symmetry  \\\n",
              "0           0.27760          0.3001              0.14710         0.2419   \n",
              "1           0.07864          0.0869              0.07017         0.1812   \n",
              "2           0.15990          0.1974              0.12790         0.2069   \n",
              "3           0.28390          0.2414              0.10520         0.2597   \n",
              "4           0.13280          0.1980              0.10430         0.1809   \n",
              "\n",
              "   mean fractal dimension  ...  worst texture  worst perimeter  worst area  \\\n",
              "0                 0.07871  ...          17.33           184.60      2019.0   \n",
              "1                 0.05667  ...          23.41           158.80      1956.0   \n",
              "2                 0.05999  ...          25.53           152.50      1709.0   \n",
              "3                 0.09744  ...          26.50            98.87       567.7   \n",
              "4                 0.05883  ...          16.67           152.20      1575.0   \n",
              "\n",
              "   worst smoothness  worst compactness  worst concavity  worst concave points  \\\n",
              "0            0.1622             0.6656           0.7119                0.2654   \n",
              "1            0.1238             0.1866           0.2416                0.1860   \n",
              "2            0.1444             0.4245           0.4504                0.2430   \n",
              "3            0.2098             0.8663           0.6869                0.2575   \n",
              "4            0.1374             0.2050           0.4000                0.1625   \n",
              "\n",
              "   worst symmetry  worst fractal dimension  target  \n",
              "0          0.4601                  0.11890       0  \n",
              "1          0.2750                  0.08902       0  \n",
              "2          0.3613                  0.08758       0  \n",
              "3          0.6638                  0.17300       0  \n",
              "4          0.2364                  0.07678       0  \n",
              "\n",
              "[5 rows x 31 columns]"
            ]
          },
          "metadata": {},
          "output_type": "display_data"
        }
      ],
      "source": [
        "# load data\n",
        "data = pd.read_csv(\"breast_cancer.csv\")\n",
        "display(data.head())\n",
        "\n",
        "y = data['target'].values # colonna target\n",
        "X = data.drop(columns='target').values # tutte le colonne tranne values\n",
        "\n",
        "train_prop = 0.8\n",
        "\n",
        "X_train, X_test, y_train, y_test = stratified_train_test_split(X, y, train_prop)"
      ]
    },
    {
      "cell_type": "code",
      "execution_count": 32,
      "metadata": {},
      "outputs": [],
      "source": [
        "def KNN_classification_function(X_train, y_train, X_test, k, distance_metrics):\n",
        "    n_train_samples = X_train.shape[0]\n",
        "    n_test_samples = X_test.shape[0]\n",
        "\n",
        "    if k > n_train_samples:\n",
        "        k = n_train_samples\n",
        "\n",
        "    predictions = []\n",
        "\n",
        "    for i in range(n_test_samples):\n",
        "        x_test = X_test[i, :]\n",
        "\n",
        "        pairs_dist = []\n",
        "        for j in range(n_train_samples):\n",
        "            if distance_metrics == 'euclidean':\n",
        "                dist = euclidean_distance(X_train[j,:], x_test)\n",
        "            elif distance_metrics == 'manhattan':\n",
        "                dist = manhattan_distance(X_train[j,:], x_test)\n",
        "\n",
        "            pairs_dist.append([dist, y_train[i]])\n",
        "\n",
        "        pairs_dist = sorted(pairs_dist, key = lambda x:x[0])\n",
        "\n",
        "        k_nearest = pairs_dist[:k]\n",
        "        k_nearest_labels = []\n",
        "\n",
        "        for dist, label in k_nearest:\n",
        "            k_nearest_labels.append(label)\n",
        "\n",
        "        # get the most common label\n",
        "        unique_labels, counts = np.unique(k_nearest_labels, return_counts=True)\n",
        "        idx_max_count = np.argmax(counts)\n",
        "        most_common_label = unique_labels[idx_max_count]\n",
        "        predictions.append(most_common_label)\n",
        "\n",
        "    return predictions"
      ]
    },
    {
      "cell_type": "code",
      "execution_count": 18,
      "metadata": {},
      "outputs": [],
      "source": [
        "def accuracy_function(y_true, y_pred):\n",
        "    TP, TN, FP, FN = TP_TN_FP_FN(y_true, y_pred)\n",
        "    return (TP + TN) / (TP + TN + FP + FN)\n",
        "\n",
        "def specificity_function(y_true, y_pred):\n",
        "    TP, TN, FP, FN = TP_TN_FP_FN(y_true, y_pred)\n",
        "    return TN / (TN + FP)\n",
        "\n",
        "def precision_function(y_true, y_pred):\n",
        "    TP, TN, FP, FN = TP_TN_FP_FN(y_true, y_pred)\n",
        "    return TP / ( TP + FP)\n",
        "\n",
        "def recall_function(y_true, y_pred):\n",
        "    TP, TN, FP, FN = TP_TN_FP_FN(y_true, y_pred)\n",
        "    return TP / (TP + FN)"
      ]
    },
    {
      "cell_type": "code",
      "execution_count": 33,
      "metadata": {},
      "outputs": [
        {
          "name": "stderr",
          "output_type": "stream",
          "text": [
            "C:\\Users\\chiar\\AppData\\Local\\Temp\\ipykernel_13428\\51013311.py:3: RuntimeWarning: invalid value encountered in scalar divide\n",
            "  return (TP + TN) / (TP + TN + FP + FN)\n",
            "C:\\Users\\chiar\\AppData\\Local\\Temp\\ipykernel_13428\\51013311.py:7: RuntimeWarning: invalid value encountered in scalar divide\n",
            "  return TN / (TN + FP)\n",
            "C:\\Users\\chiar\\AppData\\Local\\Temp\\ipykernel_13428\\51013311.py:11: RuntimeWarning: invalid value encountered in scalar divide\n",
            "  return TP / ( TP + FP)\n",
            "C:\\Users\\chiar\\AppData\\Local\\Temp\\ipykernel_13428\\51013311.py:15: RuntimeWarning: invalid value encountered in scalar divide\n",
            "  return TP / (TP + FN)\n"
          ]
        }
      ],
      "source": [
        "k = 20\n",
        "y_pred = KNN_classification_function(X_train, y_train, X_test, k, 'euclidean')\n",
        "\n",
        "acc = accuracy_function(y_true, y_pred)\n",
        "spec = specificity_function(y_true, y_pred)\n",
        "prec = precision_function(y_true, y_pred)\n",
        "rec = recall_function(y_true, y_pred)"
      ]
    },
    {
      "cell_type": "markdown",
      "metadata": {
        "id": "YvjkIPRGMY0z"
      },
      "source": [
        "### Logistic Regression with Scikit-learn\n",
        "Using the same dataset:\n",
        "- Train a Logistic Regression model using the Scikit-learn implementation.\n",
        "- Make predictions on the test set using the `.predict(...)` method.\n",
        "- Compute accuracy, specificity, recall, precision and plot confusion matrix.\n",
        "- Comment the results and compare with K-NN ones.\n",
        "- What if we standardize data? What happens? Comment the results."
      ]
    }
  ],
  "metadata": {
    "colab": {
      "provenance": []
    },
    "kernelspec": {
      "display_name": "Python 3",
      "language": "python",
      "name": "python3"
    },
    "language_info": {
      "codemirror_mode": {
        "name": "ipython",
        "version": 3
      },
      "file_extension": ".py",
      "mimetype": "text/x-python",
      "name": "python",
      "nbconvert_exporter": "python",
      "pygments_lexer": "ipython3",
      "version": "3.9.13"
    }
  },
  "nbformat": 4,
  "nbformat_minor": 0
}
