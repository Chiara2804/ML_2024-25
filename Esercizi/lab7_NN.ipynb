{
 "cells": [
  {
   "cell_type": "markdown",
   "id": "3b3ba943",
   "metadata": {},
   "source": [
    "# Neural Networks"
   ]
  },
  {
   "cell_type": "code",
   "execution_count": 5,
   "id": "21d75576",
   "metadata": {},
   "outputs": [],
   "source": [
    "import numpy as np\n",
    "import matplotlib.pyplot as plt\n",
    "from collections import Counter\n",
    "\n",
    "import tensorflow as tf\n",
    "\n",
    "from tensorflow.keras import Sequential, Input\n",
    "from tensorflow.keras.layers import Flatten, Dense, Dropout"
   ]
  },
  {
   "cell_type": "code",
   "execution_count": 6,
   "id": "6a18a67e",
   "metadata": {},
   "outputs": [],
   "source": [
    "# funzione per creare un Keras Sequential model\n",
    "\n",
    "def create_model(compile_model):\n",
    "    model = Sequential([ # architettura specifica\n",
    "        Input(shape=(28,28)), \n",
    "        Flatten(),\n",
    "        Dense(512, activation='relu'),\n",
    "        Dropout(0.2),\n",
    "        Dense(10, activation='relu')\n",
    "    ])\n",
    "\n",
    "    # se vogliamo allenare, compile_model = True\n",
    "    if compile_model:\n",
    "        model.compile(\n",
    "            loss='sparse_categorical_cossentropy',\n",
    "            optimizer = 'adam',\n",
    "            metrics=['accuracy']\n",
    "        )\n",
    "\n",
    "    return model\n",
    "\n",
    "model = create_model(True)"
   ]
  }
 ],
 "metadata": {
  "kernelspec": {
   "display_name": "Python 3",
   "language": "python",
   "name": "python3"
  },
  "language_info": {
   "codemirror_mode": {
    "name": "ipython",
    "version": 3
   },
   "file_extension": ".py",
   "mimetype": "text/x-python",
   "name": "python",
   "nbconvert_exporter": "python",
   "pygments_lexer": "ipython3",
   "version": "3.9.13"
  }
 },
 "nbformat": 4,
 "nbformat_minor": 5
}
