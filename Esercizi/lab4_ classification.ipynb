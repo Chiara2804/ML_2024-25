{
 "cells": [
  {
   "cell_type": "markdown",
   "id": "86a73a71",
   "metadata": {},
   "source": [
    "# Classification with KNN and Logistic Regression"
   ]
  },
  {
   "cell_type": "code",
   "execution_count": 12,
   "id": "017a09c6",
   "metadata": {},
   "outputs": [],
   "source": [
    "import numpy as np\n",
    "import seaborn as sns\n",
    "import matplotlib.pyplot as plt"
   ]
  },
  {
   "cell_type": "code",
   "execution_count": 13,
   "id": "62034f06",
   "metadata": {},
   "outputs": [],
   "source": [
    "# Metriche\n",
    "\n",
    "def TP_TN_FP_FN(y_true, y_pred):\n",
    "    positive = (y_true == 1)\n",
    "    negative = (y_true == 0)\n",
    "    pred_positive = (y_pred == 1)\n",
    "    pred_negative = (y_pred == 0)\n",
    "\n",
    "    TP = np.sum(positive & pred_positive)\n",
    "    TN = np.sum(negative & pred_negative)\n",
    "    FP = np.sum(negative & pred_positive)\n",
    "    FN = np.sum(positive & pred_negative)\n",
    "\n",
    "    return TP, TN, FP, FN\n",
    "\n",
    "def accuracy (y_true, y_pred):\n",
    "    total_pred = len(y_true)\n",
    "    is_correct = (y_true == y_pred)\n",
    "    n_correct_pred = np.sum(is_correct)\n",
    "    accuracy = n_correct_pred / total_pred\n",
    "\n",
    "    return accuracy\n",
    "\n",
    "def specificity(y_true, y_pred):\n",
    "    TP, TN, FP, FN = TP_TN_FP_FN(y_true, y_pred)\n",
    "    specifity = TN / (TN + FP)\n",
    "    \n",
    "    return specifity\n",
    "\n",
    "def precision(y_true, y_pred):\n",
    "    TP, TN, FP, FN = TP_TN_FP_FN(y_true, y_pred)\n",
    "    precision = TP / (TP + FP)\n",
    "    return precision\n",
    "\n",
    "def recall (y_true, y_pred):\n",
    "    TP, TN, FP, FN = TP_TN_FP_FN(y_true, y_pred)\n",
    "    recall = TP / (TP + FN)\n",
    "    \n",
    "    return recall\n"
   ]
  },
  {
   "cell_type": "code",
   "execution_count": 14,
   "id": "e6c079d6",
   "metadata": {},
   "outputs": [
    {
     "name": "stdout",
     "output_type": "stream",
     "text": [
      "0.6666666666666666\n"
     ]
    }
   ],
   "source": [
    "true_labels = np.array(['cat', 'dog', 'cat'])\n",
    "predicted_labels = np.array(['cat', 'dog', 'dog'])\n",
    "acc = accuracy(true_labels, predicted_labels)\n",
    "print(acc)\n"
   ]
  },
  {
   "cell_type": "code",
   "execution_count": 15,
   "id": "ea207573",
   "metadata": {},
   "outputs": [
    {
     "data": {
      "image/png": "[encoded data removed]",
      "text/plain": [
       "<Figure size 640x480 with 2 Axes>"
      ]
     },
     "metadata": {},
     "output_type": "display_data"
    }
   ],
   "source": [
    "def get_confusion_matrix(y_true, y_pred, classes):\n",
    "    \"\"\"\n",
    "    Args:\n",
    "    y_true: array of true labels. Shape (n_samples, ) or (n_samples, 1)\n",
    "    y_pred: array of predicted labels. Shape (n_samples, ) or (n_samples, 1)\n",
    "    classes: list of class labels\n",
    "    \"\"\"\n",
    "    n_classes = len(classes)\n",
    "    confusion_matrix = np.zeros((n_classes, n_classes))\n",
    "    for i in range(n_classes):\n",
    "        for j in range(n_classes):\n",
    "            confusion_matrix[i, j] = np.sum((y_true == classes[i]) & (y_pred == classes[j]))\n",
    "    return confusion_matrix\n",
    "\n",
    "\n",
    "classes = ['cat', 'dog', 'rabbit']\n",
    "true_labels      = np.array(['cat', 'cat', 'cat', 'cat', 'dog', 'dog', 'dog', 'rabbit', 'rabbit' ])\n",
    "predicted_labels = np.array(['cat', 'cat', 'cat', 'dog', 'dog', 'dog', 'cat', 'rabbit', 'dog'])\n",
    "\n",
    "confusion_matrix = get_confusion_matrix(true_labels, predicted_labels, classes)\n",
    "sns.heatmap(confusion_matrix, annot=True, xticklabels=classes, yticklabels=classes, cmap='Blues')\n",
    "plt.xlabel('Predicted labels')\n",
    "plt.ylabel('True labels')\n",
    "plt.title('Confusion matrix')\n",
    "plt.show()"
   ]
  },
  {
   "cell_type": "code",
   "execution_count": 16,
   "id": "929d36f7",
   "metadata": {},
   "outputs": [
    {
     "name": "stdout",
     "output_type": "stream",
     "text": [
      "True Positives:  4  True Negatives:  2  False Positives:  1  False Negatives:  3\n",
      "Accuracy:  0.6\n",
      "Specificity:  0.6666666666666666\n",
      "Precision:  0.8\n",
      "Recall:  0.5714285714285714\n"
     ]
    }
   ],
   "source": [
    "# test metriche\n",
    "\n",
    "y_true = np.array([1, 1, 1, 1, 0, 0, 0, 1, 1, 1])\n",
    "y_pred = np.array([1, 1, 1, 1, 0, 0, 1, 0, 0, 0])\n",
    "TP, TN, FP, FN = TP_TN_FP_FN(y_true, y_pred)\n",
    "acc = accuracy(y_true, y_pred)\n",
    "spec = specificity(y_true, y_pred)\n",
    "prec = precision(y_true, y_pred)\n",
    "rec = recall(y_true, y_pred)\n",
    "\n",
    "print(\"True Positives: \", TP, \" True Negatives: \", TN, \" False Positives: \", FP, \" False Negatives: \", FN)\n",
    "print(\"Accuracy: \", acc)\n",
    "print(\"Specificity: \", spec)\n",
    "print(\"Precision: \", prec)\n",
    "print(\"Recall: \", rec)"
   ]
  },
  {
   "cell_type": "markdown",
   "id": "a433b031",
   "metadata": {},
   "source": [
    "# Stratified Spliting"
   ]
  },
  {
   "cell_type": "code",
   "execution_count": null,
   "id": "2ebfedaf",
   "metadata": {},
   "outputs": [],
   "source": []
  }
 ],
 "metadata": {
  "kernelspec": {
   "display_name": "Python 3",
   "language": "python",
   "name": "python3"
  },
  "language_info": {
   "codemirror_mode": {
    "name": "ipython",
    "version": 3
   },
   "file_extension": ".py",
   "mimetype": "text/x-python",
   "name": "python",
   "nbconvert_exporter": "python",
   "pygments_lexer": "ipython3",
   "version": "3.10.11"
  }
 },
 "nbformat": 4,
 "nbformat_minor": 5
}
