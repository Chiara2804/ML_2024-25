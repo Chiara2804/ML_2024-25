{
 "cells": [
  {
   "cell_type": "markdown",
   "metadata": {},
   "source": [
    "**ML COURSE 2024-2025**\n",
    "# LAB2: Linear / Ridge Regression and Cross-Validation\n",
    "\n",
    "#### Summary\n",
    "- **Linear Regression**\n",
    "    - MSE and $R^2$ score\n",
    "    - Feature augmentation\n",
    "- **Ridge Regression**\n",
    "    - Normalization and Unnormalization\n",
    "- **Cross-Validation**\n",
    "    - K-Fold Cross-Validation\n",
    "    - Monte-Carlo Cross-Validation"
   ]
  },
  {
   "cell_type": "code",
   "execution_count": null,
   "metadata": {},
   "outputs": [],
   "source": [
    "%cd .."
   ]
  },
  {
   "cell_type": "markdown",
   "metadata": {},
   "source": [
    "## Linear Regression"
   ]
  },
  {
   "cell_type": "markdown",
   "metadata": {},
   "source": [
    "In this notebook, we will implement linear regression from scratch using numpy.\n",
    "\n",
    "> Linear regression: find the best line that fits the data.\n",
    "\n",
    "**But how do we quantify what \"best\" means?**\n",
    "\n",
    "We need a way to mathematically \"judge\" how well our linear model fits the data."
   ]
  },
  {
   "cell_type": "code",
   "execution_count": 1,
   "metadata": {},
   "outputs": [
    {
     "data": {
      "text/plain": [
       "[<matplotlib.lines.Line2D at 0x7f1b74ef3500>]"
      ]
     },
     "execution_count": 1,
     "metadata": {},
     "output_type": "execute_result"
    },
    {
     "data": {
      "image/png": "[encoded data removed]",
      "text/plain": [
       "<Figure size 640x480 with 1 Axes>"
      ]
     },
     "metadata": {},
     "output_type": "display_data"
    }
   ],
   "source": [
    "import numpy as np\n",
    "import matplotlib.pyplot as plt\n",
    "\n",
    "# Make the random generation fixed\n",
    "np.random.seed(0)       \n",
    "\n",
    "# Generate data with a noisy linear function\n",
    "x = np.linspace(0, 1, 20)\n",
    "y = x + np.random.normal(0, 0.1, 20)\n",
    "\n",
    "line1 = 0.1 * x\n",
    "line2 = 0.5 * x\n",
    "\n",
    "plt.scatter(x, y)\n",
    "plt.plot(x, line1, \"r\")\n",
    "plt.plot(x, line2, \"g\")"
   ]
  },
  {
   "cell_type": "markdown",
   "metadata": {},
   "source": [
    "Is the red line better than the green line? We need a mathematical way to answer this question.\n",
    "\n",
    "> To evaluate how well our linear model fits the data, we will use the *mean squared error (MSE)* loss function."
   ]
  },
  {
   "cell_type": "code",
   "execution_count": null,
   "metadata": {},
   "outputs": [
    {
     "ename": "ImportError",
     "evalue": "attempted relative import with no known parent package",
     "output_type": "error",
     "traceback": [
      "\u001b[0;31m---------------------------------------------------------------------------\u001b[0m",
      "\u001b[0;31mImportError\u001b[0m                               Traceback (most recent call last)",
      "Cell \u001b[0;32mIn[2], line 1\u001b[0m\n\u001b[0;32m----> 1\u001b[0m \u001b[38;5;28;01mfrom\u001b[39;00m \u001b[38;5;21;01m.\u001b[39;00m\u001b[38;5;21;01m.\u001b[39;00m\u001b[38;5;21;01mutils\u001b[39;00m \u001b[38;5;28;01mimport\u001b[39;00m plot_mse\n\u001b[1;32m      3\u001b[0m \u001b[38;5;66;03m# Check the MSE of different lines\u001b[39;00m\n\u001b[1;32m      4\u001b[0m line_1 \u001b[38;5;241m=\u001b[39m \u001b[38;5;241m0.1\u001b[39m \u001b[38;5;241m*\u001b[39m x\n",
      "\u001b[0;31mImportError\u001b[0m: attempted relative import with no known parent package"
     ]
    }
   ],
   "source": [
    "from utils import plot_mse\n",
    "\n",
    "# Check the MSE of different lines\n",
    "line_1 = 0.1 * x\n",
    "line_2 = 0.5 * x\n",
    "line_3 = 0.9 * x\n",
    "\n",
    "plot_mse(x, y, line_1, line_2, line_3)"
   ]
  },
  {
   "cell_type": "markdown",
   "metadata": {},
   "source": [
    "The slope is one of the parameters of a linear model, and we can add an offset too:\n",
    "\n",
    "$$\\hat{y} = mx + b$$\n",
    "\n",
    "Where:\n",
    "- $\\hat{y}$ is the target variable (with $\\hat{\\;}$ because it's the model's prediction)\n",
    "- $x$ is the input variable\n",
    "- $m$ is the slope\n",
    "- $b$ is the offset"
   ]
  },
  {
   "cell_type": "markdown",
   "metadata": {},
   "source": [
    "As you can see, as we change the parameters of our model, the error changes.\n",
    "\n",
    "The formula we used to evaluate how well the model fits the data is the following:\n",
    "\n",
    "$$\n",
    "MSE = \\frac{1}{n} \\sum_{i=1}^{n} (y_i - \\hat{y}_i)^2\n",
    "$$\n",
    "\n",
    "where:\n",
    "- $n$ is the number of data points\n",
    "- $y_i$ is the actual value of the data point\n",
    "- $\\hat{y}_i$ is the predicted value of the data point"
   ]
  },
  {
   "cell_type": "code",
   "execution_count": 3,
   "metadata": {},
   "outputs": [],
   "source": [
    "# Numpy can be used to define the mean squared error\n",
    "# - y is the true value\n",
    "# - y_pred is the predicted value\n",
    "def mse(y, y_pred):\n",
    "    return np.mean((y - y_pred) ** 2)"
   ]
  },
  {
   "cell_type": "markdown",
   "metadata": {},
   "source": [
    "That formula tells us how well our model fits the data, but how do we find the best parameters?\n",
    "\n",
    "We need an algorithm to find the best parameters (slope and offset) that minimize the loss function.\n",
    "\n",
    "⭐ Luckily, linear regression with MSE loss function can be solved analytically with the Ordinary Least Squares (OLS) method."
   ]
  },
  {
   "cell_type": "markdown",
   "metadata": {},
   "source": [
    "### Ordinary Least Squares (OLS)\n",
    "\n",
    "The OLS method finds the best parameters by minimizing the mean squared error loss function.\n",
    "\n",
    "To find the slope that best fits the data, we divide the covariance of $x$ and $y$ by the variance of $x$:\n",
    "\n",
    "$$\n",
    "m = \\frac{cov(x, y)}{var(x)}\n",
    "$$\n",
    "\n",
    "And to find the offset, we use the following formula:\n",
    "\n",
    "$$\n",
    "b = \\bar{y} - m \\bar{x}\n",
    "$$\n",
    "\n",
    "Where:\n",
    "- $\\bar{x}$ is the mean of $x$\n",
    "- $\\bar{y}$ is the mean of $y$\n",
    "\n",
    "This is the scalar form of the formula, meaning it works for a single input variable and a single target variable.\n",
    "\n",
    "**But what if we have multiple input variables?**\n",
    "\n",
    "We have to solve a system of linear equations, which can be done in a compact form using matrices. The closed-form solution for OLS in matrix form, for $\\beta = [\\beta_0, \\beta_1, ..., \\beta_p]^T$ is: \n",
    "$$\n",
    "\\mathbf{\\beta}= (\\mathbf{X^T} \\mathbf{X})^{-1}\\mathbf{X^T} \\mathbf{y}\n",
    "$$\n",
    "where: \n",
    "- $y$ is the target variable\n",
    "- we have expanded the input matrix $\\mathbf{X}$ with a column of 1s to compute also the bias term $\\beta_0$:\n",
    "$$\n",
    "\\mathbf{X} = \n",
    "\\begin{bmatrix}\n",
    "    1 & x_{11} & x_{12} & \\dots & x_{1p} \\\\\n",
    "    1 & x_{21} & x_{22} & \\dots & x_{2p} \\\\\n",
    "    \\vdots & \\vdots & \\vdots & \\ddots & \\vdots \\\\\n",
    "    1 & x_{n1} & x_{n2} & \\dots & x_{np}\n",
    "\\end{bmatrix}\n",
    "$$ \n",
    "\n",
    "Once we have the $\\beta$ vector, we can use it to predict $\\hat{y}$ given the input vector $X$:\n",
    "\n",
    "$$\n",
    "\\hat{y} = X \\beta\n",
    "$$"
   ]
  },
  {
   "cell_type": "code",
   "execution_count": 4,
   "metadata": {},
   "outputs": [],
   "source": [
    "import seaborn as sns\n",
    "import pandas as pd\n",
    "\n",
    "# Create some multiple linear regression data\n",
    "np.random.seed(0)\n",
    "n = 300\n",
    "# multiply by 50 to make the features range from 0 to 50, as an example\n",
    "x1 = np.random.rand(n) * 50\n",
    "x2 = np.random.rand(n) * 50\n",
    "\n",
    "# This is the true function we want to estimate\n",
    "m1 = 1.5\n",
    "m2 = -1\n",
    "b = 50\n",
    "y = m1 * x1 + m2 * x2 + b\n",
    "\n",
    "# We can write this in matrix form, by creating directly a matrix X\n",
    "X_matrix = np.random.rand(n, 2) * 50\n",
    "\n",
    "# And stacking the coefficients in a vector M\n",
    "M = np.array([m1, m2])\n",
    "\n",
    "# We can then write the linear regression as a matrix multiplication\n",
    "y = X_matrix @ M + b\n",
    "\n",
    "# Add some noise to the data, because real data is usually noisy\n",
    "y = y + np.random.normal(0, 0.1, n)"
   ]
  },
  {
   "cell_type": "markdown",
   "metadata": {},
   "source": [
    "**Example**\n",
    "\n",
    "In this case we have 2 input variables:\n",
    "- $x1$ is the number of hours studied\n",
    "- $x2$ is the number of hours spent on social media (doomscrolling)\n",
    "\n",
    "We would like to predict the final grade (out of 100) which we call $y$, given those 2 input variables."
   ]
  },
  {
   "cell_type": "code",
   "execution_count": 5,
   "metadata": {},
   "outputs": [
    {
     "data": {
      "text/html": [
       "<div>\n",
       "<style scoped>\n",
       "    .dataframe tbody tr th:only-of-type {\n",
       "        vertical-align: middle;\n",
       "    }\n",
       "\n",
       "    .dataframe tbody tr th {\n",
       "        vertical-align: top;\n",
       "    }\n",
       "\n",
       "    .dataframe thead th {\n",
       "        text-align: right;\n",
       "    }\n",
       "</style>\n",
       "<table border=\"1\" class=\"dataframe\">\n",
       "  <thead>\n",
       "    <tr style=\"text-align: right;\">\n",
       "      <th></th>\n",
       "      <th>x1 Study Hours</th>\n",
       "      <th>x2 Doomscrolling Hours</th>\n",
       "      <th>y Exam Grade</th>\n",
       "    </tr>\n",
       "  </thead>\n",
       "  <tbody>\n",
       "    <tr>\n",
       "      <th>0</th>\n",
       "      <td>8.732919</td>\n",
       "      <td>16.399400</td>\n",
       "      <td>46.735261</td>\n",
       "    </tr>\n",
       "    <tr>\n",
       "      <th>1</th>\n",
       "      <td>34.017433</td>\n",
       "      <td>3.160381</td>\n",
       "      <td>97.850492</td>\n",
       "    </tr>\n",
       "    <tr>\n",
       "      <th>2</th>\n",
       "      <td>30.362469</td>\n",
       "      <td>23.882325</td>\n",
       "      <td>71.531509</td>\n",
       "    </tr>\n",
       "    <tr>\n",
       "      <th>3</th>\n",
       "      <td>14.199999</td>\n",
       "      <td>11.920664</td>\n",
       "      <td>59.506942</td>\n",
       "    </tr>\n",
       "    <tr>\n",
       "      <th>4</th>\n",
       "      <td>25.725637</td>\n",
       "      <td>18.396379</td>\n",
       "      <td>70.324578</td>\n",
       "    </tr>\n",
       "    <tr>\n",
       "      <th>...</th>\n",
       "      <td>...</td>\n",
       "      <td>...</td>\n",
       "      <td>...</td>\n",
       "    </tr>\n",
       "    <tr>\n",
       "      <th>295</th>\n",
       "      <td>40.807538</td>\n",
       "      <td>45.572544</td>\n",
       "      <td>65.726814</td>\n",
       "    </tr>\n",
       "    <tr>\n",
       "      <th>296</th>\n",
       "      <td>13.816858</td>\n",
       "      <td>18.476177</td>\n",
       "      <td>52.203701</td>\n",
       "    </tr>\n",
       "    <tr>\n",
       "      <th>297</th>\n",
       "      <td>18.994695</td>\n",
       "      <td>28.022529</td>\n",
       "      <td>50.478109</td>\n",
       "    </tr>\n",
       "    <tr>\n",
       "      <th>298</th>\n",
       "      <td>33.410911</td>\n",
       "      <td>14.335834</td>\n",
       "      <td>85.855728</td>\n",
       "    </tr>\n",
       "    <tr>\n",
       "      <th>299</th>\n",
       "      <td>0.973123</td>\n",
       "      <td>19.961119</td>\n",
       "      <td>31.554865</td>\n",
       "    </tr>\n",
       "  </tbody>\n",
       "</table>\n",
       "<p>300 rows × 3 columns</p>\n",
       "</div>"
      ],
      "text/plain": [
       "     x1 Study Hours  x2 Doomscrolling Hours  y Exam Grade\n",
       "0          8.732919               16.399400     46.735261\n",
       "1         34.017433                3.160381     97.850492\n",
       "2         30.362469               23.882325     71.531509\n",
       "3         14.199999               11.920664     59.506942\n",
       "4         25.725637               18.396379     70.324578\n",
       "..              ...                     ...           ...\n",
       "295       40.807538               45.572544     65.726814\n",
       "296       13.816858               18.476177     52.203701\n",
       "297       18.994695               28.022529     50.478109\n",
       "298       33.410911               14.335834     85.855728\n",
       "299        0.973123               19.961119     31.554865\n",
       "\n",
       "[300 rows x 3 columns]"
      ]
     },
     "execution_count": 5,
     "metadata": {},
     "output_type": "execute_result"
    }
   ],
   "source": [
    "# Create a DataFrame just to plot the data\n",
    "df = pd.DataFrame({\"x1 Study Hours\": X_matrix[:, 0], \"x2 Doomscrolling Hours\": X_matrix[:, 1], \"y Exam Grade\": y})\n",
    "df"
   ]
  },
  {
   "cell_type": "code",
   "execution_count": 6,
   "metadata": {},
   "outputs": [
    {
     "data": {
      "text/plain": [
       "<Axes: xlabel='x2 Doomscrolling Hours', ylabel='y Exam Grade'>"
      ]
     },
     "execution_count": 6,
     "metadata": {},
     "output_type": "execute_result"
    },
    {
     "data": {
      "image/png": "[encoded data removed]",
      "text/plain": [
       "<Figure size 1200x500 with 2 Axes>"
      ]
     },
     "metadata": {},
     "output_type": "display_data"
    }
   ],
   "source": [
    "fig, axs = plt.subplots(1, 2, figsize=(12, 5), sharey=True)\n",
    "sns.scatterplot(data=df, x=\"x1 Study Hours\", y=\"y Exam Grade\", ax=axs[0])\n",
    "sns.scatterplot(data=df, x=\"x2 Doomscrolling Hours\", y=\"y Exam Grade\", ax=axs[1])"
   ]
  },
  {
   "cell_type": "code",
   "execution_count": 7,
   "metadata": {},
   "outputs": [
    {
     "name": "stdout",
     "output_type": "stream",
     "text": [
      "first 10 elements of X:\n",
      "[[ 8.73291927 16.39940005  1.        ]\n",
      " [34.0174333   3.16038092  1.        ]\n",
      " [30.3624687  23.88232514  1.        ]\n",
      " [14.19999884 11.92066405  1.        ]\n",
      " [25.72563716 18.39637903  1.        ]\n",
      " [22.82599456 16.87386909  1.        ]\n",
      " [48.52468468  6.67197159  1.        ]\n",
      " [ 4.84019766 17.16958644  1.        ]\n",
      " [29.55134504 32.95882359  1.        ]\n",
      " [19.86283736 49.9638997   1.        ]]\n"
     ]
    }
   ],
   "source": [
    "# Step 1: Add a column of ones to X to account for the intercept term\n",
    "X = np.hstack((X_matrix, np.ones((X_matrix.shape[0], 1))))\n",
    "print(f\"first 10 elements of X:\\n{X[:10]}\")"
   ]
  },
  {
   "cell_type": "code",
   "execution_count": 8,
   "metadata": {},
   "outputs": [],
   "source": [
    "# Step 2: Calculate the OLS parameters\n",
    "# Remembder this equation? β = (X^T X)^-1 X^T y\n",
    "\n",
    "# X.T is the transpose of X\n",
    "# np.linalg.inv() computes the inverse of a matrix\n",
    "# @ is the matrix multiplication operator\n",
    "beta = np.linalg.inv(X.T @ X) @ X.T @ y"
   ]
  },
  {
   "cell_type": "markdown",
   "metadata": {},
   "source": [
    "Define a function so that we can use this estimator in the future."
   ]
  },
  {
   "cell_type": "code",
   "execution_count": 9,
   "metadata": {},
   "outputs": [],
   "source": [
    "def compute_beta_lin_reg(X, y):\n",
    "    X = np.hstack((np.ones((X.shape[0], 1)), X))\n",
    "    return np.linalg.inv(X.T @ X) @ X.T @ y"
   ]
  },
  {
   "cell_type": "code",
   "execution_count": 10,
   "metadata": {},
   "outputs": [
    {
     "name": "stdout",
     "output_type": "stream",
     "text": [
      "M_model = [-0.99988907 50.00796814]\n",
      "b_model = 1.5001243589582642\n",
      "\n",
      "While the true coefficients are:\n",
      "M = [ 1.5 -1. ]\n",
      "b = 50\n"
     ]
    }
   ],
   "source": [
    "# Extract the coefficients from beta\n",
    "# in vector form\n",
    "M_model = beta[1:]\n",
    "b_model = beta[0]\n",
    "\n",
    "# Print the coefficients\n",
    "print(f\"M_model = {M_model}\")\n",
    "print(f\"b_model = {b_model}\")\n",
    "\n",
    "print(\"\\nWhile the true coefficients are:\")\n",
    "print(f\"M = {M}\")\n",
    "print(f\"b = {b}\")"
   ]
  },
  {
   "cell_type": "markdown",
   "metadata": {},
   "source": [
    "In this fictional example, we have found out that:\n",
    "\n",
    "The linear relation between the input variables and the target variable as follows:\n",
    "\n",
    "> For each 1.5 hours studied, the final grade increases by 1 point, and for each hour spent on social media, the final grade decreases by 1 points.\n",
    "\n",
    "The bias, or offset, is 50 because if you don't study at all and spend no time on social media, you will get 50 points (basically the average grade)."
   ]
  },
  {
   "cell_type": "code",
   "execution_count": 11,
   "metadata": {},
   "outputs": [
    {
     "name": "stdout",
     "output_type": "stream",
     "text": [
      "MSE: 0.0084\n"
     ]
    }
   ],
   "source": [
    "# Compute predictions\n",
    "y_pred = X @ beta\n",
    "\n",
    "# Compute the MSE\n",
    "print(f\"MSE: {mse(y, y_pred):.4f}\")"
   ]
  },
  {
   "cell_type": "markdown",
   "metadata": {},
   "source": [
    "## $R^2$ Score"
   ]
  },
  {
   "cell_type": "markdown",
   "metadata": {},
   "source": [
    "The $R^2$ score is a metric that tells us how well our model fits the data, but it's more interpretable than the mean squared error.\n",
    "\n",
    "This score is a value between 0 and 1, where 1 means the model perfectly explains the linear relationship between the input and target variables.\n",
    "\n",
    "The formula for the $R^2$ score is the following:\n",
    "\n",
    "$$\n",
    "R^2 = 1 - \\frac{SS_{res}}{SS_{tot}}\n",
    "$$\n",
    "\n",
    "Where:\n",
    "\n",
    "$$\n",
    "SS_{res} = \\sum_{i=1}^{n} (y_i - \\hat{y}_i)^2\n",
    "$$\n",
    "\n",
    "$$\n",
    "SS_{tot} = \\sum_{i=1}^{n} (y_i - \\bar{y})^2\n",
    "$$"
   ]
  },
  {
   "cell_type": "code",
   "execution_count": 12,
   "metadata": {},
   "outputs": [
    {
     "name": "stdout",
     "output_type": "stream",
     "text": [
      "SS_res: 2.521441500314392\n"
     ]
    }
   ],
   "source": [
    "# Given y and y_pred, we can compute the residuals\n",
    "\n",
    "# Residual Sum of Squares (RSS)\n",
    "SS_res = np.sum((y - y_pred) ** 2)\n",
    "print(\"SS_res:\", SS_res)"
   ]
  },
  {
   "cell_type": "code",
   "execution_count": 13,
   "metadata": {},
   "outputs": [
    {
     "name": "stdout",
     "output_type": "stream",
     "text": [
      "SS_tot:  198878.7258420246\n"
     ]
    }
   ],
   "source": [
    "# Total Sum of Squares (TSS)\n",
    "# This is the sum of the squared differences between the true value and the mean of the true values\n",
    "y_mean = np.mean(y)\n",
    "SS_tot = np.sum((y - y_mean) ** 2)\n",
    "print(\"SS_tot: \", SS_tot)"
   ]
  },
  {
   "cell_type": "code",
   "execution_count": 14,
   "metadata": {},
   "outputs": [
    {
     "name": "stdout",
     "output_type": "stream",
     "text": [
      "R^2:  0.9999873217133224\n"
     ]
    }
   ],
   "source": [
    "# Now we can compute the R^2\n",
    "R2 = 1 - SS_res / SS_tot\n",
    "print(\"R^2: \", R2)"
   ]
  },
  {
   "cell_type": "markdown",
   "metadata": {},
   "source": [
    "Let's implement a function that calculates the $R^2$ score in a compact and reusable way.\n",
    "\n",
    "This is very important for code clarity and to avoid potential bugs."
   ]
  },
  {
   "cell_type": "code",
   "execution_count": 15,
   "metadata": {},
   "outputs": [],
   "source": [
    "# We can put all the operations we just did in a single function\n",
    "def r_squared(y, y_pred):\n",
    "    SS_res = np.sum((y - y_pred) ** 2)\n",
    "    y_mean = np.mean(y)\n",
    "    SS_tot = np.sum((y - y_mean) ** 2)\n",
    "    return 1 - SS_res / SS_tot"
   ]
  },
  {
   "cell_type": "markdown",
   "metadata": {},
   "source": [
    "Let's try with a bad model to see how the $R^2$ score changes."
   ]
  },
  {
   "cell_type": "code",
   "execution_count": 16,
   "metadata": {},
   "outputs": [
    {
     "name": "stdout",
     "output_type": "stream",
     "text": [
      "MSE: 7898.8959\n",
      "R^2: -10.9151\n"
     ]
    }
   ],
   "source": [
    "beta_bad = np.array([0, -1, 1])\n",
    "\n",
    "# Compute predictions\n",
    "y_pred_bad = X @ beta_bad\n",
    "\n",
    "# Compute the MSE\n",
    "print(f\"MSE: {mse(y, y_pred_bad):.4f}\")\n",
    "\n",
    "# Compute the R^2\n",
    "print(f\"R^2: {r_squared(y, y_pred_bad):.4f}\")"
   ]
  },
  {
   "cell_type": "markdown",
   "metadata": {},
   "source": [
    "Here the $R^2$ score is even negative, which means the model is worse than predicting the mean of the target variable."
   ]
  },
  {
   "cell_type": "markdown",
   "metadata": {},
   "source": [
    "**Disclaimer:**\n",
    "\n",
    "I know that 3d plots are usually not the best way to visualize data, but in this case, it's a good way to see how the model fits the data.\n",
    "\n",
    "Let's see the 3d plot of the good model and the bad model.\n",
    "\n",
    "- The plane represents the linear model\n",
    "- The points represent the data"
   ]
  },
  {
   "cell_type": "code",
   "execution_count": 17,
   "metadata": {},
   "outputs": [
    {
     "data": {
      "application/vnd.plotly.v1+json": {
       "config": {
        "plotlyServerURL": "https://plot.ly"
       },
       "data": [
        {
         "hovertemplate": "x1 Study Hours=%{x}<br>x2 Doomscrolling Hours=%{y}<br>y Exam Grade=%{z}<extra></extra>",
         "legendgroup": "",
         "marker": {
          "color": "#636efa",
          "symbol": "circle"
         },
         "mode": "markers",
         "name": "",
         "scene": "scene",
         "showlegend": false,
         "type": "scatter3d",
         "x": [
          8.732919269750289,
          34.01743330075008,
          30.36246870057705,
          14.199998838105055,
          25.725637164937837,
          22.825994563132767,
          48.52468467979888,
          4.84019765891871,
          29.551345043524563,
          19.862837358402103,
          17.59464980965213,
          31.879134726539643,
          48.811283172691,
          38.22809871788543,
          16.77490848379498,
          3.131800152990488,
          21.61407405906493,
          38.65417770274358,
          5.866024019240551,
          29.484736150677538,
          42.407519017349244,
          49.1713121130321,
          19.016759176378656,
          34.24672193417797,
          43.10312979256036,
          24.88884539126709,
          12.07785200199592,
          42.979041820981074,
          23.531045195903644,
          22.852938066568367,
          21.18531767277364,
          5.865778209159695,
          20.189637033366726,
          33.569173933507656,
          35.688343420500814,
          19.958057262738656,
          30.72638499051604,
          41.12033691778451,
          36.31712322089176,
          5.523855549587236,
          20.268679142427803,
          1.497516245237468,
          5.489222903125035,
          35.160874823360786,
          47.957112598898746,
          43.358357955259955,
          26.7458427463542,
          26.20919301968791,
          9.528345747003403,
          25.907490689558717,
          18.66079778723971,
          4.026600173592204,
          11.06982231463861,
          13.251984918224103,
          3.280243360496282,
          8.106013035441661,
          38.67277722245153,
          7.668443892967286,
          21.649210314059037,
          17.472014602426743,
          37.55108244281992,
          1.447627451348027,
          19.62843942310755,
          34.53923880782648,
          37.9641225858334,
          25.053158641737603,
          18.245591801061906,
          24.79851476867348,
          13.867013565262177,
          5.869014708527859,
          2.340317735609437,
          0.19301757551305476,
          30.643337655849617,
          44.094825154841615,
          48.31949857189467,
          15.02018415792436,
          46.54093586489866,
          13.360351593115933,
          18.595937425623067,
          12.384251124615798,
          42.93887341159511,
          22.22936439056504,
          44.03390615235398,
          49.594516457731466,
          48.30737228135857,
          33.78445738221334,
          10.82286304721049,
          46.13783051126827,
          22.654712272443923,
          38.90857977251271,
          6.95363505743064,
          42.14274439177286,
          5.12068792262082,
          15.20993457997039,
          21.233150142029643,
          28.41087968349225,
          29.821653267481135,
          48.79419342092667,
          19.58984692823329,
          12.519910642678639,
          1.9996400950358484,
          20.41514541698724,
          40.46824857445992,
          47.7166907696346,
          44.87713823247027,
          17.87123257973565,
          14.428497882584779,
          5.621365860615563,
          9.151664603996057,
          37.26164800160646,
          24.38381617691038,
          21.270086267752735,
          10.412662606074191,
          10.76991021716191,
          40.144668578066714,
          30.285597863513942,
          36.39440791847557,
          40.59692808455097,
          45.743154391669144,
          14.644428251350734,
          20.905460587400043,
          5.360537271427301,
          23.65714892328221,
          36.6644567158363,
          18.675550707784183,
          44.452997659486435,
          0.2576482134511615,
          45.97537034529103,
          8.850289078374797,
          7.015800896170971,
          46.85585209702589,
          14.141842608804145,
          30.010643406564697,
          7.390066703269521,
          43.67784136453857,
          44.94805461135159,
          26.633429373568035,
          15.827127994623801,
          21.65387245506342,
          45.74853851578093,
          36.377349566576484,
          28.885471215842017,
          39.77951842716065,
          38.543637828432395,
          7.075324281095013,
          22.06607350902054,
          22.418458944899868,
          31.058462368352735,
          43.33942716295478,
          20.071397465275997,
          40.54193075644757,
          10.572739789120678,
          43.80134239602871,
          6.0060091081737985,
          8.768603475762193,
          44.99333715000151,
          49.02428317345034,
          43.173532459679286,
          18.395874390893667,
          37.86820716188544,
          32.86594583085709,
          24.248282257903526,
          27.73225293101298,
          36.27867670507447,
          38.65550262527096,
          45.157482342578575,
          16.653601723715937,
          23.779455854242187,
          14.909367983153205,
          16.51335178484496,
          7.0191978899673435,
          3.4425982246686972,
          19.76166217681684,
          35.931319517057595,
          36.388563660720905,
          10.883142172886922,
          8.117897395633339,
          8.989764541677081,
          24.003044391037783,
          42.6803021148136,
          11.005193039045318,
          5.57480286493578,
          16.116676902330905,
          24.12921208560505,
          3.459132939619475,
          36.74068873152805,
          46.958045454368516,
          49.99042890584827,
          26.745409919160068,
          15.208677869462328,
          46.08595334354166,
          36.197069925066295,
          46.114925183372385,
          43.69160891673591,
          10.691767340079327,
          0.6085578471629383,
          11.47837223459749,
          36.84265808403928,
          25.74611009683842,
          11.432327549147276,
          29.64401353905788,
          23.79130979286114,
          2.19877160120453,
          26.004070831783654,
          11.22068059604201,
          29.115986652602764,
          14.377225114028075,
          1.0475034633865232,
          24.472931771734906,
          29.43195001459933,
          11.791711205281775,
          31.98111214818708,
          38.91380836482219,
          24.52099542181376,
          49.79076464798175,
          23.57286596771327,
          47.19254286754098,
          35.96945310019868,
          12.719120055881216,
          6.364701271003737,
          7.090863785073875,
          31.335323797955244,
          1.2136352311030607,
          32.606229742106954,
          23.766239110604122,
          13.281627377072363,
          24.18764323508681,
          41.185883601158466,
          15.531460914565315,
          35.757162601268,
          35.24740309613797,
          0.26550238073339005,
          25.561089378684333,
          2.553774008462839,
          42.95013198290293,
          0.03321092951022453,
          13.916264916005716,
          34.575405391576766,
          13.232479900140016,
          31.97313872370051,
          19.895930741746888,
          7.047873826184686,
          43.05615040328934,
          2.145309520127908,
          45.66421704427404,
          17.71124109136314,
          37.74505520687841,
          5.012587203792429,
          0.8530243129548754,
          30.75290103175481,
          14.79749167944639,
          13.29528136683955,
          49.2554339668566,
          25.94949601932159,
          23.620689458553652,
          10.139802059349762,
          17.887894204016934,
          22.068707166624307,
          26.10312103411322,
          45.311570989364206,
          27.62906662552523,
          48.11975369054002,
          31.54159042049019,
          49.394458466676305,
          6.401043522540833,
          0.10323177872108569,
          47.806157977998,
          31.91950528884743,
          47.391094355579476,
          16.48255787907063,
          5.408276223816882,
          11.060906386579617,
          5.122314088596519,
          13.83248651045948,
          17.494884025193947,
          1.2288512153483033,
          11.528564484691001,
          40.012780179176175,
          15.82751050135433,
          5.199541898561655,
          37.55161497674594,
          21.300119383478027,
          5.178923172418609,
          29.529268952396688,
          39.934462444195134,
          14.957682227190805,
          24.313604316465742,
          49.19269148408084,
          19.47742536727844,
          47.231285921106206,
          36.0132926252379,
          33.233279326721934,
          9.9495469962742,
          35.3435904710061,
          46.3988083299179,
          40.80753761331842,
          13.81685763685247,
          18.99469518930087,
          33.41091147713855,
          0.9731233654650173
         ],
         "y": [
          16.399400045403983,
          3.1603809169315324,
          23.882325143820804,
          11.9206640462029,
          18.396379026852067,
          16.873869088211997,
          6.671971587280201,
          17.169586439545803,
          32.95882359250141,
          49.963899696108555,
          36.07033339799762,
          40.65269316237303,
          44.48968282227701,
          34.91242389091453,
          7.384278910335368,
          12.095085210074242,
          26.099813681499125,
          47.93704615282965,
          5.350207009689578,
          37.26990369736465,
          46.79160401083943,
          19.990084611226294,
          7.390433834863619,
          32.838097922041854,
          4.862899739382032,
          29.054096483603153,
          8.451270306458063,
          2.9267461117779394,
          5.791700065044264,
          48.99811631711547,
          42.85624587522837,
          13.562603838093207,
          19.990607000466536,
          17.23590636877538,
          31.959344961269625,
          21.588006382715964,
          3.5021095072322317,
          32.67105805568185,
          26.846150054119523,
          20.251780664847495,
          16.052149502160844,
          36.86271212982387,
          30.315406652254257,
          31.739316146684736,
          5.164907754256931,
          1.4595117424456627,
          20.212180896962938,
          18.25499385300049,
          0.956144872434489,
          42.138843134242116,
          11.143190900749012,
          4.265546155935168,
          5.000703046077759,
          3.307473105847736,
          42.8138089811391,
          27.9841202911724,
          22.82047826695333,
          9.979807106005717,
          26.41170445892679,
          39.07398001173307,
          46.3605903686559,
          44.78456456051017,
          43.918624768999706,
          49.36743785369841,
          18.22723129983933,
          18.81945775971756,
          13.045224969052988,
          34.08699725346806,
          26.218990553860998,
          7.992264342709565,
          48.53657213853164,
          8.928998402882815,
          4.068479942665265,
          35.981007892114405,
          25.381777362038243,
          27.475028639763572,
          26.038071862093027,
          43.86993945870598,
          0.06916749994995697,
          15.91167545885312,
          22.92515835332225,
          16.80511331999437,
          47.25133884701957,
          18.837063348049337,
          39.593978481545065,
          12.244473971004972,
          8.302391226062284,
          14.703833119158304,
          24.697891699361175,
          42.21174807765121,
          21.345218010553683,
          40.90166528779192,
          7.81916744339815,
          3.7679534541670168,
          5.380885257479095,
          12.327846990557806,
          5.876282145181882,
          46.62806019286702,
          12.108929706304272,
          24.1696767601196,
          31.98525530375635,
          18.870328629444366,
          35.4517730091645,
          17.596812024784537,
          38.49835931250444,
          31.08327182266289,
          43.71999585374212,
          10.621718064702051,
          20.151300120214433,
          26.345372452609016,
          0.027298244849782716,
          3.1776887418079216,
          46.61969694802472,
          42.91688193171312,
          7.957311847112142,
          5.783093595250666,
          31.873113868610332,
          23.969227469459405,
          2.4674473394219856,
          35.75262987325835,
          8.64756771355782,
          40.86695557308107,
          44.11418359595537,
          20.48631028153718,
          25.781917332562585,
          36.86392898570839,
          34.70789256845628,
          35.52278797522458,
          24.175906371372935,
          17.949763916981603,
          46.16526537793541,
          16.981552208309957,
          48.159864763019,
          12.845832184333455,
          24.594611585417226,
          9.275894876158814,
          16.31348163246862,
          22.343848197309956,
          17.867343983897722,
          36.58720927164464,
          14.49567247959777,
          38.9589716650917,
          17.226523037715612,
          36.79469484038665,
          43.29727342832386,
          24.320522444433273,
          28.392300073875376,
          24.90897828814717,
          31.38673780976422,
          20.83458784543555,
          17.409597137326006,
          2.9691594002894615,
          45.9273225595175,
          16.723687074805742,
          5.794923441293987,
          2.843862957267773,
          4.822543034869209,
          28.325305349458134,
          17.117118831257894,
          15.72866475021436,
          25.866304175804007,
          45.05810853245808,
          41.343080152434744,
          1.9278623029499176,
          10.843512504552033,
          2.1462095304416007,
          4.986647361737701,
          41.00112179348759,
          7.54674486555208,
          40.6940070960318,
          11.36812245387509,
          35.28550219948038,
          15.541998857165801,
          16.79887711701276,
          40.759969765715674,
          48.690934842299164,
          14.542045332837128,
          17.275282817816723,
          26.108793450105956,
          44.47239544079333,
          31.144701609287623,
          22.948493009103416,
          15.82503727268032,
          36.49138177646338,
          43.958666884370224,
          8.824969444453007,
          25.315611201169432,
          9.862973715036883,
          14.51240212799642,
          29.553269041699508,
          40.263192778958754,
          27.95868910508511,
          24.618070334544207,
          41.699082193831586,
          38.56127314829551,
          16.141476877404376,
          25.343147924365674,
          4.883818372386206,
          46.92060108471928,
          33.85705720557121,
          0.5031847828046665,
          35.43851954705243,
          43.97607415118651,
          1.533052416285896,
          47.68378482136565,
          5.373628388440227,
          22.83518129302421,
          20.58077568068794,
          12.18389376406161,
          37.66200597960884,
          31.024995013999384,
          47.42701505644205,
          42.4172634895003,
          9.267429348969142,
          6.46778805193498,
          3.4046549621053304,
          48.24624704242198,
          17.499642181508445,
          13.26516622685237,
          26.290447653836146,
          15.836533327672814,
          36.37718047953749,
          21.505799218836998,
          42.662298807925644,
          48.46029358588426,
          0.675435331335944,
          12.805689751000898,
          11.638633609055605,
          39.56137155095561,
          27.902561832863128,
          20.931843178501325,
          0.5677564256096279,
          4.164548985949962,
          48.27583195687367,
          7.601361360478476,
          47.08338976948782,
          9.294880142774876,
          5.44518694206631,
          48.75473401060233,
          26.033889574127677,
          38.7250477442101,
          48.36689010184911,
          30.882849128462166,
          35.04278247238688,
          26.228853373931297,
          6.013867248973481,
          44.25109256059031,
          37.9492277376171,
          48.35274590386098,
          27.621952949581658,
          46.46458357848917,
          41.407330660834745,
          39.16983227574029,
          3.3037131925835963,
          21.91279734858518,
          21.179381835715223,
          8.184213057582424,
          13.139997816224453,
          1.758002985809709,
          40.818215275992806,
          42.59042913786216,
          5.526114702633028,
          49.89970004678293,
          30.16614961453723,
          29.15964154952641,
          9.94556673334298,
          16.522028630142195,
          14.042974731612134,
          36.42793649747434,
          39.588071059018546,
          19.61594700327297,
          34.18632236380231,
          19.851291614133704,
          25.317145966190207,
          35.32052888335055,
          31.699346065295376,
          13.435451437842467,
          47.77841969902104,
          41.34026351845378,
          31.69908265036916,
          7.798896401722827,
          44.63535821244908,
          0.9048179100737574,
          21.776577026546672,
          46.17277691020533,
          19.420205858455265,
          29.407573021764964,
          34.86651254150257,
          13.188384322523106,
          6.77742165542532,
          46.26975126462203,
          21.152722008306057,
          18.373766112596364,
          32.47671120876484,
          43.34304568296874,
          45.572543767538114,
          18.476177006982475,
          28.022529435489012,
          14.335834152019716,
          19.961119182895466
         ],
         "z": [
          46.73526051987089,
          97.85049159183905,
          71.53150923482846,
          59.5069417455553,
          70.32457812584337,
          67.38565601286496,
          116.11956883396132,
          40.32467252943427,
          61.34055068828385,
          29.804398643311195,
          40.35808944140462,
          57.31314112305066,
          78.88651901220123,
          72.40386692274593,
          67.80891693995304,
          42.46480667270508,
          56.29009979630665,
          59.96019136173779,
          53.34814584394135,
          57.12535820027839,
          66.74044584900382,
          103.71372296752072,
          71.17128980849606,
          68.66176750592246,
          109.83990646209739,
          58.555107114699645,
          59.658040898710695,
          111.56768826371663,
          79.53242779620962,
          35.424795721416,
          38.972454529043056,
          45.22444050560762,
          60.199099690092865,
          83.14229887708227,
          71.7133046526108,
          58.308041332026235,
          92.64036234038348,
          79.0340620998634,
          77.71588674305625,
          37.95352728546957,
          64.58553391453351,
          15.255646127329507,
          27.881872593434693,
          71.095805342447,
          116.80043446134059,
          113.66102380635238,
          69.8569729891701,
          71.05131517826334,
          63.337596946434495,
          46.87931886154955,
          66.91704868254885,
          51.85402131528961,
          61.53823781662648,
          66.66739253534472,
          12.129114225962205,
          34.313813793557884,
          85.3900935822158,
          51.492182155842514,
          56.021480699117255,
          37.04763739279681,
          59.95167534440235,
          7.3486740716168315,
          35.55998480561872,
          52.42696367634793,
          88.68279265083261,
          68.86673871650163,
          64.22937470942473,
          53.154085694857294,
          44.540935621313416,
          50.88369457056922,
          5.112430619554739,
          41.33021813504436,
          91.94062983183647,
          80.17910912672134,
          97.01752825584946,
          45.07932634809716,
          93.80224398578284,
          26.211875013012538,
          77.80489874880264,
          52.67412045810159,
          91.3683906695861,
          66.5031218583052,
          68.85511664948238,
          105.64395872728102,
          82.82484845808025,
          88.44268350525836,
          57.954708677265856,
          104.52306064241453,
          59.33825406783475,
          65.9693138180795,
          39.080302168577525,
          72.33635465999204,
          49.761831405637714,
          69.21434698648963,
          76.48499588228918,
          80.44481300918348,
          88.7771454538565,
          76.47249992637045,
          67.29826590814223,
          44.442320367615494,
          21.03570139786003,
          61.76211141923678,
          75.35216638067959,
          104.04832826378387,
          78.77560030121246,
          45.61382738146356,
          28.09398149226938,
          47.73111922416478,
          43.47164433007271,
          79.43861394385453,
          86.66015655206945,
          78.6755506393787,
          18.92392651446851,
          23.25175237662008,
          102.23899654893219,
          89.57749365394163,
          72.79389715580088,
          87.03269620657686,
          116.24581599897571,
          36.29070447073387,
          72.75088572065526,
          16.996261534063695,
          41.53846486960565,
          84.54057371325304,
          52.29222437187375,
          79.927063735816,
          15.821915002008662,
          83.48210734384288,
          39.14308186211883,
          42.51401499952888,
          74.1218217427173,
          54.14579557881483,
          46.78410629361385,
          48.14991043033941,
          90.9065480722909,
          108.25109635966056,
          73.95375990521245,
          51.41579375838054,
          64.47862338992181,
          82.16209683501238,
          90.04027348261936,
          54.30317429927362,
          92.46373955081766,
          70.89669944230631,
          17.337959309719515,
          58.76975026677762,
          55.24522613415597,
          71.71685688980286,
          83.62915216039202,
          59.27414216088974,
          93.43173044924514,
          62.931490346008665,
          69.67154278849404,
          42.14232746158641,
          57.351817967132085,
          114.50286921874108,
          118.72263487239847,
          86.52886802762903,
          60.537403922274216,
          90.96882895193124,
          73.34658832528588,
          41.34714498389729,
          50.21516946357137,
          102.45848722515657,
          97.1994320814792,
          115.4912853140805,
          69.95363175284508,
          44.58805374026723,
          64.7129941593742,
          33.99031276236853,
          49.22842059801057,
          19.883577176470904,
          64.01257834517595,
          87.07499199781432,
          63.65899499465347,
          17.56044713627285,
          47.8497582140996,
          46.200339609732325,
          59.96893902915375,
          69.54150889391262,
          35.39790487280454,
          35.48003709726817,
          58.23951642106339,
          49.699342726216805,
          11.387919044500636,
          96.20651359783375,
          95.06481299501012,
          115.09190051599882,
          75.6326151580613,
          43.31223954885858,
          78.9924784018356,
          76.38686560586119,
          94.54811212793453,
          73.96424789423337,
          27.54678896403764,
          34.621791941714335,
          42.12704725156616,
          100.55716089249238,
          41.681742638261646,
          33.32922512832356,
          94.09527140078174,
          50.231225062969585,
          9.39511842965799,
          87.58351167874675,
          19.045753481923924,
          88.24011840510563,
          48.822797217798964,
          31.03656096210673,
          74.61788354957216,
          56.472662240824775,
          36.633671272827854,
          50.34478921828023,
          65.83884901508223,
          77.51877039321735,
          118.30081464199407,
          82.00776182611814,
          72.52974306148673,
          86.4273603121405,
          55.835231820233275,
          33.264425370778675,
          44.940216901431974,
          60.6404492944432,
          30.16652903159786,
          56.11978999173156,
          37.340941013718286,
          69.12988968812759,
          73.55222484693267,
          100.11335451916115,
          33.71884399150211,
          75.71976879076203,
          82.06139996165156,
          49.811212962636056,
          84.17375315379202,
          5.4017487060806415,
          106.84450566504673,
          3.0195308754753176,
          61.60343178929907,
          96.55771077140751,
          21.09950297508572,
          71.955716257035,
          41.283698769437045,
          12.049919218492104,
          83.6557939416919,
          18.317797683006905,
          92.36108510731087,
          70.62083239795527,
          62.449755323673756,
          19.602359688983643,
          3.089950308324565,
          68.54517451502363,
          25.755640651269946,
          28.551487256837145,
          84.73260507009965,
          85.5048291083172,
          63.59530414469163,
          44.01727727993109,
          68.82981975822901,
          69.95549788665316,
          87.43877039377769,
          77.17380142667965,
          48.79061509691476,
          116.75272951602886,
          47.60319194800835,
          93.92406036351124,
          30.4118758557263,
          40.173778061633115,
          104.99797214752307,
          83.8185018872887,
          84.68380484749571,
          35.24124155210543,
          38.59247210656735,
          32.363387307823444,
          37.80449721928368,
          45.54397433006046,
          40.904450764733085,
          20.092927803751515,
          53.99664713413747,
          62.34450913644828,
          32.40288141275514,
          26.040852452695457,
          98.3273380314716,
          37.37379122332543,
          56.773929876298936,
          72.32105320113428,
          63.887398808822276,
          53.08111426143193,
          56.94893263362195,
          88.80108454632276,
          66.11484990661171,
          113.9817101645804,
          57.87980265998761,
          78.75884291303946,
          46.604214033871614,
          70.57914404330575,
          76.2743118991105,
          65.72681377235722,
          52.20370141204467,
          50.47810854580573,
          85.85572772245581,
          31.55486483716067
         ]
        },
        {
         "showscale": false,
         "type": "surface",
         "x": [
          0.03321092951022453,
          5.584012926881118,
          11.13481492425201,
          16.685616921622906,
          22.2364189189938,
          27.787220916364692,
          33.338022913735585,
          38.888824911106475,
          44.43962690847737,
          49.99042890584827
         ],
         "y": [
          0.027298244849782716,
          5.575809517211869,
          11.124320789573956,
          16.67283206193604,
          22.221343334298126,
          27.76985460666021,
          33.3183658790223,
          38.86687715138439,
          44.41538842374647,
          49.963899696108555
         ],
         "z": [
          [
           50.030493448683316,
           58.35738673669358,
           66.68428002470384,
           75.0111733127141,
           83.33806660072437,
           91.66495988873464,
           99.9918531767449,
           108.31874646475515,
           116.64563975276542,
           124.97253304077569
          ],
          [
           44.48259764674637,
           52.80949093475664,
           61.1363842227669,
           69.46327751077717,
           77.79017079878743,
           86.1170640867977,
           94.44395737480795,
           102.77085066281822,
           111.09774395082849,
           119.42463723883876
          ],
          [
           38.93470184480944,
           47.2615951328197,
           55.58848842082996,
           63.91538170884023,
           72.24227499685048,
           80.56916828486075,
           88.89606157287102,
           97.22295486088129,
           105.54984814889154,
           113.87674143690181
          ],
          [
           33.38680604287249,
           41.71369933088276,
           50.04059261889302,
           58.36748590690328,
           66.69437919491355,
           75.02127248292382,
           83.34816577093409,
           91.67505905894434,
           100.0019523469546,
           108.32884563496486
          ],
          [
           27.838910240935554,
           36.16580352894582,
           44.492696816956084,
           52.81959010496635,
           61.14648339297661,
           69.47337668098689,
           77.80026996899714,
           86.1271632570074,
           94.45405654501766,
           102.78094983302793
          ],
          [
           22.29101443899862,
           30.617907727008884,
           38.94480101501915,
           47.27169430302941,
           55.598587591039674,
           63.92548087904994,
           72.25237416706021,
           80.57926745507046,
           88.90616074308073,
           97.233054031091
          ],
          [
           16.74311863706167,
           25.070011925071938,
           33.3969052130822,
           41.72379850109246,
           50.05069178910273,
           58.377585077113,
           66.70447836512326,
           75.03137165313352,
           83.35826494114377,
           91.68515822915404
          ],
          [
           11.195222835124738,
           19.522116123135007,
           27.849009411145268,
           36.17590269915553,
           44.5027959871658,
           52.829689275176065,
           61.156582563186326,
           69.48347585119659,
           77.81036913920684,
           86.13726242721711
          ],
          [
           5.6473270331878,
           13.974220321198068,
           22.30111360920833,
           30.628006897218594,
           38.95490018522886,
           47.28179347323913,
           55.60868676124939,
           63.93558004925965,
           72.26247333726991,
           80.58936662528018
          ],
          [
           0.09943123125086117,
           8.42632451926113,
           16.75321780727139,
           25.080111095281655,
           33.40700438329192,
           41.73389767130219,
           50.06079095931245,
           58.38768424732271,
           66.71457753533298,
           75.04147082334325
          ]
         ]
        }
       ],
       "layout": {
        "legend": {
         "tracegroupgap": 0
        },
        "margin": {
         "b": 0,
         "l": 0,
         "r": 0,
         "t": 0
        },
        "scene": {
         "aspectratio": {
          "x": 2,
          "y": 2,
          "z": 0.7
         },
         "domain": {
          "x": [
           0,
           1
          ],
          "y": [
           0,
           1
          ]
         },
         "xaxis": {
          "title": {
           "text": "x1 Study Hours"
          }
         },
         "yaxis": {
          "title": {
           "text": "x2 Doomscrolling Hours"
          }
         },
         "zaxis": {
          "title": {
           "text": "y Exam Grade"
          }
         }
        },
        "template": {
         "data": {
          "bar": [
           {
            "error_x": {
             "color": "#2a3f5f"
            },
            "error_y": {
             "color": "#2a3f5f"
            },
            "marker": {
             "line": {
              "color": "#E5ECF6",
              "width": 0.5
             },
             "pattern": {
              "fillmode": "overlay",
              "size": 10,
              "solidity": 0.2
             }
            },
            "type": "bar"
           }
          ],
          "barpolar": [
           {
            "marker": {
             "line": {
              "color": "#E5ECF6",
              "width": 0.5
             },
             "pattern": {
              "fillmode": "overlay",
              "size": 10,
              "solidity": 0.2
             }
            },
            "type": "barpolar"
           }
          ],
          "carpet": [
           {
            "aaxis": {
             "endlinecolor": "#2a3f5f",
             "gridcolor": "white",
             "linecolor": "white",
             "minorgridcolor": "white",
             "startlinecolor": "#2a3f5f"
            },
            "baxis": {
             "endlinecolor": "#2a3f5f",
             "gridcolor": "white",
             "linecolor": "white",
             "minorgridcolor": "white",
             "startlinecolor": "#2a3f5f"
            },
            "type": "carpet"
           }
          ],
          "choropleth": [
           {
            "colorbar": {
             "outlinewidth": 0,
             "ticks": ""
            },
            "type": "choropleth"
           }
          ],
          "contour": [
           {
            "colorbar": {
             "outlinewidth": 0,
             "ticks": ""
            },
            "colorscale": [
             [
              0,
              "#0d0887"
             ],
             [
              0.1111111111111111,
              "#46039f"
             ],
             [
              0.2222222222222222,
              "#7201a8"
             ],
             [
              0.3333333333333333,
              "#9c179e"
             ],
             [
              0.4444444444444444,
              "#bd3786"
             ],
             [
              0.5555555555555556,
              "#d8576b"
             ],
             [
              0.6666666666666666,
              "#ed7953"
             ],
             [
              0.7777777777777778,
              "#fb9f3a"
             ],
             [
              0.8888888888888888,
              "#fdca26"
             ],
             [
              1,
              "#f0f921"
             ]
            ],
            "type": "contour"
           }
          ],
          "contourcarpet": [
           {
            "colorbar": {
             "outlinewidth": 0,
             "ticks": ""
            },
            "type": "contourcarpet"
           }
          ],
          "heatmap": [
           {
            "colorbar": {
             "outlinewidth": 0,
             "ticks": ""
            },
            "colorscale": [
             [
              0,
              "#0d0887"
             ],
             [
              0.1111111111111111,
              "#46039f"
             ],
             [
              0.2222222222222222,
              "#7201a8"
             ],
             [
              0.3333333333333333,
              "#9c179e"
             ],
             [
              0.4444444444444444,
              "#bd3786"
             ],
             [
              0.5555555555555556,
              "#d8576b"
             ],
             [
              0.6666666666666666,
              "#ed7953"
             ],
             [
              0.7777777777777778,
              "#fb9f3a"
             ],
             [
              0.8888888888888888,
              "#fdca26"
             ],
             [
              1,
              "#f0f921"
             ]
            ],
            "type": "heatmap"
           }
          ],
          "heatmapgl": [
           {
            "colorbar": {
             "outlinewidth": 0,
             "ticks": ""
            },
            "colorscale": [
             [
              0,
              "#0d0887"
             ],
             [
              0.1111111111111111,
              "#46039f"
             ],
             [
              0.2222222222222222,
              "#7201a8"
             ],
             [
              0.3333333333333333,
              "#9c179e"
             ],
             [
              0.4444444444444444,
              "#bd3786"
             ],
             [
              0.5555555555555556,
              "#d8576b"
             ],
             [
              0.6666666666666666,
              "#ed7953"
             ],
             [
              0.7777777777777778,
              "#fb9f3a"
             ],
             [
              0.8888888888888888,
              "#fdca26"
             ],
             [
              1,
              "#f0f921"
             ]
            ],
            "type": "heatmapgl"
           }
          ],
          "histogram": [
           {
            "marker": {
             "pattern": {
              "fillmode": "overlay",
              "size": 10,
              "solidity": 0.2
             }
            },
            "type": "histogram"
           }
          ],
          "histogram2d": [
           {
            "colorbar": {
             "outlinewidth": 0,
             "ticks": ""
            },
            "colorscale": [
             [
              0,
              "#0d0887"
             ],
             [
              0.1111111111111111,
              "#46039f"
             ],
             [
              0.2222222222222222,
              "#7201a8"
             ],
             [
              0.3333333333333333,
              "#9c179e"
             ],
             [
              0.4444444444444444,
              "#bd3786"
             ],
             [
              0.5555555555555556,
              "#d8576b"
             ],
             [
              0.6666666666666666,
              "#ed7953"
             ],
             [
              0.7777777777777778,
              "#fb9f3a"
             ],
             [
              0.8888888888888888,
              "#fdca26"
             ],
             [
              1,
              "#f0f921"
             ]
            ],
            "type": "histogram2d"
           }
          ],
          "histogram2dcontour": [
           {
            "colorbar": {
             "outlinewidth": 0,
             "ticks": ""
            },
            "colorscale": [
             [
              0,
              "#0d0887"
             ],
             [
              0.1111111111111111,
              "#46039f"
             ],
             [
              0.2222222222222222,
              "#7201a8"
             ],
             [
              0.3333333333333333,
              "#9c179e"
             ],
             [
              0.4444444444444444,
              "#bd3786"
             ],
             [
              0.5555555555555556,
              "#d8576b"
             ],
             [
              0.6666666666666666,
              "#ed7953"
             ],
             [
              0.7777777777777778,
              "#fb9f3a"
             ],
             [
              0.8888888888888888,
              "#fdca26"
             ],
             [
              1,
              "#f0f921"
             ]
            ],
            "type": "histogram2dcontour"
           }
          ],
          "mesh3d": [
           {
            "colorbar": {
             "outlinewidth": 0,
             "ticks": ""
            },
            "type": "mesh3d"
           }
          ],
          "parcoords": [
           {
            "line": {
             "colorbar": {
              "outlinewidth": 0,
              "ticks": ""
             }
            },
            "type": "parcoords"
           }
          ],
          "pie": [
           {
            "automargin": true,
            "type": "pie"
           }
          ],
          "scatter": [
           {
            "fillpattern": {
             "fillmode": "overlay",
             "size": 10,
             "solidity": 0.2
            },
            "type": "scatter"
           }
          ],
          "scatter3d": [
           {
            "line": {
             "colorbar": {
              "outlinewidth": 0,
              "ticks": ""
             }
            },
            "marker": {
             "colorbar": {
              "outlinewidth": 0,
              "ticks": ""
             }
            },
            "type": "scatter3d"
           }
          ],
          "scattercarpet": [
           {
            "marker": {
             "colorbar": {
              "outlinewidth": 0,
              "ticks": ""
             }
            },
            "type": "scattercarpet"
           }
          ],
          "scattergeo": [
           {
            "marker": {
             "colorbar": {
              "outlinewidth": 0,
              "ticks": ""
             }
            },
            "type": "scattergeo"
           }
          ],
          "scattergl": [
           {
            "marker": {
             "colorbar": {
              "outlinewidth": 0,
              "ticks": ""
             }
            },
            "type": "scattergl"
           }
          ],
          "scattermapbox": [
           {
            "marker": {
             "colorbar": {
              "outlinewidth": 0,
              "ticks": ""
             }
            },
            "type": "scattermapbox"
           }
          ],
          "scatterpolar": [
           {
            "marker": {
             "colorbar": {
              "outlinewidth": 0,
              "ticks": ""
             }
            },
            "type": "scatterpolar"
           }
          ],
          "scatterpolargl": [
           {
            "marker": {
             "colorbar": {
              "outlinewidth": 0,
              "ticks": ""
             }
            },
            "type": "scatterpolargl"
           }
          ],
          "scatterternary": [
           {
            "marker": {
             "colorbar": {
              "outlinewidth": 0,
              "ticks": ""
             }
            },
            "type": "scatterternary"
           }
          ],
          "surface": [
           {
            "colorbar": {
             "outlinewidth": 0,
             "ticks": ""
            },
            "colorscale": [
             [
              0,
              "#0d0887"
             ],
             [
              0.1111111111111111,
              "#46039f"
             ],
             [
              0.2222222222222222,
              "#7201a8"
             ],
             [
              0.3333333333333333,
              "#9c179e"
             ],
             [
              0.4444444444444444,
              "#bd3786"
             ],
             [
              0.5555555555555556,
              "#d8576b"
             ],
             [
              0.6666666666666666,
              "#ed7953"
             ],
             [
              0.7777777777777778,
              "#fb9f3a"
             ],
             [
              0.8888888888888888,
              "#fdca26"
             ],
             [
              1,
              "#f0f921"
             ]
            ],
            "type": "surface"
           }
          ],
          "table": [
           {
            "cells": {
             "fill": {
              "color": "#EBF0F8"
             },
             "line": {
              "color": "white"
             }
            },
            "header": {
             "fill": {
              "color": "#C8D4E3"
             },
             "line": {
              "color": "white"
             }
            },
            "type": "table"
           }
          ]
         },
         "layout": {
          "annotationdefaults": {
           "arrowcolor": "#2a3f5f",
           "arrowhead": 0,
           "arrowwidth": 1
          },
          "autotypenumbers": "strict",
          "coloraxis": {
           "colorbar": {
            "outlinewidth": 0,
            "ticks": ""
           }
          },
          "colorscale": {
           "diverging": [
            [
             0,
             "#8e0152"
            ],
            [
             0.1,
             "#c51b7d"
            ],
            [
             0.2,
             "#de77ae"
            ],
            [
             0.3,
             "#f1b6da"
            ],
            [
             0.4,
             "#fde0ef"
            ],
            [
             0.5,
             "#f7f7f7"
            ],
            [
             0.6,
             "#e6f5d0"
            ],
            [
             0.7,
             "#b8e186"
            ],
            [
             0.8,
             "#7fbc41"
            ],
            [
             0.9,
             "#4d9221"
            ],
            [
             1,
             "#276419"
            ]
           ],
           "sequential": [
            [
             0,
             "#0d0887"
            ],
            [
             0.1111111111111111,
             "#46039f"
            ],
            [
             0.2222222222222222,
             "#7201a8"
            ],
            [
             0.3333333333333333,
             "#9c179e"
            ],
            [
             0.4444444444444444,
             "#bd3786"
            ],
            [
             0.5555555555555556,
             "#d8576b"
            ],
            [
             0.6666666666666666,
             "#ed7953"
            ],
            [
             0.7777777777777778,
             "#fb9f3a"
            ],
            [
             0.8888888888888888,
             "#fdca26"
            ],
            [
             1,
             "#f0f921"
            ]
           ],
           "sequentialminus": [
            [
             0,
             "#0d0887"
            ],
            [
             0.1111111111111111,
             "#46039f"
            ],
            [
             0.2222222222222222,
             "#7201a8"
            ],
            [
             0.3333333333333333,
             "#9c179e"
            ],
            [
             0.4444444444444444,
             "#bd3786"
            ],
            [
             0.5555555555555556,
             "#d8576b"
            ],
            [
             0.6666666666666666,
             "#ed7953"
            ],
            [
             0.7777777777777778,
             "#fb9f3a"
            ],
            [
             0.8888888888888888,
             "#fdca26"
            ],
            [
             1,
             "#f0f921"
            ]
           ]
          },
          "colorway": [
           "#636efa",
           "#EF553B",
           "#00cc96",
           "#ab63fa",
           "#FFA15A",
           "#19d3f3",
           "#FF6692",
           "#B6E880",
           "#FF97FF",
           "#FECB52"
          ],
          "font": {
           "color": "#2a3f5f"
          },
          "geo": {
           "bgcolor": "white",
           "lakecolor": "white",
           "landcolor": "#E5ECF6",
           "showlakes": true,
           "showland": true,
           "subunitcolor": "white"
          },
          "hoverlabel": {
           "align": "left"
          },
          "hovermode": "closest",
          "mapbox": {
           "style": "light"
          },
          "paper_bgcolor": "white",
          "plot_bgcolor": "#E5ECF6",
          "polar": {
           "angularaxis": {
            "gridcolor": "white",
            "linecolor": "white",
            "ticks": ""
           },
           "bgcolor": "#E5ECF6",
           "radialaxis": {
            "gridcolor": "white",
            "linecolor": "white",
            "ticks": ""
           }
          },
          "scene": {
           "xaxis": {
            "backgroundcolor": "#E5ECF6",
            "gridcolor": "white",
            "gridwidth": 2,
            "linecolor": "white",
            "showbackground": true,
            "ticks": "",
            "zerolinecolor": "white"
           },
           "yaxis": {
            "backgroundcolor": "#E5ECF6",
            "gridcolor": "white",
            "gridwidth": 2,
            "linecolor": "white",
            "showbackground": true,
            "ticks": "",
            "zerolinecolor": "white"
           },
           "zaxis": {
            "backgroundcolor": "#E5ECF6",
            "gridcolor": "white",
            "gridwidth": 2,
            "linecolor": "white",
            "showbackground": true,
            "ticks": "",
            "zerolinecolor": "white"
           }
          },
          "shapedefaults": {
           "line": {
            "color": "#2a3f5f"
           }
          },
          "ternary": {
           "aaxis": {
            "gridcolor": "white",
            "linecolor": "white",
            "ticks": ""
           },
           "baxis": {
            "gridcolor": "white",
            "linecolor": "white",
            "ticks": ""
           },
           "bgcolor": "#E5ECF6",
           "caxis": {
            "gridcolor": "white",
            "linecolor": "white",
            "ticks": ""
           }
          },
          "title": {
           "x": 0.05
          },
          "xaxis": {
           "automargin": true,
           "gridcolor": "white",
           "linecolor": "white",
           "ticks": "",
           "title": {
            "standoff": 15
           },
           "zerolinecolor": "white",
           "zerolinewidth": 2
          },
          "yaxis": {
           "automargin": true,
           "gridcolor": "white",
           "linecolor": "white",
           "ticks": "",
           "title": {
            "standoff": 15
           },
           "zerolinecolor": "white",
           "zerolinewidth": 2
          }
         }
        }
       }
      }
     },
     "metadata": {},
     "output_type": "display_data"
    }
   ],
   "source": [
    "from utils import plot_multiple_lin_reg\n",
    "\n",
    "\n",
    "plot_multiple_lin_reg(df, \"y Exam Grade\", beta)"
   ]
  },
  {
   "cell_type": "code",
   "execution_count": 18,
   "metadata": {},
   "outputs": [
    {
     "data": {
      "application/vnd.plotly.v1+json": {
       "config": {
        "plotlyServerURL": "https://plot.ly"
       },
       "data": [
        {
         "hovertemplate": "x1 Study Hours=%{x}<br>x2 Doomscrolling Hours=%{y}<br>y Exam Grade=%{z}<extra></extra>",
         "legendgroup": "",
         "marker": {
          "color": "#636efa",
          "symbol": "circle"
         },
         "mode": "markers",
         "name": "",
         "scene": "scene",
         "showlegend": false,
         "type": "scatter3d",
         "x": [
          8.732919269750289,
          34.01743330075008,
          30.36246870057705,
          14.199998838105055,
          25.725637164937837,
          22.825994563132767,
          48.52468467979888,
          4.84019765891871,
          29.551345043524563,
          19.862837358402103,
          17.59464980965213,
          31.879134726539643,
          48.811283172691,
          38.22809871788543,
          16.77490848379498,
          3.131800152990488,
          21.61407405906493,
          38.65417770274358,
          5.866024019240551,
          29.484736150677538,
          42.407519017349244,
          49.1713121130321,
          19.016759176378656,
          34.24672193417797,
          43.10312979256036,
          24.88884539126709,
          12.07785200199592,
          42.979041820981074,
          23.531045195903644,
          22.852938066568367,
          21.18531767277364,
          5.865778209159695,
          20.189637033366726,
          33.569173933507656,
          35.688343420500814,
          19.958057262738656,
          30.72638499051604,
          41.12033691778451,
          36.31712322089176,
          5.523855549587236,
          20.268679142427803,
          1.497516245237468,
          5.489222903125035,
          35.160874823360786,
          47.957112598898746,
          43.358357955259955,
          26.7458427463542,
          26.20919301968791,
          9.528345747003403,
          25.907490689558717,
          18.66079778723971,
          4.026600173592204,
          11.06982231463861,
          13.251984918224103,
          3.280243360496282,
          8.106013035441661,
          38.67277722245153,
          7.668443892967286,
          21.649210314059037,
          17.472014602426743,
          37.55108244281992,
          1.447627451348027,
          19.62843942310755,
          34.53923880782648,
          37.9641225858334,
          25.053158641737603,
          18.245591801061906,
          24.79851476867348,
          13.867013565262177,
          5.869014708527859,
          2.340317735609437,
          0.19301757551305476,
          30.643337655849617,
          44.094825154841615,
          48.31949857189467,
          15.02018415792436,
          46.54093586489866,
          13.360351593115933,
          18.595937425623067,
          12.384251124615798,
          42.93887341159511,
          22.22936439056504,
          44.03390615235398,
          49.594516457731466,
          48.30737228135857,
          33.78445738221334,
          10.82286304721049,
          46.13783051126827,
          22.654712272443923,
          38.90857977251271,
          6.95363505743064,
          42.14274439177286,
          5.12068792262082,
          15.20993457997039,
          21.233150142029643,
          28.41087968349225,
          29.821653267481135,
          48.79419342092667,
          19.58984692823329,
          12.519910642678639,
          1.9996400950358484,
          20.41514541698724,
          40.46824857445992,
          47.7166907696346,
          44.87713823247027,
          17.87123257973565,
          14.428497882584779,
          5.621365860615563,
          9.151664603996057,
          37.26164800160646,
          24.38381617691038,
          21.270086267752735,
          10.412662606074191,
          10.76991021716191,
          40.144668578066714,
          30.285597863513942,
          36.39440791847557,
          40.59692808455097,
          45.743154391669144,
          14.644428251350734,
          20.905460587400043,
          5.360537271427301,
          23.65714892328221,
          36.6644567158363,
          18.675550707784183,
          44.452997659486435,
          0.2576482134511615,
          45.97537034529103,
          8.850289078374797,
          7.015800896170971,
          46.85585209702589,
          14.141842608804145,
          30.010643406564697,
          7.390066703269521,
          43.67784136453857,
          44.94805461135159,
          26.633429373568035,
          15.827127994623801,
          21.65387245506342,
          45.74853851578093,
          36.377349566576484,
          28.885471215842017,
          39.77951842716065,
          38.543637828432395,
          7.075324281095013,
          22.06607350902054,
          22.418458944899868,
          31.058462368352735,
          43.33942716295478,
          20.071397465275997,
          40.54193075644757,
          10.572739789120678,
          43.80134239602871,
          6.0060091081737985,
          8.768603475762193,
          44.99333715000151,
          49.02428317345034,
          43.173532459679286,
          18.395874390893667,
          37.86820716188544,
          32.86594583085709,
          24.248282257903526,
          27.73225293101298,
          36.27867670507447,
          38.65550262527096,
          45.157482342578575,
          16.653601723715937,
          23.779455854242187,
          14.909367983153205,
          16.51335178484496,
          7.0191978899673435,
          3.4425982246686972,
          19.76166217681684,
          35.931319517057595,
          36.388563660720905,
          10.883142172886922,
          8.117897395633339,
          8.989764541677081,
          24.003044391037783,
          42.6803021148136,
          11.005193039045318,
          5.57480286493578,
          16.116676902330905,
          24.12921208560505,
          3.459132939619475,
          36.74068873152805,
          46.958045454368516,
          49.99042890584827,
          26.745409919160068,
          15.208677869462328,
          46.08595334354166,
          36.197069925066295,
          46.114925183372385,
          43.69160891673591,
          10.691767340079327,
          0.6085578471629383,
          11.47837223459749,
          36.84265808403928,
          25.74611009683842,
          11.432327549147276,
          29.64401353905788,
          23.79130979286114,
          2.19877160120453,
          26.004070831783654,
          11.22068059604201,
          29.115986652602764,
          14.377225114028075,
          1.0475034633865232,
          24.472931771734906,
          29.43195001459933,
          11.791711205281775,
          31.98111214818708,
          38.91380836482219,
          24.52099542181376,
          49.79076464798175,
          23.57286596771327,
          47.19254286754098,
          35.96945310019868,
          12.719120055881216,
          6.364701271003737,
          7.090863785073875,
          31.335323797955244,
          1.2136352311030607,
          32.606229742106954,
          23.766239110604122,
          13.281627377072363,
          24.18764323508681,
          41.185883601158466,
          15.531460914565315,
          35.757162601268,
          35.24740309613797,
          0.26550238073339005,
          25.561089378684333,
          2.553774008462839,
          42.95013198290293,
          0.03321092951022453,
          13.916264916005716,
          34.575405391576766,
          13.232479900140016,
          31.97313872370051,
          19.895930741746888,
          7.047873826184686,
          43.05615040328934,
          2.145309520127908,
          45.66421704427404,
          17.71124109136314,
          37.74505520687841,
          5.012587203792429,
          0.8530243129548754,
          30.75290103175481,
          14.79749167944639,
          13.29528136683955,
          49.2554339668566,
          25.94949601932159,
          23.620689458553652,
          10.139802059349762,
          17.887894204016934,
          22.068707166624307,
          26.10312103411322,
          45.311570989364206,
          27.62906662552523,
          48.11975369054002,
          31.54159042049019,
          49.394458466676305,
          6.401043522540833,
          0.10323177872108569,
          47.806157977998,
          31.91950528884743,
          47.391094355579476,
          16.48255787907063,
          5.408276223816882,
          11.060906386579617,
          5.122314088596519,
          13.83248651045948,
          17.494884025193947,
          1.2288512153483033,
          11.528564484691001,
          40.012780179176175,
          15.82751050135433,
          5.199541898561655,
          37.55161497674594,
          21.300119383478027,
          5.178923172418609,
          29.529268952396688,
          39.934462444195134,
          14.957682227190805,
          24.313604316465742,
          49.19269148408084,
          19.47742536727844,
          47.231285921106206,
          36.0132926252379,
          33.233279326721934,
          9.9495469962742,
          35.3435904710061,
          46.3988083299179,
          40.80753761331842,
          13.81685763685247,
          18.99469518930087,
          33.41091147713855,
          0.9731233654650173
         ],
         "y": [
          16.399400045403983,
          3.1603809169315324,
          23.882325143820804,
          11.9206640462029,
          18.396379026852067,
          16.873869088211997,
          6.671971587280201,
          17.169586439545803,
          32.95882359250141,
          49.963899696108555,
          36.07033339799762,
          40.65269316237303,
          44.48968282227701,
          34.91242389091453,
          7.384278910335368,
          12.095085210074242,
          26.099813681499125,
          47.93704615282965,
          5.350207009689578,
          37.26990369736465,
          46.79160401083943,
          19.990084611226294,
          7.390433834863619,
          32.838097922041854,
          4.862899739382032,
          29.054096483603153,
          8.451270306458063,
          2.9267461117779394,
          5.791700065044264,
          48.99811631711547,
          42.85624587522837,
          13.562603838093207,
          19.990607000466536,
          17.23590636877538,
          31.959344961269625,
          21.588006382715964,
          3.5021095072322317,
          32.67105805568185,
          26.846150054119523,
          20.251780664847495,
          16.052149502160844,
          36.86271212982387,
          30.315406652254257,
          31.739316146684736,
          5.164907754256931,
          1.4595117424456627,
          20.212180896962938,
          18.25499385300049,
          0.956144872434489,
          42.138843134242116,
          11.143190900749012,
          4.265546155935168,
          5.000703046077759,
          3.307473105847736,
          42.8138089811391,
          27.9841202911724,
          22.82047826695333,
          9.979807106005717,
          26.41170445892679,
          39.07398001173307,
          46.3605903686559,
          44.78456456051017,
          43.918624768999706,
          49.36743785369841,
          18.22723129983933,
          18.81945775971756,
          13.045224969052988,
          34.08699725346806,
          26.218990553860998,
          7.992264342709565,
          48.53657213853164,
          8.928998402882815,
          4.068479942665265,
          35.981007892114405,
          25.381777362038243,
          27.475028639763572,
          26.038071862093027,
          43.86993945870598,
          0.06916749994995697,
          15.91167545885312,
          22.92515835332225,
          16.80511331999437,
          47.25133884701957,
          18.837063348049337,
          39.593978481545065,
          12.244473971004972,
          8.302391226062284,
          14.703833119158304,
          24.697891699361175,
          42.21174807765121,
          21.345218010553683,
          40.90166528779192,
          7.81916744339815,
          3.7679534541670168,
          5.380885257479095,
          12.327846990557806,
          5.876282145181882,
          46.62806019286702,
          12.108929706304272,
          24.1696767601196,
          31.98525530375635,
          18.870328629444366,
          35.4517730091645,
          17.596812024784537,
          38.49835931250444,
          31.08327182266289,
          43.71999585374212,
          10.621718064702051,
          20.151300120214433,
          26.345372452609016,
          0.027298244849782716,
          3.1776887418079216,
          46.61969694802472,
          42.91688193171312,
          7.957311847112142,
          5.783093595250666,
          31.873113868610332,
          23.969227469459405,
          2.4674473394219856,
          35.75262987325835,
          8.64756771355782,
          40.86695557308107,
          44.11418359595537,
          20.48631028153718,
          25.781917332562585,
          36.86392898570839,
          34.70789256845628,
          35.52278797522458,
          24.175906371372935,
          17.949763916981603,
          46.16526537793541,
          16.981552208309957,
          48.159864763019,
          12.845832184333455,
          24.594611585417226,
          9.275894876158814,
          16.31348163246862,
          22.343848197309956,
          17.867343983897722,
          36.58720927164464,
          14.49567247959777,
          38.9589716650917,
          17.226523037715612,
          36.79469484038665,
          43.29727342832386,
          24.320522444433273,
          28.392300073875376,
          24.90897828814717,
          31.38673780976422,
          20.83458784543555,
          17.409597137326006,
          2.9691594002894615,
          45.9273225595175,
          16.723687074805742,
          5.794923441293987,
          2.843862957267773,
          4.822543034869209,
          28.325305349458134,
          17.117118831257894,
          15.72866475021436,
          25.866304175804007,
          45.05810853245808,
          41.343080152434744,
          1.9278623029499176,
          10.843512504552033,
          2.1462095304416007,
          4.986647361737701,
          41.00112179348759,
          7.54674486555208,
          40.6940070960318,
          11.36812245387509,
          35.28550219948038,
          15.541998857165801,
          16.79887711701276,
          40.759969765715674,
          48.690934842299164,
          14.542045332837128,
          17.275282817816723,
          26.108793450105956,
          44.47239544079333,
          31.144701609287623,
          22.948493009103416,
          15.82503727268032,
          36.49138177646338,
          43.958666884370224,
          8.824969444453007,
          25.315611201169432,
          9.862973715036883,
          14.51240212799642,
          29.553269041699508,
          40.263192778958754,
          27.95868910508511,
          24.618070334544207,
          41.699082193831586,
          38.56127314829551,
          16.141476877404376,
          25.343147924365674,
          4.883818372386206,
          46.92060108471928,
          33.85705720557121,
          0.5031847828046665,
          35.43851954705243,
          43.97607415118651,
          1.533052416285896,
          47.68378482136565,
          5.373628388440227,
          22.83518129302421,
          20.58077568068794,
          12.18389376406161,
          37.66200597960884,
          31.024995013999384,
          47.42701505644205,
          42.4172634895003,
          9.267429348969142,
          6.46778805193498,
          3.4046549621053304,
          48.24624704242198,
          17.499642181508445,
          13.26516622685237,
          26.290447653836146,
          15.836533327672814,
          36.37718047953749,
          21.505799218836998,
          42.662298807925644,
          48.46029358588426,
          0.675435331335944,
          12.805689751000898,
          11.638633609055605,
          39.56137155095561,
          27.902561832863128,
          20.931843178501325,
          0.5677564256096279,
          4.164548985949962,
          48.27583195687367,
          7.601361360478476,
          47.08338976948782,
          9.294880142774876,
          5.44518694206631,
          48.75473401060233,
          26.033889574127677,
          38.7250477442101,
          48.36689010184911,
          30.882849128462166,
          35.04278247238688,
          26.228853373931297,
          6.013867248973481,
          44.25109256059031,
          37.9492277376171,
          48.35274590386098,
          27.621952949581658,
          46.46458357848917,
          41.407330660834745,
          39.16983227574029,
          3.3037131925835963,
          21.91279734858518,
          21.179381835715223,
          8.184213057582424,
          13.139997816224453,
          1.758002985809709,
          40.818215275992806,
          42.59042913786216,
          5.526114702633028,
          49.89970004678293,
          30.16614961453723,
          29.15964154952641,
          9.94556673334298,
          16.522028630142195,
          14.042974731612134,
          36.42793649747434,
          39.588071059018546,
          19.61594700327297,
          34.18632236380231,
          19.851291614133704,
          25.317145966190207,
          35.32052888335055,
          31.699346065295376,
          13.435451437842467,
          47.77841969902104,
          41.34026351845378,
          31.69908265036916,
          7.798896401722827,
          44.63535821244908,
          0.9048179100737574,
          21.776577026546672,
          46.17277691020533,
          19.420205858455265,
          29.407573021764964,
          34.86651254150257,
          13.188384322523106,
          6.77742165542532,
          46.26975126462203,
          21.152722008306057,
          18.373766112596364,
          32.47671120876484,
          43.34304568296874,
          45.572543767538114,
          18.476177006982475,
          28.022529435489012,
          14.335834152019716,
          19.961119182895466
         ],
         "z": [
          46.73526051987089,
          97.85049159183905,
          71.53150923482846,
          59.5069417455553,
          70.32457812584337,
          67.38565601286496,
          116.11956883396132,
          40.32467252943427,
          61.34055068828385,
          29.804398643311195,
          40.35808944140462,
          57.31314112305066,
          78.88651901220123,
          72.40386692274593,
          67.80891693995304,
          42.46480667270508,
          56.29009979630665,
          59.96019136173779,
          53.34814584394135,
          57.12535820027839,
          66.74044584900382,
          103.71372296752072,
          71.17128980849606,
          68.66176750592246,
          109.83990646209739,
          58.555107114699645,
          59.658040898710695,
          111.56768826371663,
          79.53242779620962,
          35.424795721416,
          38.972454529043056,
          45.22444050560762,
          60.199099690092865,
          83.14229887708227,
          71.7133046526108,
          58.308041332026235,
          92.64036234038348,
          79.0340620998634,
          77.71588674305625,
          37.95352728546957,
          64.58553391453351,
          15.255646127329507,
          27.881872593434693,
          71.095805342447,
          116.80043446134059,
          113.66102380635238,
          69.8569729891701,
          71.05131517826334,
          63.337596946434495,
          46.87931886154955,
          66.91704868254885,
          51.85402131528961,
          61.53823781662648,
          66.66739253534472,
          12.129114225962205,
          34.313813793557884,
          85.3900935822158,
          51.492182155842514,
          56.021480699117255,
          37.04763739279681,
          59.95167534440235,
          7.3486740716168315,
          35.55998480561872,
          52.42696367634793,
          88.68279265083261,
          68.86673871650163,
          64.22937470942473,
          53.154085694857294,
          44.540935621313416,
          50.88369457056922,
          5.112430619554739,
          41.33021813504436,
          91.94062983183647,
          80.17910912672134,
          97.01752825584946,
          45.07932634809716,
          93.80224398578284,
          26.211875013012538,
          77.80489874880264,
          52.67412045810159,
          91.3683906695861,
          66.5031218583052,
          68.85511664948238,
          105.64395872728102,
          82.82484845808025,
          88.44268350525836,
          57.954708677265856,
          104.52306064241453,
          59.33825406783475,
          65.9693138180795,
          39.080302168577525,
          72.33635465999204,
          49.761831405637714,
          69.21434698648963,
          76.48499588228918,
          80.44481300918348,
          88.7771454538565,
          76.47249992637045,
          67.29826590814223,
          44.442320367615494,
          21.03570139786003,
          61.76211141923678,
          75.35216638067959,
          104.04832826378387,
          78.77560030121246,
          45.61382738146356,
          28.09398149226938,
          47.73111922416478,
          43.47164433007271,
          79.43861394385453,
          86.66015655206945,
          78.6755506393787,
          18.92392651446851,
          23.25175237662008,
          102.23899654893219,
          89.57749365394163,
          72.79389715580088,
          87.03269620657686,
          116.24581599897571,
          36.29070447073387,
          72.75088572065526,
          16.996261534063695,
          41.53846486960565,
          84.54057371325304,
          52.29222437187375,
          79.927063735816,
          15.821915002008662,
          83.48210734384288,
          39.14308186211883,
          42.51401499952888,
          74.1218217427173,
          54.14579557881483,
          46.78410629361385,
          48.14991043033941,
          90.9065480722909,
          108.25109635966056,
          73.95375990521245,
          51.41579375838054,
          64.47862338992181,
          82.16209683501238,
          90.04027348261936,
          54.30317429927362,
          92.46373955081766,
          70.89669944230631,
          17.337959309719515,
          58.76975026677762,
          55.24522613415597,
          71.71685688980286,
          83.62915216039202,
          59.27414216088974,
          93.43173044924514,
          62.931490346008665,
          69.67154278849404,
          42.14232746158641,
          57.351817967132085,
          114.50286921874108,
          118.72263487239847,
          86.52886802762903,
          60.537403922274216,
          90.96882895193124,
          73.34658832528588,
          41.34714498389729,
          50.21516946357137,
          102.45848722515657,
          97.1994320814792,
          115.4912853140805,
          69.95363175284508,
          44.58805374026723,
          64.7129941593742,
          33.99031276236853,
          49.22842059801057,
          19.883577176470904,
          64.01257834517595,
          87.07499199781432,
          63.65899499465347,
          17.56044713627285,
          47.8497582140996,
          46.200339609732325,
          59.96893902915375,
          69.54150889391262,
          35.39790487280454,
          35.48003709726817,
          58.23951642106339,
          49.699342726216805,
          11.387919044500636,
          96.20651359783375,
          95.06481299501012,
          115.09190051599882,
          75.6326151580613,
          43.31223954885858,
          78.9924784018356,
          76.38686560586119,
          94.54811212793453,
          73.96424789423337,
          27.54678896403764,
          34.621791941714335,
          42.12704725156616,
          100.55716089249238,
          41.681742638261646,
          33.32922512832356,
          94.09527140078174,
          50.231225062969585,
          9.39511842965799,
          87.58351167874675,
          19.045753481923924,
          88.24011840510563,
          48.822797217798964,
          31.03656096210673,
          74.61788354957216,
          56.472662240824775,
          36.633671272827854,
          50.34478921828023,
          65.83884901508223,
          77.51877039321735,
          118.30081464199407,
          82.00776182611814,
          72.52974306148673,
          86.4273603121405,
          55.835231820233275,
          33.264425370778675,
          44.940216901431974,
          60.6404492944432,
          30.16652903159786,
          56.11978999173156,
          37.340941013718286,
          69.12988968812759,
          73.55222484693267,
          100.11335451916115,
          33.71884399150211,
          75.71976879076203,
          82.06139996165156,
          49.811212962636056,
          84.17375315379202,
          5.4017487060806415,
          106.84450566504673,
          3.0195308754753176,
          61.60343178929907,
          96.55771077140751,
          21.09950297508572,
          71.955716257035,
          41.283698769437045,
          12.049919218492104,
          83.6557939416919,
          18.317797683006905,
          92.36108510731087,
          70.62083239795527,
          62.449755323673756,
          19.602359688983643,
          3.089950308324565,
          68.54517451502363,
          25.755640651269946,
          28.551487256837145,
          84.73260507009965,
          85.5048291083172,
          63.59530414469163,
          44.01727727993109,
          68.82981975822901,
          69.95549788665316,
          87.43877039377769,
          77.17380142667965,
          48.79061509691476,
          116.75272951602886,
          47.60319194800835,
          93.92406036351124,
          30.4118758557263,
          40.173778061633115,
          104.99797214752307,
          83.8185018872887,
          84.68380484749571,
          35.24124155210543,
          38.59247210656735,
          32.363387307823444,
          37.80449721928368,
          45.54397433006046,
          40.904450764733085,
          20.092927803751515,
          53.99664713413747,
          62.34450913644828,
          32.40288141275514,
          26.040852452695457,
          98.3273380314716,
          37.37379122332543,
          56.773929876298936,
          72.32105320113428,
          63.887398808822276,
          53.08111426143193,
          56.94893263362195,
          88.80108454632276,
          66.11484990661171,
          113.9817101645804,
          57.87980265998761,
          78.75884291303946,
          46.604214033871614,
          70.57914404330575,
          76.2743118991105,
          65.72681377235722,
          52.20370141204467,
          50.47810854580573,
          85.85572772245581,
          31.55486483716067
         ]
        },
        {
         "showscale": false,
         "type": "surface",
         "x": [
          0.03321092951022453,
          5.584012926881118,
          11.13481492425201,
          16.685616921622906,
          22.2364189189938,
          27.787220916364692,
          33.338022913735585,
          38.888824911106475,
          44.43962690847737,
          49.99042890584827
         ],
         "y": [
          0.027298244849782716,
          5.575809517211869,
          11.124320789573956,
          16.67283206193604,
          22.221343334298126,
          27.76985460666021,
          33.3183658790223,
          38.86687715138439,
          44.41538842374647,
          49.963899696108555
         ],
         "z": [
          [
           0.9727017551502173,
           0.9727017551502173,
           0.9727017551502173,
           0.9727017551502173,
           0.9727017551502173,
           0.9727017551502173,
           0.9727017551502173,
           0.9727017551502173,
           0.9727017551502173,
           0.9727017551502173
          ],
          [
           -4.575809517211869,
           -4.575809517211869,
           -4.575809517211869,
           -4.575809517211869,
           -4.575809517211869,
           -4.575809517211869,
           -4.575809517211869,
           -4.575809517211869,
           -4.575809517211869,
           -4.575809517211869
          ],
          [
           -10.124320789573956,
           -10.124320789573956,
           -10.124320789573956,
           -10.124320789573956,
           -10.124320789573956,
           -10.124320789573956,
           -10.124320789573956,
           -10.124320789573956,
           -10.124320789573956,
           -10.124320789573956
          ],
          [
           -15.672832061936042,
           -15.672832061936042,
           -15.672832061936042,
           -15.672832061936042,
           -15.672832061936042,
           -15.672832061936042,
           -15.672832061936042,
           -15.672832061936042,
           -15.672832061936042,
           -15.672832061936042
          ],
          [
           -21.221343334298126,
           -21.221343334298126,
           -21.221343334298126,
           -21.221343334298126,
           -21.221343334298126,
           -21.221343334298126,
           -21.221343334298126,
           -21.221343334298126,
           -21.221343334298126,
           -21.221343334298126
          ],
          [
           -26.76985460666021,
           -26.76985460666021,
           -26.76985460666021,
           -26.76985460666021,
           -26.76985460666021,
           -26.76985460666021,
           -26.76985460666021,
           -26.76985460666021,
           -26.76985460666021,
           -26.76985460666021
          ],
          [
           -32.3183658790223,
           -32.3183658790223,
           -32.3183658790223,
           -32.3183658790223,
           -32.3183658790223,
           -32.3183658790223,
           -32.3183658790223,
           -32.3183658790223,
           -32.3183658790223,
           -32.3183658790223
          ],
          [
           -37.86687715138439,
           -37.86687715138439,
           -37.86687715138439,
           -37.86687715138439,
           -37.86687715138439,
           -37.86687715138439,
           -37.86687715138439,
           -37.86687715138439,
           -37.86687715138439,
           -37.86687715138439
          ],
          [
           -43.41538842374647,
           -43.41538842374647,
           -43.41538842374647,
           -43.41538842374647,
           -43.41538842374647,
           -43.41538842374647,
           -43.41538842374647,
           -43.41538842374647,
           -43.41538842374647,
           -43.41538842374647
          ],
          [
           -48.963899696108555,
           -48.963899696108555,
           -48.963899696108555,
           -48.963899696108555,
           -48.963899696108555,
           -48.963899696108555,
           -48.963899696108555,
           -48.963899696108555,
           -48.963899696108555,
           -48.963899696108555
          ]
         ]
        }
       ],
       "layout": {
        "legend": {
         "tracegroupgap": 0
        },
        "margin": {
         "b": 0,
         "l": 0,
         "r": 0,
         "t": 0
        },
        "scene": {
         "aspectratio": {
          "x": 2,
          "y": 2,
          "z": 0.7
         },
         "domain": {
          "x": [
           0,
           1
          ],
          "y": [
           0,
           1
          ]
         },
         "xaxis": {
          "title": {
           "text": "x1 Study Hours"
          }
         },
         "yaxis": {
          "title": {
           "text": "x2 Doomscrolling Hours"
          }
         },
         "zaxis": {
          "title": {
           "text": "y Exam Grade"
          }
         }
        },
        "template": {
         "data": {
          "bar": [
           {
            "error_x": {
             "color": "#2a3f5f"
            },
            "error_y": {
             "color": "#2a3f5f"
            },
            "marker": {
             "line": {
              "color": "#E5ECF6",
              "width": 0.5
             },
             "pattern": {
              "fillmode": "overlay",
              "size": 10,
              "solidity": 0.2
             }
            },
            "type": "bar"
           }
          ],
          "barpolar": [
           {
            "marker": {
             "line": {
              "color": "#E5ECF6",
              "width": 0.5
             },
             "pattern": {
              "fillmode": "overlay",
              "size": 10,
              "solidity": 0.2
             }
            },
            "type": "barpolar"
           }
          ],
          "carpet": [
           {
            "aaxis": {
             "endlinecolor": "#2a3f5f",
             "gridcolor": "white",
             "linecolor": "white",
             "minorgridcolor": "white",
             "startlinecolor": "#2a3f5f"
            },
            "baxis": {
             "endlinecolor": "#2a3f5f",
             "gridcolor": "white",
             "linecolor": "white",
             "minorgridcolor": "white",
             "startlinecolor": "#2a3f5f"
            },
            "type": "carpet"
           }
          ],
          "choropleth": [
           {
            "colorbar": {
             "outlinewidth": 0,
             "ticks": ""
            },
            "type": "choropleth"
           }
          ],
          "contour": [
           {
            "colorbar": {
             "outlinewidth": 0,
             "ticks": ""
            },
            "colorscale": [
             [
              0,
              "#0d0887"
             ],
             [
              0.1111111111111111,
              "#46039f"
             ],
             [
              0.2222222222222222,
              "#7201a8"
             ],
             [
              0.3333333333333333,
              "#9c179e"
             ],
             [
              0.4444444444444444,
              "#bd3786"
             ],
             [
              0.5555555555555556,
              "#d8576b"
             ],
             [
              0.6666666666666666,
              "#ed7953"
             ],
             [
              0.7777777777777778,
              "#fb9f3a"
             ],
             [
              0.8888888888888888,
              "#fdca26"
             ],
             [
              1,
              "#f0f921"
             ]
            ],
            "type": "contour"
           }
          ],
          "contourcarpet": [
           {
            "colorbar": {
             "outlinewidth": 0,
             "ticks": ""
            },
            "type": "contourcarpet"
           }
          ],
          "heatmap": [
           {
            "colorbar": {
             "outlinewidth": 0,
             "ticks": ""
            },
            "colorscale": [
             [
              0,
              "#0d0887"
             ],
             [
              0.1111111111111111,
              "#46039f"
             ],
             [
              0.2222222222222222,
              "#7201a8"
             ],
             [
              0.3333333333333333,
              "#9c179e"
             ],
             [
              0.4444444444444444,
              "#bd3786"
             ],
             [
              0.5555555555555556,
              "#d8576b"
             ],
             [
              0.6666666666666666,
              "#ed7953"
             ],
             [
              0.7777777777777778,
              "#fb9f3a"
             ],
             [
              0.8888888888888888,
              "#fdca26"
             ],
             [
              1,
              "#f0f921"
             ]
            ],
            "type": "heatmap"
           }
          ],
          "heatmapgl": [
           {
            "colorbar": {
             "outlinewidth": 0,
             "ticks": ""
            },
            "colorscale": [
             [
              0,
              "#0d0887"
             ],
             [
              0.1111111111111111,
              "#46039f"
             ],
             [
              0.2222222222222222,
              "#7201a8"
             ],
             [
              0.3333333333333333,
              "#9c179e"
             ],
             [
              0.4444444444444444,
              "#bd3786"
             ],
             [
              0.5555555555555556,
              "#d8576b"
             ],
             [
              0.6666666666666666,
              "#ed7953"
             ],
             [
              0.7777777777777778,
              "#fb9f3a"
             ],
             [
              0.8888888888888888,
              "#fdca26"
             ],
             [
              1,
              "#f0f921"
             ]
            ],
            "type": "heatmapgl"
           }
          ],
          "histogram": [
           {
            "marker": {
             "pattern": {
              "fillmode": "overlay",
              "size": 10,
              "solidity": 0.2
             }
            },
            "type": "histogram"
           }
          ],
          "histogram2d": [
           {
            "colorbar": {
             "outlinewidth": 0,
             "ticks": ""
            },
            "colorscale": [
             [
              0,
              "#0d0887"
             ],
             [
              0.1111111111111111,
              "#46039f"
             ],
             [
              0.2222222222222222,
              "#7201a8"
             ],
             [
              0.3333333333333333,
              "#9c179e"
             ],
             [
              0.4444444444444444,
              "#bd3786"
             ],
             [
              0.5555555555555556,
              "#d8576b"
             ],
             [
              0.6666666666666666,
              "#ed7953"
             ],
             [
              0.7777777777777778,
              "#fb9f3a"
             ],
             [
              0.8888888888888888,
              "#fdca26"
             ],
             [
              1,
              "#f0f921"
             ]
            ],
            "type": "histogram2d"
           }
          ],
          "histogram2dcontour": [
           {
            "colorbar": {
             "outlinewidth": 0,
             "ticks": ""
            },
            "colorscale": [
             [
              0,
              "#0d0887"
             ],
             [
              0.1111111111111111,
              "#46039f"
             ],
             [
              0.2222222222222222,
              "#7201a8"
             ],
             [
              0.3333333333333333,
              "#9c179e"
             ],
             [
              0.4444444444444444,
              "#bd3786"
             ],
             [
              0.5555555555555556,
              "#d8576b"
             ],
             [
              0.6666666666666666,
              "#ed7953"
             ],
             [
              0.7777777777777778,
              "#fb9f3a"
             ],
             [
              0.8888888888888888,
              "#fdca26"
             ],
             [
              1,
              "#f0f921"
             ]
            ],
            "type": "histogram2dcontour"
           }
          ],
          "mesh3d": [
           {
            "colorbar": {
             "outlinewidth": 0,
             "ticks": ""
            },
            "type": "mesh3d"
           }
          ],
          "parcoords": [
           {
            "line": {
             "colorbar": {
              "outlinewidth": 0,
              "ticks": ""
             }
            },
            "type": "parcoords"
           }
          ],
          "pie": [
           {
            "automargin": true,
            "type": "pie"
           }
          ],
          "scatter": [
           {
            "fillpattern": {
             "fillmode": "overlay",
             "size": 10,
             "solidity": 0.2
            },
            "type": "scatter"
           }
          ],
          "scatter3d": [
           {
            "line": {
             "colorbar": {
              "outlinewidth": 0,
              "ticks": ""
             }
            },
            "marker": {
             "colorbar": {
              "outlinewidth": 0,
              "ticks": ""
             }
            },
            "type": "scatter3d"
           }
          ],
          "scattercarpet": [
           {
            "marker": {
             "colorbar": {
              "outlinewidth": 0,
              "ticks": ""
             }
            },
            "type": "scattercarpet"
           }
          ],
          "scattergeo": [
           {
            "marker": {
             "colorbar": {
              "outlinewidth": 0,
              "ticks": ""
             }
            },
            "type": "scattergeo"
           }
          ],
          "scattergl": [
           {
            "marker": {
             "colorbar": {
              "outlinewidth": 0,
              "ticks": ""
             }
            },
            "type": "scattergl"
           }
          ],
          "scattermapbox": [
           {
            "marker": {
             "colorbar": {
              "outlinewidth": 0,
              "ticks": ""
             }
            },
            "type": "scattermapbox"
           }
          ],
          "scatterpolar": [
           {
            "marker": {
             "colorbar": {
              "outlinewidth": 0,
              "ticks": ""
             }
            },
            "type": "scatterpolar"
           }
          ],
          "scatterpolargl": [
           {
            "marker": {
             "colorbar": {
              "outlinewidth": 0,
              "ticks": ""
             }
            },
            "type": "scatterpolargl"
           }
          ],
          "scatterternary": [
           {
            "marker": {
             "colorbar": {
              "outlinewidth": 0,
              "ticks": ""
             }
            },
            "type": "scatterternary"
           }
          ],
          "surface": [
           {
            "colorbar": {
             "outlinewidth": 0,
             "ticks": ""
            },
            "colorscale": [
             [
              0,
              "#0d0887"
             ],
             [
              0.1111111111111111,
              "#46039f"
             ],
             [
              0.2222222222222222,
              "#7201a8"
             ],
             [
              0.3333333333333333,
              "#9c179e"
             ],
             [
              0.4444444444444444,
              "#bd3786"
             ],
             [
              0.5555555555555556,
              "#d8576b"
             ],
             [
              0.6666666666666666,
              "#ed7953"
             ],
             [
              0.7777777777777778,
              "#fb9f3a"
             ],
             [
              0.8888888888888888,
              "#fdca26"
             ],
             [
              1,
              "#f0f921"
             ]
            ],
            "type": "surface"
           }
          ],
          "table": [
           {
            "cells": {
             "fill": {
              "color": "#EBF0F8"
             },
             "line": {
              "color": "white"
             }
            },
            "header": {
             "fill": {
              "color": "#C8D4E3"
             },
             "line": {
              "color": "white"
             }
            },
            "type": "table"
           }
          ]
         },
         "layout": {
          "annotationdefaults": {
           "arrowcolor": "#2a3f5f",
           "arrowhead": 0,
           "arrowwidth": 1
          },
          "autotypenumbers": "strict",
          "coloraxis": {
           "colorbar": {
            "outlinewidth": 0,
            "ticks": ""
           }
          },
          "colorscale": {
           "diverging": [
            [
             0,
             "#8e0152"
            ],
            [
             0.1,
             "#c51b7d"
            ],
            [
             0.2,
             "#de77ae"
            ],
            [
             0.3,
             "#f1b6da"
            ],
            [
             0.4,
             "#fde0ef"
            ],
            [
             0.5,
             "#f7f7f7"
            ],
            [
             0.6,
             "#e6f5d0"
            ],
            [
             0.7,
             "#b8e186"
            ],
            [
             0.8,
             "#7fbc41"
            ],
            [
             0.9,
             "#4d9221"
            ],
            [
             1,
             "#276419"
            ]
           ],
           "sequential": [
            [
             0,
             "#0d0887"
            ],
            [
             0.1111111111111111,
             "#46039f"
            ],
            [
             0.2222222222222222,
             "#7201a8"
            ],
            [
             0.3333333333333333,
             "#9c179e"
            ],
            [
             0.4444444444444444,
             "#bd3786"
            ],
            [
             0.5555555555555556,
             "#d8576b"
            ],
            [
             0.6666666666666666,
             "#ed7953"
            ],
            [
             0.7777777777777778,
             "#fb9f3a"
            ],
            [
             0.8888888888888888,
             "#fdca26"
            ],
            [
             1,
             "#f0f921"
            ]
           ],
           "sequentialminus": [
            [
             0,
             "#0d0887"
            ],
            [
             0.1111111111111111,
             "#46039f"
            ],
            [
             0.2222222222222222,
             "#7201a8"
            ],
            [
             0.3333333333333333,
             "#9c179e"
            ],
            [
             0.4444444444444444,
             "#bd3786"
            ],
            [
             0.5555555555555556,
             "#d8576b"
            ],
            [
             0.6666666666666666,
             "#ed7953"
            ],
            [
             0.7777777777777778,
             "#fb9f3a"
            ],
            [
             0.8888888888888888,
             "#fdca26"
            ],
            [
             1,
             "#f0f921"
            ]
           ]
          },
          "colorway": [
           "#636efa",
           "#EF553B",
           "#00cc96",
           "#ab63fa",
           "#FFA15A",
           "#19d3f3",
           "#FF6692",
           "#B6E880",
           "#FF97FF",
           "#FECB52"
          ],
          "font": {
           "color": "#2a3f5f"
          },
          "geo": {
           "bgcolor": "white",
           "lakecolor": "white",
           "landcolor": "#E5ECF6",
           "showlakes": true,
           "showland": true,
           "subunitcolor": "white"
          },
          "hoverlabel": {
           "align": "left"
          },
          "hovermode": "closest",
          "mapbox": {
           "style": "light"
          },
          "paper_bgcolor": "white",
          "plot_bgcolor": "#E5ECF6",
          "polar": {
           "angularaxis": {
            "gridcolor": "white",
            "linecolor": "white",
            "ticks": ""
           },
           "bgcolor": "#E5ECF6",
           "radialaxis": {
            "gridcolor": "white",
            "linecolor": "white",
            "ticks": ""
           }
          },
          "scene": {
           "xaxis": {
            "backgroundcolor": "#E5ECF6",
            "gridcolor": "white",
            "gridwidth": 2,
            "linecolor": "white",
            "showbackground": true,
            "ticks": "",
            "zerolinecolor": "white"
           },
           "yaxis": {
            "backgroundcolor": "#E5ECF6",
            "gridcolor": "white",
            "gridwidth": 2,
            "linecolor": "white",
            "showbackground": true,
            "ticks": "",
            "zerolinecolor": "white"
           },
           "zaxis": {
            "backgroundcolor": "#E5ECF6",
            "gridcolor": "white",
            "gridwidth": 2,
            "linecolor": "white",
            "showbackground": true,
            "ticks": "",
            "zerolinecolor": "white"
           }
          },
          "shapedefaults": {
           "line": {
            "color": "#2a3f5f"
           }
          },
          "ternary": {
           "aaxis": {
            "gridcolor": "white",
            "linecolor": "white",
            "ticks": ""
           },
           "baxis": {
            "gridcolor": "white",
            "linecolor": "white",
            "ticks": ""
           },
           "bgcolor": "#E5ECF6",
           "caxis": {
            "gridcolor": "white",
            "linecolor": "white",
            "ticks": ""
           }
          },
          "title": {
           "x": 0.05
          },
          "xaxis": {
           "automargin": true,
           "gridcolor": "white",
           "linecolor": "white",
           "ticks": "",
           "title": {
            "standoff": 15
           },
           "zerolinecolor": "white",
           "zerolinewidth": 2
          },
          "yaxis": {
           "automargin": true,
           "gridcolor": "white",
           "linecolor": "white",
           "ticks": "",
           "title": {
            "standoff": 15
           },
           "zerolinecolor": "white",
           "zerolinewidth": 2
          }
         }
        }
       }
      }
     },
     "metadata": {},
     "output_type": "display_data"
    }
   ],
   "source": [
    "plot_multiple_lin_reg(df, \"y Exam Grade\", beta_bad)"
   ]
  },
  {
   "cell_type": "markdown",
   "metadata": {},
   "source": [
    "## Feature Augmentation\n",
    "\n",
    "Feature augmentation is a technique used to improve the expressiveness of linear models.\n",
    "\n",
    "In this case, we will add polynomial features to the input variables to better fit the data."
   ]
  },
  {
   "cell_type": "code",
   "execution_count": 19,
   "metadata": {},
   "outputs": [
    {
     "data": {
      "text/html": [
       "<div>\n",
       "<style scoped>\n",
       "    .dataframe tbody tr th:only-of-type {\n",
       "        vertical-align: middle;\n",
       "    }\n",
       "\n",
       "    .dataframe tbody tr th {\n",
       "        vertical-align: top;\n",
       "    }\n",
       "\n",
       "    .dataframe thead th {\n",
       "        text-align: right;\n",
       "    }\n",
       "</style>\n",
       "<table border=\"1\" class=\"dataframe\">\n",
       "  <thead>\n",
       "    <tr style=\"text-align: right;\">\n",
       "      <th></th>\n",
       "      <th>x</th>\n",
       "      <th>y</th>\n",
       "    </tr>\n",
       "  </thead>\n",
       "  <tbody>\n",
       "    <tr>\n",
       "      <th>0</th>\n",
       "      <td>0.548814</td>\n",
       "      <td>0.955370</td>\n",
       "    </tr>\n",
       "    <tr>\n",
       "      <th>1</th>\n",
       "      <td>0.715189</td>\n",
       "      <td>1.083593</td>\n",
       "    </tr>\n",
       "    <tr>\n",
       "      <th>2</th>\n",
       "      <td>0.602763</td>\n",
       "      <td>0.915751</td>\n",
       "    </tr>\n",
       "    <tr>\n",
       "      <th>3</th>\n",
       "      <td>0.544883</td>\n",
       "      <td>0.715517</td>\n",
       "    </tr>\n",
       "    <tr>\n",
       "      <th>4</th>\n",
       "      <td>0.423655</td>\n",
       "      <td>0.435842</td>\n",
       "    </tr>\n",
       "    <tr>\n",
       "      <th>5</th>\n",
       "      <td>0.645894</td>\n",
       "      <td>1.025111</td>\n",
       "    </tr>\n",
       "    <tr>\n",
       "      <th>6</th>\n",
       "      <td>0.437587</td>\n",
       "      <td>0.785717</td>\n",
       "    </tr>\n",
       "    <tr>\n",
       "      <th>7</th>\n",
       "      <td>0.891773</td>\n",
       "      <td>1.528015</td>\n",
       "    </tr>\n",
       "    <tr>\n",
       "      <th>8</th>\n",
       "      <td>0.963663</td>\n",
       "      <td>2.085588</td>\n",
       "    </tr>\n",
       "    <tr>\n",
       "      <th>9</th>\n",
       "      <td>0.383442</td>\n",
       "      <td>0.528763</td>\n",
       "    </tr>\n",
       "    <tr>\n",
       "      <th>10</th>\n",
       "      <td>0.791725</td>\n",
       "      <td>1.301611</td>\n",
       "    </tr>\n",
       "    <tr>\n",
       "      <th>11</th>\n",
       "      <td>0.528895</td>\n",
       "      <td>0.762681</td>\n",
       "    </tr>\n",
       "    <tr>\n",
       "      <th>12</th>\n",
       "      <td>0.568045</td>\n",
       "      <td>0.985213</td>\n",
       "    </tr>\n",
       "    <tr>\n",
       "      <th>13</th>\n",
       "      <td>0.925597</td>\n",
       "      <td>1.865930</td>\n",
       "    </tr>\n",
       "    <tr>\n",
       "      <th>14</th>\n",
       "      <td>0.071036</td>\n",
       "      <td>0.888561</td>\n",
       "    </tr>\n",
       "    <tr>\n",
       "      <th>15</th>\n",
       "      <td>0.087129</td>\n",
       "      <td>0.886332</td>\n",
       "    </tr>\n",
       "    <tr>\n",
       "      <th>16</th>\n",
       "      <td>0.020218</td>\n",
       "      <td>0.872011</td>\n",
       "    </tr>\n",
       "    <tr>\n",
       "      <th>17</th>\n",
       "      <td>0.832620</td>\n",
       "      <td>1.216448</td>\n",
       "    </tr>\n",
       "    <tr>\n",
       "      <th>18</th>\n",
       "      <td>0.778157</td>\n",
       "      <td>1.225479</td>\n",
       "    </tr>\n",
       "    <tr>\n",
       "      <th>19</th>\n",
       "      <td>0.870012</td>\n",
       "      <td>1.546374</td>\n",
       "    </tr>\n",
       "  </tbody>\n",
       "</table>\n",
       "</div>"
      ],
      "text/plain": [
       "           x         y\n",
       "0   0.548814  0.955370\n",
       "1   0.715189  1.083593\n",
       "2   0.602763  0.915751\n",
       "3   0.544883  0.715517\n",
       "4   0.423655  0.435842\n",
       "5   0.645894  1.025111\n",
       "6   0.437587  0.785717\n",
       "7   0.891773  1.528015\n",
       "8   0.963663  2.085588\n",
       "9   0.383442  0.528763\n",
       "10  0.791725  1.301611\n",
       "11  0.528895  0.762681\n",
       "12  0.568045  0.985213\n",
       "13  0.925597  1.865930\n",
       "14  0.071036  0.888561\n",
       "15  0.087129  0.886332\n",
       "16  0.020218  0.872011\n",
       "17  0.832620  1.216448\n",
       "18  0.778157  1.225479\n",
       "19  0.870012  1.546374"
      ]
     },
     "execution_count": 19,
     "metadata": {},
     "output_type": "execute_result"
    }
   ],
   "source": [
    "# Let's create data with only one feature\n",
    "np.random.seed(0)\n",
    "n = 20\n",
    "x = np.random.rand(n)\n",
    "y = 3 * x ** 2 -2 * x + 1 + np.random.normal(0, 0.1, n)\n",
    "\n",
    "# Create a DataFrame just to plot the data\n",
    "df = pd.DataFrame({\"x\": x, \"y\": y})\n",
    "df"
   ]
  },
  {
   "cell_type": "code",
   "execution_count": 20,
   "metadata": {},
   "outputs": [
    {
     "data": {
      "text/plain": [
       "<Axes: xlabel='x', ylabel='y'>"
      ]
     },
     "execution_count": 20,
     "metadata": {},
     "output_type": "execute_result"
    },
    {
     "data": {
      "image/png": "[encoded data removed]",
      "text/plain": [
       "<Figure size 640x480 with 1 Axes>"
      ]
     },
     "metadata": {},
     "output_type": "display_data"
    }
   ],
   "source": [
    "sns.scatterplot(data=df, x=\"x\", y=\"y\")"
   ]
  },
  {
   "cell_type": "markdown",
   "metadata": {},
   "source": [
    "Now let's try fitting a linear model to the data, this is the best we can do with a linear model."
   ]
  },
  {
   "cell_type": "code",
   "execution_count": 21,
   "metadata": {},
   "outputs": [
    {
     "name": "stdout",
     "output_type": "stream",
     "text": [
      "MSE: 0.0801\n",
      "R^2: 0.5214\n"
     ]
    },
    {
     "data": {
      "image/png": "[encoded data removed]",
      "text/plain": [
       "<Figure size 640x480 with 1 Axes>"
      ]
     },
     "metadata": {},
     "output_type": "display_data"
    }
   ],
   "source": [
    "beta = compute_beta_lin_reg(x.reshape(-1, 1), y)\n",
    "\n",
    "model = beta[1] * x + beta[0]\n",
    "\n",
    "sns.scatterplot(data=df, x=\"x\", y=\"y\")\n",
    "plt.plot(x, model, \"r\")\n",
    "\n",
    "print(f\"MSE: {mse(y, model):.4f}\")\n",
    "print(f\"R^2: {r_squared(y, model):.4f}\")"
   ]
  },
  {
   "cell_type": "markdown",
   "metadata": {},
   "source": [
    "To fix this, we can add **polynomial features** to the input variables."
   ]
  },
  {
   "cell_type": "code",
   "execution_count": 22,
   "metadata": {},
   "outputs": [],
   "source": [
    "# First, create an array which is the square of the input variable.\n",
    "x_2 = x ** 2\n",
    "\n",
    "# And then stack the two arrays together, to create the X matrix, where each row is [x^2, x]\n",
    "X = np.vstack((x_2, x)).T"
   ]
  },
  {
   "cell_type": "code",
   "execution_count": 23,
   "metadata": {},
   "outputs": [],
   "source": [
    "# Then we can use our usual function to compute the linear regression coefficients\n",
    "beta = compute_beta_lin_reg(X, y)"
   ]
  },
  {
   "cell_type": "code",
   "execution_count": 24,
   "metadata": {},
   "outputs": [
    {
     "data": {
      "text/plain": [
       "<matplotlib.legend.Legend at 0x263edceecc0>"
      ]
     },
     "execution_count": 24,
     "metadata": {},
     "output_type": "execute_result"
    },
    {
     "data": {
      "image/png": "[encoded data removed]",
      "text/plain": [
       "<Figure size 640x480 with 1 Axes>"
      ]
     },
     "metadata": {},
     "output_type": "display_data"
    }
   ],
   "source": [
    "# And compute the predictions as the X matrix multiplied by the coefficients plus the intercept\n",
    "y_pred = X @ beta[1:] + beta[0]\n",
    "\n",
    "sns.scatterplot(data=df, x=\"x\", y=\"y\", label=\"True values\")\n",
    "\n",
    "# We can plot the model as well, so we may want to compute the x values as a range from the minimum to the maximum\n",
    "x_min, x_max = np.min(x), np.max(x)\n",
    "x_grid = np.linspace(x_min, x_max, 100)\n",
    "\n",
    "# Compute the y values using the model\n",
    "y_model = beta[0] + beta[1] * x_grid ** 2 + beta[2] * x_grid \n",
    "\n",
    "# And plot the model\n",
    "plt.plot(x_grid, y_model, \"r\", label=\"Model\")\n",
    "plt.legend()"
   ]
  },
  {
   "cell_type": "markdown",
   "metadata": {},
   "source": [
    "This works very well if we know the data may have a polynomial relationship. But in general we may not know the relationship between the input and target variables, especially when working with high dimensional data.\n",
    "\n",
    "So in general, we can add as many polynomial features as we want, let's try."
   ]
  },
  {
   "cell_type": "code",
   "execution_count": 25,
   "metadata": {},
   "outputs": [],
   "source": [
    "# Define a function that augments a feature with polynomial terms\n",
    "def augment_feature(x, degree):\n",
    "    X = np.vstack([x ** i for i in range(1, degree + 1)]).T\n",
    "    return X"
   ]
  },
  {
   "cell_type": "markdown",
   "metadata": {},
   "source": [
    "We may have overfit the data, the model is too complex and doesn't generalize well."
   ]
  },
  {
   "cell_type": "code",
   "execution_count": 26,
   "metadata": {},
   "outputs": [
    {
     "data": {
      "text/plain": [
       "<matplotlib.legend.Legend at 0x263edb996d0>"
      ]
     },
     "execution_count": 26,
     "metadata": {},
     "output_type": "execute_result"
    },
    {
     "data": {
      "image/png": "[encoded data removed]",
      "text/plain": [
       "<Figure size 640x480 with 1 Axes>"
      ]
     },
     "metadata": {},
     "output_type": "display_data"
    }
   ],
   "source": [
    "degree = 9\n",
    "X_poly = augment_feature(x, degree)\n",
    "\n",
    "beta = compute_beta_lin_reg(X_poly, y)\n",
    "\n",
    "X_grid = np.linspace(np.min(x), np.max(x), 1000)\n",
    "X_grid = augment_feature(X_grid, degree)\n",
    "\n",
    "y_pred = X_grid @ beta[1:] + beta[0]\n",
    "\n",
    "sns.scatterplot(data=df, x=\"x\", y=\"y\", label=\"Input data\")\n",
    "plt.plot(X_grid[:, 0], y_pred, c=\"r\", label=\"Model\")\n",
    "plt.legend()"
   ]
  },
  {
   "cell_type": "markdown",
   "metadata": {},
   "source": [
    "## Ridge Regression"
   ]
  },
  {
   "cell_type": "markdown",
   "metadata": {},
   "source": [
    "Ridge Regression estimates coefficients by minimizing \n",
    "$$\n",
    "RSS + \\lambda \\sum_{j=\\textcolor{red}{1}}^{p} \\beta _j^2\n",
    "$$\n",
    "\n",
    "#### Do not penalize the bias term 🚫   \n",
    "Note that the regularization parameter $\\lambda$ is applied only to $\\beta_1, ..., \\beta_p$, not to the intercept/bias term $\\beta_0$. Why?\n",
    "- We want to shrink the feature weights with respect to the response, to reduce model complexity and prevent overfitting. \n",
    "- But the intercept is not a feature weight, it simply measures the mean response when $x_{i1} = x_{i2} =...=x_{ip}=0.$\n",
    "- If we penalize $\\beta_0$, the model would be forced toward zero-centered predictions (i.e. small $\\beta_0$) which might be wrong. \n",
    "\n",
    "#### Closed-form solution in matrix form\n",
    "$$\n",
    "\\mathbf{\\beta}= (\\mathbf{\\tilde{X}^T} \\mathbf{\\tilde{X}}+\\lambda \\mathbf{\\tilde{I}})^{-1}\\mathbf{\\tilde{X}^T} \\mathbf{y}\n",
    "$$\n",
    "where:\n",
    "- $\\tilde{X}$ is the expanded matrix, with all the features standardized (to have zero-mean and unit variance) and where we added the column of 1s:\n",
    "$$\n",
    "\\tilde{x}_{ij} = \\frac{x_{ij}-\\mu_j}{\\sigma_j}\\quad\n",
    "\\rightarrow \\quad\n",
    "\\mathbf{\\tilde{X}} = \n",
    "\\begin{bmatrix}\n",
    "    1 & \\tilde{x}_{11} & \\tilde{x}_{12} & \\dots & \\tilde{x}_{1p} \\\\\n",
    "    1 & \\tilde{x}_{21} & \\tilde{x}_{22} & \\dots & \\tilde{x}_{2p} \\\\\n",
    "    \\vdots & \\vdots & \\vdots & \\ddots & \\vdots \\\\\n",
    "    1 & \\tilde{x}_{n1} & \\tilde{x}_{n2} & \\dots & \\tilde{x}_{np}\n",
    "\\end{bmatrix}\n",
    "$$ \n",
    "- $\\lambda$ is the regularization parameter controlling the penalty on the coefficients magnitude.\n",
    "- $\\mathbf{\\tilde{I}}$ is a identity-like matrix with a zero in first entry (because the column of 1s is the first one): \n",
    "$$\n",
    "\\mathbf{\\tilde{I}} = \n",
    "\\begin{bmatrix}\n",
    "    \\textcolor{red}{0} & 0 & \\dots & 0 & 0 \\\\\n",
    "    0 & 1 & \\dots & 0 & 0 \\\\\n",
    "    \\vdots & \\vdots & \\ddots & \\vdots & \\vdots \\\\\n",
    "    0 & 0 & \\dots & 1 & 0 \\\\\n",
    "    0 & 0 & \\dots & 0 & 1 \\\\\n",
    "\\end{bmatrix}\n",
    "$$\n",
    "This structure ensures that $\\lambda$ only penalizes $\\beta_1,...\\beta_p$ and not $\\beta_0$. You can write the solution in expanded form to verify this. \n",
    "\n",
    "<div style=\"background-color: lightblue; padding: 10px; color: black\">\n",
    "    <strong> ⚠️ Warning! Standardization in Ridge Regression is necessary. </strong> \n",
    "    Ridge Regression shrinks the magnitude of the coefficients to prevent overfitting. However, if features have different scales, Ridge will penalize large-scale features less, making regularization ineffective (look at 'Introduction to statistical learning'!)\n",
    "</div>\n"
   ]
  },
  {
   "cell_type": "code",
   "execution_count": 27,
   "metadata": {},
   "outputs": [],
   "source": [
    "# 1. Standardize the features \n",
    "X_mean = np.mean(X_poly, axis=0)\n",
    "X_std = np.std(X_poly, axis=0)\n",
    "X_norm = (X_poly - X_mean) / X_std\n"
   ]
  },
  {
   "cell_type": "code",
   "execution_count": 28,
   "metadata": {},
   "outputs": [
    {
     "name": "stdout",
     "output_type": "stream",
     "text": [
      "(10,)\n"
     ]
    }
   ],
   "source": [
    "# 2. Define and train the model\n",
    "def compute_beta_ridge(X, y, lambda_): \n",
    "    # expand the input matrix to include the bias term\n",
    "    X = np.hstack((np.ones((X.shape[0], 1)), X))        \n",
    "\n",
    "    # define the identity-like matrix\n",
    "    I_tilde = np.eye(X.shape[1])\n",
    "    I_tilde[0, 0] = 0\n",
    "\n",
    "    # compute the coefficients\n",
    "    return np.linalg.inv(X.T @ X + lambda_ * I_tilde) @ X.T @ y\n",
    "\n",
    "lambda_ = 0.1 \n",
    "beta_ridge = compute_beta_ridge(X_norm, y, lambda_)\n",
    "print(beta_ridge.shape)"
   ]
  },
  {
   "cell_type": "code",
   "execution_count": 29,
   "metadata": {},
   "outputs": [
    {
     "name": "stdout",
     "output_type": "stream",
     "text": [
      "Coeff      β_Ridge              β_OLS               \n",
      "--------------------------------------------------\n",
      "β0         1.080495             1.080495            \n",
      "β1         -0.276696            -3.047796           \n",
      "β2         0.277845             78.540498           \n",
      "β3         0.254836             -796.825073         \n",
      "β4         0.092263             3820.551740         \n",
      "β5         -0.031916            -10068.056542       \n",
      "β6         -0.077329            15584.601058        \n",
      "β7         -0.050457            -14180.920208       \n",
      "β8         0.030086             7035.127661         \n",
      "β9         0.145638             -1469.614643        \n"
     ]
    }
   ],
   "source": [
    "# Compute also the beta_OLS on the normalized data, and let's compare the coefficients\n",
    "beta_ols = compute_beta_lin_reg(X_norm, y)\n",
    "\n",
    "# Let's print the coefficients \n",
    "print(\"{:<10} {:<20} {:<20}\".format(\"Coeff\", \"β_Ridge\", \"β_OLS\"))\n",
    "print(\"-\" * 50)\n",
    "for i in range(len(beta_ridge)):\n",
    "    index_label = f\"β{i}\"\n",
    "    print(\"{:<10} {:<20.6f} {:<20.6f}\".format(index_label, beta_ridge[i], beta_ols[i]))"
   ]
  },
  {
   "cell_type": "code",
   "execution_count": 30,
   "metadata": {},
   "outputs": [],
   "source": [
    "# 3. Compute predictions\n",
    "y_pred_ridge = beta_ridge[0] + X_norm @ beta_ridge[1:] \n",
    "y_pred_ols = beta_ols[0] + X_norm @ beta_ols[1:]"
   ]
  },
  {
   "cell_type": "code",
   "execution_count": 31,
   "metadata": {},
   "outputs": [
    {
     "name": "stdout",
     "output_type": "stream",
     "text": [
      "MSE-Ridge:  0.012003854187025476\n",
      "MSE-OLS:  0.006069743511614\n",
      "R^2-Ridge:  0.9282684774425932\n",
      "R^2-OLS:  0.9637289876370198\n"
     ]
    }
   ],
   "source": [
    "# 4. Evaluate the model\n",
    "mse_ridge = mse(y, y_pred_ridge)\n",
    "mse_ols = mse(y, y_pred_ols)\n",
    "r2_ridge = r_squared(y, y_pred_ridge)\n",
    "r2_ols = r_squared(y, y_pred_ols)\n",
    "\n",
    "print(\"MSE-Ridge: \", mse_ridge)\n",
    "print(\"MSE-OLS: \", mse_ols)\n",
    "print(\"R^2-Ridge: \", r2_ridge)\n",
    "print(\"R^2-OLS: \", r2_ols)\n"
   ]
  },
  {
   "cell_type": "markdown",
   "metadata": {},
   "source": [
    "<strong> ❌ This is the wrong way to evaluate a model! </strong> Oh no! Ridge appears to perform worse than OLS 😢. This happens because we did not split the dataset into training and testing sets. Therefore, we are not evaluating the model's generalization ability but only how well it fits (or overfit!) the training data."
   ]
  },
  {
   "cell_type": "code",
   "execution_count": 32,
   "metadata": {},
   "outputs": [
    {
     "name": "stdout",
     "output_type": "stream",
     "text": [
      "MSE-Ridge (test):  0.012446693831384152\n",
      "MSE-OLS (test):  0.025101611051240542\n",
      "R^2-Ridge (test):  0.8384361286875119\n",
      "R^2-OLS (test):  0.674169421007783\n"
     ]
    }
   ],
   "source": [
    "# let's create a test set (not seen in training)\n",
    "n_test = 20\n",
    "x_test = np.random.rand(n_test)\n",
    "y_test = 3 * x_test ** 2 - 2 * x_test + 1 + np.random.normal(0, 0.1, n_test)\n",
    "\n",
    "# augment the test set\n",
    "X_test = augment_feature(x_test, degree)\n",
    "\n",
    "# standardize the test set\n",
    "X_test_norm = (X_test - X_mean) / X_std\n",
    "\n",
    "# compute the predictions\n",
    "y_pred_test_ridge = beta_ridge[0] + X_test_norm @ beta_ridge[1:]\n",
    "y_pred_test_ols = beta_ols[0] + X_test_norm @ beta_ols[1:]\n",
    "\n",
    "# compute the MSE\n",
    "mse_test_ridge = mse(y_test, y_pred_test_ridge)\n",
    "mse_test_ols = mse(y_test, y_pred_test_ols)\n",
    "r2_test_ridge = r_squared(y_test, y_pred_test_ridge)\n",
    "r2_test_ols = r_squared(y_test, y_pred_test_ols)\n",
    "\n",
    "# Ridge actually works 😄\n",
    "print(\"MSE-Ridge (test): \", mse_test_ridge)\n",
    "print(\"MSE-OLS (test): \", mse_test_ols)\n",
    "print(\"R^2-Ridge (test): \", r2_test_ridge)\n",
    "print(\"R^2-OLS (test): \", r2_test_ols)"
   ]
  },
  {
   "cell_type": "code",
   "execution_count": 33,
   "metadata": {},
   "outputs": [
    {
     "data": {
      "image/png": "[encoded data removed]",
      "text/plain": [
       "<Figure size 640x480 with 1 Axes>"
      ]
     },
     "metadata": {},
     "output_type": "display_data"
    }
   ],
   "source": [
    "# Visualize the model\n",
    "X_grid = np.linspace(np.min(x), np.max(x), 1000)\n",
    "X_grid = augment_feature(X_grid, degree)\n",
    "X_grid_norm = (X_grid - X_mean) / X_std\n",
    "\n",
    "y_pred_ridge = beta_ridge[0] + X_grid_norm @ beta_ridge[1:] \n",
    "y_pred_ols = beta_ols[0] + X_grid_norm @ beta_ols[1:]\n",
    "\n",
    "sns.scatterplot(data=df, x=\"x\", y=\"y\", label=\"Training data\")\n",
    "plt.plot(X_grid[:, 0], y_pred_ols, c=\"r\", label=\"OLS\")\n",
    "plt.plot(X_grid[:, 0], y_pred_ridge, c=\"g\", label=\"Ridge\")\n",
    "plt.legend()\n",
    "plt.show()"
   ]
  },
  {
   "cell_type": "markdown",
   "metadata": {},
   "source": [
    "### How to go back to coefficients of unnormalized data (for interpretability)\n",
    "If we standardize data, we are finding the coefficients of the model:\n",
    "$$\n",
    "\\hat{Y} = \\beta_0 + \\sum_{j=1}^{p} \\beta_j \\frac{X_j-\\mu_j}{\\sigma_j}\n",
    "$$\n",
    "\n",
    "What if we want to go back, i.e. we want find the coefficients for unnormalize data? We can decompose the formula above as: \n",
    "$$\n",
    "\\hat{Y} = \\left( \\beta_0 - \\sum_{j=1}^{p} \\beta_j \\frac{\\mu_j}{\\sigma_j} \\right) + \\sum_{j=1}^{p} \\beta_j \\frac{X_j}{\\sigma_j}\n",
    "$$\n",
    "so, the intercept will become \n",
    "$$\n",
    "\\beta_0^{un} = \\beta_0 - \\sum_{j=1}^{p} \\beta_j \\frac{\\mu_j}{\\sigma_j}\n",
    "$$\n",
    "and the weights: \n",
    "$$\n",
    "\\beta_j^{un} = \\frac{\\beta_j}{\\sigma_j}\n",
    "$$"
   ]
  },
  {
   "cell_type": "code",
   "execution_count": 34,
   "metadata": {},
   "outputs": [
    {
     "name": "stdout",
     "output_type": "stream",
     "text": [
      "Unnormalized OLS coefficients:  1.0048655144939098 [-1.10461334e+01  2.75290331e+02 -2.86819374e+03  1.44323183e+04\n",
      " -4.03388466e+04  6.65052225e+04 -6.44997264e+04  3.40705816e+04\n",
      " -7.56464128e+03]\n",
      "Coefficient on unnormalized data:  [ 1.00423244e+00 -1.10081820e+01  2.74623525e+02 -2.86262645e+03\n",
      "  1.44074065e+04 -4.02739022e+04  6.64032079e+04 -6.44045207e+04\n",
      "  3.40219418e+04 -7.55416283e+03]\n",
      "They are the same!\n"
     ]
    }
   ],
   "source": [
    "# let's try to compute the unnormalized version of the coefficients \n",
    "beta0_ols_unnorm = beta_ols[0] - np.sum(beta_ols[1:] * X_mean / X_std)\n",
    "beta_ols_unnorm = beta_ols[1:] / X_std\n",
    "\n",
    "print(\"Unnormalized OLS coefficients: \", beta0_ols_unnorm, beta_ols_unnorm)\n",
    "print(\"Coefficient on unnormalized data: \", beta)\n",
    "print(\"They are the same!\")"
   ]
  },
  {
   "cell_type": "markdown",
   "metadata": {},
   "source": [
    "### Coefficients magnitude as function of λ"
   ]
  },
  {
   "cell_type": "code",
   "execution_count": 35,
   "metadata": {},
   "outputs": [
    {
     "data": {
      "image/png": "[encoded data removed]",
      "text/plain": [
       "<Figure size 1000x600 with 1 Axes>"
      ]
     },
     "metadata": {},
     "output_type": "display_data"
    }
   ],
   "source": [
    "lambdas_ = np.logspace(-2, 3, 100)                          # let's plot the coefficients for a range of lambdas from 0.01 to 1000 with 100 points\n",
    "coefficients = np.zeros((len(lambdas_), X_poly.shape[1]))\n",
    "\n",
    "for i, lambda_ in enumerate(lambdas_):\n",
    "    beta_ridge = compute_beta_ridge(X_norm, y, lambda_)\n",
    "    coefficients[i, :] = beta_ridge[1:]                     # let's exclude the bias term (which is NOT regularized)\n",
    "\n",
    "plt.figure(figsize=(10, 6))\n",
    "for i in range(X_poly.shape[1]):\n",
    "    plt.plot(lambdas_, coefficients[:, i], label=f\"β{i+1}\")\n",
    "plt.xlabel(\"λ\")\n",
    "plt.xscale(\"log\")\n",
    "plt.ylabel(\"Coefficient value\")\n",
    "plt.legend()\n",
    "plt.show()\n"
   ]
  },
  {
   "cell_type": "markdown",
   "metadata": {},
   "source": [
    "## Cross validation in a real dataset"
   ]
  },
  {
   "cell_type": "markdown",
   "metadata": {},
   "source": [
    "| **Procedure w/out Cross-Validation** | **Procedure with k-Fold Cross-Validation** | **Procedure with Monte Carlo Cross-Validation** |\n",
    "|--------------------------------------|--------------------------------------------|-----------------------------------------------|\n",
    "| 1. Load data <br> 2. Train-test split <br> 3. (Standardize train and test features using training statistics) <br> 4. Expand the input matrix to account for bias <br> 5. Train the model: find β <br> 6. Make predictions <br> 7. Evaluate model on test set | 1. Load data <br> 2. Split data into k folds <br> 3. For each fold: <br> &nbsp;&nbsp;&nbsp; a. Use k-1 folds for training and 1-fold for test <br> &nbsp;&nbsp;&nbsp; b. (Standardize train and test features using training statistics) <br> &nbsp;&nbsp;&nbsp; c. Train the model: find β <br> &nbsp;&nbsp;&nbsp; d. Make predictions <br> &nbsp;&nbsp;&nbsp; e. Evaluate performance on test set <br> 4. Aggregate results across folds | 1. Load data <br> 2. Repeat for N iterations: <br> &nbsp;&nbsp;&nbsp; a. Randomly split the data into training and test set <br> &nbsp;&nbsp;&nbsp; b. (Standardize train and test features using training statistics) <br> &nbsp;&nbsp;&nbsp; c. Train the model: find β <br> &nbsp;&nbsp;&nbsp; d. Make predictions <br> &nbsp;&nbsp;&nbsp; e. Evaluate performance on test set <br> 3. Aggregate results across iterations |\n"
   ]
  },
  {
   "cell_type": "markdown",
   "metadata": {},
   "source": [
    "### K-fold cross validation"
   ]
  },
  {
   "cell_type": "code",
   "execution_count": 36,
   "metadata": {},
   "outputs": [
    {
     "name": "stdout",
     "output_type": "stream",
     "text": [
      "Feature names: ['MedInc', 'HouseAge', 'AveRooms', 'AveBedrms', 'Population', 'AveOccup', 'Latitude', 'Longitude']\n",
      "Number of samples: 20640\n",
      "Number of features: 27\n"
     ]
    }
   ],
   "source": [
    "# 1. Load data\n",
    "np.random.seed(0)\n",
    "\n",
    "from sklearn.datasets import fetch_california_housing\n",
    "cali_house = fetch_california_housing()\n",
    "X = cali_house['data']\n",
    "y = cali_house['target']\n",
    "feature_names = cali_house['feature_names']\n",
    "print(\"Feature names:\", feature_names)\n",
    "\n",
    "# select only features MedInc, HouseAge, AveRooms, AveOccup as done in class\n",
    "X = X[:, [0, 1, 2, 5]]\n",
    "\n",
    "\n",
    "# Note: this dataset is already clean, and all features are relevant. There is no benefit to use ridge regression\n",
    "# in this case. So, let's corrupt it for didactic purposes by adding multicollinearity and irrelevant features.\n",
    "# comment from here --------------\n",
    "X_collinear1 = X[:, 0] * 2.5 + X[:, 1] * 0.5  # Collinear with MedInc and HouseAge\n",
    "X_collinear2 = X[:, 2] * 1.2 + X[:, 3] * 0.8  # Collinear with AveRooms and AveOccup\n",
    "X_collinear3 = X[:, 0] * 1.1 + X[:, 2] * 0.9  # Collinear with MedInc and AveRooms\n",
    "X_collinear1 = X_collinear1.reshape(-1, 1)\n",
    "X_collinear2 = X_collinear2.reshape(-1, 1)\n",
    "X_collinear3 = X_collinear3.reshape(-1, 1)\n",
    "\n",
    "X_noise1 = np.random.normal(0, 1, size=(X.shape[0], 10))     # 10 features of white noise\n",
    "X_noise2 = np.random.uniform(-3, 2, size=(X.shape[0], 10))  # 10 features of uniform noise\n",
    "\n",
    "# add the new features to the original dataset\n",
    "X = np.hstack((X, X_collinear1, X_collinear2, X_collinear3, X_noise1, X_noise2))\n",
    "# ----------------- to here to use the original dataset\n",
    "\n",
    "n_samples = X.shape[0]\n",
    "n_features = X.shape[1]\n",
    "print(\"Number of samples:\", n_samples)\n",
    "print(\"Number of features:\", n_features)"
   ]
  },
  {
   "cell_type": "code",
   "execution_count": 37,
   "metadata": {},
   "outputs": [],
   "source": [
    "# define model functions\n",
    "def fit_OLS(X, y): \n",
    "    X = np.hstack((np.ones((X.shape[0], 1)), X))\n",
    "    beta = np.linalg.inv(X.T @ X) @ X.T @ y\n",
    "    return beta\n",
    "\n",
    "def fit_ridge(X, y, lambda_): \n",
    "    X = np.hstack((np.ones((X.shape[0], 1)), X))\n",
    "    I_tilde = np.eye(X.shape[1])\n",
    "    I_tilde[0, 0] = 0\n",
    "    beta = np.linalg.inv(X.T @ X + lambda_ * I_tilde) @ X.T @ y\n",
    "    return beta"
   ]
  },
  {
   "cell_type": "code",
   "execution_count": 38,
   "metadata": {},
   "outputs": [],
   "source": [
    "# 2. Split data into k fold \n",
    "k = 5                       # number of folds\n",
    "fold_size = len(X) // k     # size of each fold\n",
    "\n",
    "# shuffle data: k-fold cross validation randomly splits the data into k folds\n",
    "np.random.seed(0)\n",
    "shuffled_indices = np.random.permutation(len(X))\n",
    "X_shuffled = X[shuffled_indices]\n",
    "y_shuffled = y[shuffled_indices]"
   ]
  },
  {
   "cell_type": "code",
   "execution_count": 39,
   "metadata": {},
   "outputs": [],
   "source": [
    "# 3. For each fold...\n",
    "mse_folds_ols = []\n",
    "mse_folds_ridge = []\n",
    "r2_folds_ols = []\n",
    "r2_folds_ridge = []\n",
    "\n",
    "for i in range(k): \n",
    "    # a. Split data into train and test\n",
    "    # define test indices\n",
    "    start = i*fold_size\n",
    "    end = (i+1)*fold_size\n",
    "    test_indices = np.arange(start, end)\n",
    "    \n",
    "    # train indices are the remaining indices\n",
    "    train_indices = train_indices = np.concatenate((np.arange(0, start), np.arange(end, n_samples)))\n",
    "\n",
    "    X_train = X_shuffled[train_indices]\n",
    "    y_train = y_shuffled[train_indices]\n",
    "    X_test = X_shuffled[test_indices]\n",
    "    y_test = y_shuffled[test_indices]\n",
    "\n",
    "    # b. Standardize data\n",
    "    X_train_mean = np.mean(X_train, axis=0)\n",
    "    X_train_std = np.std(X_train, axis=0)\n",
    "    X_train = (X_train - X_train_mean) / X_train_std\n",
    "    X_test = (X_test - X_train_mean) / X_train_std\n",
    "\n",
    "    # c. fit models \n",
    "    beta_ols = fit_OLS(X_train, y_train)\n",
    "    beta_ridge = fit_ridge(X_train, y_train, lambda_=10)\n",
    "\n",
    "    # d. predict on test set\n",
    "    y_pred_ols = X_test @ beta_ols[1:] + beta_ols[0]\n",
    "    y_pred_ridge = X_test @ beta_ridge[1:] + beta_ridge[0]\n",
    "\n",
    "    # e. calculate metrics\n",
    "    mse_ols = np.mean((y_test - y_pred_ols)**2)\n",
    "    mse_ridge = np.mean((y_test - y_pred_ridge)**2)\n",
    "    r2_ols = 1 - np.sum((y_test - y_pred_ols)**2) / np.sum((y_test - np.mean(y_test))**2)\n",
    "    r2_ridge = 1 - np.sum((y_test - y_pred_ridge)**2) / np.sum((y_test - np.mean(y_test))**2)\n",
    "    \n",
    "    mse_folds_ols.append(mse_ols)\n",
    "    mse_folds_ridge.append(mse_ridge)\n",
    "    r2_folds_ols.append(r2_ols)\n",
    "    r2_folds_ridge.append(r2_ridge)"
   ]
  },
  {
   "cell_type": "code",
   "execution_count": 40,
   "metadata": {},
   "outputs": [
    {
     "data": {
      "image/png": "[encoded data removed]",
      "text/plain": [
       "<Figure size 1000x500 with 2 Axes>"
      ]
     },
     "metadata": {},
     "output_type": "display_data"
    }
   ],
   "source": [
    "# 4. Aggregate metrics\n",
    "# plot boxplots\n",
    "plt.figure(figsize=(10, 5))\n",
    "plt.subplot(1, 2, 1)\n",
    "sns.boxplot(data=[mse_folds_ols, mse_folds_ridge], palette='Set3', showfliers=False)\n",
    "plt.ylabel('MSE')\n",
    "plt.xticks([0, 1], ['OLS', 'Ridge'])\n",
    "plt.title('MSE')\n",
    "\n",
    "plt.subplot(1, 2, 2)\n",
    "sns.boxplot(data=[r2_folds_ols, r2_folds_ridge], palette='Set3', showfliers=False)\n",
    "plt.ylabel('R2')\n",
    "plt.xticks([0, 1], ['OLS', 'Ridge'])\n",
    "plt.title('R2')\n",
    "plt.tight_layout()\n",
    "plt.suptitle(\"K-fold Cross Validation\")\n",
    "plt.show()"
   ]
  },
  {
   "cell_type": "markdown",
   "metadata": {},
   "source": [
    "### Monte Carlo Cross Validation"
   ]
  },
  {
   "cell_type": "markdown",
   "metadata": {},
   "source": [
    "In simple terms: instead of splitting the data into k-folds, we randomly split the data into training and test sets.\n",
    "\n",
    "#### ⛰ Monte Carlo digression\n",
    "\n",
    "**What is Monte Carlo estimation?**\n",
    "\n",
    "It is a method to estimate a quantity by using random sampling, and then averaging the results.\n",
    "\n",
    "Basically, a Monte Carlo estimation can be done in the following steps:\n",
    "\n",
    "1. Generate random samples from a distribution\n",
    "2. Compute the output for the samples\n",
    "3. Average the output\n",
    "\n",
    "**An example of Monte Carlo estimation: Approximating the value of $\\pi$**\n",
    "\n",
    "> Today is pi day! 🎉 (3-14 in the American date format) \n",
    "\n",
    "Note: the ratio between the area of a circle and the area of a square that contains the circle is $\\pi / 4$.\n",
    "\n",
    "We start by sampling some points inside the square."
   ]
  },
  {
   "cell_type": "code",
   "execution_count": 41,
   "metadata": {},
   "outputs": [],
   "source": [
    "np.random.seed(0) # set the random seed for reproducibility\n",
    "\n",
    "n = 1000\n",
    "Xc = np.random.rand(n, 2)*2 - 1"
   ]
  },
  {
   "cell_type": "markdown",
   "metadata": {},
   "source": [
    "This function checks if a point is inside the circle."
   ]
  },
  {
   "cell_type": "code",
   "execution_count": 42,
   "metadata": {},
   "outputs": [],
   "source": [
    "# We want to compute x^2 + y^2 for each point (along axis 1) and check if less than 1\n",
    "def is_inside_circle(Xc):\n",
    "    return np.sum(Xc**2, axis=1) < 1"
   ]
  },
  {
   "cell_type": "code",
   "execution_count": 43,
   "metadata": {},
   "outputs": [
    {
     "data": {
      "text/plain": [
       "<matplotlib.collections.PathCollection at 0x263ee93d160>"
      ]
     },
     "execution_count": 43,
     "metadata": {},
     "output_type": "execute_result"
    },
    {
     "data": {
      "image/png": "[encoded data removed]",
      "text/plain": [
       "<Figure size 640x480 with 1 Axes>"
      ]
     },
     "metadata": {},
     "output_type": "display_data"
    }
   ],
   "source": [
    "from utils import plt_circle\n",
    "\n",
    "\n",
    "color = is_inside_circle(Xc)\n",
    "\n",
    "ax = plt_circle()\n",
    "ax.scatter(Xc[:, 0], Xc[:, 1], s=1, c=color, cmap=\"coolwarm\")"
   ]
  },
  {
   "cell_type": "code",
   "execution_count": 44,
   "metadata": {},
   "outputs": [
    {
     "data": {
      "text/plain": [
       "3.052"
      ]
     },
     "execution_count": 44,
     "metadata": {},
     "output_type": "execute_result"
    }
   ],
   "source": [
    "# Now we compute the ratio between the number of points inside the circle and the total number of points\n",
    "ratio = 4 * np.sum(color) / n\n",
    "ratio"
   ]
  },
  {
   "cell_type": "markdown",
   "metadata": {},
   "source": [
    "Nice! But not quite equal to $\\pi$ yet. \n",
    "\n",
    "Let's try increasing the number of samples."
   ]
  },
  {
   "cell_type": "code",
   "execution_count": 45,
   "metadata": {},
   "outputs": [
    {
     "data": {
      "text/plain": [
       "[1, 10, 100, 1000, 10000, 100000, 1000000]"
      ]
     },
     "execution_count": 45,
     "metadata": {},
     "output_type": "execute_result"
    }
   ],
   "source": [
    "# We will conduct an experiment for each number of points in n_points\n",
    "n_points = [10**i for i in range(7)]\n",
    "n_points"
   ]
  },
  {
   "cell_type": "code",
   "execution_count": 46,
   "metadata": {},
   "outputs": [
    {
     "data": {
      "text/plain": [
       "<matplotlib.lines.Line2D at 0x263f06ab380>"
      ]
     },
     "execution_count": 46,
     "metadata": {},
     "output_type": "execute_result"
    },
    {
     "data": {
      "image/png": "[encoded data removed]",
      "text/plain": [
       "<Figure size 640x480 with 1 Axes>"
      ]
     },
     "metadata": {},
     "output_type": "display_data"
    }
   ],
   "source": [
    "ratios = []\n",
    "\n",
    "for n in n_points:\n",
    "    # Generate n random points in the square\n",
    "    Xc = np.random.rand(n, 2) * 2 - 1\n",
    "    # Check if they are inside the circle\n",
    "    color = is_inside_circle(Xc)\n",
    "    # Compute the ratio and save it for later\n",
    "    ratio = 4 * np.sum(color) / n\n",
    "    # Save the ratio and the number of points\n",
    "    ratios.append(ratio)\n",
    "\n",
    "plt.plot(n_points, ratios, \"o-\")\n",
    "plt.xscale(\"log\")\n",
    "plt.xlabel(\"Number of points\")\n",
    "plt.ylabel(\"Ratio\")\n",
    "plt.title(f\"Estimation of π: {ratio}\")\n",
    "plt.axhline(np.pi, color=\"r\", linestyle=\"--\")"
   ]
  },
  {
   "cell_type": "markdown",
   "metadata": {},
   "source": [
    "How fast does the error decrease as we increase the number of samples?\n",
    "\n",
    "It is known that the error decreases as $O(1/\\sqrt{n})$, where $n$ is the number of samples."
   ]
  },
  {
   "cell_type": "code",
   "execution_count": 47,
   "metadata": {},
   "outputs": [
    {
     "data": {
      "text/plain": [
       "Text(0, 0.5, 'Error')"
      ]
     },
     "execution_count": 47,
     "metadata": {},
     "output_type": "execute_result"
    },
    {
     "data": {
      "image/png": "[encoded data removed]",
      "text/plain": [
       "<Figure size 640x480 with 1 Axes>"
      ]
     },
     "metadata": {},
     "output_type": "display_data"
    }
   ],
   "source": [
    "errors = np.abs(np.array(ratios) - np.pi)\n",
    "\n",
    "plt.plot(n_points, 1/np.sqrt(n_points), \"r--\")\n",
    "plt.plot(n_points, errors, \"o-\")\n",
    "plt.xscale(\"log\")\n",
    "plt.xlabel(\"Number of points\")\n",
    "plt.ylabel(\"Error\")"
   ]
  },
  {
   "cell_type": "markdown",
   "metadata": {},
   "source": [
    "As we can see, the more samples we have, the closer the estimation is to the real value of $\\pi$.\n",
    "\n",
    "**We could have also kept the number of points fixed and repeated the experiment multiple times, averaging the results.**\n",
    "\n",
    "This works because averaging multiple indipedent estimates of the same quantity reduces the variance of the estimate."
   ]
  },
  {
   "cell_type": "code",
   "execution_count": 48,
   "metadata": {},
   "outputs": [
    {
     "data": {
      "text/plain": [
       "<matplotlib.lines.Line2D at 0x263ee8f3380>"
      ]
     },
     "execution_count": 48,
     "metadata": {},
     "output_type": "execute_result"
    },
    {
     "data": {
      "image/png": "[encoded data removed]",
      "text/plain": [
       "<Figure size 640x480 with 1 Axes>"
      ]
     },
     "metadata": {},
     "output_type": "display_data"
    }
   ],
   "source": [
    "n_points = 1000\n",
    "n_experiments = 1000\n",
    "ratios = []\n",
    "\n",
    "for _ in range(n_experiments):\n",
    "    # Generate n random points in the square\n",
    "    Xc = np.random.rand(n_points, 2) * 2 - 1\n",
    "    # Check if they are inside the circle\n",
    "    color = is_inside_circle(Xc)\n",
    "    # Compute the ratio and save it for later\n",
    "    ratio = 4 * np.sum(color) / n_points\n",
    "    # Save the ratioWoulWWww\n",
    "    ratios.append(ratio)\n",
    "\n",
    "# get the cumsum of the ratiosn_points\n",
    "cumsum_ratios = np.cumsum(ratios)\n",
    "# compute the average ratio at each point\n",
    "average_ratios = cumsum_ratios / np.arange(1, n_experiments + 1)\n",
    "\n",
    "n_points_total = n_points * np.arange(1, n_experiments + 1)\n",
    "\n",
    "plt.plot(n_points_total, average_ratios)\n",
    "plt.xlabel(\"Number of points\")\n",
    "plt.xscale(\"log\")\n",
    "plt.ylabel(\"Ratio\")\n",
    "plt.title(f\"Estimation of π: {average_ratios[-1]}\")\n",
    "plt.axhline(np.pi, color=\"r\", linestyle=\"--\")"
   ]
  },
  {
   "cell_type": "code",
   "execution_count": 49,
   "metadata": {},
   "outputs": [
    {
     "data": {
      "text/plain": [
       "Text(0, 0.5, 'Error')"
      ]
     },
     "execution_count": 49,
     "metadata": {},
     "output_type": "execute_result"
    },
    {
     "data": {
      "image/png": "[encoded data removed]",
      "text/plain": [
       "<Figure size 640x480 with 1 Axes>"
      ]
     },
     "metadata": {},
     "output_type": "display_data"
    }
   ],
   "source": [
    "errors = np.abs(average_ratios - np.pi)\n",
    "\n",
    "plt.plot(n_points_total, 1 / np.sqrt(n_points_total), \"r--\")\n",
    "plt.plot(n_points_total, errors)\n",
    "plt.xscale(\"log\")\n",
    "plt.xlabel(\"Number of points\")\n",
    "plt.ylabel(\"Error\")"
   ]
  },
  {
   "cell_type": "markdown",
   "metadata": {},
   "source": [
    "<div style=\"font-size: 2em;\"> ⛰ → 🥧 </div>\n",
    "\n",
    "We have seen how Monte Carlo helps us estimate a quantity by averaging multiple random samples, in this case, the value of $\\pi$.\n",
    "\n",
    "Now we need to use Monte Carlo Cross-Validation to estimate the performance of our model.\n",
    "\n",
    "#### Monte Carlo Cross-Validation\n",
    "\n",
    "**Remember**: the model is trained on a subset of the data (called training set) and tested on another subset (called test set).\n",
    "> This is important to evaluate generalization of the model: how well it performs on unseen data.\n",
    "\n",
    "⚠️ But what if the test set is a lucky or unlucky subset of the data? Meaning, what if the samples in the test are particularly easy or hard to predict?\n",
    "\n",
    "💡 The idea is to sample the train and test sets multiple times from the dataset, while performing training and test each time.\n",
    "\n",
    "The performance is then average of the variuos runs → remember Monte Carlo estimation?\n",
    "\n"
   ]
  },
  {
   "cell_type": "markdown",
   "metadata": {},
   "source": [
    "Let's implement Monte Carlo Cross-Validation to estimate the performance of a model: first we need a train-test split function."
   ]
  },
  {
   "cell_type": "code",
   "execution_count": 50,
   "metadata": {},
   "outputs": [],
   "source": [
    "# 2. Train-test split: to properly evaluate generalization performance. \n",
    "# a. set the proportion p of samples to use in the training set (usually 0.8, i.e. 80%)\n",
    "# b. split the dataset randomly. One way is: \n",
    "#   i. shuffle the indices of the samples\n",
    "#   ii. use the first p% of the shuffled indices to index the training set, the rest for the test set\n",
    "#   iii. use the indexed samples to create the training and test sets\n",
    "\n",
    "def random_train_test_split():\n",
    "    p_train = 0.8                                           # proportion of samples to use in the training set\n",
    "    split_point = int(p_train * X.shape[0])                 # numer of samples in the training set\n",
    "\n",
    "    shuffled_indices = np.random.permutation(X.shape[0])\n",
    "\n",
    "    train_indices = shuffled_indices[:split_point]\n",
    "    test_indices = shuffled_indices[split_point:]\n",
    "\n",
    "    X_train, y_train = X[train_indices], y[train_indices]\n",
    "    X_test, y_test = X[test_indices], y[test_indices]\n",
    "    \n",
    "    return X_train, X_test, y_train, y_test"
   ]
  },
  {
   "cell_type": "markdown",
   "metadata": {},
   "source": [
    "Now we can perform multiple runs with different train-test splits."
   ]
  },
  {
   "cell_type": "code",
   "execution_count": 51,
   "metadata": {},
   "outputs": [],
   "source": [
    "n_iterations = 10 # number of times to perform the train and test of the model\n",
    "\n",
    "# 3. For each iteration...\n",
    "mse_iters_ols = []\n",
    "mse_iters_ridge = []\n",
    "r2_iters_ols = []\n",
    "r2_iters_ridge = []\n",
    "\n",
    "for i in range(n_iterations): \n",
    "    # a. Split data into train and test\n",
    "    X_train, X_test, y_train, y_test = random_train_test_split()\n",
    "\n",
    "    # b. Standardize data\n",
    "    X_train_mean = np.mean(X_train, axis=0)\n",
    "    X_train_std = np.std(X_train, axis=0)\n",
    "    X_train = (X_train - X_train_mean) / X_train_std\n",
    "    X_test = (X_test - X_train_mean) / X_train_std\n",
    "\n",
    "    # c. fit models \n",
    "    beta_ols = fit_OLS(X_train, y_train)\n",
    "    beta_ridge = fit_ridge(X_train, y_train, lambda_=10)\n",
    "\n",
    "    # d. predict on test set\n",
    "    y_pred_ols = X_test @ beta_ols[1:] + beta_ols[0]\n",
    "    y_pred_ridge = X_test @ beta_ridge[1:] + beta_ridge[0]\n",
    "\n",
    "    # e. calculate metrics\n",
    "    mse_ols = np.mean((y_test - y_pred_ols)**2)\n",
    "    mse_ridge = np.mean((y_test - y_pred_ridge)**2)\n",
    "    r2_ols = 1 - np.sum((y_test - y_pred_ols)**2) / np.sum((y_test - np.mean(y_test))**2)\n",
    "    r2_ridge = 1 - np.sum((y_test - y_pred_ridge)**2) / np.sum((y_test - np.mean(y_test))**2)\n",
    "    \n",
    "    mse_iters_ols.append(mse_ols)\n",
    "    mse_iters_ridge.append(mse_ridge)\n",
    "    r2_iters_ols.append(r2_ols)\n",
    "    r2_iters_ridge.append(r2_ridge)"
   ]
  },
  {
   "cell_type": "code",
   "execution_count": 52,
   "metadata": {},
   "outputs": [
    {
     "data": {
      "image/png": "[encoded data removed]",
      "text/plain": [
       "<Figure size 1000x500 with 2 Axes>"
      ]
     },
     "metadata": {},
     "output_type": "display_data"
    }
   ],
   "source": [
    "# 4. Aggregate metrics\n",
    "# plot boxplots\n",
    "plt.figure(figsize=(10, 5))\n",
    "plt.subplot(1, 2, 1)\n",
    "sns.boxplot(data=[mse_iters_ols, mse_iters_ridge], palette='Set3', showfliers=False)\n",
    "plt.ylabel('MSE')\n",
    "plt.xticks([0, 1], ['OLS', 'Ridge'])\n",
    "plt.title('MSE')\n",
    "\n",
    "plt.subplot(1, 2, 2)\n",
    "sns.boxplot(data=[r2_iters_ols, r2_iters_ridge], palette='Set3', showfliers=False)\n",
    "plt.ylabel('R2')\n",
    "plt.xticks([0, 1], ['OLS', 'Ridge'])\n",
    "plt.title('R2')\n",
    "plt.tight_layout()\n",
    "plt.suptitle(\"Monte Carlo Cross Validation\")\n",
    "plt.show()"
   ]
  },
  {
   "cell_type": "markdown",
   "metadata": {},
   "source": [
    "<span style=\"color:red\"><strong>🏋️‍♀️ Exercise</strong></span>\n",
    "\n",
    "Using `Advertising` data:\n",
    "- retrieve the input matrix **X** (with features TV, radio newspaper) and the target **Y** (sales) as numpy arrays. \n",
    "- select a cross-validation method and train and evaluate both the OLS model and the Ridge Regression model. \n",
    "- Show the performances using boxplots. \n",
    "- Comment the results. \n"
   ]
  }
 ],
 "metadata": {
  "kernelspec": {
   "display_name": "capsule",
   "language": "python",
   "name": "python3"
  },
  "language_info": {
   "codemirror_mode": {
    "name": "ipython",
    "version": 3
   },
   "file_extension": ".py",
   "mimetype": "text/x-python",
   "name": "python",
   "nbconvert_exporter": "python",
   "pygments_lexer": "ipython3",
   "version": "3.12.2"
  }
 },
 "nbformat": 4,
 "nbformat_minor": 2
}
