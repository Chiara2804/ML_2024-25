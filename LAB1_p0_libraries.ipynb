{
 "cells": [
  {
   "cell_type": "markdown",
   "metadata": {},
   "source": [
    "**ML COURSE 2024-2025**\n",
    "# LAB1: PYTHON INTRODUCTION\n",
    "**PART 0**"
   ]
  },
  {
   "cell_type": "markdown",
   "metadata": {},
   "source": [
    "#### Summary\n",
    "- **Part 0**: Data Structures, introduction to NumPy, pandas, matplotlib and seaborn. \n",
    "- **Part 1**: Datasets analysis, statistics and visualizations. \n",
    "- **Part 2**: PCA from scratch"
   ]
  },
  {
   "cell_type": "markdown",
   "metadata": {},
   "source": [
    "## Data Structures\n",
    "\n",
    "In python, there are several data structures that are used to store data. The most common ones are:\n",
    "\n",
    "| Data Structure | Ordered | Changeable | Allows Duplicats  | Indexed |\n",
    "|----------------|---------|------------|-------------------|---------|\n",
    "| List           | ✅      | ✅         | ✅                | ✅      |\n",
    "| Tuple          | ✅      | ❌         | ✅                | ✅      |\n",
    "| Set            | ❌      | ✅         | ❌ (Unique value) | ❌      |\n",
    "| Dictionary     | ❌      | ✅         | ❌ (Unique key)   | ✅      |\n",
    "\n",
    "- Indexed: can access an element by its index\n",
    "- Ordered: maintains the order of the elements\n",
    "- Changeable: can change the elements after creation\n",
    "- Allows Duplicate Members: can have multiple elements with the same value\n",
    "\n",
    "\n",
    "#### Lists\n",
    "\n",
    "Similar to arrays in other programming languages. Can store multiple values in a single variable."
   ]
  },
  {
   "cell_type": "code",
   "execution_count": 1,
   "metadata": {},
   "outputs": [],
   "source": [
    "my_list = [1, 2, 3, 4, 5] # can store numbers\n",
    "my_list = [1, 2.5, 'hello', True] # can store different data types at the same time"
   ]
  },
  {
   "cell_type": "markdown",
   "metadata": {},
   "source": [
    "Can see the lenght and access elements by their index. (⚠️ the first element has index 0)"
   ]
  },
  {
   "cell_type": "code",
   "execution_count": 2,
   "metadata": {},
   "outputs": [
    {
     "name": "stdout",
     "output_type": "stream",
     "text": [
      "lenght of the list 4\n",
      "first element 1\n",
      "second element 2.5\n",
      "last element True\n"
     ]
    }
   ],
   "source": [
    "print(\"lenght of the list\", len(my_list))\n",
    "print(\"first element\", my_list[0])\n",
    "print(\"second element\", my_list[1])\n",
    "print(\"last element\", my_list[-1])"
   ]
  },
  {
   "cell_type": "markdown",
   "metadata": {},
   "source": [
    "Can iterate very easily:"
   ]
  },
  {
   "cell_type": "code",
   "execution_count": 3,
   "metadata": {},
   "outputs": [
    {
     "name": "stdout",
     "output_type": "stream",
     "text": [
      "1 has type: <class 'int'>\n",
      "2.5 has type: <class 'float'>\n",
      "hello has type: <class 'str'>\n",
      "True has type: <class 'bool'>\n"
     ]
    }
   ],
   "source": [
    "for element in my_list:\n",
    "    print(element, \"has type:\", type(element))"
   ]
  },
  {
   "cell_type": "markdown",
   "metadata": {},
   "source": [
    "Can add elements to the end of the list:"
   ]
  },
  {
   "cell_type": "code",
   "execution_count": 4,
   "metadata": {},
   "outputs": [
    {
     "name": "stdout",
     "output_type": "stream",
     "text": [
      "[1, 2.5, 'hello', True, 6]\n"
     ]
    }
   ],
   "source": [
    "my_list.append(6)\n",
    "print(my_list)"
   ]
  },
  {
   "cell_type": "markdown",
   "metadata": {},
   "source": [
    "#### Tuples\n",
    "\n",
    "Same as lists but immutable: once created, the elements cannot be changed."
   ]
  },
  {
   "cell_type": "code",
   "execution_count": 5,
   "metadata": {},
   "outputs": [],
   "source": [
    "my_tuple = (1, 2.5, 'hello', True) # can store different data types"
   ]
  },
  {
   "cell_type": "markdown",
   "metadata": {},
   "source": [
    "#### Sets\n",
    "\n",
    "Unordered and unindexed. Cannot access elements by their index. Can iterate like lists."
   ]
  },
  {
   "cell_type": "code",
   "execution_count": 6,
   "metadata": {},
   "outputs": [
    {
     "name": "stdout",
     "output_type": "stream",
     "text": [
      "lenght of the set 3\n"
     ]
    }
   ],
   "source": [
    "my_set = {1, 2.5, \"hello\", True}  # can store different data types\n",
    "\n",
    "print(\"lenght of the set\", len(my_set))"
   ]
  },
  {
   "cell_type": "markdown",
   "metadata": {},
   "source": [
    "Can be used to keep a collection of unique elements:"
   ]
  },
  {
   "cell_type": "code",
   "execution_count": 7,
   "metadata": {},
   "outputs": [
    {
     "name": "stdout",
     "output_type": "stream",
     "text": [
      "{1, 2, 3, 4, 5}\n"
     ]
    }
   ],
   "source": [
    "my_list = [1, 2, 3, 4, 5, 1, 2, 3, 3, 3, 3]\n",
    "\n",
    "unique_elements = set(my_list)\n",
    "print(unique_elements)"
   ]
  },
  {
   "cell_type": "markdown",
   "metadata": {},
   "source": [
    "#### Dictionaries\n",
    "\n",
    "Stores data in key-value pairs. Same as lists, but instead of accessing elements by their index, we access them by their key.\n",
    "\n",
    "To define a dictionary we use curly brackets `{}` and separate the key and value with a colon `:`."
   ]
  },
  {
   "cell_type": "code",
   "execution_count": 8,
   "metadata": {},
   "outputs": [],
   "source": [
    "my_dict = {\n",
    "    'name': 'Alice',\n",
    "    'age': 25,\n",
    "    'is_student': True\n",
    "}"
   ]
  },
  {
   "cell_type": "markdown",
   "metadata": {},
   "source": [
    "## Libraries\n",
    "\n",
    "Libraries are convenient because they make our lives easier; skilled programmers have already written good code that we can reuse.\n",
    "\n",
    "It is better to use existing libraries rather than writing everything from scratch!\n",
    "\n",
    "We don't need to reinvent the wheel!\n",
    "\n",
    "- To import a library, we use the keyword `import`.\n",
    "- If we want to import a specific functionality, we can select it with `from`.\n",
    "- Additionally, if the library name is a bit long, we can rename it with `as`."
   ]
  },
  {
   "cell_type": "markdown",
   "metadata": {},
   "source": [
    "Let's make some examples with the `numpy` library, a classic library for scientific computing in Python.\n",
    "\n",
    "> **Simply import**\n",
    "> ```python\n",
    "> import numpy\n",
    "> ```\n",
    "\n",
    "> **Import a specific functionality**\n",
    "> \n",
    "> Maybe I only use a couple of functions from a library, in that case, we could import those specific ones.\n",
    "> \n",
    "> ```python\n",
    "> from numpy import array, mean\n",
    "> ```\n",
    "\n",
    "> **Import with an alias**\n",
    "> \n",
    "> Writing `numpy` every time is a bit long, we can rename the library with an alias.\n",
    "> \n",
    "> ```python\n",
    "> import numpy as np\n",
    "> ```"
   ]
  },
  {
   "cell_type": "markdown",
   "metadata": {},
   "source": [
    "**How do I know what functionalities are available in a library?**\n",
    "\n",
    "→ I look in the official documentation: for example, [numpy](https://numpy.org/doc/stable/)\n"
   ]
  },
  {
   "cell_type": "markdown",
   "metadata": {},
   "source": [
    "### Library Examples"
   ]
  },
  {
   "cell_type": "markdown",
   "metadata": {},
   "source": [
    "#### Pandas 🐼: like Excel, but in Python\n",
    "\n",
    "[Link to the official documentation](https://pandas.pydata.org/docs/)\n",
    "\n",
    "We can manipulate data in tabular format:\n",
    "- Filter: select rows based on conditions\n",
    "- Aggregate: calculate statistics\n",
    "\n",
    "File management:\n",
    "- It allows us to load CSV files, which is a tabular format similar to a spreadsheet.\n",
    "- Besides loading data, we can also save them in a CSV file: useful for saving our results."
   ]
  },
  {
   "cell_type": "code",
   "execution_count": 9,
   "metadata": {},
   "outputs": [],
   "source": [
    "# First, let's import pandas, usually with the alias `pd` for convenience\n",
    "import pandas as pd"
   ]
  },
  {
   "cell_type": "markdown",
   "metadata": {},
   "source": [
    "We can read data from various sources, but for this example we will define a dataframe manually using a dictionary."
   ]
  },
  {
   "cell_type": "code",
   "execution_count": 10,
   "metadata": {},
   "outputs": [
    {
     "data": {
      "application/vnd.microsoft.datawrangler.viewer.v0+json": {
       "columns": [
        {
         "name": "index",
         "rawType": "int64",
         "type": "integer"
        },
        {
         "name": "name",
         "rawType": "object",
         "type": "string"
        },
        {
         "name": "age",
         "rawType": "int64",
         "type": "integer"
        },
        {
         "name": "gender",
         "rawType": "object",
         "type": "string"
        }
       ],
       "conversionMethod": "pd.DataFrame",
       "ref": "4a273aac-8e38-467c-bed8-7ca0bdcb16ca",
       "rows": [
        [
         "0",
         "Alice",
         "25",
         "F"
        ],
        [
         "1",
         "Bob",
         "30",
         "M"
        ],
        [
         "2",
         "Charlie",
         "35",
         "M"
        ],
        [
         "3",
         "David",
         "40",
         "NB"
        ],
        [
         "4",
         "Eve",
         "45",
         "F"
        ],
        [
         "5",
         "Fay",
         "50",
         "F"
        ]
       ],
       "shape": {
        "columns": 3,
        "rows": 6
       }
      },
      "text/html": [
       "<div>\n",
       "<style scoped>\n",
       "    .dataframe tbody tr th:only-of-type {\n",
       "        vertical-align: middle;\n",
       "    }\n",
       "\n",
       "    .dataframe tbody tr th {\n",
       "        vertical-align: top;\n",
       "    }\n",
       "\n",
       "    .dataframe thead th {\n",
       "        text-align: right;\n",
       "    }\n",
       "</style>\n",
       "<table border=\"1\" class=\"dataframe\">\n",
       "  <thead>\n",
       "    <tr style=\"text-align: right;\">\n",
       "      <th></th>\n",
       "      <th>name</th>\n",
       "      <th>age</th>\n",
       "      <th>gender</th>\n",
       "    </tr>\n",
       "  </thead>\n",
       "  <tbody>\n",
       "    <tr>\n",
       "      <th>0</th>\n",
       "      <td>Alice</td>\n",
       "      <td>25</td>\n",
       "      <td>F</td>\n",
       "    </tr>\n",
       "    <tr>\n",
       "      <th>1</th>\n",
       "      <td>Bob</td>\n",
       "      <td>30</td>\n",
       "      <td>M</td>\n",
       "    </tr>\n",
       "    <tr>\n",
       "      <th>2</th>\n",
       "      <td>Charlie</td>\n",
       "      <td>35</td>\n",
       "      <td>M</td>\n",
       "    </tr>\n",
       "    <tr>\n",
       "      <th>3</th>\n",
       "      <td>David</td>\n",
       "      <td>40</td>\n",
       "      <td>NB</td>\n",
       "    </tr>\n",
       "    <tr>\n",
       "      <th>4</th>\n",
       "      <td>Eve</td>\n",
       "      <td>45</td>\n",
       "      <td>F</td>\n",
       "    </tr>\n",
       "    <tr>\n",
       "      <th>5</th>\n",
       "      <td>Fay</td>\n",
       "      <td>50</td>\n",
       "      <td>F</td>\n",
       "    </tr>\n",
       "  </tbody>\n",
       "</table>\n",
       "</div>"
      ],
      "text/plain": [
       "      name  age gender\n",
       "0    Alice   25      F\n",
       "1      Bob   30      M\n",
       "2  Charlie   35      M\n",
       "3    David   40     NB\n",
       "4      Eve   45      F\n",
       "5      Fay   50      F"
      ]
     },
     "execution_count": 10,
     "metadata": {},
     "output_type": "execute_result"
    }
   ],
   "source": [
    "ages = [25, 30, 35, 40, 45, 50]\n",
    "names = [\"Alice\", \"Bob\", \"Charlie\", \"David\", \"Eve\", \"Fay\"]\n",
    "genders = [\"F\", \"M\", \"M\", \"NB\", \"F\", \"F\"]\n",
    "\n",
    "# Create a dictionary with the data\n",
    "data = {\n",
    "    \"name\": names,\n",
    "    \"age\": ages,\n",
    "    \"gender\": genders,\n",
    "}\n",
    "\n",
    "# Usually df is the name of the variable used to represent a dataframe, which is pandas main data structure\n",
    "df = pd.DataFrame(data)\n",
    "\n",
    "# We can look at the dataframe by displaying it\n",
    "df"
   ]
  },
  {
   "cell_type": "markdown",
   "metadata": {},
   "source": [
    "What columns does our table have? We can use the `columns` attribute."
   ]
  },
  {
   "cell_type": "code",
   "execution_count": 11,
   "metadata": {},
   "outputs": [
    {
     "name": "stdout",
     "output_type": "stream",
     "text": [
      "Index(['name', 'age', 'gender'], dtype='object')\n"
     ]
    }
   ],
   "source": [
    "print(df.columns)"
   ]
  },
  {
   "cell_type": "markdown",
   "metadata": {},
   "source": [
    "**Counting**\n",
    "\n",
    "We can select only the rows that meet a certain condition.\n",
    "\n",
    "For example, how many women and how many men boarded?"
   ]
  },
  {
   "cell_type": "code",
   "execution_count": 12,
   "metadata": {},
   "outputs": [
    {
     "name": "stdout",
     "output_type": "stream",
     "text": [
      "0     F\n",
      "1     M\n",
      "2     M\n",
      "3    NB\n",
      "4     F\n",
      "5     F\n",
      "Name: gender, dtype: object\n"
     ]
    }
   ],
   "source": [
    "# Access the \"gender\" column as if it were a dictionary\n",
    "print(df[\"gender\"])"
   ]
  },
  {
   "cell_type": "code",
   "execution_count": 13,
   "metadata": {},
   "outputs": [
    {
     "data": {
      "text/plain": [
       "gender\n",
       "F     3\n",
       "M     2\n",
       "NB    1\n",
       "Name: count, dtype: int64"
      ]
     },
     "execution_count": 13,
     "metadata": {},
     "output_type": "execute_result"
    }
   ],
   "source": [
    "df[\"gender\"].value_counts()"
   ]
  },
  {
   "cell_type": "markdown",
   "metadata": {},
   "source": [
    "**Statistics**\n",
    "\n",
    "We can, for example, calculate the average age of the passengers or the maximum age."
   ]
  },
  {
   "cell_type": "code",
   "execution_count": 14,
   "metadata": {},
   "outputs": [
    {
     "name": "stdout",
     "output_type": "stream",
     "text": [
      "The average age is 37.50\n",
      "The maximum age is 50\n"
     ]
    }
   ],
   "source": [
    "average_age = df[\"age\"].mean()\n",
    "max_age = df[\"age\"].max()\n",
    "\n",
    "print(f\"The average age is {average_age:.2f}\") # pro tip: :.2f is used to print only 2 decimal places\n",
    "print(f\"The maximum age is {max_age}\")"
   ]
  },
  {
   "cell_type": "markdown",
   "metadata": {},
   "source": [
    "**Filtering**\n",
    "\n",
    "We can select only the columns we are interested in.\n",
    "\n",
    "Example: among passengers over 30 years old, how many were men and how many were women?\n",
    "\n",
    "The age is in the `Age` column."
   ]
  },
  {
   "cell_type": "code",
   "execution_count": 15,
   "metadata": {},
   "outputs": [
    {
     "data": {
      "text/plain": [
       "age\n",
       "35    1\n",
       "40    1\n",
       "45    1\n",
       "50    1\n",
       "Name: count, dtype: int64"
      ]
     },
     "execution_count": 15,
     "metadata": {},
     "output_type": "execute_result"
    }
   ],
   "source": [
    "# Create a filter to select only rows with age greater than 30 years\n",
    "filter = df[\"age\"] > 32\n",
    "\n",
    "# Apply the filter to the dataset\n",
    "filtered_dataset = df[filter]\n",
    "\n",
    "# Count the values of the column we are interested in\n",
    "filtered_dataset[\"age\"].value_counts()"
   ]
  },
  {
   "cell_type": "markdown",
   "metadata": {},
   "source": [
    "<span style=\"color:red\"><strong>🏋️‍♀️ Exercise</strong></span>\n",
    "\n",
    "Print the average age of females in the dataframe.\n"
   ]
  },
  {
   "cell_type": "code",
   "execution_count": 16,
   "metadata": {},
   "outputs": [],
   "source": [
    "# Develop your solution here\n"
   ]
  },
  {
   "cell_type": "markdown",
   "metadata": {},
   "source": [
    "#### NumPy 🔢: mathematics at your fingertips"
   ]
  },
  {
   "cell_type": "markdown",
   "metadata": {},
   "source": [
    "[Link to the official documentation](https://numpy.org/doc/stable/)\n",
    "\n",
    "With `numpy` we can perform mathematical operations on arrays and matrices.\n"
   ]
  },
  {
   "cell_type": "code",
   "execution_count": 17,
   "metadata": {},
   "outputs": [],
   "source": [
    "# Import the library\n",
    "import numpy as np"
   ]
  },
  {
   "cell_type": "markdown",
   "metadata": {},
   "source": [
    "In mathematics, a vectors and matrices are fundamental objects. \n",
    "\n",
    "In Python a data type that similar to a vector is a list, but we can't perform mathematical operations directly on lists.\n",
    "\n",
    "For example, summing two lists concatenates them, but we can sum two arrays like vectors and matrices."
   ]
  },
  {
   "cell_type": "code",
   "execution_count": 18,
   "metadata": {},
   "outputs": [
    {
     "name": "stdout",
     "output_type": "stream",
     "text": [
      "Sum of the two lists:\n",
      "[1, 2, 3, 4, 5, 6]\n",
      "Sum of the two arrays:\n",
      "[5 7 9]\n"
     ]
    }
   ],
   "source": [
    "list1 = [1, 2, 3]\n",
    "list2 = [4, 5, 6]\n",
    "\n",
    "# If I sum the two lists, I get a list with concatenated values\n",
    "print(\"Sum of the two lists:\")\n",
    "print(list1 + list2)\n",
    "\n",
    "# I can convert them into numpy arrays and sum them\n",
    "array1 = np.array(list1)\n",
    "array2 = np.array(list2)\n",
    "\n",
    "print(\"Sum of the two arrays:\")\n",
    "print(array1 + array2)"
   ]
  },
  {
   "cell_type": "markdown",
   "metadata": {},
   "source": [
    "Let's create an array:\n",
    "- of integers\n",
    "- between 0 and 100\n",
    "- with 10 elements"
   ]
  },
  {
   "cell_type": "code",
   "execution_count": 19,
   "metadata": {},
   "outputs": [
    {
     "name": "stdout",
     "output_type": "stream",
     "text": [
      "[37 76 84  3 77  2 83 39 91 18]\n"
     ]
    }
   ],
   "source": [
    "# Define a random array of 10 integer elements\n",
    "range_min = 0\n",
    "range_max = 100\n",
    "num_elements = 10\n",
    "random_array = np.random.randint(range_min, range_max, num_elements)\n",
    "\n",
    "# Print the array\n",
    "print(random_array)"
   ]
  },
  {
   "cell_type": "markdown",
   "metadata": {},
   "source": [
    "**Tip 🕵**\n",
    "\n",
    "If I don't remember the parameters of a function, I can use Python's `help()` function."
   ]
  },
  {
   "cell_type": "code",
   "execution_count": 20,
   "metadata": {},
   "outputs": [
    {
     "name": "stdout",
     "output_type": "stream",
     "text": [
      "Help on built-in function randint:\n",
      "\n",
      "randint(...) method of numpy.random.mtrand.RandomState instance\n",
      "    randint(low, high=None, size=None, dtype=int)\n",
      "\n",
      "    Return random integers from `low` (inclusive) to `high` (exclusive).\n",
      "\n",
      "    Return random integers from the \"discrete uniform\" distribution of\n",
      "    the specified dtype in the \"half-open\" interval [`low`, `high`). If\n",
      "    `high` is None (the default), then results are from [0, `low`).\n",
      "\n",
      "    .. note::\n",
      "        New code should use the `~numpy.random.Generator.integers`\n",
      "        method of a `~numpy.random.Generator` instance instead;\n",
      "        please see the :ref:`random-quick-start`.\n",
      "\n",
      "    Parameters\n",
      "    ----------\n",
      "    low : int or array-like of ints\n",
      "        Lowest (signed) integers to be drawn from the distribution (unless\n",
      "        ``high=None``, in which case this parameter is one above the\n",
      "        *highest* such integer).\n",
      "    high : int or array-like of ints, optional\n",
      "        If provided, one above the largest (signed) integer to be drawn\n",
      "        from the distribution (see above for behavior if ``high=None``).\n",
      "        If array-like, must contain integer values\n",
      "    size : int or tuple of ints, optional\n",
      "        Output shape.  If the given shape is, e.g., ``(m, n, k)``, then\n",
      "        ``m * n * k`` samples are drawn.  Default is None, in which case a\n",
      "        single value is returned.\n",
      "    dtype : dtype, optional\n",
      "        Desired dtype of the result. Byteorder must be native.\n",
      "        The default value is int.\n",
      "\n",
      "        .. versionadded:: 1.11.0\n",
      "\n",
      "    Returns\n",
      "    -------\n",
      "    out : int or ndarray of ints\n",
      "        `size`-shaped array of random integers from the appropriate\n",
      "        distribution, or a single such random int if `size` not provided.\n",
      "\n",
      "    See Also\n",
      "    --------\n",
      "    random_integers : similar to `randint`, only for the closed\n",
      "        interval [`low`, `high`], and 1 is the lowest value if `high` is\n",
      "        omitted.\n",
      "    random.Generator.integers: which should be used for new code.\n",
      "\n",
      "    Examples\n",
      "    --------\n",
      "    >>> np.random.randint(2, size=10)\n",
      "    array([1, 0, 0, 0, 1, 1, 0, 0, 1, 0]) # random\n",
      "    >>> np.random.randint(1, size=10)\n",
      "    array([0, 0, 0, 0, 0, 0, 0, 0, 0, 0])\n",
      "\n",
      "    Generate a 2 x 4 array of ints between 0 and 4, inclusive:\n",
      "\n",
      "    >>> np.random.randint(5, size=(2, 4))\n",
      "    array([[4, 0, 2, 1], # random\n",
      "           [3, 2, 2, 0]])\n",
      "\n",
      "    Generate a 1 x 3 array with 3 different upper bounds\n",
      "\n",
      "    >>> np.random.randint(1, [3, 5, 10])\n",
      "    array([2, 2, 9]) # random\n",
      "\n",
      "    Generate a 1 by 3 array with 3 different lower bounds\n",
      "\n",
      "    >>> np.random.randint([1, 5, 7], 10)\n",
      "    array([9, 8, 7]) # random\n",
      "\n",
      "    Generate a 2 by 4 array using broadcasting with dtype of uint8\n",
      "\n",
      "    >>> np.random.randint([1, 3, 5, 7], [[10], [20]], dtype=np.uint8)\n",
      "    array([[ 8,  6,  9,  7], # random\n",
      "           [ 1, 16,  9, 12]], dtype=uint8)\n",
      "\n"
     ]
    }
   ],
   "source": [
    "# Let's view the documentation for the function that generates a random array of integers\n",
    "help(np.random.randint)"
   ]
  },
  {
   "cell_type": "markdown",
   "metadata": {},
   "source": [
    "Let's create the identity matrix of size 3x3."
   ]
  },
  {
   "cell_type": "code",
   "execution_count": 21,
   "metadata": {},
   "outputs": [
    {
     "name": "stdout",
     "output_type": "stream",
     "text": [
      "[[1. 0. 0.]\n",
      " [0. 1. 0.]\n",
      " [0. 0. 1.]]\n"
     ]
    }
   ],
   "source": [
    "identity_matrix = np.eye(3)\n",
    "\n",
    "print(identity_matrix)"
   ]
  },
  {
   "cell_type": "markdown",
   "metadata": {},
   "source": [
    "There are also other ways to define matrices:"
   ]
  },
  {
   "cell_type": "code",
   "execution_count": 22,
   "metadata": {},
   "outputs": [
    {
     "name": "stdout",
     "output_type": "stream",
     "text": [
      "zero_matrix:\n",
      "[[0. 0. 0. 0. 0.]\n",
      " [0. 0. 0. 0. 0.]\n",
      " [0. 0. 0. 0. 0.]]\n",
      "ones_matrix:\n",
      "[[1. 1.]\n",
      " [1. 1.]\n",
      " [1. 1.]\n",
      " [1. 1.]]\n"
     ]
    }
   ],
   "source": [
    "# For example, a zero matrix of size 3x5\n",
    "zero_matrix = np.zeros((3, 5))\n",
    "print(\"zero_matrix:\")\n",
    "print(zero_matrix)\n",
    "\n",
    "# Or a matrix of ones of size 4x2\n",
    "ones_matrix = np.ones((4, 2))\n",
    "print(\"ones_matrix:\")\n",
    "print(ones_matrix)"
   ]
  },
  {
   "cell_type": "markdown",
   "metadata": {},
   "source": [
    "You can get the size of vectors and matrices with the `shape` attribute."
   ]
  },
  {
   "cell_type": "code",
   "execution_count": 23,
   "metadata": {},
   "outputs": [
    {
     "name": "stdout",
     "output_type": "stream",
     "text": [
      "Dimension of zero_matrix: (3, 5)\n"
     ]
    }
   ],
   "source": [
    "matrix_dimension = zero_matrix.shape\n",
    "print(\"Dimension of zero_matrix:\", matrix_dimension)"
   ]
  },
  {
   "cell_type": "markdown",
   "metadata": {},
   "source": [
    "I can also create a matrix of random real numbers"
   ]
  },
  {
   "cell_type": "code",
   "execution_count": 24,
   "metadata": {},
   "outputs": [
    {
     "name": "stdout",
     "output_type": "stream",
     "text": [
      "[[0.89307388 0.41519673 0.37291935]\n",
      " [0.69340485 0.35109239 0.20564708]\n",
      " [0.69432256 0.28824497 0.13944176]]\n"
     ]
    }
   ],
   "source": [
    "random_matrix = np.random.rand(3, 3)\n",
    "print(random_matrix)"
   ]
  },
  {
   "cell_type": "markdown",
   "metadata": {},
   "source": [
    "I can create an array of ordered numbers"
   ]
  },
  {
   "cell_type": "code",
   "execution_count": 25,
   "metadata": {},
   "outputs": [
    {
     "name": "stdout",
     "output_type": "stream",
     "text": [
      "[0 1 2 3 4 5 6 7 8]\n"
     ]
    }
   ],
   "source": [
    "ordered_array = np.arange(9)\n",
    "print(ordered_array)"
   ]
  },
  {
   "cell_type": "markdown",
   "metadata": {},
   "source": [
    "Modify the array I created so that it becomes a 3x3 matrix"
   ]
  },
  {
   "cell_type": "code",
   "execution_count": 26,
   "metadata": {},
   "outputs": [
    {
     "name": "stdout",
     "output_type": "stream",
     "text": [
      "[[0 1 2]\n",
      " [3 4 5]\n",
      " [6 7 8]]\n"
     ]
    }
   ],
   "source": [
    "ordered_matrix = ordered_array.reshape(3, 3)\n",
    "print(ordered_matrix)"
   ]
  },
  {
   "cell_type": "markdown",
   "metadata": {},
   "source": [
    "Accessing matrix elements"
   ]
  },
  {
   "cell_type": "code",
   "execution_count": 27,
   "metadata": {},
   "outputs": [
    {
     "name": "stdout",
     "output_type": "stream",
     "text": [
      "first row:\n",
      "[0 1 2]\n",
      "first column:\n",
      "[0 3 6]\n"
     ]
    }
   ],
   "source": [
    "print(\"first row:\")\n",
    "print(ordered_matrix[0])\n",
    "\n",
    "print(\"first column:\")\n",
    "print(ordered_matrix[:, 0])"
   ]
  },
  {
   "cell_type": "markdown",
   "metadata": {},
   "source": [
    "Assign values to the matrix elements"
   ]
  },
  {
   "cell_type": "code",
   "execution_count": 28,
   "metadata": {},
   "outputs": [
    {
     "name": "stdout",
     "output_type": "stream",
     "text": [
      "original matrix:\n",
      "[[0 1 2]\n",
      " [3 4 5]\n",
      " [6 7 8]]\n",
      "matrix with the first column overwritten with zeros:\n",
      "[[0 1 2]\n",
      " [0 4 5]\n",
      " [0 7 8]]\n"
     ]
    }
   ],
   "source": [
    "ordered_matrix = np.arange(9).reshape(3, 3)\n",
    "\n",
    "print(\"original matrix:\")\n",
    "print(ordered_matrix)\n",
    "\n",
    "print(\"matrix with the first column overwritten with zeros:\")\n",
    "ordered_matrix[:, 0] = 0\n",
    "print(ordered_matrix)"
   ]
  },
  {
   "cell_type": "markdown",
   "metadata": {},
   "source": [
    "The transpose matrix is simple to obtain:"
   ]
  },
  {
   "cell_type": "code",
   "execution_count": 29,
   "metadata": {},
   "outputs": [
    {
     "name": "stdout",
     "output_type": "stream",
     "text": [
      "original:\n",
      "[[0 1 2]\n",
      " [0 4 5]\n",
      " [0 7 8]]\n",
      "transpose:\n",
      "[[0 0 0]\n",
      " [1 4 7]\n",
      " [2 5 8]]\n"
     ]
    }
   ],
   "source": [
    "# To obtain the transpose, add `.T` to the matrix\n",
    "transpose = ordered_matrix.T\n",
    "\n",
    "print(\"original:\")\n",
    "print(ordered_matrix)\n",
    "\n",
    "print(\"transpose:\")\n",
    "print(transpose)"
   ]
  },
  {
   "cell_type": "markdown",
   "metadata": {},
   "source": [
    "Examples of vector operations:"
   ]
  },
  {
   "cell_type": "code",
   "execution_count": 30,
   "metadata": {},
   "outputs": [
    {
     "name": "stdout",
     "output_type": "stream",
     "text": [
      "vector1:\n",
      "[1 2 3]\n",
      "vector2:\n",
      "[4 5 6]\n",
      "dot product:\n",
      "32\n",
      "element-wise product:\n",
      "[ 4 10 18]\n",
      "cross product:\n",
      "[-3  6 -3]\n"
     ]
    }
   ],
   "source": [
    "vettore1 = array1\n",
    "vettore2 = array2\n",
    "\n",
    "print(\"vector1:\")\n",
    "print(vettore1)\n",
    "\n",
    "print(\"vector2:\")\n",
    "print(vettore2)\n",
    "\n",
    "print(\"dot product:\")\n",
    "print(vettore1 @ vettore2)\n",
    "\n",
    "print(\"element-wise product:\")\n",
    "print(vettore1 * vettore2)\n",
    "\n",
    "# The cross product is a function in numpy,\n",
    "# `cross` stands for \"cross product\"\n",
    "print(\"cross product:\")\n",
    "print(np.cross(vettore1, vettore2))"
   ]
  },
  {
   "cell_type": "markdown",
   "metadata": {},
   "source": [
    "Examples of matrix operations:"
   ]
  },
  {
   "cell_type": "code",
   "execution_count": 31,
   "metadata": {},
   "outputs": [
    {
     "name": "stdout",
     "output_type": "stream",
     "text": [
      "matrix 1:\n",
      "[[0 1 2]\n",
      " [3 4 5]\n",
      " [6 7 8]]\n",
      "matrix 2:\n",
      "[[9 9 6]\n",
      " [6 0 4]\n",
      " [8 5 6]]\n",
      "sum of the two matrices:\n",
      "[[ 9 10  8]\n",
      " [ 9  4  9]\n",
      " [14 12 14]]\n",
      "matrix product:\n",
      "[[ 22  10  16]\n",
      " [ 91  52  64]\n",
      " [160  94 112]]\n",
      "element-wise product:\n",
      "[[ 0  9 12]\n",
      " [18  0 20]\n",
      " [48 35 48]]\n"
     ]
    }
   ],
   "source": [
    "mat1 = np.arange(9).reshape(3, 3)\n",
    "mat2 = np.random.randint(0, 10, (3, 3))\n",
    "\n",
    "print(\"matrix 1:\")\n",
    "print(mat1)\n",
    "print(\"matrix 2:\")\n",
    "print(mat2)\n",
    "\n",
    "print(\"sum of the two matrices:\")\n",
    "print(mat1 + mat2)\n",
    "\n",
    "print(\"matrix product:\")\n",
    "print(mat1 @ mat2)\n",
    "\n",
    "print(\"element-wise product:\")\n",
    "print(mat1 * mat2)"
   ]
  },
  {
   "cell_type": "markdown",
   "metadata": {},
   "source": [
    "<span style=\"color:red\"><strong>🏋️‍♀️ Exercise</strong></span>\n",
    "\n",
    "Create a 5x5 matrix where each row contains consecutive integers from 1 to 5, with the main diagonal containing zeros, i.e., the trace of the matrix is zero.\n",
    "\n",
    "Check the trace of the matrix using a conditional statement like:\n",
    "\n",
    "```python\n",
    "if np.trace(matrice) == 0:\n",
    "    print(\"The matrix has zero trace\")\n",
    "else:\n",
    "    print(\"The matrix has a trace different from zero\")\n",
    "```"
   ]
  },
  {
   "cell_type": "code",
   "execution_count": 32,
   "metadata": {},
   "outputs": [],
   "source": [
    "# Develop your solution here\n"
   ]
  },
  {
   "cell_type": "markdown",
   "metadata": {},
   "source": [
    "#### Matplotlib and SeaBorn 📊: data visualization"
   ]
  },
  {
   "cell_type": "markdown",
   "metadata": {},
   "source": [
    "Brief introduction of some libraries for data visualization.\n",
    "\n",
    "Since we need some data to show, let's compute a function using `numpy` and plot it using `matplotlib`."
   ]
  },
  {
   "cell_type": "code",
   "execution_count": 33,
   "metadata": {},
   "outputs": [
    {
     "name": "stdout",
     "output_type": "stream",
     "text": [
      "first 20 elements of x: [-3.         -2.99399399 -2.98798799 -2.98198198 -2.97597598 -2.96996997\n",
      " -2.96396396 -2.95795796 -2.95195195 -2.94594595 -2.93993994 -2.93393393\n",
      " -2.92792793 -2.92192192 -2.91591592 -2.90990991 -2.9039039  -2.8978979\n",
      " -2.89189189 -2.88588589]\n",
      "\n",
      "first 20 elements of y: [9.         8.96400004 8.92807222 8.89221654 8.85643301 8.82072162\n",
      " 8.78508238 8.74951528 8.71402033 8.67859752 8.64324685 8.60796833\n",
      " 8.57276195 8.53762772 8.50256563 8.46757568 8.43265788 8.39781223\n",
      " 8.36303871 8.32833735]\n"
     ]
    }
   ],
   "source": [
    "# Using numpy we can define an array ranging from -3 to 3 with 1000 points\n",
    "x = np.linspace(-3, 3, 1000)\n",
    "\n",
    "# And then compute any function we want\n",
    "y = x ** 2      # this is a parabola\n",
    "y2 = np.sin(x)  # this is a sine wave\n",
    "\n",
    "print(f\"first 20 elements of x: {x[:20]}\")\n",
    "print()\n",
    "print(f\"first 20 elements of y: {y[:20]}\")"
   ]
  },
  {
   "cell_type": "markdown",
   "metadata": {},
   "source": [
    "It's not very clear by just looking at the numbers, so let's plot it."
   ]
  },
  {
   "cell_type": "code",
   "execution_count": 34,
   "metadata": {},
   "outputs": [
    {
     "data": {
      "text/plain": [
       "[<matplotlib.lines.Line2D at 0x7fd8ae2adb20>]"
      ]
     },
     "execution_count": 34,
     "metadata": {},
     "output_type": "execute_result"
    },
    {
     "data": {
      "image/png": "[encoded data removed]",
      "text/plain": [
       "<Figure size 640x480 with 1 Axes>"
      ]
     },
     "metadata": {},
     "output_type": "display_data"
    }
   ],
   "source": [
    "import matplotlib.pyplot as plt\n",
    "\n",
    "# let's plot just the parabola by specifying the x and y values\n",
    "plt.plot(x, y)"
   ]
  },
  {
   "cell_type": "code",
   "execution_count": 35,
   "metadata": {},
   "outputs": [
    {
     "data": {
      "text/plain": [
       "<matplotlib.legend.Legend at 0x7fd8ae0aee70>"
      ]
     },
     "execution_count": 35,
     "metadata": {},
     "output_type": "execute_result"
    },
    {
     "data": {
      "image/png": "[encoded data removed]",
      "text/plain": [
       "<Figure size 640x480 with 1 Axes>"
      ]
     },
     "metadata": {},
     "output_type": "display_data"
    }
   ],
   "source": [
    "# We can plot both functions on the same graph and add a legend\n",
    "plt.plot(x, y, label=\"x^2\")\n",
    "plt.plot(x, y2, label=\"sin(x)\")\n",
    "plt.legend()"
   ]
  },
  {
   "cell_type": "markdown",
   "metadata": {},
   "source": [
    "SeaBorn is built on top of matplotlib and provides a high-level interface for drawing nice-looking and informative statistical graphics."
   ]
  },
  {
   "cell_type": "code",
   "execution_count": 36,
   "metadata": {},
   "outputs": [
    {
     "name": "stdout",
     "output_type": "stream",
     "text": [
      "normal1: [[ 0.38685442  1.00129689]\n",
      " [-1.26857409 -0.65708458]\n",
      " [-0.44627905 -1.18315817]\n",
      " [ 1.28627343  0.2932187 ]\n",
      " [-0.32729725  0.05451007]]\n"
     ]
    }
   ],
   "source": [
    "import seaborn as sns\n",
    "\n",
    "# Let's generate some data using numpy, this time let's do a 2d gaussian distribution\n",
    "normal1 = np.random.normal(loc=0, scale=1, size=(1000, 2))\n",
    "normal2 = np.random.normal(loc=1, scale=1, size=(1000, 2))\n",
    "\n",
    "print(\"normal1:\", normal1[:5])"
   ]
  },
  {
   "cell_type": "code",
   "execution_count": 37,
   "metadata": {},
   "outputs": [
    {
     "data": {
      "text/plain": [
       "<matplotlib.legend.Legend at 0x7fd8a3591310>"
      ]
     },
     "execution_count": 37,
     "metadata": {},
     "output_type": "execute_result"
    },
    {
     "data": {
      "image/png": "[encoded data removed]",
      "text/plain": [
       "<Figure size 640x480 with 1 Axes>"
      ]
     },
     "metadata": {},
     "output_type": "display_data"
    }
   ],
   "source": [
    "# Let's visualize a scatter plot of the data using seaborn\n",
    "\n",
    "sns.scatterplot(x=normal1[:, 0], y=normal1[:, 1], label=\"normal1\")\n",
    "sns.scatterplot(x=normal2[:, 0], y=normal2[:, 1], label=\"normal2\")\n",
    "plt.legend() # we still use plt (matplotlib) to call additional functions"
   ]
  },
  {
   "cell_type": "markdown",
   "metadata": {},
   "source": [
    "Seems very similar to matplotlib, but it has some additional functionalities. Especially useful for dataframes."
   ]
  },
  {
   "cell_type": "code",
   "execution_count": 38,
   "metadata": {},
   "outputs": [
    {
     "data": {
      "application/vnd.microsoft.datawrangler.viewer.v0+json": {
       "columns": [
        {
         "name": "index",
         "rawType": "int64",
         "type": "integer"
        },
        {
         "name": "x",
         "rawType": "float64",
         "type": "float"
        },
        {
         "name": "y",
         "rawType": "float64",
         "type": "float"
        },
        {
         "name": "distribution",
         "rawType": "object",
         "type": "string"
        }
       ],
       "conversionMethod": "pd.DataFrame",
       "ref": "37ac0c2e-398a-4c2c-96ad-d2ae4fabb4fa",
       "rows": [
        [
         "0",
         "0.386854420389783",
         "1.0012968905755926",
         "normal1"
        ],
        [
         "1",
         "-1.2685740865180284",
         "-0.657084584620982",
         "normal1"
        ],
        [
         "2",
         "-0.4462790509530584",
         "-1.1831581669287516",
         "normal1"
        ],
        [
         "3",
         "1.2862734259378394",
         "0.29321870179986337",
         "normal1"
        ],
        [
         "4",
         "-0.32729725372051843",
         "0.054510073465605206",
         "normal1"
        ],
        [
         "5",
         "2.1969116033591143",
         "0.5563903576100288",
         "normal1"
        ],
        [
         "6",
         "1.5106450912407166",
         "1.3609344943898432",
         "normal1"
        ],
        [
         "7",
         "0.36068009249057187",
         "-0.5787581353830424",
         "normal1"
        ],
        [
         "8",
         "0.18882579989828",
         "-0.11556755136468977",
         "normal1"
        ],
        [
         "9",
         "-3.005452293317037",
         "-0.5944977646874132",
         "normal1"
        ],
        [
         "10",
         "1.5414543453336018",
         "-0.7434344518708091",
         "normal1"
        ],
        [
         "11",
         "-1.5003727448433255",
         "0.9021823939116862",
         "normal1"
        ],
        [
         "12",
         "0.693876979865108",
         "-0.9482055888465869",
         "normal1"
        ],
        [
         "13",
         "1.151749218916005",
         "1.3231025192043808",
         "normal1"
        ],
        [
         "14",
         "-0.5268034860419871",
         "-1.1800557948613648",
         "normal1"
        ],
        [
         "15",
         "1.1423370911454538",
         "0.505240408938255",
         "normal1"
        ],
        [
         "16",
         "-0.9161814029401614",
         "-1.241998429875036",
         "normal1"
        ],
        [
         "17",
         "-0.03813096307159177",
         "0.4853542683382949",
         "normal1"
        ],
        [
         "18",
         "-1.306144463989122",
         "1.1017915066706037",
         "normal1"
        ],
        [
         "19",
         "0.7457464643654732",
         "-0.37534519857596405",
         "normal1"
        ],
        [
         "20",
         "0.48381242567445265",
         "-0.03883144978195231",
         "normal1"
        ],
        [
         "21",
         "-0.5843091343985313",
         "-0.39662739430325367",
         "normal1"
        ],
        [
         "22",
         "0.9369078519681732",
         "-0.9011747668224309",
         "normal1"
        ],
        [
         "23",
         "-0.03459784417510731",
         "1.97010259332131",
         "normal1"
        ],
        [
         "24",
         "1.329984765779796",
         "0.07805708673089148",
         "normal1"
        ],
        [
         "25",
         "0.23795753468672984",
         "-0.9278720241353756",
         "normal1"
        ],
        [
         "26",
         "0.28225371812043365",
         "-0.3446785091120327",
         "normal1"
        ],
        [
         "27",
         "0.3351749446951073",
         "0.6824497257092516",
         "normal1"
        ],
        [
         "28",
         "-0.7426317669192362",
         "-1.4299658013923358",
         "normal1"
        ],
        [
         "29",
         "-1.0251843894414965",
         "-1.5618177622014702",
         "normal1"
        ],
        [
         "30",
         "0.5880848209257054",
         "-0.37278616005150045",
         "normal1"
        ],
        [
         "31",
         "-1.6398392460795344",
         "0.836102372444554",
         "normal1"
        ],
        [
         "32",
         "-0.47781725012955345",
         "-0.5367437010889634",
         "normal1"
        ],
        [
         "33",
         "-0.1240428986360294",
         "1.0368278766476313",
         "normal1"
        ],
        [
         "34",
         "-1.273922597123852",
         "-1.7201380735490959",
         "normal1"
        ],
        [
         "35",
         "0.08659402790940754",
         "-1.278566588734172",
         "normal1"
        ],
        [
         "36",
         "-0.45455067922430803",
         "1.124401308002477",
         "normal1"
        ],
        [
         "37",
         "-1.2349562428566014",
         "0.5883385978287832",
         "normal1"
        ],
        [
         "38",
         "-0.37910335292670894",
         "-0.8052814062285721",
         "normal1"
        ],
        [
         "39",
         "0.36721464708016155",
         "-1.3262885927725754",
         "normal1"
        ],
        [
         "40",
         "-0.013854707228430106",
         "0.6334610926552516",
         "normal1"
        ],
        [
         "41",
         "2.596348781191904",
         "0.14379367475176924",
         "normal1"
        ],
        [
         "42",
         "1.4396484102062475",
         "0.4175603665121299",
         "normal1"
        ],
        [
         "43",
         "-0.8768421053039039",
         "1.0747973758527432",
         "normal1"
        ],
        [
         "44",
         "-0.772598749054906",
         "0.050683455277717906",
         "normal1"
        ],
        [
         "45",
         "-0.26553911663454477",
         "-0.34064664881263235",
         "normal1"
        ],
        [
         "46",
         "0.7311975160942967",
         "-0.7965191475530468",
         "normal1"
        ],
        [
         "47",
         "-0.6263988115428081",
         "0.5705953081309189",
         "normal1"
        ],
        [
         "48",
         "0.07743877781599229",
         "0.07764506729168869",
         "normal1"
        ],
        [
         "49",
         "-0.21367252572804377",
         "-0.4367544898531779",
         "normal1"
        ]
       ],
       "shape": {
        "columns": 3,
        "rows": 2000
       }
      },
      "text/html": [
       "<div>\n",
       "<style scoped>\n",
       "    .dataframe tbody tr th:only-of-type {\n",
       "        vertical-align: middle;\n",
       "    }\n",
       "\n",
       "    .dataframe tbody tr th {\n",
       "        vertical-align: top;\n",
       "    }\n",
       "\n",
       "    .dataframe thead th {\n",
       "        text-align: right;\n",
       "    }\n",
       "</style>\n",
       "<table border=\"1\" class=\"dataframe\">\n",
       "  <thead>\n",
       "    <tr style=\"text-align: right;\">\n",
       "      <th></th>\n",
       "      <th>x</th>\n",
       "      <th>y</th>\n",
       "      <th>distribution</th>\n",
       "    </tr>\n",
       "  </thead>\n",
       "  <tbody>\n",
       "    <tr>\n",
       "      <th>0</th>\n",
       "      <td>0.386854</td>\n",
       "      <td>1.001297</td>\n",
       "      <td>normal1</td>\n",
       "    </tr>\n",
       "    <tr>\n",
       "      <th>1</th>\n",
       "      <td>-1.268574</td>\n",
       "      <td>-0.657085</td>\n",
       "      <td>normal1</td>\n",
       "    </tr>\n",
       "    <tr>\n",
       "      <th>2</th>\n",
       "      <td>-0.446279</td>\n",
       "      <td>-1.183158</td>\n",
       "      <td>normal1</td>\n",
       "    </tr>\n",
       "    <tr>\n",
       "      <th>3</th>\n",
       "      <td>1.286273</td>\n",
       "      <td>0.293219</td>\n",
       "      <td>normal1</td>\n",
       "    </tr>\n",
       "    <tr>\n",
       "      <th>4</th>\n",
       "      <td>-0.327297</td>\n",
       "      <td>0.054510</td>\n",
       "      <td>normal1</td>\n",
       "    </tr>\n",
       "    <tr>\n",
       "      <th>...</th>\n",
       "      <td>...</td>\n",
       "      <td>...</td>\n",
       "      <td>...</td>\n",
       "    </tr>\n",
       "    <tr>\n",
       "      <th>995</th>\n",
       "      <td>2.221578</td>\n",
       "      <td>0.374043</td>\n",
       "      <td>normal2</td>\n",
       "    </tr>\n",
       "    <tr>\n",
       "      <th>996</th>\n",
       "      <td>2.900758</td>\n",
       "      <td>2.393379</td>\n",
       "      <td>normal2</td>\n",
       "    </tr>\n",
       "    <tr>\n",
       "      <th>997</th>\n",
       "      <td>2.215380</td>\n",
       "      <td>1.065225</td>\n",
       "      <td>normal2</td>\n",
       "    </tr>\n",
       "    <tr>\n",
       "      <th>998</th>\n",
       "      <td>-0.587237</td>\n",
       "      <td>1.746129</td>\n",
       "      <td>normal2</td>\n",
       "    </tr>\n",
       "    <tr>\n",
       "      <th>999</th>\n",
       "      <td>-0.039167</td>\n",
       "      <td>1.033618</td>\n",
       "      <td>normal2</td>\n",
       "    </tr>\n",
       "  </tbody>\n",
       "</table>\n",
       "<p>2000 rows × 3 columns</p>\n",
       "</div>"
      ],
      "text/plain": [
       "            x         y distribution\n",
       "0    0.386854  1.001297      normal1\n",
       "1   -1.268574 -0.657085      normal1\n",
       "2   -0.446279 -1.183158      normal1\n",
       "3    1.286273  0.293219      normal1\n",
       "4   -0.327297  0.054510      normal1\n",
       "..        ...       ...          ...\n",
       "995  2.221578  0.374043      normal2\n",
       "996  2.900758  2.393379      normal2\n",
       "997  2.215380  1.065225      normal2\n",
       "998 -0.587237  1.746129      normal2\n",
       "999 -0.039167  1.033618      normal2\n",
       "\n",
       "[2000 rows x 3 columns]"
      ]
     },
     "execution_count": 38,
     "metadata": {},
     "output_type": "execute_result"
    }
   ],
   "source": [
    "# Create a dataframe with the two normal distributions\n",
    "df1 = pd.DataFrame(normal1, columns=[\"x\", \"y\"])\n",
    "df2 = pd.DataFrame(normal2, columns=[\"x\", \"y\"])\n",
    "\n",
    "# Let's add a column to each dataframe to identify the distribution\n",
    "df1[\"distribution\"] = \"normal1\"\n",
    "df2[\"distribution\"] = \"normal2\"\n",
    "\n",
    "# Concatenate the two dataframes\n",
    "df = pd.concat([df1, df2])\n",
    "\n",
    "# Let's display the dataframe\n",
    "df"
   ]
  },
  {
   "cell_type": "markdown",
   "metadata": {},
   "source": [
    "Using a dataframe, it's very easy to plot the data using seaborn."
   ]
  },
  {
   "cell_type": "code",
   "execution_count": 39,
   "metadata": {},
   "outputs": [
    {
     "data": {
      "text/plain": [
       "<Axes: xlabel='x', ylabel='y'>"
      ]
     },
     "execution_count": 39,
     "metadata": {},
     "output_type": "execute_result"
    },
    {
     "data": {
      "image/png": "[encoded data removed]",
      "text/plain": [
       "<Figure size 640x480 with 1 Axes>"
      ]
     },
     "metadata": {},
     "output_type": "display_data"
    }
   ],
   "source": [
    "# And now we can use seaborn to plot the data\n",
    "sns.scatterplot(data=df, x=\"x\", y=\"y\", hue=\"distribution\")"
   ]
  }
 ],
 "metadata": {
  "kernelspec": {
   "display_name": "capsule",
   "language": "python",
   "name": "python3"
  },
  "language_info": {
   "codemirror_mode": {
    "name": "ipython",
    "version": 3
   },
   "file_extension": ".py",
   "mimetype": "text/x-python",
   "name": "python",
   "nbconvert_exporter": "python",
   "pygments_lexer": "ipython3",
   "version": "3.12.2"
  }
 },
 "nbformat": 4,
 "nbformat_minor": 2
}
